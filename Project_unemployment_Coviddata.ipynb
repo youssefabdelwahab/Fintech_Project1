{
 "cells": [
  {
   "cell_type": "code",
   "execution_count": 213,
   "metadata": {},
   "outputs": [],
   "source": [
    "#Imports\n",
    "import pandas as pd \n",
    "import numpy as np\n",
    "from pathlib import Path\n",
    "import seaborn as sns \n",
    "%matplotlib inline"
   ]
  },
  {
   "cell_type": "code",
   "execution_count": 214,
   "metadata": {},
   "outputs": [],
   "source": [
    "#Setting file path \n",
    "file_path=Path('/Users/vinayanupindi/Desktop/Fintech_Project1/resources/Unemployment Insurance.csv')"
   ]
  },
  {
   "cell_type": "code",
   "execution_count": 215,
   "metadata": {},
   "outputs": [],
   "source": [
    "unemployment_insurance_data=pd.read_csv(file_path)\n"
   ]
  },
  {
   "cell_type": "code",
   "execution_count": 216,
   "metadata": {},
   "outputs": [
    {
     "data": {
      "text/html": [
       "<div>\n",
       "<style scoped>\n",
       "    .dataframe tbody tr th:only-of-type {\n",
       "        vertical-align: middle;\n",
       "    }\n",
       "\n",
       "    .dataframe tbody tr th {\n",
       "        vertical-align: top;\n",
       "    }\n",
       "\n",
       "    .dataframe thead th {\n",
       "        text-align: right;\n",
       "    }\n",
       "</style>\n",
       "<table border=\"1\" class=\"dataframe\">\n",
       "  <thead>\n",
       "    <tr style=\"text-align: right;\">\n",
       "      <th></th>\n",
       "      <th>CCSA</th>\n",
       "    </tr>\n",
       "    <tr>\n",
       "      <th>DATE</th>\n",
       "      <th></th>\n",
       "    </tr>\n",
       "  </thead>\n",
       "  <tbody>\n",
       "    <tr>\n",
       "      <th>2018-01-06</th>\n",
       "      <td>1919000</td>\n",
       "    </tr>\n",
       "    <tr>\n",
       "      <th>2018-01-13</th>\n",
       "      <td>1911000</td>\n",
       "    </tr>\n",
       "    <tr>\n",
       "      <th>2018-01-20</th>\n",
       "      <td>1912000</td>\n",
       "    </tr>\n",
       "    <tr>\n",
       "      <th>2018-01-27</th>\n",
       "      <td>1891000</td>\n",
       "    </tr>\n",
       "    <tr>\n",
       "      <th>2018-02-03</th>\n",
       "      <td>1878000</td>\n",
       "    </tr>\n",
       "    <tr>\n",
       "      <th>2018-02-10</th>\n",
       "      <td>1855000</td>\n",
       "    </tr>\n",
       "    <tr>\n",
       "      <th>2018-02-17</th>\n",
       "      <td>1861000</td>\n",
       "    </tr>\n",
       "    <tr>\n",
       "      <th>2018-02-24</th>\n",
       "      <td>1847000</td>\n",
       "    </tr>\n",
       "    <tr>\n",
       "      <th>2018-03-03</th>\n",
       "      <td>1833000</td>\n",
       "    </tr>\n",
       "    <tr>\n",
       "      <th>2018-03-10</th>\n",
       "      <td>1825000</td>\n",
       "    </tr>\n",
       "    <tr>\n",
       "      <th>2018-03-17</th>\n",
       "      <td>1835000</td>\n",
       "    </tr>\n",
       "    <tr>\n",
       "      <th>2018-03-24</th>\n",
       "      <td>1813000</td>\n",
       "    </tr>\n",
       "    <tr>\n",
       "      <th>2018-03-31</th>\n",
       "      <td>1846000</td>\n",
       "    </tr>\n",
       "    <tr>\n",
       "      <th>2018-04-07</th>\n",
       "      <td>1864000</td>\n",
       "    </tr>\n",
       "    <tr>\n",
       "      <th>2018-04-14</th>\n",
       "      <td>1824000</td>\n",
       "    </tr>\n",
       "    <tr>\n",
       "      <th>2018-04-21</th>\n",
       "      <td>1778000</td>\n",
       "    </tr>\n",
       "    <tr>\n",
       "      <th>2018-04-28</th>\n",
       "      <td>1787000</td>\n",
       "    </tr>\n",
       "    <tr>\n",
       "      <th>2018-05-05</th>\n",
       "      <td>1743000</td>\n",
       "    </tr>\n",
       "    <tr>\n",
       "      <th>2018-05-12</th>\n",
       "      <td>1747000</td>\n",
       "    </tr>\n",
       "    <tr>\n",
       "      <th>2018-05-19</th>\n",
       "      <td>1747000</td>\n",
       "    </tr>\n",
       "    <tr>\n",
       "      <th>2018-05-26</th>\n",
       "      <td>1750000</td>\n",
       "    </tr>\n",
       "    <tr>\n",
       "      <th>2018-06-02</th>\n",
       "      <td>1720000</td>\n",
       "    </tr>\n",
       "    <tr>\n",
       "      <th>2018-06-09</th>\n",
       "      <td>1743000</td>\n",
       "    </tr>\n",
       "    <tr>\n",
       "      <th>2018-06-16</th>\n",
       "      <td>1720000</td>\n",
       "    </tr>\n",
       "    <tr>\n",
       "      <th>2018-06-23</th>\n",
       "      <td>1749000</td>\n",
       "    </tr>\n",
       "    <tr>\n",
       "      <th>2018-06-30</th>\n",
       "      <td>1738000</td>\n",
       "    </tr>\n",
       "    <tr>\n",
       "      <th>2018-07-07</th>\n",
       "      <td>1759000</td>\n",
       "    </tr>\n",
       "    <tr>\n",
       "      <th>2018-07-14</th>\n",
       "      <td>1750000</td>\n",
       "    </tr>\n",
       "    <tr>\n",
       "      <th>2018-07-21</th>\n",
       "      <td>1731000</td>\n",
       "    </tr>\n",
       "    <tr>\n",
       "      <th>2018-07-28</th>\n",
       "      <td>1758000</td>\n",
       "    </tr>\n",
       "    <tr>\n",
       "      <th>...</th>\n",
       "      <td>...</td>\n",
       "    </tr>\n",
       "    <tr>\n",
       "      <th>2020-06-27</th>\n",
       "      <td>17760000</td>\n",
       "    </tr>\n",
       "    <tr>\n",
       "      <th>2020-07-04</th>\n",
       "      <td>17304000</td>\n",
       "    </tr>\n",
       "    <tr>\n",
       "      <th>2020-07-11</th>\n",
       "      <td>16151000</td>\n",
       "    </tr>\n",
       "    <tr>\n",
       "      <th>2020-07-18</th>\n",
       "      <td>16951000</td>\n",
       "    </tr>\n",
       "    <tr>\n",
       "      <th>2020-07-25</th>\n",
       "      <td>16090000</td>\n",
       "    </tr>\n",
       "    <tr>\n",
       "      <th>2020-08-01</th>\n",
       "      <td>15480000</td>\n",
       "    </tr>\n",
       "    <tr>\n",
       "      <th>2020-08-08</th>\n",
       "      <td>14759000</td>\n",
       "    </tr>\n",
       "    <tr>\n",
       "      <th>2020-08-15</th>\n",
       "      <td>14492000</td>\n",
       "    </tr>\n",
       "    <tr>\n",
       "      <th>2020-08-22</th>\n",
       "      <td>13292000</td>\n",
       "    </tr>\n",
       "    <tr>\n",
       "      <th>2020-08-29</th>\n",
       "      <td>13544000</td>\n",
       "    </tr>\n",
       "    <tr>\n",
       "      <th>2020-09-05</th>\n",
       "      <td>12747000</td>\n",
       "    </tr>\n",
       "    <tr>\n",
       "      <th>2020-09-12</th>\n",
       "      <td>12747000</td>\n",
       "    </tr>\n",
       "    <tr>\n",
       "      <th>2020-09-19</th>\n",
       "      <td>11979000</td>\n",
       "    </tr>\n",
       "    <tr>\n",
       "      <th>2020-09-26</th>\n",
       "      <td>10594000</td>\n",
       "    </tr>\n",
       "    <tr>\n",
       "      <th>2020-10-03</th>\n",
       "      <td>9398000</td>\n",
       "    </tr>\n",
       "    <tr>\n",
       "      <th>2020-10-10</th>\n",
       "      <td>8472000</td>\n",
       "    </tr>\n",
       "    <tr>\n",
       "      <th>2020-10-17</th>\n",
       "      <td>7823000</td>\n",
       "    </tr>\n",
       "    <tr>\n",
       "      <th>2020-10-24</th>\n",
       "      <td>7222000</td>\n",
       "    </tr>\n",
       "    <tr>\n",
       "      <th>2020-10-31</th>\n",
       "      <td>6798000</td>\n",
       "    </tr>\n",
       "    <tr>\n",
       "      <th>2020-11-07</th>\n",
       "      <td>6370000</td>\n",
       "    </tr>\n",
       "    <tr>\n",
       "      <th>2020-11-14</th>\n",
       "      <td>6089000</td>\n",
       "    </tr>\n",
       "    <tr>\n",
       "      <th>2020-11-21</th>\n",
       "      <td>5527000</td>\n",
       "    </tr>\n",
       "    <tr>\n",
       "      <th>2020-11-28</th>\n",
       "      <td>5781000</td>\n",
       "    </tr>\n",
       "    <tr>\n",
       "      <th>2020-12-05</th>\n",
       "      <td>5507000</td>\n",
       "    </tr>\n",
       "    <tr>\n",
       "      <th>2020-12-12</th>\n",
       "      <td>5322000</td>\n",
       "    </tr>\n",
       "    <tr>\n",
       "      <th>2020-12-19</th>\n",
       "      <td>5198000</td>\n",
       "    </tr>\n",
       "    <tr>\n",
       "      <th>2020-12-26</th>\n",
       "      <td>5072000</td>\n",
       "    </tr>\n",
       "    <tr>\n",
       "      <th>2021-01-02</th>\n",
       "      <td>5175000</td>\n",
       "    </tr>\n",
       "    <tr>\n",
       "      <th>2021-01-09</th>\n",
       "      <td>4974000</td>\n",
       "    </tr>\n",
       "    <tr>\n",
       "      <th>2021-01-16</th>\n",
       "      <td>4771000</td>\n",
       "    </tr>\n",
       "  </tbody>\n",
       "</table>\n",
       "<p>159 rows × 1 columns</p>\n",
       "</div>"
      ],
      "text/plain": [
       "                CCSA\n",
       "DATE                \n",
       "2018-01-06   1919000\n",
       "2018-01-13   1911000\n",
       "2018-01-20   1912000\n",
       "2018-01-27   1891000\n",
       "2018-02-03   1878000\n",
       "2018-02-10   1855000\n",
       "2018-02-17   1861000\n",
       "2018-02-24   1847000\n",
       "2018-03-03   1833000\n",
       "2018-03-10   1825000\n",
       "2018-03-17   1835000\n",
       "2018-03-24   1813000\n",
       "2018-03-31   1846000\n",
       "2018-04-07   1864000\n",
       "2018-04-14   1824000\n",
       "2018-04-21   1778000\n",
       "2018-04-28   1787000\n",
       "2018-05-05   1743000\n",
       "2018-05-12   1747000\n",
       "2018-05-19   1747000\n",
       "2018-05-26   1750000\n",
       "2018-06-02   1720000\n",
       "2018-06-09   1743000\n",
       "2018-06-16   1720000\n",
       "2018-06-23   1749000\n",
       "2018-06-30   1738000\n",
       "2018-07-07   1759000\n",
       "2018-07-14   1750000\n",
       "2018-07-21   1731000\n",
       "2018-07-28   1758000\n",
       "...              ...\n",
       "2020-06-27  17760000\n",
       "2020-07-04  17304000\n",
       "2020-07-11  16151000\n",
       "2020-07-18  16951000\n",
       "2020-07-25  16090000\n",
       "2020-08-01  15480000\n",
       "2020-08-08  14759000\n",
       "2020-08-15  14492000\n",
       "2020-08-22  13292000\n",
       "2020-08-29  13544000\n",
       "2020-09-05  12747000\n",
       "2020-09-12  12747000\n",
       "2020-09-19  11979000\n",
       "2020-09-26  10594000\n",
       "2020-10-03   9398000\n",
       "2020-10-10   8472000\n",
       "2020-10-17   7823000\n",
       "2020-10-24   7222000\n",
       "2020-10-31   6798000\n",
       "2020-11-07   6370000\n",
       "2020-11-14   6089000\n",
       "2020-11-21   5527000\n",
       "2020-11-28   5781000\n",
       "2020-12-05   5507000\n",
       "2020-12-12   5322000\n",
       "2020-12-19   5198000\n",
       "2020-12-26   5072000\n",
       "2021-01-02   5175000\n",
       "2021-01-09   4974000\n",
       "2021-01-16   4771000\n",
       "\n",
       "[159 rows x 1 columns]"
      ]
     },
     "execution_count": 216,
     "metadata": {},
     "output_type": "execute_result"
    }
   ],
   "source": [
    "#Extracting unemployment insurance claims data from 2018-2020\n",
    "last_two_years=unemployment_insurance_data.loc[194:]\n",
    "last_two_years=last_two_years.set_index('DATE')\n",
    "last_two_years"
   ]
  },
  {
   "cell_type": "code",
   "execution_count": 217,
   "metadata": {},
   "outputs": [
    {
     "data": {
      "text/plain": [
       "<matplotlib.axes._subplots.AxesSubplot at 0x1a274fc650>"
      ]
     },
     "execution_count": 217,
     "metadata": {},
     "output_type": "execute_result"
    },
    {
     "data": {
      "image/png": "[encoded data removed]",
      "text/plain": [
       "<Figure size 720x720 with 1 Axes>"
      ]
     },
     "metadata": {
      "needs_background": "light"
     },
     "output_type": "display_data"
    }
   ],
   "source": [
    "#plotting data \n",
    "last_two_years.plot(kind='line', figsize=(10,10), title='Unemployment Insurance Claims 2018-2020')"
   ]
  },
  {
   "cell_type": "code",
   "execution_count": 218,
   "metadata": {},
   "outputs": [],
   "source": [
    "file_path_two=Path('/Users/vinayanupindi/Desktop/Fintech_Project1/resources/Unemployment Rate.csv')"
   ]
  },
  {
   "cell_type": "code",
   "execution_count": 277,
   "metadata": {},
   "outputs": [
    {
     "data": {
      "text/plain": [
       "DATE       object\n",
       "UNRATE    float64\n",
       "dtype: object"
      ]
     },
     "execution_count": 277,
     "metadata": {},
     "output_type": "execute_result"
    }
   ],
   "source": [
    "unemployment_rate=pd.read_csv(file_path_two)\n",
    "unemployment_rate.dtypes"
   ]
  },
  {
   "cell_type": "code",
   "execution_count": 244,
   "metadata": {},
   "outputs": [],
   "source": [
    "last_two_years_rate=unemployment_rate.loc[44:]"
   ]
  },
  {
   "cell_type": "code",
   "execution_count": 278,
   "metadata": {},
   "outputs": [
    {
     "data": {
      "text/plain": [
       "UNRATE    float64\n",
       "dtype: object"
      ]
     },
     "execution_count": 278,
     "metadata": {},
     "output_type": "execute_result"
    }
   ],
   "source": [
    "last_two_years_rate=unemployment_rate.loc[44:]\n",
    "last_two_years_rate=last_two_years_rate.set_index('DATE')\n",
    "last_two_years_rate.head()\n",
    "last_two_years_rate.dtypes"
   ]
  },
  {
   "cell_type": "code",
   "execution_count": 247,
   "metadata": {},
   "outputs": [
    {
     "data": {
      "image/png": "[encoded data removed]",
      "text/plain": [
       "<Figure size 720x720 with 1 Axes>"
      ]
     },
     "metadata": {
      "needs_background": "light"
     },
     "output_type": "display_data"
    }
   ],
   "source": [
    "bar_plot=last_two_years_rate.plot(kind='bar',figsize=(10,10), title='Unemployment Rate 2018-2020')"
   ]
  },
  {
   "cell_type": "code",
   "execution_count": 223,
   "metadata": {},
   "outputs": [],
   "source": [
    "file_path_three=Path('/Users/vinayanupindi/Desktop/Fintech_Project1/resources/covid_data.csv')"
   ]
  },
  {
   "cell_type": "code",
   "execution_count": 228,
   "metadata": {},
   "outputs": [],
   "source": [
    "covid_data=pd.read_csv(file_path_three)"
   ]
  },
  {
   "cell_type": "code",
   "execution_count": 241,
   "metadata": {},
   "outputs": [],
   "source": [
    "usa_covid_data=covid_data.loc[48122:48414]\n",
    "usa_covid_data=usa_covid_data.rename(columns={\"date\":\"DATE\"})"
   ]
  },
  {
   "cell_type": "code",
   "execution_count": 242,
   "metadata": {},
   "outputs": [
    {
     "data": {
      "text/html": [
       "<div>\n",
       "<style scoped>\n",
       "    .dataframe tbody tr th:only-of-type {\n",
       "        vertical-align: middle;\n",
       "    }\n",
       "\n",
       "    .dataframe tbody tr th {\n",
       "        vertical-align: top;\n",
       "    }\n",
       "\n",
       "    .dataframe thead th {\n",
       "        text-align: right;\n",
       "    }\n",
       "</style>\n",
       "<table border=\"1\" class=\"dataframe\">\n",
       "  <thead>\n",
       "    <tr style=\"text-align: right;\">\n",
       "      <th></th>\n",
       "      <th>iso_code</th>\n",
       "      <th>location</th>\n",
       "      <th>total_cases</th>\n",
       "      <th>total_deaths</th>\n",
       "      <th>stringency_index</th>\n",
       "      <th>population</th>\n",
       "      <th>gdp_per_capita</th>\n",
       "      <th>human_development_index</th>\n",
       "      <th>Unnamed: 9</th>\n",
       "      <th>Unnamed: 10</th>\n",
       "      <th>Unnamed: 11</th>\n",
       "      <th>Unnamed: 12</th>\n",
       "      <th>Unnamed: 13</th>\n",
       "    </tr>\n",
       "    <tr>\n",
       "      <th>DATE</th>\n",
       "      <th></th>\n",
       "      <th></th>\n",
       "      <th></th>\n",
       "      <th></th>\n",
       "      <th></th>\n",
       "      <th></th>\n",
       "      <th></th>\n",
       "      <th></th>\n",
       "      <th></th>\n",
       "      <th></th>\n",
       "      <th></th>\n",
       "      <th></th>\n",
       "      <th></th>\n",
       "    </tr>\n",
       "  </thead>\n",
       "  <tbody>\n",
       "    <tr>\n",
       "      <th>2020-03-01</th>\n",
       "      <td>USA</td>\n",
       "      <td>United States</td>\n",
       "      <td>69.0</td>\n",
       "      <td>1.0</td>\n",
       "      <td>8.33</td>\n",
       "      <td>331002647</td>\n",
       "      <td>54225.446</td>\n",
       "      <td>0.924</td>\n",
       "      <td>4.234106505</td>\n",
       "      <td>0</td>\n",
       "      <td>2.119863456</td>\n",
       "      <td>19.617637</td>\n",
       "      <td>10.90090556</td>\n",
       "    </tr>\n",
       "    <tr>\n",
       "      <th>2020-03-02</th>\n",
       "      <td>USA</td>\n",
       "      <td>United States</td>\n",
       "      <td>89.0</td>\n",
       "      <td>2.0</td>\n",
       "      <td>11.11</td>\n",
       "      <td>331002647</td>\n",
       "      <td>54225.446</td>\n",
       "      <td>0.924</td>\n",
       "      <td>4.48863637</td>\n",
       "      <td>0.693147181</td>\n",
       "      <td>2.407845604</td>\n",
       "      <td>19.617637</td>\n",
       "      <td>10.90090556</td>\n",
       "    </tr>\n",
       "    <tr>\n",
       "      <th>2020-03-03</th>\n",
       "      <td>USA</td>\n",
       "      <td>United States</td>\n",
       "      <td>103.0</td>\n",
       "      <td>6.0</td>\n",
       "      <td>11.11</td>\n",
       "      <td>331002647</td>\n",
       "      <td>54225.446</td>\n",
       "      <td>0.924</td>\n",
       "      <td>4.634728988</td>\n",
       "      <td>1.791759469</td>\n",
       "      <td>2.407845604</td>\n",
       "      <td>19.617637</td>\n",
       "      <td>10.90090556</td>\n",
       "    </tr>\n",
       "    <tr>\n",
       "      <th>2020-03-04</th>\n",
       "      <td>USA</td>\n",
       "      <td>United States</td>\n",
       "      <td>125.0</td>\n",
       "      <td>9.0</td>\n",
       "      <td>11.11</td>\n",
       "      <td>331002647</td>\n",
       "      <td>54225.446</td>\n",
       "      <td>0.924</td>\n",
       "      <td>4.828313737</td>\n",
       "      <td>2.197224577</td>\n",
       "      <td>2.407845604</td>\n",
       "      <td>19.617637</td>\n",
       "      <td>10.90090556</td>\n",
       "    </tr>\n",
       "    <tr>\n",
       "      <th>2020-03-05</th>\n",
       "      <td>USA</td>\n",
       "      <td>United States</td>\n",
       "      <td>159.0</td>\n",
       "      <td>11.0</td>\n",
       "      <td>20.37</td>\n",
       "      <td>331002647</td>\n",
       "      <td>54225.446</td>\n",
       "      <td>0.924</td>\n",
       "      <td>5.068904202</td>\n",
       "      <td>2.397895273</td>\n",
       "      <td>3.01406323</td>\n",
       "      <td>19.617637</td>\n",
       "      <td>10.90090556</td>\n",
       "    </tr>\n",
       "  </tbody>\n",
       "</table>\n",
       "</div>"
      ],
      "text/plain": [
       "           iso_code       location  total_cases  total_deaths  \\\n",
       "DATE                                                            \n",
       "2020-03-01      USA  United States         69.0           1.0   \n",
       "2020-03-02      USA  United States         89.0           2.0   \n",
       "2020-03-03      USA  United States        103.0           6.0   \n",
       "2020-03-04      USA  United States        125.0           9.0   \n",
       "2020-03-05      USA  United States        159.0          11.0   \n",
       "\n",
       "            stringency_index  population  gdp_per_capita  \\\n",
       "DATE                                                       \n",
       "2020-03-01              8.33   331002647       54225.446   \n",
       "2020-03-02             11.11   331002647       54225.446   \n",
       "2020-03-03             11.11   331002647       54225.446   \n",
       "2020-03-04             11.11   331002647       54225.446   \n",
       "2020-03-05             20.37   331002647       54225.446   \n",
       "\n",
       "            human_development_index   Unnamed: 9  Unnamed: 10  Unnamed: 11  \\\n",
       "DATE                                                                         \n",
       "2020-03-01                    0.924  4.234106505            0  2.119863456   \n",
       "2020-03-02                    0.924   4.48863637  0.693147181  2.407845604   \n",
       "2020-03-03                    0.924  4.634728988  1.791759469  2.407845604   \n",
       "2020-03-04                    0.924  4.828313737  2.197224577  2.407845604   \n",
       "2020-03-05                    0.924  5.068904202  2.397895273   3.01406323   \n",
       "\n",
       "            Unnamed: 12  Unnamed: 13  \n",
       "DATE                                  \n",
       "2020-03-01    19.617637  10.90090556  \n",
       "2020-03-02    19.617637  10.90090556  \n",
       "2020-03-03    19.617637  10.90090556  \n",
       "2020-03-04    19.617637  10.90090556  \n",
       "2020-03-05    19.617637  10.90090556  "
      ]
     },
     "execution_count": 242,
     "metadata": {},
     "output_type": "execute_result"
    }
   ],
   "source": [
    "usa_covid_data=usa_covid_data.dropna()\n",
    "usa_covid_data=usa_covid_data.set_index('DATE')\n",
    "usa_covid_data.head()"
   ]
  },
  {
   "cell_type": "code",
   "execution_count": 282,
   "metadata": {},
   "outputs": [
    {
     "data": {
      "text/plain": [
       "<matplotlib.axes._subplots.AxesSubplot at 0x1a315fae90>"
      ]
     },
     "execution_count": 282,
     "metadata": {},
     "output_type": "execute_result"
    },
    {
     "data": {
      "image/png": "[encoded data removed]",
      "text/plain": [
       "<Figure size 432x288 with 1 Axes>"
      ]
     },
     "metadata": {
      "needs_background": "light"
     },
     "output_type": "display_data"
    }
   ],
   "source": [
    "# Drop unecessary columns\n",
    "cols=['total_cases','total_deaths']\n",
    "usa_covid_data=usa_covid_data[cols]\n",
    "usa_covid_data.plot()"
   ]
  },
  {
   "cell_type": "code",
   "execution_count": 283,
   "metadata": {},
   "outputs": [
    {
     "data": {
      "text/plain": [
       "<matplotlib.axes._subplots.AxesSubplot at 0x1a317049d0>"
      ]
     },
     "execution_count": 283,
     "metadata": {},
     "output_type": "execute_result"
    },
    {
     "data": {
      "image/png": "[encoded data removed]",
      "text/plain": [
       "<Figure size 720x720 with 1 Axes>"
      ]
     },
     "metadata": {
      "needs_background": "light"
     },
     "output_type": "display_data"
    }
   ],
   "source": [
    "import hvplot.pandas\n",
    "usa_covid_data.hvplot(figsize=(10,10))\n",
    "usa_covid_data.plot(y=('total_cases'), kind='line', figsize=(10,10), title='USA Total Cases 2020 ')"
   ]
  },
  {
   "cell_type": "code",
   "execution_count": 284,
   "metadata": {},
   "outputs": [
    {
     "data": {
      "text/plain": [
       "<matplotlib.axes._subplots.AxesSubplot at 0x1a317c4e10>"
      ]
     },
     "execution_count": 284,
     "metadata": {},
     "output_type": "execute_result"
    },
    {
     "data": {
      "image/png": "[encoded data removed]",
      "text/plain": [
       "<Figure size 720x720 with 1 Axes>"
      ]
     },
     "metadata": {
      "needs_background": "light"
     },
     "output_type": "display_data"
    }
   ],
   "source": [
    "usa_covid_data.plot(y='total_deaths', kind='line', figsize=(10,10), title='USA Total  2020 ')"
   ]
  },
  {
   "cell_type": "code",
   "execution_count": 287,
   "metadata": {},
   "outputs": [],
   "source": [
    "corr=usa_covid_data['total_cases'].corr(usa_covid_data['total_deaths'])"
   ]
  },
  {
   "cell_type": "code",
   "execution_count": null,
   "metadata": {},
   "outputs": [],
   "source": []
  }
 ],
 "metadata": {
  "kernelspec": {
   "display_name": "Python [conda env:pyvizenv]",
   "language": "python",
   "name": "conda-env-pyvizenv-py"
  },
  "language_info": {
   "codemirror_mode": {
    "name": "ipython",
    "version": 3
   },
   "file_extension": ".py",
   "mimetype": "text/x-python",
   "name": "python",
   "nbconvert_exporter": "python",
   "pygments_lexer": "ipython3",
   "version": "3.7.9"
  }
 },
 "nbformat": 4,
 "nbformat_minor": 4
}
