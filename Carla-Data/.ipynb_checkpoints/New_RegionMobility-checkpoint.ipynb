{
 "cells": [
  {
   "cell_type": "code",
   "execution_count": 23,
   "metadata": {},
   "outputs": [],
   "source": [
    "# initial imports \n",
    "import pandas as pd\n",
    "import datetime as dt"
   ]
  },
  {
   "cell_type": "code",
   "execution_count": 24,
   "metadata": {},
   "outputs": [],
   "source": [
    "# importing the CSV \n",
    "mobility_data = pd.read_csv('2020_US_Region_Mobility_Report.csv', index_col = 'date', parse_dates = True, infer_datetime_format = True)"
   ]
  },
  {
   "cell_type": "code",
   "execution_count": 25,
   "metadata": {},
   "outputs": [
    {
     "data": {
      "text/html": [
       "<div>\n",
       "<style scoped>\n",
       "    .dataframe tbody tr th:only-of-type {\n",
       "        vertical-align: middle;\n",
       "    }\n",
       "\n",
       "    .dataframe tbody tr th {\n",
       "        vertical-align: top;\n",
       "    }\n",
       "\n",
       "    .dataframe thead th {\n",
       "        text-align: right;\n",
       "    }\n",
       "</style>\n",
       "<table border=\"1\" class=\"dataframe\">\n",
       "  <thead>\n",
       "    <tr style=\"text-align: right;\">\n",
       "      <th></th>\n",
       "      <th>country_region_code</th>\n",
       "      <th>country_region</th>\n",
       "      <th>sub_region_1</th>\n",
       "      <th>sub_region_2</th>\n",
       "      <th>metro_area</th>\n",
       "      <th>iso_3166_2_code</th>\n",
       "      <th>census_fips_code</th>\n",
       "      <th>retail_and_recreation_percent_change_from_baseline</th>\n",
       "      <th>grocery_and_pharmacy_percent_change_from_baseline</th>\n",
       "      <th>parks_percent_change_from_baseline</th>\n",
       "      <th>transit_stations_percent_change_from_baseline</th>\n",
       "      <th>workplaces_percent_change_from_baseline</th>\n",
       "      <th>residential_percent_change_from_baseline</th>\n",
       "    </tr>\n",
       "    <tr>\n",
       "      <th>date</th>\n",
       "      <th></th>\n",
       "      <th></th>\n",
       "      <th></th>\n",
       "      <th></th>\n",
       "      <th></th>\n",
       "      <th></th>\n",
       "      <th></th>\n",
       "      <th></th>\n",
       "      <th></th>\n",
       "      <th></th>\n",
       "      <th></th>\n",
       "      <th></th>\n",
       "      <th></th>\n",
       "    </tr>\n",
       "  </thead>\n",
       "  <tbody>\n",
       "    <tr>\n",
       "      <th>2020-02-15</th>\n",
       "      <td>US</td>\n",
       "      <td>United States</td>\n",
       "      <td>NaN</td>\n",
       "      <td>NaN</td>\n",
       "      <td>NaN</td>\n",
       "      <td>NaN</td>\n",
       "      <td>NaN</td>\n",
       "      <td>6.0</td>\n",
       "      <td>2.0</td>\n",
       "      <td>15.0</td>\n",
       "      <td>3.0</td>\n",
       "      <td>2.0</td>\n",
       "      <td>-1.0</td>\n",
       "    </tr>\n",
       "    <tr>\n",
       "      <th>2020-02-16</th>\n",
       "      <td>US</td>\n",
       "      <td>United States</td>\n",
       "      <td>NaN</td>\n",
       "      <td>NaN</td>\n",
       "      <td>NaN</td>\n",
       "      <td>NaN</td>\n",
       "      <td>NaN</td>\n",
       "      <td>7.0</td>\n",
       "      <td>1.0</td>\n",
       "      <td>16.0</td>\n",
       "      <td>2.0</td>\n",
       "      <td>0.0</td>\n",
       "      <td>-1.0</td>\n",
       "    </tr>\n",
       "    <tr>\n",
       "      <th>2020-02-17</th>\n",
       "      <td>US</td>\n",
       "      <td>United States</td>\n",
       "      <td>NaN</td>\n",
       "      <td>NaN</td>\n",
       "      <td>NaN</td>\n",
       "      <td>NaN</td>\n",
       "      <td>NaN</td>\n",
       "      <td>6.0</td>\n",
       "      <td>0.0</td>\n",
       "      <td>28.0</td>\n",
       "      <td>-9.0</td>\n",
       "      <td>-24.0</td>\n",
       "      <td>5.0</td>\n",
       "    </tr>\n",
       "    <tr>\n",
       "      <th>2020-02-18</th>\n",
       "      <td>US</td>\n",
       "      <td>United States</td>\n",
       "      <td>NaN</td>\n",
       "      <td>NaN</td>\n",
       "      <td>NaN</td>\n",
       "      <td>NaN</td>\n",
       "      <td>NaN</td>\n",
       "      <td>0.0</td>\n",
       "      <td>-1.0</td>\n",
       "      <td>6.0</td>\n",
       "      <td>1.0</td>\n",
       "      <td>0.0</td>\n",
       "      <td>1.0</td>\n",
       "    </tr>\n",
       "    <tr>\n",
       "      <th>2020-02-19</th>\n",
       "      <td>US</td>\n",
       "      <td>United States</td>\n",
       "      <td>NaN</td>\n",
       "      <td>NaN</td>\n",
       "      <td>NaN</td>\n",
       "      <td>NaN</td>\n",
       "      <td>NaN</td>\n",
       "      <td>2.0</td>\n",
       "      <td>0.0</td>\n",
       "      <td>8.0</td>\n",
       "      <td>1.0</td>\n",
       "      <td>1.0</td>\n",
       "      <td>0.0</td>\n",
       "    </tr>\n",
       "  </tbody>\n",
       "</table>\n",
       "</div>"
      ],
      "text/plain": [
       "           country_region_code country_region sub_region_1 sub_region_2  \\\n",
       "date                                                                      \n",
       "2020-02-15                  US  United States          NaN          NaN   \n",
       "2020-02-16                  US  United States          NaN          NaN   \n",
       "2020-02-17                  US  United States          NaN          NaN   \n",
       "2020-02-18                  US  United States          NaN          NaN   \n",
       "2020-02-19                  US  United States          NaN          NaN   \n",
       "\n",
       "            metro_area iso_3166_2_code  census_fips_code  \\\n",
       "date                                                       \n",
       "2020-02-15         NaN             NaN               NaN   \n",
       "2020-02-16         NaN             NaN               NaN   \n",
       "2020-02-17         NaN             NaN               NaN   \n",
       "2020-02-18         NaN             NaN               NaN   \n",
       "2020-02-19         NaN             NaN               NaN   \n",
       "\n",
       "            retail_and_recreation_percent_change_from_baseline  \\\n",
       "date                                                             \n",
       "2020-02-15                                                6.0    \n",
       "2020-02-16                                                7.0    \n",
       "2020-02-17                                                6.0    \n",
       "2020-02-18                                                0.0    \n",
       "2020-02-19                                                2.0    \n",
       "\n",
       "            grocery_and_pharmacy_percent_change_from_baseline  \\\n",
       "date                                                            \n",
       "2020-02-15                                                2.0   \n",
       "2020-02-16                                                1.0   \n",
       "2020-02-17                                                0.0   \n",
       "2020-02-18                                               -1.0   \n",
       "2020-02-19                                                0.0   \n",
       "\n",
       "            parks_percent_change_from_baseline  \\\n",
       "date                                             \n",
       "2020-02-15                                15.0   \n",
       "2020-02-16                                16.0   \n",
       "2020-02-17                                28.0   \n",
       "2020-02-18                                 6.0   \n",
       "2020-02-19                                 8.0   \n",
       "\n",
       "            transit_stations_percent_change_from_baseline  \\\n",
       "date                                                        \n",
       "2020-02-15                                            3.0   \n",
       "2020-02-16                                            2.0   \n",
       "2020-02-17                                           -9.0   \n",
       "2020-02-18                                            1.0   \n",
       "2020-02-19                                            1.0   \n",
       "\n",
       "            workplaces_percent_change_from_baseline  \\\n",
       "date                                                  \n",
       "2020-02-15                                      2.0   \n",
       "2020-02-16                                      0.0   \n",
       "2020-02-17                                    -24.0   \n",
       "2020-02-18                                      0.0   \n",
       "2020-02-19                                      1.0   \n",
       "\n",
       "            residential_percent_change_from_baseline  \n",
       "date                                                  \n",
       "2020-02-15                                      -1.0  \n",
       "2020-02-16                                      -1.0  \n",
       "2020-02-17                                       5.0  \n",
       "2020-02-18                                       1.0  \n",
       "2020-02-19                                       0.0  "
      ]
     },
     "execution_count": 25,
     "metadata": {},
     "output_type": "execute_result"
    }
   ],
   "source": [
    "# seeing the data \n",
    "mobility_data.head()"
   ]
  },
  {
   "cell_type": "code",
   "execution_count": 26,
   "metadata": {},
   "outputs": [
    {
     "data": {
      "text/plain": [
       "879637"
      ]
     },
     "execution_count": 26,
     "metadata": {},
     "output_type": "execute_result"
    }
   ],
   "source": [
    "len(mobility_data)"
   ]
  },
  {
   "cell_type": "code",
   "execution_count": 27,
   "metadata": {},
   "outputs": [],
   "source": [
    "# replacing all empty sub-regions which represent the entire US with code 'ALL'\n",
    "mobility_data['sub_region_1'].fillna(value ='ALL', inplace=True)"
   ]
  },
  {
   "cell_type": "code",
   "execution_count": 28,
   "metadata": {},
   "outputs": [],
   "source": [
    "mobility_data.drop(columns=[\n",
    "    'country_region_code',\n",
    "    'metro_area','census_fips_code',\n",
    "    'country_region_code',\n",
    "    'transit_stations_percent_change_from_baseline',\n",
    "    'iso_3166_2_code',\n",
    "    'parks_percent_change_from_baseline',\n",
    "    'residential_percent_change_from_baseline'], \n",
    "    inplace = True)"
   ]
  },
  {
   "cell_type": "code",
   "execution_count": 29,
   "metadata": {},
   "outputs": [],
   "source": [
    "import numpy as np"
   ]
  },
  {
   "cell_type": "code",
   "execution_count": 30,
   "metadata": {},
   "outputs": [],
   "source": [
    "nan_filter = mobility_data[\"sub_region_2\"].isna()"
   ]
  },
  {
   "cell_type": "code",
   "execution_count": 31,
   "metadata": {},
   "outputs": [],
   "source": [
    "mobility_data = mobility_data[nan_filter]\n"
   ]
  },
  {
   "cell_type": "code",
   "execution_count": 32,
   "metadata": {},
   "outputs": [
    {
     "data": {
      "text/html": [
       "<div>\n",
       "<style scoped>\n",
       "    .dataframe tbody tr th:only-of-type {\n",
       "        vertical-align: middle;\n",
       "    }\n",
       "\n",
       "    .dataframe tbody tr th {\n",
       "        vertical-align: top;\n",
       "    }\n",
       "\n",
       "    .dataframe thead th {\n",
       "        text-align: right;\n",
       "    }\n",
       "</style>\n",
       "<table border=\"1\" class=\"dataframe\">\n",
       "  <thead>\n",
       "    <tr style=\"text-align: right;\">\n",
       "      <th></th>\n",
       "      <th>date</th>\n",
       "      <th>country_region</th>\n",
       "      <th>sub_region_1</th>\n",
       "      <th>sub_region_2</th>\n",
       "      <th>retail_and_recreation_percent_change_from_baseline</th>\n",
       "      <th>grocery_and_pharmacy_percent_change_from_baseline</th>\n",
       "      <th>workplaces_percent_change_from_baseline</th>\n",
       "    </tr>\n",
       "  </thead>\n",
       "  <tbody>\n",
       "    <tr>\n",
       "      <th>0</th>\n",
       "      <td>2020-02-15</td>\n",
       "      <td>United States</td>\n",
       "      <td>ALL</td>\n",
       "      <td>NaN</td>\n",
       "      <td>6.0</td>\n",
       "      <td>2.0</td>\n",
       "      <td>2.0</td>\n",
       "    </tr>\n",
       "    <tr>\n",
       "      <th>1</th>\n",
       "      <td>2020-02-16</td>\n",
       "      <td>United States</td>\n",
       "      <td>ALL</td>\n",
       "      <td>NaN</td>\n",
       "      <td>7.0</td>\n",
       "      <td>1.0</td>\n",
       "      <td>0.0</td>\n",
       "    </tr>\n",
       "    <tr>\n",
       "      <th>2</th>\n",
       "      <td>2020-02-17</td>\n",
       "      <td>United States</td>\n",
       "      <td>ALL</td>\n",
       "      <td>NaN</td>\n",
       "      <td>6.0</td>\n",
       "      <td>0.0</td>\n",
       "      <td>-24.0</td>\n",
       "    </tr>\n",
       "    <tr>\n",
       "      <th>3</th>\n",
       "      <td>2020-02-18</td>\n",
       "      <td>United States</td>\n",
       "      <td>ALL</td>\n",
       "      <td>NaN</td>\n",
       "      <td>0.0</td>\n",
       "      <td>-1.0</td>\n",
       "      <td>0.0</td>\n",
       "    </tr>\n",
       "    <tr>\n",
       "      <th>4</th>\n",
       "      <td>2020-02-19</td>\n",
       "      <td>United States</td>\n",
       "      <td>ALL</td>\n",
       "      <td>NaN</td>\n",
       "      <td>2.0</td>\n",
       "      <td>0.0</td>\n",
       "      <td>1.0</td>\n",
       "    </tr>\n",
       "    <tr>\n",
       "      <th>...</th>\n",
       "      <td>...</td>\n",
       "      <td>...</td>\n",
       "      <td>...</td>\n",
       "      <td>...</td>\n",
       "      <td>...</td>\n",
       "      <td>...</td>\n",
       "      <td>...</td>\n",
       "    </tr>\n",
       "    <tr>\n",
       "      <th>18039</th>\n",
       "      <td>2021-01-22</td>\n",
       "      <td>United States</td>\n",
       "      <td>Wyoming</td>\n",
       "      <td>NaN</td>\n",
       "      <td>-22.0</td>\n",
       "      <td>-11.0</td>\n",
       "      <td>-12.0</td>\n",
       "    </tr>\n",
       "    <tr>\n",
       "      <th>18040</th>\n",
       "      <td>2021-01-23</td>\n",
       "      <td>United States</td>\n",
       "      <td>Wyoming</td>\n",
       "      <td>NaN</td>\n",
       "      <td>-26.0</td>\n",
       "      <td>-15.0</td>\n",
       "      <td>-12.0</td>\n",
       "    </tr>\n",
       "    <tr>\n",
       "      <th>18041</th>\n",
       "      <td>2021-01-24</td>\n",
       "      <td>United States</td>\n",
       "      <td>Wyoming</td>\n",
       "      <td>NaN</td>\n",
       "      <td>-22.0</td>\n",
       "      <td>-18.0</td>\n",
       "      <td>-13.0</td>\n",
       "    </tr>\n",
       "    <tr>\n",
       "      <th>18042</th>\n",
       "      <td>2021-01-25</td>\n",
       "      <td>United States</td>\n",
       "      <td>Wyoming</td>\n",
       "      <td>NaN</td>\n",
       "      <td>-19.0</td>\n",
       "      <td>-10.0</td>\n",
       "      <td>-17.0</td>\n",
       "    </tr>\n",
       "    <tr>\n",
       "      <th>18043</th>\n",
       "      <td>2021-01-26</td>\n",
       "      <td>United States</td>\n",
       "      <td>Wyoming</td>\n",
       "      <td>NaN</td>\n",
       "      <td>-20.0</td>\n",
       "      <td>-13.0</td>\n",
       "      <td>-16.0</td>\n",
       "    </tr>\n",
       "  </tbody>\n",
       "</table>\n",
       "<p>18044 rows × 7 columns</p>\n",
       "</div>"
      ],
      "text/plain": [
       "            date country_region sub_region_1 sub_region_2  \\\n",
       "0     2020-02-15  United States          ALL          NaN   \n",
       "1     2020-02-16  United States          ALL          NaN   \n",
       "2     2020-02-17  United States          ALL          NaN   \n",
       "3     2020-02-18  United States          ALL          NaN   \n",
       "4     2020-02-19  United States          ALL          NaN   \n",
       "...          ...            ...          ...          ...   \n",
       "18039 2021-01-22  United States      Wyoming          NaN   \n",
       "18040 2021-01-23  United States      Wyoming          NaN   \n",
       "18041 2021-01-24  United States      Wyoming          NaN   \n",
       "18042 2021-01-25  United States      Wyoming          NaN   \n",
       "18043 2021-01-26  United States      Wyoming          NaN   \n",
       "\n",
       "       retail_and_recreation_percent_change_from_baseline  \\\n",
       "0                                                    6.0    \n",
       "1                                                    7.0    \n",
       "2                                                    6.0    \n",
       "3                                                    0.0    \n",
       "4                                                    2.0    \n",
       "...                                                  ...    \n",
       "18039                                              -22.0    \n",
       "18040                                              -26.0    \n",
       "18041                                              -22.0    \n",
       "18042                                              -19.0    \n",
       "18043                                              -20.0    \n",
       "\n",
       "       grocery_and_pharmacy_percent_change_from_baseline  \\\n",
       "0                                                    2.0   \n",
       "1                                                    1.0   \n",
       "2                                                    0.0   \n",
       "3                                                   -1.0   \n",
       "4                                                    0.0   \n",
       "...                                                  ...   \n",
       "18039                                              -11.0   \n",
       "18040                                              -15.0   \n",
       "18041                                              -18.0   \n",
       "18042                                              -10.0   \n",
       "18043                                              -13.0   \n",
       "\n",
       "       workplaces_percent_change_from_baseline  \n",
       "0                                          2.0  \n",
       "1                                          0.0  \n",
       "2                                        -24.0  \n",
       "3                                          0.0  \n",
       "4                                          1.0  \n",
       "...                                        ...  \n",
       "18039                                    -12.0  \n",
       "18040                                    -12.0  \n",
       "18041                                    -13.0  \n",
       "18042                                    -17.0  \n",
       "18043                                    -16.0  \n",
       "\n",
       "[18044 rows x 7 columns]"
      ]
     },
     "execution_count": 32,
     "metadata": {},
     "output_type": "execute_result"
    }
   ],
   "source": [
    "# resetting index\n",
    "mobility_data.reset_index()"
   ]
  },
  {
   "cell_type": "code",
   "execution_count": 33,
   "metadata": {},
   "outputs": [],
   "source": [
    "# Renaming columns \n",
    "mobility_data = mobility_data.rename(\n",
    "    columns ={\n",
    "    'retail_and_recreation_percent_change_from_baseline':'Retail and Recreation',\n",
    "    'grocery_and_pharmacy_percent_change_from_baseline':'Grocery and Pharmacy',\n",
    "    'workplaces_percent_change_from_baseline': 'Workplaces',\n",
    "    'sub_region_1':'State'}) "
   ]
  },
  {
   "cell_type": "code",
   "execution_count": 34,
   "metadata": {},
   "outputs": [
    {
     "data": {
      "text/html": [
       "<div>\n",
       "<style scoped>\n",
       "    .dataframe tbody tr th:only-of-type {\n",
       "        vertical-align: middle;\n",
       "    }\n",
       "\n",
       "    .dataframe tbody tr th {\n",
       "        vertical-align: top;\n",
       "    }\n",
       "\n",
       "    .dataframe thead th {\n",
       "        text-align: right;\n",
       "    }\n",
       "</style>\n",
       "<table border=\"1\" class=\"dataframe\">\n",
       "  <thead>\n",
       "    <tr style=\"text-align: right;\">\n",
       "      <th></th>\n",
       "      <th>country_region</th>\n",
       "      <th>State</th>\n",
       "      <th>sub_region_2</th>\n",
       "      <th>Retail and Recreation</th>\n",
       "      <th>Grocery and Pharmacy</th>\n",
       "      <th>Workplaces</th>\n",
       "    </tr>\n",
       "    <tr>\n",
       "      <th>date</th>\n",
       "      <th></th>\n",
       "      <th></th>\n",
       "      <th></th>\n",
       "      <th></th>\n",
       "      <th></th>\n",
       "      <th></th>\n",
       "    </tr>\n",
       "  </thead>\n",
       "  <tbody>\n",
       "    <tr>\n",
       "      <th>2021-01-22</th>\n",
       "      <td>United States</td>\n",
       "      <td>Wyoming</td>\n",
       "      <td>NaN</td>\n",
       "      <td>-22.0</td>\n",
       "      <td>-11.0</td>\n",
       "      <td>-12.0</td>\n",
       "    </tr>\n",
       "    <tr>\n",
       "      <th>2021-01-23</th>\n",
       "      <td>United States</td>\n",
       "      <td>Wyoming</td>\n",
       "      <td>NaN</td>\n",
       "      <td>-26.0</td>\n",
       "      <td>-15.0</td>\n",
       "      <td>-12.0</td>\n",
       "    </tr>\n",
       "    <tr>\n",
       "      <th>2021-01-24</th>\n",
       "      <td>United States</td>\n",
       "      <td>Wyoming</td>\n",
       "      <td>NaN</td>\n",
       "      <td>-22.0</td>\n",
       "      <td>-18.0</td>\n",
       "      <td>-13.0</td>\n",
       "    </tr>\n",
       "    <tr>\n",
       "      <th>2021-01-25</th>\n",
       "      <td>United States</td>\n",
       "      <td>Wyoming</td>\n",
       "      <td>NaN</td>\n",
       "      <td>-19.0</td>\n",
       "      <td>-10.0</td>\n",
       "      <td>-17.0</td>\n",
       "    </tr>\n",
       "    <tr>\n",
       "      <th>2021-01-26</th>\n",
       "      <td>United States</td>\n",
       "      <td>Wyoming</td>\n",
       "      <td>NaN</td>\n",
       "      <td>-20.0</td>\n",
       "      <td>-13.0</td>\n",
       "      <td>-16.0</td>\n",
       "    </tr>\n",
       "  </tbody>\n",
       "</table>\n",
       "</div>"
      ],
      "text/plain": [
       "           country_region    State sub_region_2  Retail and Recreation  \\\n",
       "date                                                                     \n",
       "2021-01-22  United States  Wyoming          NaN                  -22.0   \n",
       "2021-01-23  United States  Wyoming          NaN                  -26.0   \n",
       "2021-01-24  United States  Wyoming          NaN                  -22.0   \n",
       "2021-01-25  United States  Wyoming          NaN                  -19.0   \n",
       "2021-01-26  United States  Wyoming          NaN                  -20.0   \n",
       "\n",
       "            Grocery and Pharmacy  Workplaces  \n",
       "date                                          \n",
       "2021-01-22                 -11.0       -12.0  \n",
       "2021-01-23                 -15.0       -12.0  \n",
       "2021-01-24                 -18.0       -13.0  \n",
       "2021-01-25                 -10.0       -17.0  \n",
       "2021-01-26                 -13.0       -16.0  "
      ]
     },
     "execution_count": 34,
     "metadata": {},
     "output_type": "execute_result"
    }
   ],
   "source": [
    "#seeing the data \n",
    "mobility_data.tail()"
   ]
  },
  {
   "cell_type": "code",
   "execution_count": 35,
   "metadata": {},
   "outputs": [],
   "source": [
    "import hvplot.pandas "
   ]
  },
  {
   "cell_type": "code",
   "execution_count": 36,
   "metadata": {},
   "outputs": [
    {
     "data": {},
     "metadata": {},
     "output_type": "display_data"
    },
    {
     "data": {
      "application/vnd.holoviews_exec.v0+json": "",
      "text/html": [
       "<div id='1259'>\n",
       "\n",
       "\n",
       "\n",
       "\n",
       "\n",
       "  <div class=\"bk-root\" id=\"3c2c3eb1-a538-4ace-afaa-e6a48c28832f\" data-root-id=\"1259\"></div>\n",
       "</div>\n",
       "<script type=\"application/javascript\">(function(root) {\n",
       "  function embed_document(root) {\n",
       "    var docs_json = {\"7e3c5621-4f5e-4448-ba3c-00bd5e89cb4e\":{\"roots\":{\"references\":[{\"attributes\":{},\"id\":\"1326\",\"type\":\"YearsTicker\"},{\"attributes\":{\"axis_label\":\"Retail and Recreation\",\"bounds\":\"auto\",\"formatter\":{\"id\":\"1304\"},\"major_label_orientation\":\"horizontal\",\"ticker\":{\"id\":\"1278\"}},\"id\":\"1277\",\"type\":\"LinearAxis\"},{\"attributes\":{\"axis\":{\"id\":\"1273\"},\"grid_line_color\":null,\"ticker\":null},\"id\":\"1276\",\"type\":\"Grid\"},{\"attributes\":{\"months\":[0,4,8]},\"id\":\"1324\",\"type\":\"MonthsTicker\"},{\"attributes\":{\"num_minor_ticks\":5,\"tickers\":[{\"id\":\"1315\"},{\"id\":\"1316\"},{\"id\":\"1317\"},{\"id\":\"1318\"},{\"id\":\"1319\"},{\"id\":\"1320\"},{\"id\":\"1321\"},{\"id\":\"1322\"},{\"id\":\"1323\"},{\"id\":\"1324\"},{\"id\":\"1325\"},{\"id\":\"1326\"}]},\"id\":\"1274\",\"type\":\"DatetimeTicker\"},{\"attributes\":{},\"id\":\"1282\",\"type\":\"PanTool\"},{\"attributes\":{\"margin\":[20,20,20,20],\"min_width\":250,\"options\":[\"ALL\",\"Alabama\",\"Alaska\",\"Arizona\",\"Arkansas\",\"California\",\"Colorado\",\"Connecticut\",\"Delaware\",\"District of Columbia\",\"Florida\",\"Georgia\",\"Hawaii\",\"Idaho\",\"Illinois\",\"Indiana\",\"Iowa\",\"Kansas\",\"Kentucky\",\"Louisiana\",\"Maine\",\"Maryland\",\"Massachusetts\",\"Michigan\",\"Minnesota\",\"Mississippi\",\"Missouri\",\"Montana\",\"Nebraska\",\"Nevada\",\"New Hampshire\",\"New Jersey\",\"New Mexico\",\"New York\",\"North Carolina\",\"North Dakota\",\"Ohio\",\"Oklahoma\",\"Oregon\",\"Pennsylvania\",\"Rhode Island\",\"South Carolina\",\"South Dakota\",\"Tennessee\",\"Texas\",\"Utah\",\"Vermont\",\"Virginia\",\"Washington\",\"West Virginia\",\"Wisconsin\",\"Wyoming\"],\"title\":\"State\",\"value\":\"ALL\",\"width\":250},\"id\":\"1354\",\"type\":\"Select\"},{\"attributes\":{\"line_alpha\":0.2,\"line_color\":\"#1f77b3\",\"line_width\":2,\"x\":{\"field\":\"date\"},\"y\":{\"field\":\"Retail and Recreation\"}},\"id\":\"1299\",\"type\":\"Line\"},{\"attributes\":{\"axis\":{\"id\":\"1277\"},\"dimension\":1,\"grid_line_color\":null,\"ticker\":null},\"id\":\"1280\",\"type\":\"Grid\"},{\"attributes\":{},\"id\":\"1278\",\"type\":\"BasicTicker\"},{\"attributes\":{},\"id\":\"1283\",\"type\":\"WheelZoomTool\"},{\"attributes\":{},\"id\":\"1329\",\"type\":\"UnionRenderers\"},{\"attributes\":{},\"id\":\"1281\",\"type\":\"SaveTool\"},{\"attributes\":{\"data\":{\"Retail and Recreation\":{\"__ndarray__\":\"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\",\"dtype\":\"float64\",\"order\":\"little\",\"shape\":[347]},\"Retail_and_Recreation\":{\"__ndarray__\":\"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\",\"dtype\":\"float64\",\"order\":\"little\",\"shape\":[347]},\"date\":{\"__ndarray__\":\"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\",\"dtype\":\"float64\",\"order\":\"little\",\"shape\":[347]}},\"selected\":{\"id\":\"1295\"},\"selection_policy\":{\"id\":\"1329\"}},\"id\":\"1294\",\"type\":\"ColumnDataSource\"},{\"attributes\":{\"line_color\":\"#1f77b3\",\"line_width\":2,\"x\":{\"field\":\"date\"},\"y\":{\"field\":\"Retail and Recreation\"}},\"id\":\"1297\",\"type\":\"Line\"},{\"attributes\":{\"overlay\":{\"id\":\"1286\"}},\"id\":\"1284\",\"type\":\"BoxZoomTool\"},{\"attributes\":{\"data_source\":{\"id\":\"1294\"},\"glyph\":{\"id\":\"1297\"},\"hover_glyph\":null,\"muted_glyph\":{\"id\":\"1299\"},\"nonselection_glyph\":{\"id\":\"1298\"},\"selection_glyph\":null,\"view\":{\"id\":\"1301\"}},\"id\":\"1300\",\"type\":\"GlyphRenderer\"},{\"attributes\":{\"text\":\"State: ALL\",\"text_color\":{\"value\":\"black\"},\"text_font_size\":{\"value\":\"12pt\"}},\"id\":\"1265\",\"type\":\"Title\"},{\"attributes\":{},\"id\":\"1285\",\"type\":\"ResetTool\"},{\"attributes\":{},\"id\":\"1295\",\"type\":\"Selection\"},{\"attributes\":{\"margin\":[5,5,5,5],\"name\":\"VSpacer01752\",\"sizing_mode\":\"stretch_height\"},\"id\":\"1355\",\"type\":\"Spacer\"},{\"attributes\":{\"days\":[1,15]},\"id\":\"1321\",\"type\":\"DaysTicker\"},{\"attributes\":{\"line_alpha\":0.1,\"line_color\":\"#1f77b3\",\"line_width\":2,\"x\":{\"field\":\"date\"},\"y\":{\"field\":\"Retail and Recreation\"}},\"id\":\"1298\",\"type\":\"Line\"},{\"attributes\":{\"margin\":[5,5,5,5],\"name\":\"HSpacer01755\",\"sizing_mode\":\"stretch_width\"},\"id\":\"1350\",\"type\":\"Spacer\"},{\"attributes\":{\"end\":1611619200000.0,\"reset_end\":1611619200000.0,\"reset_start\":1581724800000.0,\"start\":1581724800000.0,\"tags\":[[[\"date\",\"date\",null]]]},\"id\":\"1261\",\"type\":\"Range1d\"},{\"attributes\":{\"client_comm_id\":\"e16eebb08d404d779d5b1cc7693d4af8\",\"comm_id\":\"d8ea7e520bc74d24bf3ceb615ec234c5\",\"plot_id\":\"1259\"},\"id\":\"1416\",\"type\":\"panel.models.comm_manager.CommManager\"},{\"attributes\":{\"source\":{\"id\":\"1294\"}},\"id\":\"1301\",\"type\":\"CDSView\"},{\"attributes\":{\"children\":[{\"id\":\"1354\"}],\"css_classes\":[\"panel-widget-box\"],\"margin\":[5,5,5,5],\"name\":\"WidgetBox01746\"},\"id\":\"1353\",\"type\":\"Column\"},{\"attributes\":{\"callback\":null,\"formatters\":{\"@{date}\":\"datetime\"},\"renderers\":[{\"id\":\"1300\"}],\"tags\":[\"hv_created\"],\"tooltips\":[[\"date\",\"@{date}\"],[\"Retail and Recreation\",\"@{Retail_and_Recreation}\"]]},\"id\":\"1263\",\"type\":\"HoverTool\"},{\"attributes\":{\"margin\":[5,5,5,5],\"name\":\"VSpacer01751\",\"sizing_mode\":\"stretch_height\"},\"id\":\"1352\",\"type\":\"Spacer\"},{\"attributes\":{},\"id\":\"1302\",\"type\":\"DatetimeTickFormatter\"},{\"attributes\":{\"children\":[{\"id\":\"1352\"},{\"id\":\"1353\"},{\"id\":\"1355\"}],\"margin\":[0,0,0,0],\"name\":\"Column01753\"},\"id\":\"1351\",\"type\":\"Column\"},{\"attributes\":{\"active_drag\":\"auto\",\"active_inspect\":\"auto\",\"active_multi\":null,\"active_scroll\":\"auto\",\"active_tap\":\"auto\",\"tools\":[{\"id\":\"1263\"},{\"id\":\"1281\"},{\"id\":\"1282\"},{\"id\":\"1283\"},{\"id\":\"1284\"},{\"id\":\"1285\"}]},\"id\":\"1287\",\"type\":\"Toolbar\"},{\"attributes\":{\"end\":22.5,\"reset_end\":22.5,\"reset_start\":-91.5,\"start\":-91.5,\"tags\":[[[\"Retail and Recreation\",\"Retail and Recreation\",null]]]},\"id\":\"1262\",\"type\":\"Range1d\"},{\"attributes\":{\"mantissas\":[1,2,5],\"max_interval\":500.0,\"num_minor_ticks\":0},\"id\":\"1315\",\"type\":\"AdaptiveTicker\"},{\"attributes\":{},\"id\":\"1269\",\"type\":\"LinearScale\"},{\"attributes\":{},\"id\":\"1304\",\"type\":\"BasicTickFormatter\"},{\"attributes\":{\"base\":60,\"mantissas\":[1,2,5,10,15,20,30],\"max_interval\":1800000.0,\"min_interval\":1000.0,\"num_minor_ticks\":0},\"id\":\"1316\",\"type\":\"AdaptiveTicker\"},{\"attributes\":{\"days\":[1,2,3,4,5,6,7,8,9,10,11,12,13,14,15,16,17,18,19,20,21,22,23,24,25,26,27,28,29,30,31]},\"id\":\"1318\",\"type\":\"DaysTicker\"},{\"attributes\":{\"bottom_units\":\"screen\",\"fill_alpha\":0.5,\"fill_color\":\"lightgrey\",\"left_units\":\"screen\",\"level\":\"overlay\",\"line_alpha\":1.0,\"line_color\":\"black\",\"line_dash\":[4,4],\"line_width\":2,\"right_units\":\"screen\",\"top_units\":\"screen\"},\"id\":\"1286\",\"type\":\"BoxAnnotation\"},{\"attributes\":{\"base\":24,\"mantissas\":[1,2,4,6,8,12],\"max_interval\":43200000.0,\"min_interval\":3600000.0,\"num_minor_ticks\":0},\"id\":\"1317\",\"type\":\"AdaptiveTicker\"},{\"attributes\":{\"children\":[{\"id\":\"1260\"},{\"id\":\"1264\"},{\"id\":\"1350\"},{\"id\":\"1351\"}],\"margin\":[0,0,0,0],\"name\":\"Row01745\"},\"id\":\"1259\",\"type\":\"Row\"},{\"attributes\":{\"months\":[0,1,2,3,4,5,6,7,8,9,10,11]},\"id\":\"1322\",\"type\":\"MonthsTicker\"},{\"attributes\":{\"months\":[0,2,4,6,8,10]},\"id\":\"1323\",\"type\":\"MonthsTicker\"},{\"attributes\":{\"days\":[1,4,7,10,13,16,19,22,25,28]},\"id\":\"1319\",\"type\":\"DaysTicker\"},{\"attributes\":{\"below\":[{\"id\":\"1273\"}],\"center\":[{\"id\":\"1276\"},{\"id\":\"1280\"}],\"left\":[{\"id\":\"1277\"}],\"margin\":[5,5,5,5],\"min_border_bottom\":10,\"min_border_left\":10,\"min_border_right\":10,\"min_border_top\":10,\"plot_height\":300,\"plot_width\":700,\"renderers\":[{\"id\":\"1300\"}],\"sizing_mode\":\"fixed\",\"title\":{\"id\":\"1265\"},\"toolbar\":{\"id\":\"1287\"},\"x_range\":{\"id\":\"1261\"},\"x_scale\":{\"id\":\"1269\"},\"y_range\":{\"id\":\"1262\"},\"y_scale\":{\"id\":\"1271\"}},\"id\":\"1264\",\"subtype\":\"Figure\",\"type\":\"Plot\"},{\"attributes\":{\"margin\":[5,5,5,5],\"name\":\"HSpacer01754\",\"sizing_mode\":\"stretch_width\"},\"id\":\"1260\",\"type\":\"Spacer\"},{\"attributes\":{\"axis_label\":\"date\",\"bounds\":\"auto\",\"formatter\":{\"id\":\"1302\"},\"major_label_orientation\":\"horizontal\",\"ticker\":{\"id\":\"1274\"}},\"id\":\"1273\",\"type\":\"DatetimeAxis\"},{\"attributes\":{\"months\":[0,6]},\"id\":\"1325\",\"type\":\"MonthsTicker\"},{\"attributes\":{},\"id\":\"1271\",\"type\":\"LinearScale\"},{\"attributes\":{\"days\":[1,8,15,22]},\"id\":\"1320\",\"type\":\"DaysTicker\"}],\"root_ids\":[\"1259\",\"1416\"]},\"title\":\"Bokeh Application\",\"version\":\"2.2.3\"}};\n",
       "    var render_items = [{\"docid\":\"7e3c5621-4f5e-4448-ba3c-00bd5e89cb4e\",\"root_ids\":[\"1259\"],\"roots\":{\"1259\":\"3c2c3eb1-a538-4ace-afaa-e6a48c28832f\"}}];\n",
       "    root.Bokeh.embed.embed_items_notebook(docs_json, render_items);\n",
       "  }\n",
       "  if (root.Bokeh !== undefined && root.Bokeh.Panel !== undefined) {\n",
       "    embed_document(root);\n",
       "  } else {\n",
       "    var attempts = 0;\n",
       "    var timer = setInterval(function(root) {\n",
       "      if (root.Bokeh !== undefined && root.Bokeh.Panel !== undefined) {\n",
       "        clearInterval(timer);\n",
       "        embed_document(root);\n",
       "      } else if (document.readyState == \"complete\") {\n",
       "        attempts++;\n",
       "        if (attempts > 100) {\n",
       "          clearInterval(timer);\n",
       "          console.log(\"Bokeh: ERROR: Unable to run BokehJS code because BokehJS library is missing\");\n",
       "        }\n",
       "      }\n",
       "    }, 10, root)\n",
       "  }\n",
       "})(window);</script>"
      ],
      "text/plain": [
       ":DynamicMap   [State]\n",
       "   :Curve   [date]   (Retail and Recreation)"
      ]
     },
     "execution_count": 36,
     "metadata": {
      "application/vnd.holoviews_exec.v0+json": {
       "id": "1259"
      }
     },
     "output_type": "execute_result"
    }
   ],
   "source": [
    "mobility_data.hvplot.line(x ='date', y ='Retail and Recreation', groupby ='State')"
   ]
  },
  {
   "cell_type": "code",
   "execution_count": 37,
   "metadata": {},
   "outputs": [
    {
     "data": {
      "text/plain": [
       "<AxesSubplot:title={'center':'Average Per Cent Change of Travel for Retail and Recreation'}, xlabel='State', ylabel='Average Per Cent Change'>"
      ]
     },
     "execution_count": 37,
     "metadata": {},
     "output_type": "execute_result"
    },
    {
     "data": {
      "image/png": "[encoded data removed]",
      "text/plain": [
       "<Figure size 864x720 with 1 Axes>"
      ]
     },
     "metadata": {
      "needs_background": "light"
     },
     "output_type": "display_data"
    }
   ],
   "source": [
    "mobility_mean = mobility_data.groupby(\"State\")['Retail and Recreation'].mean()\n",
    "mobility_mean.plot(\n",
    "    kind='bar', \n",
    "    figsize = (12,10), \n",
    "    ylabel = 'Average Per Cent Change',\n",
    "    title= 'Average Per Cent Change of Travel for Retail and Recreation'\n",
    "    )"
   ]
  },
  {
   "cell_type": "code",
   "execution_count": 38,
   "metadata": {},
   "outputs": [
    {
     "data": {
      "text/plain": [
       "<AxesSubplot:title={'center':'Average Per Cent Change of Travel for Retail and Recreation'}, xlabel='State', ylabel='Average Per Cent Change'>"
      ]
     },
     "execution_count": 38,
     "metadata": {},
     "output_type": "execute_result"
    },
    {
     "data": {
      "image/png": "[encoded data removed]",
      "text/plain": [
       "<Figure size 864x720 with 1 Axes>"
      ]
     },
     "metadata": {
      "needs_background": "light"
     },
     "output_type": "display_data"
    }
   ],
   "source": [
    "# plotting this graph but sorted \n",
    "# this shows the mobilty and different approachs to lockdown actions \n",
    "mobility_mean = mobility_data.groupby(\"State\")['Retail and Recreation'].mean()\n",
    "# sorting values to then plot \n",
    "mobility_meanSort=mobility_mean.sort_values(ascending = False)\n",
    "mobility_meanSort.plot(\n",
    "    kind='bar', \n",
    "    figsize = (12,10), \n",
    "    ylabel = 'Average Per Cent Change',\n",
    "    title = 'Average Per Cent Change of Travel for Retail and Recreation'\n",
    "    )"
   ]
  },
  {
   "cell_type": "code",
   "execution_count": 39,
   "metadata": {},
   "outputs": [],
   "source": [
    "# seperating US - ALL to plot with stock data \n",
    "US_ALL = mobility_data.loc[mobility_data.State == 'ALL','Retail and Recreation']"
   ]
  },
  {
   "cell_type": "code",
   "execution_count": 40,
   "metadata": {},
   "outputs": [
    {
     "data": {
      "text/plain": [
       "0"
      ]
     },
     "execution_count": 40,
     "metadata": {},
     "output_type": "execute_result"
    }
   ],
   "source": [
    "US_ALL.isna().sum()"
   ]
  },
  {
   "cell_type": "code",
   "execution_count": 41,
   "metadata": {},
   "outputs": [],
   "source": [
    "## adding the stock data to mobility\n",
    "# initial imports \n",
    "import os\n",
    "import quandl \n",
    "import alpaca_trade_api as tradeapi\n",
    "from dotenv import load_dotenv\n",
    "import plotly.express as px\n",
    "alpaca_api_key = os.getenv(\"ALPACA_API_KEY\")\n",
    "alpaca_secret_key = os.getenv(\"ALPACA_SECRET_KEY\")\n",
    "\n"
   ]
  },
  {
   "cell_type": "code",
   "execution_count": 42,
   "metadata": {},
   "outputs": [
    {
     "data": {
      "text/plain": [
       "str"
      ]
     },
     "execution_count": 42,
     "metadata": {},
     "output_type": "execute_result"
    }
   ],
   "source": [
    "type(alpaca_api_key)"
   ]
  },
  {
   "cell_type": "code",
   "execution_count": 43,
   "metadata": {},
   "outputs": [
    {
     "data": {
      "text/plain": [
       "True"
      ]
     },
     "execution_count": 43,
     "metadata": {},
     "output_type": "execute_result"
    }
   ],
   "source": [
    "load_dotenv()"
   ]
  },
  {
   "cell_type": "code",
   "execution_count": 120,
   "metadata": {},
   "outputs": [],
   "source": [
    "# creating an alpaca object \n",
    "alpaca = tradeapi.REST(\n",
    "    alpaca_api_key,\n",
    "    alpaca_secret_key,\n",
    "    api_version=\"v2\")"
   ]
  },
  {
   "cell_type": "code",
   "execution_count": 121,
   "metadata": {},
   "outputs": [],
   "source": [
    "import pandas_datareader as pdr\n",
    "import hvplot.pandas\n",
    "from datetime import datetime"
   ]
  },
  {
   "cell_type": "code",
   "execution_count": 122,
   "metadata": {},
   "outputs": [],
   "source": [
    "## creating the variables needed to pull stock data \n",
    "tickers = ['ETSY', 'M', 'CPPRQ','AMZN', 'WMT', 'PRTY']\n",
    "# matching my start and end dates with the mobility data so it can align \n",
    "start_date = pd.Timestamp(\"2020-02-15\", tz=\"America/New_York\").isoformat()\n",
    "end_date = pd.Timestamp(\"2021-01-26\", tz=\"America/New_York\").isoformat() # matching my start and end dates with the mobility data so it can align \n",
    "timeframe = \"1D\"\n"
   ]
  },
  {
   "cell_type": "code",
   "execution_count": 123,
   "metadata": {},
   "outputs": [
    {
     "data": {
      "text/html": [
       "<div>\n",
       "<style scoped>\n",
       "    .dataframe tbody tr th:only-of-type {\n",
       "        vertical-align: middle;\n",
       "    }\n",
       "\n",
       "    .dataframe tbody tr th {\n",
       "        vertical-align: top;\n",
       "    }\n",
       "\n",
       "    .dataframe thead tr th {\n",
       "        text-align: left;\n",
       "    }\n",
       "</style>\n",
       "<table border=\"1\" class=\"dataframe\">\n",
       "  <thead>\n",
       "    <tr>\n",
       "      <th></th>\n",
       "      <th colspan=\"5\" halign=\"left\">AMZN</th>\n",
       "      <th colspan=\"5\" halign=\"left\">CPPRQ</th>\n",
       "      <th>...</th>\n",
       "      <th colspan=\"5\" halign=\"left\">PRTY</th>\n",
       "      <th colspan=\"5\" halign=\"left\">WMT</th>\n",
       "    </tr>\n",
       "    <tr>\n",
       "      <th></th>\n",
       "      <th>open</th>\n",
       "      <th>high</th>\n",
       "      <th>low</th>\n",
       "      <th>close</th>\n",
       "      <th>volume</th>\n",
       "      <th>open</th>\n",
       "      <th>high</th>\n",
       "      <th>low</th>\n",
       "      <th>close</th>\n",
       "      <th>volume</th>\n",
       "      <th>...</th>\n",
       "      <th>open</th>\n",
       "      <th>high</th>\n",
       "      <th>low</th>\n",
       "      <th>close</th>\n",
       "      <th>volume</th>\n",
       "      <th>open</th>\n",
       "      <th>high</th>\n",
       "      <th>low</th>\n",
       "      <th>close</th>\n",
       "      <th>volume</th>\n",
       "    </tr>\n",
       "  </thead>\n",
       "  <tbody>\n",
       "    <tr>\n",
       "      <th>2020-09-02</th>\n",
       "      <td>3547.00</td>\n",
       "      <td>3552.250</td>\n",
       "      <td>3486.685</td>\n",
       "      <td>3529.34</td>\n",
       "      <td>3607645</td>\n",
       "      <td>NaN</td>\n",
       "      <td>NaN</td>\n",
       "      <td>NaN</td>\n",
       "      <td>NaN</td>\n",
       "      <td>NaN</td>\n",
       "      <td>...</td>\n",
       "      <td>2.90</td>\n",
       "      <td>2.90</td>\n",
       "      <td>2.72</td>\n",
       "      <td>2.780</td>\n",
       "      <td>9653446</td>\n",
       "      <td>151.25</td>\n",
       "      <td>151.3300</td>\n",
       "      <td>145.61</td>\n",
       "      <td>147.6301</td>\n",
       "      <td>32303619</td>\n",
       "    </tr>\n",
       "    <tr>\n",
       "      <th>2020-09-03</th>\n",
       "      <td>3485.00</td>\n",
       "      <td>3488.410</td>\n",
       "      <td>3303.000</td>\n",
       "      <td>3369.17</td>\n",
       "      <td>7553385</td>\n",
       "      <td>NaN</td>\n",
       "      <td>NaN</td>\n",
       "      <td>NaN</td>\n",
       "      <td>NaN</td>\n",
       "      <td>NaN</td>\n",
       "      <td>...</td>\n",
       "      <td>2.79</td>\n",
       "      <td>2.81</td>\n",
       "      <td>2.49</td>\n",
       "      <td>2.540</td>\n",
       "      <td>11233677</td>\n",
       "      <td>146.70</td>\n",
       "      <td>149.6000</td>\n",
       "      <td>141.81</td>\n",
       "      <td>144.5700</td>\n",
       "      <td>29875798</td>\n",
       "    </tr>\n",
       "    <tr>\n",
       "      <th>2020-09-04</th>\n",
       "      <td>3318.00</td>\n",
       "      <td>3381.500</td>\n",
       "      <td>3111.130</td>\n",
       "      <td>3294.62</td>\n",
       "      <td>8364379</td>\n",
       "      <td>NaN</td>\n",
       "      <td>NaN</td>\n",
       "      <td>NaN</td>\n",
       "      <td>NaN</td>\n",
       "      <td>NaN</td>\n",
       "      <td>...</td>\n",
       "      <td>2.62</td>\n",
       "      <td>2.62</td>\n",
       "      <td>2.30</td>\n",
       "      <td>2.595</td>\n",
       "      <td>8924870</td>\n",
       "      <td>144.02</td>\n",
       "      <td>145.0382</td>\n",
       "      <td>140.10</td>\n",
       "      <td>142.8400</td>\n",
       "      <td>20501827</td>\n",
       "    </tr>\n",
       "    <tr>\n",
       "      <th>2020-09-08</th>\n",
       "      <td>3144.00</td>\n",
       "      <td>3250.845</td>\n",
       "      <td>3130.000</td>\n",
       "      <td>3149.84</td>\n",
       "      <td>5531793</td>\n",
       "      <td>NaN</td>\n",
       "      <td>NaN</td>\n",
       "      <td>NaN</td>\n",
       "      <td>NaN</td>\n",
       "      <td>NaN</td>\n",
       "      <td>...</td>\n",
       "      <td>2.48</td>\n",
       "      <td>2.55</td>\n",
       "      <td>2.38</td>\n",
       "      <td>2.460</td>\n",
       "      <td>6885094</td>\n",
       "      <td>141.41</td>\n",
       "      <td>141.9000</td>\n",
       "      <td>138.26</td>\n",
       "      <td>138.4500</td>\n",
       "      <td>19976524</td>\n",
       "    </tr>\n",
       "    <tr>\n",
       "      <th>2020-09-09</th>\n",
       "      <td>3202.99</td>\n",
       "      <td>3303.175</td>\n",
       "      <td>3185.000</td>\n",
       "      <td>3268.27</td>\n",
       "      <td>4679433</td>\n",
       "      <td>NaN</td>\n",
       "      <td>NaN</td>\n",
       "      <td>NaN</td>\n",
       "      <td>NaN</td>\n",
       "      <td>NaN</td>\n",
       "      <td>...</td>\n",
       "      <td>2.60</td>\n",
       "      <td>2.72</td>\n",
       "      <td>2.50</td>\n",
       "      <td>2.680</td>\n",
       "      <td>11180788</td>\n",
       "      <td>140.09</td>\n",
       "      <td>142.6100</td>\n",
       "      <td>139.45</td>\n",
       "      <td>139.9400</td>\n",
       "      <td>20630592</td>\n",
       "    </tr>\n",
       "  </tbody>\n",
       "</table>\n",
       "<p>5 rows × 30 columns</p>\n",
       "</div>"
      ],
      "text/plain": [
       "               AMZN                                       CPPRQ            \\\n",
       "               open      high       low    close   volume  open high  low   \n",
       "2020-09-02  3547.00  3552.250  3486.685  3529.34  3607645   NaN  NaN  NaN   \n",
       "2020-09-03  3485.00  3488.410  3303.000  3369.17  7553385   NaN  NaN  NaN   \n",
       "2020-09-04  3318.00  3381.500  3111.130  3294.62  8364379   NaN  NaN  NaN   \n",
       "2020-09-08  3144.00  3250.845  3130.000  3149.84  5531793   NaN  NaN  NaN   \n",
       "2020-09-09  3202.99  3303.175  3185.000  3268.27  4679433   NaN  NaN  NaN   \n",
       "\n",
       "                         ...  PRTY                                  WMT  \\\n",
       "           close volume  ...  open  high   low  close    volume    open   \n",
       "2020-09-02   NaN    NaN  ...  2.90  2.90  2.72  2.780   9653446  151.25   \n",
       "2020-09-03   NaN    NaN  ...  2.79  2.81  2.49  2.540  11233677  146.70   \n",
       "2020-09-04   NaN    NaN  ...  2.62  2.62  2.30  2.595   8924870  144.02   \n",
       "2020-09-08   NaN    NaN  ...  2.48  2.55  2.38  2.460   6885094  141.41   \n",
       "2020-09-09   NaN    NaN  ...  2.60  2.72  2.50  2.680  11180788  140.09   \n",
       "\n",
       "                                                  \n",
       "                high     low     close    volume  \n",
       "2020-09-02  151.3300  145.61  147.6301  32303619  \n",
       "2020-09-03  149.6000  141.81  144.5700  29875798  \n",
       "2020-09-04  145.0382  140.10  142.8400  20501827  \n",
       "2020-09-08  141.9000  138.26  138.4500  19976524  \n",
       "2020-09-09  142.6100  139.45  139.9400  20630592  \n",
       "\n",
       "[5 rows x 30 columns]"
      ]
     },
     "execution_count": 123,
     "metadata": {},
     "output_type": "execute_result"
    }
   ],
   "source": [
    "stock_prices = alpaca.get_barset(\n",
    "    tickers,\n",
    "    timeframe,\n",
    "    start = start_date,\n",
    "    end = end_date\n",
    ").df\n",
    "\n",
    "# need to remove time from index \n",
    "stock_prices.index = stock_prices.index.date\n",
    "# need to sort index \n",
    "stock_prices.sort_index()\n",
    "stock_prices.head()"
   ]
  },
  {
   "cell_type": "code",
   "execution_count": 116,
   "metadata": {},
   "outputs": [],
   "source": [
    "# looking at my data \n",
    "#type(stock_prices) #dataframe -- helps me identify how to put the information together \n"
   ]
  },
  {
   "cell_type": "code",
   "execution_count": 117,
   "metadata": {},
   "outputs": [],
   "source": [
    "# getting all the closing prices and putting them into an empty dataframe\n",
    "close_prices = pd.DataFrame()\n",
    "\n",
    "close_prices[\"AMZN\"] = stock_prices[\"AMZN\"][\"close\"]\n",
    "close_prices[\"CPPRQ\"] = stock_prices[\"CPPRQ\"][\"close\"]\n",
    "close_prices[\"PRTY\"] = stock_prices[\"PRTY\"][\"close\"]\n",
    "close_prices['WMT'] = stock_prices[\"WMT\"][\"close\"]\n",
    "close_prices['ETSY'] = stock_prices['ETSY'][\"close\"]\n",
    "close_prices['M'] = stock_prices['M'][\"close\"]\n"
   ]
  },
  {
   "cell_type": "code",
   "execution_count": 86,
   "metadata": {},
   "outputs": [
    {
     "data": {
      "text/html": [
       "<div>\n",
       "<style scoped>\n",
       "    .dataframe tbody tr th:only-of-type {\n",
       "        vertical-align: middle;\n",
       "    }\n",
       "\n",
       "    .dataframe tbody tr th {\n",
       "        vertical-align: top;\n",
       "    }\n",
       "\n",
       "    .dataframe thead th {\n",
       "        text-align: right;\n",
       "    }\n",
       "</style>\n",
       "<table border=\"1\" class=\"dataframe\">\n",
       "  <thead>\n",
       "    <tr style=\"text-align: right;\">\n",
       "      <th></th>\n",
       "      <th>AMZN</th>\n",
       "      <th>CPPRQ</th>\n",
       "      <th>PRTY</th>\n",
       "      <th>WMT</th>\n",
       "      <th>ETSY</th>\n",
       "      <th>M</th>\n",
       "    </tr>\n",
       "  </thead>\n",
       "  <tbody>\n",
       "    <tr>\n",
       "      <th>2020-09-02</th>\n",
       "      <td>3529.34</td>\n",
       "      <td>NaN</td>\n",
       "      <td>2.780</td>\n",
       "      <td>147.6301</td>\n",
       "      <td>124.38</td>\n",
       "      <td>7.050</td>\n",
       "    </tr>\n",
       "    <tr>\n",
       "      <th>2020-09-03</th>\n",
       "      <td>3369.17</td>\n",
       "      <td>NaN</td>\n",
       "      <td>2.540</td>\n",
       "      <td>144.5700</td>\n",
       "      <td>116.16</td>\n",
       "      <td>7.600</td>\n",
       "    </tr>\n",
       "    <tr>\n",
       "      <th>2020-09-04</th>\n",
       "      <td>3294.62</td>\n",
       "      <td>NaN</td>\n",
       "      <td>2.595</td>\n",
       "      <td>142.8400</td>\n",
       "      <td>112.01</td>\n",
       "      <td>7.635</td>\n",
       "    </tr>\n",
       "    <tr>\n",
       "      <th>2020-09-08</th>\n",
       "      <td>3149.84</td>\n",
       "      <td>NaN</td>\n",
       "      <td>2.460</td>\n",
       "      <td>138.4500</td>\n",
       "      <td>110.56</td>\n",
       "      <td>7.620</td>\n",
       "    </tr>\n",
       "    <tr>\n",
       "      <th>2020-09-09</th>\n",
       "      <td>3268.27</td>\n",
       "      <td>NaN</td>\n",
       "      <td>2.680</td>\n",
       "      <td>139.9400</td>\n",
       "      <td>112.70</td>\n",
       "      <td>7.550</td>\n",
       "    </tr>\n",
       "    <tr>\n",
       "      <th>...</th>\n",
       "      <td>...</td>\n",
       "      <td>...</td>\n",
       "      <td>...</td>\n",
       "      <td>...</td>\n",
       "      <td>...</td>\n",
       "      <td>...</td>\n",
       "    </tr>\n",
       "    <tr>\n",
       "      <th>2021-01-20</th>\n",
       "      <td>3264.73</td>\n",
       "      <td>NaN</td>\n",
       "      <td>7.035</td>\n",
       "      <td>145.4600</td>\n",
       "      <td>215.80</td>\n",
       "      <td>12.340</td>\n",
       "    </tr>\n",
       "    <tr>\n",
       "      <th>2021-01-21</th>\n",
       "      <td>3307.21</td>\n",
       "      <td>NaN</td>\n",
       "      <td>7.100</td>\n",
       "      <td>144.8700</td>\n",
       "      <td>212.54</td>\n",
       "      <td>12.320</td>\n",
       "    </tr>\n",
       "    <tr>\n",
       "      <th>2021-01-22</th>\n",
       "      <td>3290.00</td>\n",
       "      <td>NaN</td>\n",
       "      <td>7.455</td>\n",
       "      <td>146.3000</td>\n",
       "      <td>213.59</td>\n",
       "      <td>12.890</td>\n",
       "    </tr>\n",
       "    <tr>\n",
       "      <th>2021-01-25</th>\n",
       "      <td>3293.10</td>\n",
       "      <td>NaN</td>\n",
       "      <td>7.420</td>\n",
       "      <td>146.2400</td>\n",
       "      <td>208.94</td>\n",
       "      <td>14.280</td>\n",
       "    </tr>\n",
       "    <tr>\n",
       "      <th>2021-01-26</th>\n",
       "      <td>3326.12</td>\n",
       "      <td>NaN</td>\n",
       "      <td>7.270</td>\n",
       "      <td>147.5200</td>\n",
       "      <td>204.42</td>\n",
       "      <td>15.850</td>\n",
       "    </tr>\n",
       "  </tbody>\n",
       "</table>\n",
       "<p>100 rows × 6 columns</p>\n",
       "</div>"
      ],
      "text/plain": [
       "               AMZN CPPRQ   PRTY       WMT    ETSY       M\n",
       "2020-09-02  3529.34   NaN  2.780  147.6301  124.38   7.050\n",
       "2020-09-03  3369.17   NaN  2.540  144.5700  116.16   7.600\n",
       "2020-09-04  3294.62   NaN  2.595  142.8400  112.01   7.635\n",
       "2020-09-08  3149.84   NaN  2.460  138.4500  110.56   7.620\n",
       "2020-09-09  3268.27   NaN  2.680  139.9400  112.70   7.550\n",
       "...             ...   ...    ...       ...     ...     ...\n",
       "2021-01-20  3264.73   NaN  7.035  145.4600  215.80  12.340\n",
       "2021-01-21  3307.21   NaN  7.100  144.8700  212.54  12.320\n",
       "2021-01-22  3290.00   NaN  7.455  146.3000  213.59  12.890\n",
       "2021-01-25  3293.10   NaN  7.420  146.2400  208.94  14.280\n",
       "2021-01-26  3326.12   NaN  7.270  147.5200  204.42  15.850\n",
       "\n",
       "[100 rows x 6 columns]"
      ]
     },
     "execution_count": 86,
     "metadata": {},
     "output_type": "execute_result"
    }
   ],
   "source": [
    "close_prices"
   ]
  },
  {
   "cell_type": "code",
   "execution_count": 87,
   "metadata": {},
   "outputs": [
    {
     "data": {},
     "metadata": {},
     "output_type": "display_data"
    },
    {
     "data": {
      "application/vnd.holoviews_exec.v0+json": "",
      "text/html": [
       "<div id='2723'>\n",
       "\n",
       "\n",
       "\n",
       "\n",
       "\n",
       "  <div class=\"bk-root\" id=\"d394ffc2-91b6-4cde-87d6-7d2efaffc38b\" data-root-id=\"2723\"></div>\n",
       "</div>\n",
       "<script type=\"application/javascript\">(function(root) {\n",
       "  function embed_document(root) {\n",
       "    var docs_json = {\"20b4b849-c065-4659-9c9f-462bdffd41e6\":{\"roots\":{\"references\":[{\"attributes\":{\"line_alpha\":0.2,\"line_color\":\"#d62628\",\"line_width\":2,\"x\":{\"field\":\"index\"},\"y\":{\"field\":\"value\"}},\"id\":\"2865\",\"type\":\"Line\"},{\"attributes\":{\"children\":[{\"id\":\"2724\"},{\"id\":\"2732\"},{\"id\":\"3184\"}],\"margin\":[0,0,0,0],\"name\":\"Row03985\",\"tags\":[\"embedded\"]},\"id\":\"2723\",\"type\":\"Row\"},{\"attributes\":{},\"id\":\"2893\",\"type\":\"UnionRenderers\"},{\"attributes\":{},\"id\":\"2858\",\"type\":\"UnionRenderers\"},{\"attributes\":{\"line_color\":\"#d62628\",\"line_width\":2,\"x\":{\"field\":\"index\"},\"y\":{\"field\":\"value\"}},\"id\":\"2863\",\"type\":\"Line\"},{\"attributes\":{\"data\":{\"Variable\":[\"ETSY\",\"ETSY\",\"ETSY\",\"ETSY\",\"ETSY\",\"ETSY\",\"ETSY\",\"ETSY\",\"ETSY\",\"ETSY\",\"ETSY\",\"ETSY\",\"ETSY\",\"ETSY\",\"ETSY\",\"ETSY\",\"ETSY\",\"ETSY\",\"ETSY\",\"ETSY\",\"ETSY\",\"ETSY\",\"ETSY\",\"ETSY\",\"ETSY\",\"ETSY\",\"ETSY\",\"ETSY\",\"ETSY\",\"ETSY\",\"ETSY\",\"ETSY\",\"ETSY\",\"ETSY\",\"ETSY\",\"ETSY\",\"ETSY\",\"ETSY\",\"ETSY\",\"ETSY\",\"ETSY\",\"ETSY\",\"ETSY\",\"ETSY\",\"ETSY\",\"ETSY\",\"ETSY\",\"ETSY\",\"ETSY\",\"ETSY\",\"ETSY\",\"ETSY\",\"ETSY\",\"ETSY\",\"ETSY\",\"ETSY\",\"ETSY\",\"ETSY\",\"ETSY\",\"ETSY\",\"ETSY\",\"ETSY\",\"ETSY\",\"ETSY\",\"ETSY\",\"ETSY\",\"ETSY\",\"ETSY\",\"ETSY\",\"ETSY\",\"ETSY\",\"ETSY\",\"ETSY\",\"ETSY\",\"ETSY\",\"ETSY\",\"ETSY\",\"ETSY\",\"ETSY\",\"ETSY\",\"ETSY\",\"ETSY\",\"ETSY\",\"ETSY\",\"ETSY\",\"ETSY\",\"ETSY\",\"ETSY\",\"ETSY\",\"ETSY\",\"ETSY\",\"ETSY\",\"ETSY\",\"ETSY\",\"ETSY\",\"ETSY\",\"ETSY\",\"ETSY\",\"ETSY\",\"ETSY\"],\"index\":{\"__ndarray__\":\"AABAz8FEd0IAAAA1FEV3QgAAwJpmRXdCAADAMbBGd0IAAICXAkd3QgAAQP1UR3dCAAAAY6dHd0IAAECUnkh3QgAAAPrwSHdCAADAX0NJd0IAAIDFlUl3QgAAQCvoSXdCAACAXN9Kd0IAAEDCMUt3QgAAACiES3dCAADAjdZLd0IAAIDzKEx3QgAAwCQgTXdCAACAinJNd0IAAEDwxE13QgAAAFYXTndCAADAu2lOd0IAAADtYE93QgAAwFKzT3dCAACAuAVQd0IAAEAeWFB3QgAAAISqUHdCAABAtaFRd0IAAAAb9FF3QgAAwIBGUndCAACA5phSd0IAAEBM61J3QgAAgH3iU3dCAABA4zRUd0IAAABJh1R3QgAAwK7ZVHdCAACAFCxVd0IAAMBFI1Z3QgAAgKt1VndCAABAEchWd0IAAAB3Gld3QgAAwNxsV3dCAAAADmRYd0IAAMBztlh3QgAAgNkIWXdCAABAP1tZd0IAAAClrVl3QgAAQNakWndCAAAAPPdad0IAAMChSVt3QgAAgAecW3dCAABAbe5bd0IAAICe5Vx3QgAAQAQ4XXdCAAAAaopdd0IAAMDP3F13QgAAgDUvXndCAADAZiZfd0IAAIDMeF93QgAAQDLLX3dCAADA/W9gd0IAAAAvZ2F3QgAAwJS5YXdCAACA+gtid0IAAEBgXmJ3QgAAAMawYndCAABA96djd0IAAABd+mN3QgAAwMJMZHdCAACAKJ9kd0IAAECO8WR3QgAAgL/oZXdCAABAJTtmd0IAAACLjWZ3QgAAwPDfZndCAACAVjJnd0IAAMCHKWh3QgAAgO17aHdCAABAU85od0IAAAC5IGl3QgAAAFBqandCAADAtbxqd0IAAIAbD2t3QgAAQIFha3dCAABAGKtsd0IAAAB+/Wx3QgAAwONPbXdCAACASaJtd0IAAECv9G13QgAAgODrbndCAABARj5vd0IAAACskG93QgAAwBHjb3dCAACAdzVwd0IAAIAOf3F3QgAAQHTRcXdCAAAA2iNyd0IAAMA/dnJ3QgAAAHFtc3dCAADA1r9zd0I=\",\"dtype\":\"float64\",\"order\":\"little\",\"shape\":[100]},\"value\":{\"__ndarray__\":\"uB6F61EYX0AK16NwPQpdQHE9CtejAFxApHA9CtejW0DNzMzMzCxcQAAAAAAAoFtAUrgeheuxW0DD9ShcjyJcQHE9CtejwFtAAAAAAAAwW0DNzMzMzExbQBSuR+F69FtACtejcD0CXUApXI/C9dhdQGZmZmZmxlxA7FG4HoVrXEDD9Shcj5JdQFK4HoXr8V5AzczMzMzMXkBI4XoUrmdeQK5H4XoUdmBA9ihcj8J1YECuR+F6FBZhQJqZmZmZ0WBAhetRuB7VYUApXI/C9XBhQD0K16NwVWJAVOOlm8RsYkCF61G4HiVjQKjGSzeJvWJAhetRuB7VYkCF61G4HnViQKRwPQrXi2JAAAAAAAAYYkC4HoXrUaBgQK5H4XoU/mBA16NwPQo7YUCPwvUoXHdhQHE9CtejOGJAZmZmZmZ2YUDsUbgehYtgQGZmZmZmZl5ArkfhehSeX0BmZmZmZk5gQGZmZmZmBmFAFK5H4Xr0YUBSuB6F60liQD0K16NwTV5AiGNd3EbbXUB7FK5H4VJgQHE9CtejwF9AmpmZmZk5X0C4HoXrUUhfQIXrUbgeHWBAcT0K16PAX0BxPQrXo9BgQJqZmZmZgWFA4XoUrkeBYUDhehSuRzFhQHsUrkfhImJA7FG4HoUTZEBxPQrXoxhkQArXo3A9UmNApHA9CtdTY0BI4XoUrldjQAAAAAAAYGNASOF6FK6fY0CPwvUoXH9kQClcj8L14GNAXI/C9SisZEB7FK5H4UJlQKRwPQrXO2VAUrgehes5ZkC4HoXrUchmQI/C9Shcf2dACtejcD3aZ0BmZmZmZqZnQHsUrkfhsmhAhetRuB7FZ0D2KFyPws1nQArXo3A9QmZAuB6F61EgZkDXo3A9Ct9mQHsUrkfhOmZAUrgeheuBZUBcj8L1KNxlQArXo3A98mRAH4XrUbhWZUBI4XoUrvdlQAAAAAAA4GZAFK5H4XqkaUApXI/C9eBpQDMzMzMzc2pAhetRuB6NaUBSuB6F66lrQJqZmZmZ+WpA4XoUrkeRakB7FK5H4bJqQK5H4XoUHmpAPQrXo3CNaUA=\",\"dtype\":\"float64\",\"order\":\"little\",\"shape\":[100]}},\"selected\":{\"id\":\"2861\"},\"selection_policy\":{\"id\":\"2893\"}},\"id\":\"2860\",\"type\":\"ColumnDataSource\"},{\"attributes\":{},\"id\":\"2762\",\"type\":\"DatetimeTickFormatter\"},{\"attributes\":{\"end\":3882.096,\"reset_end\":3882.096,\"reset_start\":-350.97600000000006,\"start\":-350.97600000000006,\"tags\":[[[\"value\",\"value\",null]]]},\"id\":\"2726\",\"type\":\"Range1d\"},{\"attributes\":{\"label\":{\"value\":\"M\"},\"renderers\":[{\"id\":\"2901\"}]},\"id\":\"2931\",\"type\":\"LegendItem\"},{\"attributes\":{\"data_source\":{\"id\":\"2895\"},\"glyph\":{\"id\":\"2898\"},\"hover_glyph\":null,\"muted_glyph\":{\"id\":\"2900\"},\"nonselection_glyph\":{\"id\":\"2899\"},\"selection_glyph\":null,\"view\":{\"id\":\"2902\"}},\"id\":\"2901\",\"type\":\"GlyphRenderer\"},{\"attributes\":{\"margin\":[5,5,5,5],\"name\":\"HSpacer03989\",\"sizing_mode\":\"stretch_width\"},\"id\":\"2724\",\"type\":\"Spacer\"},{\"attributes\":{},\"id\":\"2764\",\"type\":\"BasicTickFormatter\"},{\"attributes\":{},\"id\":\"2739\",\"type\":\"LinearScale\"},{\"attributes\":{\"line_alpha\":0.1,\"line_color\":\"#9367bc\",\"line_width\":2,\"x\":{\"field\":\"index\"},\"y\":{\"field\":\"value\"}},\"id\":\"2899\",\"type\":\"Line\"},{\"attributes\":{\"data\":{\"Variable\":[\"AMZN\",\"AMZN\",\"AMZN\",\"AMZN\",\"AMZN\",\"AMZN\",\"AMZN\",\"AMZN\",\"AMZN\",\"AMZN\",\"AMZN\",\"AMZN\",\"AMZN\",\"AMZN\",\"AMZN\",\"AMZN\",\"AMZN\",\"AMZN\",\"AMZN\",\"AMZN\",\"AMZN\",\"AMZN\",\"AMZN\",\"AMZN\",\"AMZN\",\"AMZN\",\"AMZN\",\"AMZN\",\"AMZN\",\"AMZN\",\"AMZN\",\"AMZN\",\"AMZN\",\"AMZN\",\"AMZN\",\"AMZN\",\"AMZN\",\"AMZN\",\"AMZN\",\"AMZN\",\"AMZN\",\"AMZN\",\"AMZN\",\"AMZN\",\"AMZN\",\"AMZN\",\"AMZN\",\"AMZN\",\"AMZN\",\"AMZN\",\"AMZN\",\"AMZN\",\"AMZN\",\"AMZN\",\"AMZN\",\"AMZN\",\"AMZN\",\"AMZN\",\"AMZN\",\"AMZN\",\"AMZN\",\"AMZN\",\"AMZN\",\"AMZN\",\"AMZN\",\"AMZN\",\"AMZN\",\"AMZN\",\"AMZN\",\"AMZN\",\"AMZN\",\"AMZN\",\"AMZN\",\"AMZN\",\"AMZN\",\"AMZN\",\"AMZN\",\"AMZN\",\"AMZN\",\"AMZN\",\"AMZN\",\"AMZN\",\"AMZN\",\"AMZN\",\"AMZN\",\"AMZN\",\"AMZN\",\"AMZN\",\"AMZN\",\"AMZN\",\"AMZN\",\"AMZN\",\"AMZN\",\"AMZN\",\"AMZN\",\"AMZN\",\"AMZN\",\"AMZN\",\"AMZN\",\"AMZN\"],\"index\":{\"__ndarray__\":\"AABAz8FEd0IAAAA1FEV3QgAAwJpmRXdCAADAMbBGd0IAAICXAkd3QgAAQP1UR3dCAAAAY6dHd0IAAECUnkh3QgAAAPrwSHdCAADAX0NJd0IAAIDFlUl3QgAAQCvoSXdCAACAXN9Kd0IAAEDCMUt3QgAAACiES3dCAADAjdZLd0IAAIDzKEx3QgAAwCQgTXdCAACAinJNd0IAAEDwxE13QgAAAFYXTndCAADAu2lOd0IAAADtYE93QgAAwFKzT3dCAACAuAVQd0IAAEAeWFB3QgAAAISqUHdCAABAtaFRd0IAAAAb9FF3QgAAwIBGUndCAACA5phSd0IAAEBM61J3QgAAgH3iU3dCAABA4zRUd0IAAABJh1R3QgAAwK7ZVHdCAACAFCxVd0IAAMBFI1Z3QgAAgKt1VndCAABAEchWd0IAAAB3Gld3QgAAwNxsV3dCAAAADmRYd0IAAMBztlh3QgAAgNkIWXdCAABAP1tZd0IAAAClrVl3QgAAQNakWndCAAAAPPdad0IAAMChSVt3QgAAgAecW3dCAABAbe5bd0IAAICe5Vx3QgAAQAQ4XXdCAAAAaopdd0IAAMDP3F13QgAAgDUvXndCAADAZiZfd0IAAIDMeF93QgAAQDLLX3dCAADA/W9gd0IAAAAvZ2F3QgAAwJS5YXdCAACA+gtid0IAAEBgXmJ3QgAAAMawYndCAABA96djd0IAAABd+mN3QgAAwMJMZHdCAACAKJ9kd0IAAECO8WR3QgAAgL/oZXdCAABAJTtmd0IAAACLjWZ3QgAAwPDfZndCAACAVjJnd0IAAMCHKWh3QgAAgO17aHdCAABAU85od0IAAAC5IGl3QgAAAFBqandCAADAtbxqd0IAAIAbD2t3QgAAQIFha3dCAABAGKtsd0IAAAB+/Wx3QgAAwONPbXdCAACASaJtd0IAAECv9G13QgAAgODrbndCAABARj5vd0IAAACskG93QgAAwBHjb3dCAACAdzVwd0IAAIAOf3F3QgAAQHTRcXdCAAAA2iNyd0IAAMA/dnJ3QgAAAHFtc3dCAADA1r9zd0I=\",\"dtype\":\"float64\",\"order\":\"little\",\"shape\":[100]},\"value\":{\"__ndarray__\":\"SOF6FK6Sq0CkcD0KV1KqQArXo3A9valASOF6FK6bqEDXo3A9ioipQArXo3A90KhAw/UoXI9aqEA9Ctej8D2oQMP1KFyPoqhA4XoUrkcKqECF61G4HoWnQOF6FK5HEadAAAAAAAAkp0AAAAAAAHKoQHsUrkfhaqdAXI/C9SiVp0DNzMzMTC2oQK5H4XoUzqhApHA9CteNqECamZmZ2ZaoQOxRuB4FLKlAj8L1KNxrqEBmZmZmZv6oQK5H4XqUNqhA7FG4HgXxqECamZmZGe2oQHE9Ctejr6lAj8L1KNzlqkDhehSuR+WqQJqZmZkZRqpACtejcD0VqkAAAAAAALCoQJqZmZmZDqlA7FG4HoUgqUAzMzMzM9+oQM3MzMzM0qhA4XoUrkcJqUBxPQrXow6pQKRwPQrXr6lAFK5H4fq0qECuR+F6lBmpQPYoXI9CuKdAKVyPwvV4p0AAAAAAgMynQLgehetRUqlAAAAAAAD0qUC4HoXr0dypQEjhehSuiqhAj8L1KFy2p0CF61G4noGoQGZmZmZmTKhASOF6FC58qEAUrkfh+nmoQLgehetRf6hAMzMzMzNCqEC4HoXr0VSoQFyPwvVoNqhAj8L1KFw4qEAfhetRuFmoQHE9Ctej4ahAZmZmZub3qEDD9ShcD8CoQFyPwvUoKKlAAAAAAIAHqUC4HoXrUemoQBSuR+H6tqhA16NwPYqtqEDhehSuR9GoQDMzMzOzOqhAcT0K1yM4qEC4HoXr0VioQD0K16PwqahAZmZmZua8qEBSuB6F61GpQOF6FK4HSqlAcT0K1yMCqUAUrkfhegupQNejcD0KDalAKVyPwnXlqEC4HoXrUcaoQFK4HoXrp6lAUrgehWvxqUAzMzMzs6upQLgehevRcKlAzczMzEzlqEDsUbgeBSWpQOxRuB4FhKhAuB6F69GyqEBmZmZmZt2oQAAAAACAV6hA9ihcj8JhqEAUrkfheryoQHE9CtejcqhArkfhehRBqEAAAAAAAGKoQClcj8J1galAUrgehWvWqUAAAAAAALSpQDMzMzMzuqlACtejcD38qUA=\",\"dtype\":\"float64\",\"order\":\"little\",\"shape\":[100]}},\"selected\":{\"id\":\"2767\"},\"selection_policy\":{\"id\":\"2793\"}},\"id\":\"2766\",\"type\":\"ColumnDataSource\"},{\"attributes\":{},\"id\":\"2767\",\"type\":\"Selection\"},{\"attributes\":{\"line_alpha\":0.2,\"line_color\":\"#9367bc\",\"line_width\":2,\"x\":{\"field\":\"index\"},\"y\":{\"field\":\"value\"}},\"id\":\"2900\",\"type\":\"Line\"},{\"attributes\":{},\"id\":\"2896\",\"type\":\"Selection\"},{\"attributes\":{\"line_color\":\"#9367bc\",\"line_width\":2,\"x\":{\"field\":\"index\"},\"y\":{\"field\":\"value\"}},\"id\":\"2898\",\"type\":\"Line\"},{\"attributes\":{\"data\":{\"Variable\":[\"PRTY\",\"PRTY\",\"PRTY\",\"PRTY\",\"PRTY\",\"PRTY\",\"PRTY\",\"PRTY\",\"PRTY\",\"PRTY\",\"PRTY\",\"PRTY\",\"PRTY\",\"PRTY\",\"PRTY\",\"PRTY\",\"PRTY\",\"PRTY\",\"PRTY\",\"PRTY\",\"PRTY\",\"PRTY\",\"PRTY\",\"PRTY\",\"PRTY\",\"PRTY\",\"PRTY\",\"PRTY\",\"PRTY\",\"PRTY\",\"PRTY\",\"PRTY\",\"PRTY\",\"PRTY\",\"PRTY\",\"PRTY\",\"PRTY\",\"PRTY\",\"PRTY\",\"PRTY\",\"PRTY\",\"PRTY\",\"PRTY\",\"PRTY\",\"PRTY\",\"PRTY\",\"PRTY\",\"PRTY\",\"PRTY\",\"PRTY\",\"PRTY\",\"PRTY\",\"PRTY\",\"PRTY\",\"PRTY\",\"PRTY\",\"PRTY\",\"PRTY\",\"PRTY\",\"PRTY\",\"PRTY\",\"PRTY\",\"PRTY\",\"PRTY\",\"PRTY\",\"PRTY\",\"PRTY\",\"PRTY\",\"PRTY\",\"PRTY\",\"PRTY\",\"PRTY\",\"PRTY\",\"PRTY\",\"PRTY\",\"PRTY\",\"PRTY\",\"PRTY\",\"PRTY\",\"PRTY\",\"PRTY\",\"PRTY\",\"PRTY\",\"PRTY\",\"PRTY\",\"PRTY\",\"PRTY\",\"PRTY\",\"PRTY\",\"PRTY\",\"PRTY\",\"PRTY\",\"PRTY\",\"PRTY\",\"PRTY\",\"PRTY\",\"PRTY\",\"PRTY\",\"PRTY\",\"PRTY\"],\"index\":{\"__ndarray__\":\"AABAz8FEd0IAAAA1FEV3QgAAwJpmRXdCAADAMbBGd0IAAICXAkd3QgAAQP1UR3dCAAAAY6dHd0IAAECUnkh3QgAAAPrwSHdCAADAX0NJd0IAAIDFlUl3QgAAQCvoSXdCAACAXN9Kd0IAAEDCMUt3QgAAACiES3dCAADAjdZLd0IAAIDzKEx3QgAAwCQgTXdCAACAinJNd0IAAEDwxE13QgAAAFYXTndCAADAu2lOd0IAAADtYE93QgAAwFKzT3dCAACAuAVQd0IAAEAeWFB3QgAAAISqUHdCAABAtaFRd0IAAAAb9FF3QgAAwIBGUndCAACA5phSd0IAAEBM61J3QgAAgH3iU3dCAABA4zRUd0IAAABJh1R3QgAAwK7ZVHdCAACAFCxVd0IAAMBFI1Z3QgAAgKt1VndCAABAEchWd0IAAAB3Gld3QgAAwNxsV3dCAAAADmRYd0IAAMBztlh3QgAAgNkIWXdCAABAP1tZd0IAAAClrVl3QgAAQNakWndCAAAAPPdad0IAAMChSVt3QgAAgAecW3dCAABAbe5bd0IAAICe5Vx3QgAAQAQ4XXdCAAAAaopdd0IAAMDP3F13QgAAgDUvXndCAADAZiZfd0IAAIDMeF93QgAAQDLLX3dCAADA/W9gd0IAAAAvZ2F3QgAAwJS5YXdCAACA+gtid0IAAEBgXmJ3QgAAAMawYndCAABA96djd0IAAABd+mN3QgAAwMJMZHdCAACAKJ9kd0IAAECO8WR3QgAAgL/oZXdCAABAJTtmd0IAAACLjWZ3QgAAwPDfZndCAACAVjJnd0IAAMCHKWh3QgAAgO17aHdCAABAU85od0IAAAC5IGl3QgAAAFBqandCAADAtbxqd0IAAIAbD2t3QgAAQIFha3dCAABAGKtsd0IAAAB+/Wx3QgAAwONPbXdCAACASaJtd0IAAECv9G13QgAAgODrbndCAABARj5vd0IAAACskG93QgAAwBHjb3dCAACAdzVwd0IAAIAOf3F3QgAAQHTRcXdCAAAA2iNyd0IAAMA/dnJ3QgAAAHFtc3dCAADA1r9zd0I=\",\"dtype\":\"float64\",\"order\":\"little\",\"shape\":[100]},\"value\":{\"__ndarray__\":\"PQrXo3A9BkBSuB6F61EEQMP1KFyPwgRArkfhehSuA0BxPQrXo3AFQNejcD0K1wVApHA9CtejBEAfhetRuB4FQDMzMzMzMwVAhetRuB6FB0BSuB6F61EIQDMzMzMzMwlAUrgehetRCECuR+F6FK4JQIXrUbgehQlAexSuR+F6BUBxPQrXo3AGQK5H4XoUrgdAcT0K16NwBUDNzMzMzMwEQHE9CtejcAVAmpmZmZmZBUCkcD0K16MEQBSuR+F6FARApHA9CtejBEBSuB6F61EEQGZmZmZmZgRAAAAAAAAABkDD9Shcj8IFQB+F61G4HgVAw/UoXI/CBEAAAAAAAAAEQOF6FK5H4QJAUrgehetRAkBxPQrXo3ABQLgehetRuABACtejcD0KAUBxPQrXo3D/P3E9CtejcP0/exSuR+F6/D/OGVHaG3wAQNejcD0K1/8/4XoUrkfhAEBxPQrXo3ABQB+F61G4HgFAzczMzMzMAkCkcD0K16MCQDMzMzMzMwlAXI/C9ShcCUCuR+F6FK4JQDMzMzMzMwtAMzMzMzMzCUCPwvUoXI8KQIXrUbgehQ9A2qz6XG1FD0B7FK5H4XoOQMP1KFyPwhBAMzMzMzMzEkBxPQrXo3ATQPLSTWIQWBNAhetRuB6FE0Bcj8L1KFwSQCo6kst/SBJAhetRuB6FE0BI4XoUrkcUQM3MzMzMTBVAZmZmZmZmFEApXI/C9SgVQK5H4XoUrhVAzczMzMzMFkDD9Shcj8IVQI/C9ShcjxVA16NwPQrXFkBcj8L1KFwXQLgehetRuBhA7FG4HoXrF0CuR+F6FK4ZQM3MzMzMzBpACtejcD0KGUDD9Shcj8IYQFyPwvUoXBhAZmZmZmZmGUAK16NwPQoaQK5H4XoUrhhAH4XrUbgeGUBSuB6F61EaQOF6FK5H4RtASOF6FK5HIEDhehSuR+EfQFK4HoXrUR9AKVyPwvUoIEDf4AuTqcIdQOQUHcnl/xxAKVyPwvUoG0A9CtejcD0aQKRwPQrXIxxAZmZmZmZmHEBSuB6F69EdQK5H4XoUrh1AFK5H4XoUHUA=\",\"dtype\":\"float64\",\"order\":\"little\",\"shape\":[100]}},\"selected\":{\"id\":\"2797\"},\"selection_policy\":{\"id\":\"2825\"}},\"id\":\"2796\",\"type\":\"ColumnDataSource\"},{\"attributes\":{\"text\":\"\",\"text_color\":{\"value\":\"black\"},\"text_font_size\":{\"value\":\"12pt\"}},\"id\":\"2733\",\"type\":\"Title\"},{\"attributes\":{\"data_source\":{\"id\":\"2796\"},\"glyph\":{\"id\":\"2799\"},\"hover_glyph\":null,\"muted_glyph\":{\"id\":\"2801\"},\"nonselection_glyph\":{\"id\":\"2800\"},\"selection_glyph\":null,\"view\":{\"id\":\"2803\"}},\"id\":\"2802\",\"type\":\"GlyphRenderer\"},{\"attributes\":{\"source\":{\"id\":\"2895\"}},\"id\":\"2902\",\"type\":\"CDSView\"},{\"attributes\":{\"axis\":{\"id\":\"2741\"},\"grid_line_color\":null,\"ticker\":null},\"id\":\"2744\",\"type\":\"Grid\"},{\"attributes\":{\"callback\":null,\"formatters\":{\"@{index}\":\"datetime\"},\"renderers\":[{\"id\":\"2772\"},{\"id\":\"2802\"},{\"id\":\"2833\"},{\"id\":\"2866\"},{\"id\":\"2901\"}],\"tags\":[\"hv_created\"],\"tooltips\":[[\"Variable\",\"@{Variable}\"],[\"index\",\"@{index}{%F %T}\"],[\"value\",\"@{value}\"]]},\"id\":\"2727\",\"type\":\"HoverTool\"},{\"attributes\":{\"label\":{\"value\":\"PRTY\"},\"renderers\":[{\"id\":\"2802\"}]},\"id\":\"2826\",\"type\":\"LegendItem\"},{\"attributes\":{},\"id\":\"2750\",\"type\":\"PanTool\"},{\"attributes\":{\"line_color\":\"#1f77b3\",\"line_width\":2,\"x\":{\"field\":\"index\"},\"y\":{\"field\":\"value\"}},\"id\":\"2769\",\"type\":\"Line\"},{\"attributes\":{\"label\":{\"value\":\"ETSY\"},\"renderers\":[{\"id\":\"2866\"}]},\"id\":\"2894\",\"type\":\"LegendItem\"},{\"attributes\":{\"line_alpha\":0.1,\"line_color\":\"#ff7e0e\",\"line_width\":2,\"x\":{\"field\":\"index\"},\"y\":{\"field\":\"value\"}},\"id\":\"2800\",\"type\":\"Line\"},{\"attributes\":{\"source\":{\"id\":\"2860\"}},\"id\":\"2867\",\"type\":\"CDSView\"},{\"attributes\":{\"line_alpha\":0.2,\"line_color\":\"#ff7e0e\",\"line_width\":2,\"x\":{\"field\":\"index\"},\"y\":{\"field\":\"value\"}},\"id\":\"2801\",\"type\":\"Line\"},{\"attributes\":{\"below\":[{\"id\":\"2741\"}],\"center\":[{\"id\":\"2744\"},{\"id\":\"2748\"}],\"left\":[{\"id\":\"2745\"}],\"margin\":[5,5,5,5],\"min_border_bottom\":10,\"min_border_left\":10,\"min_border_right\":10,\"min_border_top\":10,\"plot_height\":300,\"plot_width\":700,\"renderers\":[{\"id\":\"2772\"},{\"id\":\"2802\"},{\"id\":\"2833\"},{\"id\":\"2866\"},{\"id\":\"2901\"}],\"right\":[{\"id\":\"2794\"}],\"sizing_mode\":\"fixed\",\"title\":{\"id\":\"2733\"},\"toolbar\":{\"id\":\"2755\"},\"x_range\":{\"id\":\"2725\"},\"x_scale\":{\"id\":\"2737\"},\"y_range\":{\"id\":\"2726\"},\"y_scale\":{\"id\":\"2739\"}},\"id\":\"2732\",\"subtype\":\"Figure\",\"type\":\"Plot\"},{\"attributes\":{},\"id\":\"2930\",\"type\":\"UnionRenderers\"},{\"attributes\":{},\"id\":\"2797\",\"type\":\"Selection\"},{\"attributes\":{\"line_color\":\"#ff7e0e\",\"line_width\":2,\"x\":{\"field\":\"index\"},\"y\":{\"field\":\"value\"}},\"id\":\"2799\",\"type\":\"Line\"},{\"attributes\":{\"source\":{\"id\":\"2796\"}},\"id\":\"2803\",\"type\":\"CDSView\"},{\"attributes\":{\"data_source\":{\"id\":\"2860\"},\"glyph\":{\"id\":\"2863\"},\"hover_glyph\":null,\"muted_glyph\":{\"id\":\"2865\"},\"nonselection_glyph\":{\"id\":\"2864\"},\"selection_glyph\":null,\"view\":{\"id\":\"2867\"}},\"id\":\"2866\",\"type\":\"GlyphRenderer\"},{\"attributes\":{\"axis\":{\"id\":\"2745\"},\"dimension\":1,\"grid_line_color\":null,\"ticker\":null},\"id\":\"2748\",\"type\":\"Grid\"},{\"attributes\":{\"axis_label\":\"\",\"bounds\":\"auto\",\"formatter\":{\"id\":\"2764\"},\"major_label_orientation\":\"horizontal\",\"ticker\":{\"id\":\"2746\"}},\"id\":\"2745\",\"type\":\"LinearAxis\"},{\"attributes\":{\"axis_label\":\"\",\"bounds\":\"auto\",\"formatter\":{\"id\":\"2762\"},\"major_label_orientation\":\"horizontal\",\"ticker\":{\"id\":\"2742\"}},\"id\":\"2741\",\"type\":\"DatetimeAxis\"},{\"attributes\":{},\"id\":\"2737\",\"type\":\"LinearScale\"},{\"attributes\":{},\"id\":\"2749\",\"type\":\"SaveTool\"},{\"attributes\":{},\"id\":\"2746\",\"type\":\"BasicTicker\"},{\"attributes\":{\"line_alpha\":0.2,\"line_color\":\"#1f77b3\",\"line_width\":2,\"x\":{\"field\":\"index\"},\"y\":{\"field\":\"value\"}},\"id\":\"2771\",\"type\":\"Line\"},{\"attributes\":{\"num_minor_ticks\":5,\"tickers\":[{\"id\":\"2779\"},{\"id\":\"2780\"},{\"id\":\"2781\"},{\"id\":\"2782\"},{\"id\":\"2783\"},{\"id\":\"2784\"},{\"id\":\"2785\"},{\"id\":\"2786\"},{\"id\":\"2787\"},{\"id\":\"2788\"},{\"id\":\"2789\"},{\"id\":\"2790\"}]},\"id\":\"2742\",\"type\":\"DatetimeTicker\"},{\"attributes\":{},\"id\":\"2751\",\"type\":\"WheelZoomTool\"},{\"attributes\":{\"mantissas\":[1,2,5],\"max_interval\":500.0,\"num_minor_ticks\":0},\"id\":\"2779\",\"type\":\"AdaptiveTicker\"},{\"attributes\":{\"base\":60,\"mantissas\":[1,2,5,10,15,20,30],\"max_interval\":1800000.0,\"min_interval\":1000.0,\"num_minor_ticks\":0},\"id\":\"2780\",\"type\":\"AdaptiveTicker\"},{\"attributes\":{\"overlay\":{\"id\":\"2754\"}},\"id\":\"2752\",\"type\":\"BoxZoomTool\"},{\"attributes\":{\"days\":[1,2,3,4,5,6,7,8,9,10,11,12,13,14,15,16,17,18,19,20,21,22,23,24,25,26,27,28,29,30,31]},\"id\":\"2782\",\"type\":\"DaysTicker\"},{\"attributes\":{},\"id\":\"2753\",\"type\":\"ResetTool\"},{\"attributes\":{},\"id\":\"2825\",\"type\":\"UnionRenderers\"},{\"attributes\":{\"base\":24,\"mantissas\":[1,2,4,6,8,12],\"max_interval\":43200000.0,\"min_interval\":3600000.0,\"num_minor_ticks\":0},\"id\":\"2781\",\"type\":\"AdaptiveTicker\"},{\"attributes\":{\"active_drag\":\"auto\",\"active_inspect\":\"auto\",\"active_multi\":null,\"active_scroll\":\"auto\",\"active_tap\":\"auto\",\"tools\":[{\"id\":\"2727\"},{\"id\":\"2749\"},{\"id\":\"2750\"},{\"id\":\"2751\"},{\"id\":\"2752\"},{\"id\":\"2753\"}]},\"id\":\"2755\",\"type\":\"Toolbar\"},{\"attributes\":{\"months\":[0,1,2,3,4,5,6,7,8,9,10,11]},\"id\":\"2786\",\"type\":\"MonthsTicker\"},{\"attributes\":{\"months\":[0,2,4,6,8,10]},\"id\":\"2787\",\"type\":\"MonthsTicker\"},{\"attributes\":{\"line_alpha\":0.1,\"line_color\":\"#1f77b3\",\"line_width\":2,\"x\":{\"field\":\"index\"},\"y\":{\"field\":\"value\"}},\"id\":\"2770\",\"type\":\"Line\"},{\"attributes\":{\"days\":[1,4,7,10,13,16,19,22,25,28]},\"id\":\"2783\",\"type\":\"DaysTicker\"},{\"attributes\":{\"click_policy\":\"mute\",\"items\":[{\"id\":\"2795\"},{\"id\":\"2826\"},{\"id\":\"2859\"},{\"id\":\"2894\"},{\"id\":\"2931\"}],\"location\":[0,0],\"title\":\"Variable\"},\"id\":\"2794\",\"type\":\"Legend\"},{\"attributes\":{\"days\":[1,15]},\"id\":\"2785\",\"type\":\"DaysTicker\"},{\"attributes\":{\"months\":[0,6]},\"id\":\"2789\",\"type\":\"MonthsTicker\"},{\"attributes\":{\"days\":[1,8,15,22]},\"id\":\"2784\",\"type\":\"DaysTicker\"},{\"attributes\":{},\"id\":\"2790\",\"type\":\"YearsTicker\"},{\"attributes\":{\"label\":{\"value\":\"AMZN\"},\"renderers\":[{\"id\":\"2772\"}]},\"id\":\"2795\",\"type\":\"LegendItem\"},{\"attributes\":{\"months\":[0,4,8]},\"id\":\"2788\",\"type\":\"MonthsTicker\"},{\"attributes\":{\"margin\":[5,5,5,5],\"name\":\"HSpacer03990\",\"sizing_mode\":\"stretch_width\"},\"id\":\"3184\",\"type\":\"Spacer\"},{\"attributes\":{\"data_source\":{\"id\":\"2827\"},\"glyph\":{\"id\":\"2830\"},\"hover_glyph\":null,\"muted_glyph\":{\"id\":\"2832\"},\"nonselection_glyph\":{\"id\":\"2831\"},\"selection_glyph\":null,\"view\":{\"id\":\"2834\"}},\"id\":\"2833\",\"type\":\"GlyphRenderer\"},{\"attributes\":{\"source\":{\"id\":\"2766\"}},\"id\":\"2773\",\"type\":\"CDSView\"},{\"attributes\":{\"data_source\":{\"id\":\"2766\"},\"glyph\":{\"id\":\"2769\"},\"hover_glyph\":null,\"muted_glyph\":{\"id\":\"2771\"},\"nonselection_glyph\":{\"id\":\"2770\"},\"selection_glyph\":null,\"view\":{\"id\":\"2773\"}},\"id\":\"2772\",\"type\":\"GlyphRenderer\"},{\"attributes\":{\"data\":{\"Variable\":[\"WMT\",\"WMT\",\"WMT\",\"WMT\",\"WMT\",\"WMT\",\"WMT\",\"WMT\",\"WMT\",\"WMT\",\"WMT\",\"WMT\",\"WMT\",\"WMT\",\"WMT\",\"WMT\",\"WMT\",\"WMT\",\"WMT\",\"WMT\",\"WMT\",\"WMT\",\"WMT\",\"WMT\",\"WMT\",\"WMT\",\"WMT\",\"WMT\",\"WMT\",\"WMT\",\"WMT\",\"WMT\",\"WMT\",\"WMT\",\"WMT\",\"WMT\",\"WMT\",\"WMT\",\"WMT\",\"WMT\",\"WMT\",\"WMT\",\"WMT\",\"WMT\",\"WMT\",\"WMT\",\"WMT\",\"WMT\",\"WMT\",\"WMT\",\"WMT\",\"WMT\",\"WMT\",\"WMT\",\"WMT\",\"WMT\",\"WMT\",\"WMT\",\"WMT\",\"WMT\",\"WMT\",\"WMT\",\"WMT\",\"WMT\",\"WMT\",\"WMT\",\"WMT\",\"WMT\",\"WMT\",\"WMT\",\"WMT\",\"WMT\",\"WMT\",\"WMT\",\"WMT\",\"WMT\",\"WMT\",\"WMT\",\"WMT\",\"WMT\",\"WMT\",\"WMT\",\"WMT\",\"WMT\",\"WMT\",\"WMT\",\"WMT\",\"WMT\",\"WMT\",\"WMT\",\"WMT\",\"WMT\",\"WMT\",\"WMT\",\"WMT\",\"WMT\",\"WMT\",\"WMT\",\"WMT\",\"WMT\"],\"index\":{\"__ndarray__\":\"AABAz8FEd0IAAAA1FEV3QgAAwJpmRXdCAADAMbBGd0IAAICXAkd3QgAAQP1UR3dCAAAAY6dHd0IAAECUnkh3QgAAAPrwSHdCAADAX0NJd0IAAIDFlUl3QgAAQCvoSXdCAACAXN9Kd0IAAEDCMUt3QgAAACiES3dCAADAjdZLd0IAAIDzKEx3QgAAwCQgTXdCAACAinJNd0IAAEDwxE13QgAAAFYXTndCAADAu2lOd0IAAADtYE93QgAAwFKzT3dCAACAuAVQd0IAAEAeWFB3QgAAAISqUHdCAABAtaFRd0IAAAAb9FF3QgAAwIBGUndCAACA5phSd0IAAEBM61J3QgAAgH3iU3dCAABA4zRUd0IAAABJh1R3QgAAwK7ZVHdCAACAFCxVd0IAAMBFI1Z3QgAAgKt1VndCAABAEchWd0IAAAB3Gld3QgAAwNxsV3dCAAAADmRYd0IAAMBztlh3QgAAgNkIWXdCAABAP1tZd0IAAAClrVl3QgAAQNakWndCAAAAPPdad0IAAMChSVt3QgAAgAecW3dCAABAbe5bd0IAAICe5Vx3QgAAQAQ4XXdCAAAAaopdd0IAAMDP3F13QgAAgDUvXndCAADAZiZfd0IAAIDMeF93QgAAQDLLX3dCAADA/W9gd0IAAAAvZ2F3QgAAwJS5YXdCAACA+gtid0IAAEBgXmJ3QgAAAMawYndCAABA96djd0IAAABd+mN3QgAAwMJMZHdCAACAKJ9kd0IAAECO8WR3QgAAgL/oZXdCAABAJTtmd0IAAACLjWZ3QgAAwPDfZndCAACAVjJnd0IAAMCHKWh3QgAAgO17aHdCAABAU85od0IAAAC5IGl3QgAAAFBqandCAADAtbxqd0IAAIAbD2t3QgAAQIFha3dCAABAGKtsd0IAAAB+/Wx3QgAAwONPbXdCAACASaJtd0IAAECv9G13QgAAgODrbndCAABARj5vd0IAAACskG93QgAAwBHjb3dCAACAdzVwd0IAAIAOf3F3QgAAQHTRcXdCAAAA2iNyd0IAAMA/dnJ3QgAAAHFtc3dCAADA1r9zd0I=\",\"dtype\":\"float64\",\"order\":\"little\",\"shape\":[100]},\"value\":{\"__ndarray__\":\"taZ5xyl0YkAK16NwPRJiQHsUrkfh2mFAZmZmZmZOYUCuR+F6FH5hQOF6FK5HGWFA9ihcj8IVYUBxPQrXoyhhQLgehetRKGFAcT0K16MIYUAfhetRuBZhQOF6FK5H6WBAw/UoXI8iYUAK16NwPUphQLgehetRAGFAZmZmZmYWYUBxPQrXoyhhQJqZmZmZKWFAXI/C9SgkYUCkcD0K13thQArXo3A94mFAuB6F61GQYUCamZmZmblhQHsUrkfhkmFAXI/C9SicYUDsUbgehathQJqZmZmZ2WFASOF6FK4HYkBI4XoUrkdiQGZmZmZm/mFAhetRuB4RYkCuR+F6FBZiQFK4HoXr4WFApHA9Ctf7YUA9CtejcA1iQJqZmZmZ8WFAexSuR+H6YUAAAAAAAMhhQFyPwvUo3GFApHA9CteDYUA9CtejcH1hQFK4HoXrWWFAhetRuB6NYUBI4XoUrtdhQAAAAAAAwGFAH4XrUbjuYUApXI/C9ThiQArXo3A98mFAw/UoXI8yYkAAAAAAAIBiQD0K16NwhWJA4XoUrkfRYkApXI/C9SBjQFyPwvUorGJAMzMzMzOjYkCkcD0K1wNjQArXo3A9ymJAzczMzMzcYkCkcD0K1+tiQHsUrkfh+mJA9ihcj8L1YkDNzMzMzBxjQFyPwvUoFGNAKVyPwvXQYkCamZmZmaliQD0K16NwnWJApHA9CteDYkBmZmZmZq5iQBSuR+F6hGJAKVyPwvVgYkCPwvUoXF9iQAmKH2PuMGJAexSuR+EyYkCuR+F6FC5iQArXo3A9QmJA7FG4HoUzYkAfhetRuD5iQGZmZmZmBmJASOF6FK7nYUAAAAAAAPBhQNejcD0KJ2JAUrgehesJYkBI4XoUrgdiQHsUrkfhAmJAuB6F61FQYkBI4XoUrjdiQPYoXI/CVWJAzczMzMxUYkBcj8L1KFRiQOF6FK5HaWJA16NwPQqfYkAfhetRuG5iQHe+nxovX2JAzczMzMwUYkAUrkfheuxhQB+F61G4LmJApHA9CtcbYkCamZmZmUliQEjhehSuR2JAcT0K16NwYkA=\",\"dtype\":\"float64\",\"order\":\"little\",\"shape\":[100]}},\"selected\":{\"id\":\"2828\"},\"selection_policy\":{\"id\":\"2858\"}},\"id\":\"2827\",\"type\":\"ColumnDataSource\"},{\"attributes\":{},\"id\":\"2861\",\"type\":\"Selection\"},{\"attributes\":{\"label\":{\"value\":\"WMT\"},\"renderers\":[{\"id\":\"2833\"}]},\"id\":\"2859\",\"type\":\"LegendItem\"},{\"attributes\":{\"line_alpha\":0.1,\"line_color\":\"#d62628\",\"line_width\":2,\"x\":{\"field\":\"index\"},\"y\":{\"field\":\"value\"}},\"id\":\"2864\",\"type\":\"Line\"},{\"attributes\":{\"line_alpha\":0.1,\"line_color\":\"#2ba02b\",\"line_width\":2,\"x\":{\"field\":\"index\"},\"y\":{\"field\":\"value\"}},\"id\":\"2831\",\"type\":\"Line\"},{\"attributes\":{},\"id\":\"2793\",\"type\":\"UnionRenderers\"},{\"attributes\":{\"bottom_units\":\"screen\",\"fill_alpha\":0.5,\"fill_color\":\"lightgrey\",\"left_units\":\"screen\",\"level\":\"overlay\",\"line_alpha\":1.0,\"line_color\":\"black\",\"line_dash\":[4,4],\"line_width\":2,\"right_units\":\"screen\",\"top_units\":\"screen\"},\"id\":\"2754\",\"type\":\"BoxAnnotation\"},{\"attributes\":{\"line_alpha\":0.2,\"line_color\":\"#2ba02b\",\"line_width\":2,\"x\":{\"field\":\"index\"},\"y\":{\"field\":\"value\"}},\"id\":\"2832\",\"type\":\"Line\"},{\"attributes\":{},\"id\":\"2828\",\"type\":\"Selection\"},{\"attributes\":{\"line_color\":\"#2ba02b\",\"line_width\":2,\"x\":{\"field\":\"index\"},\"y\":{\"field\":\"value\"}},\"id\":\"2830\",\"type\":\"Line\"},{\"attributes\":{\"source\":{\"id\":\"2827\"}},\"id\":\"2834\",\"type\":\"CDSView\"},{\"attributes\":{\"data\":{\"Variable\":[\"M\",\"M\",\"M\",\"M\",\"M\",\"M\",\"M\",\"M\",\"M\",\"M\",\"M\",\"M\",\"M\",\"M\",\"M\",\"M\",\"M\",\"M\",\"M\",\"M\",\"M\",\"M\",\"M\",\"M\",\"M\",\"M\",\"M\",\"M\",\"M\",\"M\",\"M\",\"M\",\"M\",\"M\",\"M\",\"M\",\"M\",\"M\",\"M\",\"M\",\"M\",\"M\",\"M\",\"M\",\"M\",\"M\",\"M\",\"M\",\"M\",\"M\",\"M\",\"M\",\"M\",\"M\",\"M\",\"M\",\"M\",\"M\",\"M\",\"M\",\"M\",\"M\",\"M\",\"M\",\"M\",\"M\",\"M\",\"M\",\"M\",\"M\",\"M\",\"M\",\"M\",\"M\",\"M\",\"M\",\"M\",\"M\",\"M\",\"M\",\"M\",\"M\",\"M\",\"M\",\"M\",\"M\",\"M\",\"M\",\"M\",\"M\",\"M\",\"M\",\"M\",\"M\",\"M\",\"M\",\"M\",\"M\",\"M\",\"M\"],\"index\":{\"__ndarray__\":\"AABAz8FEd0IAAAA1FEV3QgAAwJpmRXdCAADAMbBGd0IAAICXAkd3QgAAQP1UR3dCAAAAY6dHd0IAAECUnkh3QgAAAPrwSHdCAADAX0NJd0IAAIDFlUl3QgAAQCvoSXdCAACAXN9Kd0IAAEDCMUt3QgAAACiES3dCAADAjdZLd0IAAIDzKEx3QgAAwCQgTXdCAACAinJNd0IAAEDwxE13QgAAAFYXTndCAADAu2lOd0IAAADtYE93QgAAwFKzT3dCAACAuAVQd0IAAEAeWFB3QgAAAISqUHdCAABAtaFRd0IAAAAb9FF3QgAAwIBGUndCAACA5phSd0IAAEBM61J3QgAAgH3iU3dCAABA4zRUd0IAAABJh1R3QgAAwK7ZVHdCAACAFCxVd0IAAMBFI1Z3QgAAgKt1VndCAABAEchWd0IAAAB3Gld3QgAAwNxsV3dCAAAADmRYd0IAAMBztlh3QgAAgNkIWXdCAABAP1tZd0IAAAClrVl3QgAAQNakWndCAAAAPPdad0IAAMChSVt3QgAAgAecW3dCAABAbe5bd0IAAICe5Vx3QgAAQAQ4XXdCAAAAaopdd0IAAMDP3F13QgAAgDUvXndCAADAZiZfd0IAAIDMeF93QgAAQDLLX3dCAADA/W9gd0IAAAAvZ2F3QgAAwJS5YXdCAACA+gtid0IAAEBgXmJ3QgAAAMawYndCAABA96djd0IAAABd+mN3QgAAwMJMZHdCAACAKJ9kd0IAAECO8WR3QgAAgL/oZXdCAABAJTtmd0IAAACLjWZ3QgAAwPDfZndCAACAVjJnd0IAAMCHKWh3QgAAgO17aHdCAABAU85od0IAAAC5IGl3QgAAAFBqandCAADAtbxqd0IAAIAbD2t3QgAAQIFha3dCAABAGKtsd0IAAAB+/Wx3QgAAwONPbXdCAACASaJtd0IAAECv9G13QgAAgODrbndCAABARj5vd0IAAACskG93QgAAwBHjb3dCAACAdzVwd0IAAIAOf3F3QgAAQHTRcXdCAAAA2iNyd0IAAMA/dnJ3QgAAAHFtc3dCAADA1r9zd0I=\",\"dtype\":\"float64\",\"order\":\"little\",\"shape\":[100]},\"value\":{\"__ndarray__\":\"MzMzMzMzHEBmZmZmZmYeQArXo3A9ih5AexSuR+F6HkAzMzMzMzMeQKRwPQrXox1AMzMzMzMzHEDXo3A9CtccQHsUrkfhehtA9ihcj8L1G0B7FK5H4XobQBSuR+F6FBtAPQrXo3A9GUCamZmZmRkZQHE9CtejcBhApHA9CtcjGEAfhetRuB4YQNejcD0K1xdArkfhehSuFkDNzMzMzMwWQGZmZmZmZhdAhetRuB4FGEA9CtejcD0YQD0K16NwPRdA16NwPQrXF0ApXI/C9SgZQOxRuB6F6xhA16NwPQrXGECF61G4HoUYQIXrUbgehRhAmpmZmZkZGUCkcD0K16MYQGZmZmZmZhhAXI/C9ShcGUAfhetRuB4aQIXrUbgeBRxA4XoUrkfhHEAK16NwPQobQM3MzMzMzBlAcT0K16NwGEBSuB6F69EYQNejcD0K1xhAUrgehetRGEBSuB6F61EaQArXo3A9ChlAw/UoXI/CGUBI4XoUrkcaQM3MzMzMzB5AAAAAAAAAH0CkcD0K16MdQAAAAAAAABxArkfhehQuHUD2KFyPwvUeQJqZmZmZmSFAexSuR+H6IUBcj8L1KFwiQJqZmZmZGSJAUrgehevRJEC4HoXrUbglQAAAAAAAACZAMzMzMzOzJUBmZmZmZmYkQFK4HoXr0SRAZmZmZmbmJUD2KFyPwnUmQPYoXI/CdSdA16NwPQpXJ0CPwvUoXA8nQFK4HoXrUSdAZmZmZmZmJ0ApXI/C9SgmQK5H4XoUriRAexSuR+F6JUAK16NwPYokQNejcD0K1yRA4XoUrkfhJEDsUbgeheskQD0K16NwPSRAw/UoXI9CJkC4HoXrUXglQFK4HoXrUSdAAAAAAAAAJ0CPwvUoXA8oQAAAAAAAgCZA9ihcj8J1JkBI4XoUrscmQIXrUbgeBSlA7FG4HoVrKEAUrkfhepQoQKRwPQrXIylA9ihcj8L1KUDhehSuR2EqQLgehetRuCtAhetRuB4FKkAzMzMzMzMpQK5H4XoUrihApHA9CtejKEBI4XoUrscpQI/C9ShcjyxAMzMzMzOzL0A=\",\"dtype\":\"float64\",\"order\":\"little\",\"shape\":[100]}},\"selected\":{\"id\":\"2896\"},\"selection_policy\":{\"id\":\"2930\"}},\"id\":\"2895\",\"type\":\"ColumnDataSource\"},{\"attributes\":{\"end\":1611619200000.0,\"reset_end\":1611619200000.0,\"reset_start\":1599004800000.0,\"start\":1599004800000.0,\"tags\":[[[\"index\",\"index\",null]]]},\"id\":\"2725\",\"type\":\"Range1d\"}],\"root_ids\":[\"2723\"]},\"title\":\"Bokeh Application\",\"version\":\"2.2.3\"}};\n",
       "    var render_items = [{\"docid\":\"20b4b849-c065-4659-9c9f-462bdffd41e6\",\"root_ids\":[\"2723\"],\"roots\":{\"2723\":\"d394ffc2-91b6-4cde-87d6-7d2efaffc38b\"}}];\n",
       "    root.Bokeh.embed.embed_items_notebook(docs_json, render_items);\n",
       "  }\n",
       "  if (root.Bokeh !== undefined && root.Bokeh.Panel !== undefined) {\n",
       "    embed_document(root);\n",
       "  } else {\n",
       "    var attempts = 0;\n",
       "    var timer = setInterval(function(root) {\n",
       "      if (root.Bokeh !== undefined && root.Bokeh.Panel !== undefined) {\n",
       "        clearInterval(timer);\n",
       "        embed_document(root);\n",
       "      } else if (document.readyState == \"complete\") {\n",
       "        attempts++;\n",
       "        if (attempts > 100) {\n",
       "          clearInterval(timer);\n",
       "          console.log(\"Bokeh: ERROR: Unable to run BokehJS code because BokehJS library is missing\");\n",
       "        }\n",
       "      }\n",
       "    }, 10, root)\n",
       "  }\n",
       "})(window);</script>"
      ],
      "text/plain": [
       ":NdOverlay   [Variable]\n",
       "   :Curve   [index]   (value)"
      ]
     },
     "execution_count": 87,
     "metadata": {
      "application/vnd.holoviews_exec.v0+json": {
       "id": "2723"
      }
     },
     "output_type": "execute_result"
    }
   ],
   "source": [
    "# this shows how much of an outlier amazon is \n",
    "close_prices.hvplot()"
   ]
  },
  {
   "cell_type": "code",
   "execution_count": 88,
   "metadata": {},
   "outputs": [
    {
     "data": {
      "text/html": [
       "<div>\n",
       "<style scoped>\n",
       "    .dataframe tbody tr th:only-of-type {\n",
       "        vertical-align: middle;\n",
       "    }\n",
       "\n",
       "    .dataframe tbody tr th {\n",
       "        vertical-align: top;\n",
       "    }\n",
       "\n",
       "    .dataframe thead th {\n",
       "        text-align: right;\n",
       "    }\n",
       "</style>\n",
       "<table border=\"1\" class=\"dataframe\">\n",
       "  <thead>\n",
       "    <tr style=\"text-align: right;\">\n",
       "      <th></th>\n",
       "      <th>AMZN</th>\n",
       "      <th>CPPRQ</th>\n",
       "      <th>PRTY</th>\n",
       "      <th>WMT</th>\n",
       "      <th>ETSY</th>\n",
       "      <th>M</th>\n",
       "    </tr>\n",
       "  </thead>\n",
       "  <tbody>\n",
       "    <tr>\n",
       "      <th>2020-09-02</th>\n",
       "      <td>1.000000</td>\n",
       "      <td>NaN</td>\n",
       "      <td>0.157233</td>\n",
       "      <td>0.695609</td>\n",
       "      <td>0.138859</td>\n",
       "      <td>0.135560</td>\n",
       "    </tr>\n",
       "    <tr>\n",
       "      <th>2020-09-03</th>\n",
       "      <td>0.722265</td>\n",
       "      <td>NaN</td>\n",
       "      <td>0.119497</td>\n",
       "      <td>0.523112</td>\n",
       "      <td>0.065832</td>\n",
       "      <td>0.189587</td>\n",
       "    </tr>\n",
       "    <tr>\n",
       "      <th>2020-09-04</th>\n",
       "      <td>0.592995</td>\n",
       "      <td>NaN</td>\n",
       "      <td>0.128145</td>\n",
       "      <td>0.425592</td>\n",
       "      <td>0.028962</td>\n",
       "      <td>0.193026</td>\n",
       "    </tr>\n",
       "    <tr>\n",
       "      <th>2020-09-08</th>\n",
       "      <td>0.341946</td>\n",
       "      <td>NaN</td>\n",
       "      <td>0.106918</td>\n",
       "      <td>0.178129</td>\n",
       "      <td>0.016080</td>\n",
       "      <td>0.191552</td>\n",
       "    </tr>\n",
       "    <tr>\n",
       "      <th>2020-09-09</th>\n",
       "      <td>0.547304</td>\n",
       "      <td>NaN</td>\n",
       "      <td>0.141509</td>\n",
       "      <td>0.262120</td>\n",
       "      <td>0.035092</td>\n",
       "      <td>0.184676</td>\n",
       "    </tr>\n",
       "    <tr>\n",
       "      <th>...</th>\n",
       "      <td>...</td>\n",
       "      <td>...</td>\n",
       "      <td>...</td>\n",
       "      <td>...</td>\n",
       "      <td>...</td>\n",
       "      <td>...</td>\n",
       "    </tr>\n",
       "    <tr>\n",
       "      <th>2021-01-20</th>\n",
       "      <td>0.541165</td>\n",
       "      <td>NaN</td>\n",
       "      <td>0.826258</td>\n",
       "      <td>0.573281</td>\n",
       "      <td>0.951048</td>\n",
       "      <td>0.655206</td>\n",
       "    </tr>\n",
       "    <tr>\n",
       "      <th>2021-01-21</th>\n",
       "      <td>0.614826</td>\n",
       "      <td>NaN</td>\n",
       "      <td>0.836478</td>\n",
       "      <td>0.540023</td>\n",
       "      <td>0.922086</td>\n",
       "      <td>0.653242</td>\n",
       "    </tr>\n",
       "    <tr>\n",
       "      <th>2021-01-22</th>\n",
       "      <td>0.584984</td>\n",
       "      <td>NaN</td>\n",
       "      <td>0.892296</td>\n",
       "      <td>0.620631</td>\n",
       "      <td>0.931414</td>\n",
       "      <td>0.709234</td>\n",
       "    </tr>\n",
       "    <tr>\n",
       "      <th>2021-01-25</th>\n",
       "      <td>0.590359</td>\n",
       "      <td>NaN</td>\n",
       "      <td>0.886792</td>\n",
       "      <td>0.617249</td>\n",
       "      <td>0.890103</td>\n",
       "      <td>0.845776</td>\n",
       "    </tr>\n",
       "    <tr>\n",
       "      <th>2021-01-26</th>\n",
       "      <td>0.647616</td>\n",
       "      <td>NaN</td>\n",
       "      <td>0.863208</td>\n",
       "      <td>0.689402</td>\n",
       "      <td>0.849947</td>\n",
       "      <td>1.000000</td>\n",
       "    </tr>\n",
       "  </tbody>\n",
       "</table>\n",
       "<p>100 rows × 6 columns</p>\n",
       "</div>"
      ],
      "text/plain": [
       "                AMZN CPPRQ      PRTY       WMT      ETSY         M\n",
       "2020-09-02  1.000000   NaN  0.157233  0.695609  0.138859  0.135560\n",
       "2020-09-03  0.722265   NaN  0.119497  0.523112  0.065832  0.189587\n",
       "2020-09-04  0.592995   NaN  0.128145  0.425592  0.028962  0.193026\n",
       "2020-09-08  0.341946   NaN  0.106918  0.178129  0.016080  0.191552\n",
       "2020-09-09  0.547304   NaN  0.141509  0.262120  0.035092  0.184676\n",
       "...              ...   ...       ...       ...       ...       ...\n",
       "2021-01-20  0.541165   NaN  0.826258  0.573281  0.951048  0.655206\n",
       "2021-01-21  0.614826   NaN  0.836478  0.540023  0.922086  0.653242\n",
       "2021-01-22  0.584984   NaN  0.892296  0.620631  0.931414  0.709234\n",
       "2021-01-25  0.590359   NaN  0.886792  0.617249  0.890103  0.845776\n",
       "2021-01-26  0.647616   NaN  0.863208  0.689402  0.849947  1.000000\n",
       "\n",
       "[100 rows x 6 columns]"
      ]
     },
     "execution_count": 88,
     "metadata": {},
     "output_type": "execute_result"
    }
   ],
   "source": [
    "# attemping to normalize this data \n",
    "normalized_close=(close_prices-close_prices.min())/(close_prices.max()-close_prices.min())\n",
    "normalized_close"
   ]
  },
  {
   "cell_type": "code",
   "execution_count": 89,
   "metadata": {},
   "outputs": [
    {
     "data": {},
     "metadata": {},
     "output_type": "display_data"
    },
    {
     "data": {
      "application/vnd.holoviews_exec.v0+json": "",
      "text/html": [
       "<div id='3326'>\n",
       "\n",
       "\n",
       "\n",
       "\n",
       "\n",
       "  <div class=\"bk-root\" id=\"1331ddfe-88f1-4001-8d34-ce1996347c0c\" data-root-id=\"3326\"></div>\n",
       "</div>\n",
       "<script type=\"application/javascript\">(function(root) {\n",
       "  function embed_document(root) {\n",
       "    var docs_json = {\"74437976-abaa-4301-9da4-c22d04904b5b\":{\"roots\":{\"references\":[{\"attributes\":{\"data_source\":{\"id\":\"3430\"},\"glyph\":{\"id\":\"3433\"},\"hover_glyph\":null,\"muted_glyph\":{\"id\":\"3435\"},\"nonselection_glyph\":{\"id\":\"3434\"},\"selection_glyph\":null,\"view\":{\"id\":\"3437\"}},\"id\":\"3436\",\"type\":\"GlyphRenderer\"},{\"attributes\":{},\"id\":\"3400\",\"type\":\"Selection\"},{\"attributes\":{\"click_policy\":\"mute\",\"items\":[{\"id\":\"3398\"},{\"id\":\"3429\"},{\"id\":\"3462\"},{\"id\":\"3497\"},{\"id\":\"3534\"}],\"location\":[0,0],\"title\":\"Variable\"},\"id\":\"3397\",\"type\":\"Legend\"},{\"attributes\":{\"data\":{\"Variable\":[\"AMZN\",\"AMZN\",\"AMZN\",\"AMZN\",\"AMZN\",\"AMZN\",\"AMZN\",\"AMZN\",\"AMZN\",\"AMZN\",\"AMZN\",\"AMZN\",\"AMZN\",\"AMZN\",\"AMZN\",\"AMZN\",\"AMZN\",\"AMZN\",\"AMZN\",\"AMZN\",\"AMZN\",\"AMZN\",\"AMZN\",\"AMZN\",\"AMZN\",\"AMZN\",\"AMZN\",\"AMZN\",\"AMZN\",\"AMZN\",\"AMZN\",\"AMZN\",\"AMZN\",\"AMZN\",\"AMZN\",\"AMZN\",\"AMZN\",\"AMZN\",\"AMZN\",\"AMZN\",\"AMZN\",\"AMZN\",\"AMZN\",\"AMZN\",\"AMZN\",\"AMZN\",\"AMZN\",\"AMZN\",\"AMZN\",\"AMZN\",\"AMZN\",\"AMZN\",\"AMZN\",\"AMZN\",\"AMZN\",\"AMZN\",\"AMZN\",\"AMZN\",\"AMZN\",\"AMZN\",\"AMZN\",\"AMZN\",\"AMZN\",\"AMZN\",\"AMZN\",\"AMZN\",\"AMZN\",\"AMZN\",\"AMZN\",\"AMZN\",\"AMZN\",\"AMZN\",\"AMZN\",\"AMZN\",\"AMZN\",\"AMZN\",\"AMZN\",\"AMZN\",\"AMZN\",\"AMZN\",\"AMZN\",\"AMZN\",\"AMZN\",\"AMZN\",\"AMZN\",\"AMZN\",\"AMZN\",\"AMZN\",\"AMZN\",\"AMZN\",\"AMZN\",\"AMZN\",\"AMZN\",\"AMZN\",\"AMZN\",\"AMZN\",\"AMZN\",\"AMZN\",\"AMZN\",\"AMZN\"],\"index\":{\"__ndarray__\":\"AABAz8FEd0IAAAA1FEV3QgAAwJpmRXdCAADAMbBGd0IAAICXAkd3QgAAQP1UR3dCAAAAY6dHd0IAAECUnkh3QgAAAPrwSHdCAADAX0NJd0IAAIDFlUl3QgAAQCvoSXdCAACAXN9Kd0IAAEDCMUt3QgAAACiES3dCAADAjdZLd0IAAIDzKEx3QgAAwCQgTXdCAACAinJNd0IAAEDwxE13QgAAAFYXTndCAADAu2lOd0IAAADtYE93QgAAwFKzT3dCAACAuAVQd0IAAEAeWFB3QgAAAISqUHdCAABAtaFRd0IAAAAb9FF3QgAAwIBGUndCAACA5phSd0IAAEBM61J3QgAAgH3iU3dCAABA4zRUd0IAAABJh1R3QgAAwK7ZVHdCAACAFCxVd0IAAMBFI1Z3QgAAgKt1VndCAABAEchWd0IAAAB3Gld3QgAAwNxsV3dCAAAADmRYd0IAAMBztlh3QgAAgNkIWXdCAABAP1tZd0IAAAClrVl3QgAAQNakWndCAAAAPPdad0IAAMChSVt3QgAAgAecW3dCAABAbe5bd0IAAICe5Vx3QgAAQAQ4XXdCAAAAaopdd0IAAMDP3F13QgAAgDUvXndCAADAZiZfd0IAAIDMeF93QgAAQDLLX3dCAADA/W9gd0IAAAAvZ2F3QgAAwJS5YXdCAACA+gtid0IAAEBgXmJ3QgAAAMawYndCAABA96djd0IAAABd+mN3QgAAwMJMZHdCAACAKJ9kd0IAAECO8WR3QgAAgL/oZXdCAABAJTtmd0IAAACLjWZ3QgAAwPDfZndCAACAVjJnd0IAAMCHKWh3QgAAgO17aHdCAABAU85od0IAAAC5IGl3QgAAAFBqandCAADAtbxqd0IAAIAbD2t3QgAAQIFha3dCAABAGKtsd0IAAAB+/Wx3QgAAwONPbXdCAACASaJtd0IAAECv9G13QgAAgODrbndCAABARj5vd0IAAACskG93QgAAwBHjb3dCAACAdzVwd0IAAIAOf3F3QgAAQHTRcXdCAAAA2iNyd0IAAMA/dnJ3QgAAAHFtc3dCAADA1r9zd0I=\",\"dtype\":\"float64\",\"order\":\"little\",\"shape\":[100]},\"value\":{\"__ndarray__\":\"AAAAAAAA8D9bXlSryhznP47r6dzP+eI/gZgDmW/i1T/JVcvjgoPhP7QEL3AMzdg/87INs2hF0j9kEb3w3K7QP2GbIoIqRNY/85xQ2BGiyz/42ASKAra5PwAAAAAAAAAAqrJ1XauekD/Qrc2LX5LTP1gkebEO47M/y+c3bWZFvT8ID20s/ITPP5Sh+Kldrtg/3gDg29Yd1T8rUB9z053VP2oVfZ3H5N0/cTB6nyc70z9s2Zzfv1zbPy+jPIZQRtA/u0gh6a+e2j/uWzDzAGfaP5l6sN43meI/b9Ajqow06z+Sn6MWbjDrP31FunnbxeY/Jl0hhtRq5T+DWcqoFAPXP/bANK7eQtw/LmkUN2xB3T/ZluAFjqHZP1RB4cxp8dg//FqSqUz32z/oiacjcEPcP/VwT4SjmuI/YBMdR9JJ1z/cOMkd197cP8KJg2Djh8I/kVnKqBQDtz//50Wq58bEPwTWJzNqAuA/tzdUZr5+5D9YR6m3G9rjPxL+c53z8NQ/vPfqyuhRwj+SM2UzQXDUP7PTU0pEfNE/0XJqzvoi1D+xRsGSugPUPx0RHVKVT9Q/QKr9TGDr0D8HDzZd3/PRPyfNFFPmQ9A/TpGwcJlf0D8PN6MQejnSP6R4OgI3xNk/jUtA0moA2z+4gVBcNufXPwFWuNfyrd0/3WwevwPe2z9oLlEYTzHaP7hSiDc7Ztc/RxO38SLg1j9Sbddd0tvYP7V8a8fWgNA/I0C5anlc0D+4jQw+sSzSPwhuXKf/rNY/3n7kHVO61z+V0tPPJf/fP8l9IhESj98/AD4JReCR2z8OhzvljBbcPwIkuMm1LNw/DW+MUnr62T/eWfyoIkDYPze76xhjYuI/LmeeWmts5D/yUVsGPH3iPwaZWVwK2+A/RkvBfDT42T+1twVUWIHdP2tMTLpYktQ/QLDmgCMr1z86RLNg/IfZP32mQBrxGdI/Yv3CR6+r0j/rQK/MW7TXP/s8+uJ2m9M/v69vdHfb0D8Ns3MIGK/SP/3dnMk5UeE/mnvKA6es4z8xQqBfL7jiP5MX4G045OI/PhGDp0S55D8=\",\"dtype\":\"float64\",\"order\":\"little\",\"shape\":[100]}},\"selected\":{\"id\":\"3370\"},\"selection_policy\":{\"id\":\"3396\"}},\"id\":\"3369\",\"type\":\"ColumnDataSource\"},{\"attributes\":{\"overlay\":{\"id\":\"3357\"}},\"id\":\"3355\",\"type\":\"BoxZoomTool\"},{\"attributes\":{\"end\":1611619200000.0,\"reset_end\":1611619200000.0,\"reset_start\":1599004800000.0,\"start\":1599004800000.0,\"tags\":[[[\"index\",\"index\",null]]]},\"id\":\"3328\",\"type\":\"Range1d\"},{\"attributes\":{\"num_minor_ticks\":5,\"tickers\":[{\"id\":\"3382\"},{\"id\":\"3383\"},{\"id\":\"3384\"},{\"id\":\"3385\"},{\"id\":\"3386\"},{\"id\":\"3387\"},{\"id\":\"3388\"},{\"id\":\"3389\"},{\"id\":\"3390\"},{\"id\":\"3391\"},{\"id\":\"3392\"},{\"id\":\"3393\"}]},\"id\":\"3345\",\"type\":\"DatetimeTicker\"},{\"attributes\":{},\"id\":\"3428\",\"type\":\"UnionRenderers\"},{\"attributes\":{},\"id\":\"3356\",\"type\":\"ResetTool\"},{\"attributes\":{\"active_drag\":\"auto\",\"active_inspect\":\"auto\",\"active_multi\":null,\"active_scroll\":\"auto\",\"active_tap\":\"auto\",\"tools\":[{\"id\":\"3330\"},{\"id\":\"3352\"},{\"id\":\"3353\"},{\"id\":\"3354\"},{\"id\":\"3355\"},{\"id\":\"3356\"}]},\"id\":\"3358\",\"type\":\"Toolbar\"},{\"attributes\":{\"line_color\":\"#1f77b3\",\"line_width\":2,\"x\":{\"field\":\"index\"},\"y\":{\"field\":\"value\"}},\"id\":\"3372\",\"type\":\"Line\"},{\"attributes\":{\"text\":\"Normalized Stock Prices\",\"text_color\":{\"value\":\"black\"},\"text_font_size\":{\"value\":\"12pt\"}},\"id\":\"3336\",\"type\":\"Title\"},{\"attributes\":{\"below\":[{\"id\":\"3344\"}],\"center\":[{\"id\":\"3347\"},{\"id\":\"3351\"}],\"left\":[{\"id\":\"3348\"}],\"margin\":[5,5,5,5],\"min_border_bottom\":10,\"min_border_left\":10,\"min_border_right\":10,\"min_border_top\":10,\"plot_height\":300,\"plot_width\":700,\"renderers\":[{\"id\":\"3375\"},{\"id\":\"3405\"},{\"id\":\"3436\"},{\"id\":\"3469\"},{\"id\":\"3504\"}],\"right\":[{\"id\":\"3397\"}],\"sizing_mode\":\"fixed\",\"title\":{\"id\":\"3336\"},\"toolbar\":{\"id\":\"3358\"},\"x_range\":{\"id\":\"3328\"},\"x_scale\":{\"id\":\"3340\"},\"y_range\":{\"id\":\"3329\"},\"y_scale\":{\"id\":\"3342\"}},\"id\":\"3335\",\"subtype\":\"Figure\",\"type\":\"Plot\"},{\"attributes\":{\"line_alpha\":0.1,\"line_color\":\"#1f77b3\",\"line_width\":2,\"x\":{\"field\":\"index\"},\"y\":{\"field\":\"value\"}},\"id\":\"3373\",\"type\":\"Line\"},{\"attributes\":{},\"id\":\"3340\",\"type\":\"LinearScale\"},{\"attributes\":{\"source\":{\"id\":\"3369\"}},\"id\":\"3376\",\"type\":\"CDSView\"},{\"attributes\":{},\"id\":\"3370\",\"type\":\"Selection\"},{\"attributes\":{\"label\":{\"value\":\"M\"},\"renderers\":[{\"id\":\"3504\"}]},\"id\":\"3534\",\"type\":\"LegendItem\"},{\"attributes\":{\"days\":[1,8,15,22]},\"id\":\"3387\",\"type\":\"DaysTicker\"},{\"attributes\":{\"axis_label\":\"\",\"bounds\":\"auto\",\"formatter\":{\"id\":\"3365\"},\"major_label_orientation\":\"horizontal\",\"ticker\":{\"id\":\"3345\"}},\"id\":\"3344\",\"type\":\"DatetimeAxis\"},{\"attributes\":{\"line_alpha\":0.1,\"line_color\":\"#9367bc\",\"line_width\":2,\"x\":{\"field\":\"index\"},\"y\":{\"field\":\"value\"}},\"id\":\"3502\",\"type\":\"Line\"},{\"attributes\":{\"axis\":{\"id\":\"3344\"},\"grid_line_color\":null,\"ticker\":null},\"id\":\"3347\",\"type\":\"Grid\"},{\"attributes\":{\"data\":{\"Variable\":[\"WMT\",\"WMT\",\"WMT\",\"WMT\",\"WMT\",\"WMT\",\"WMT\",\"WMT\",\"WMT\",\"WMT\",\"WMT\",\"WMT\",\"WMT\",\"WMT\",\"WMT\",\"WMT\",\"WMT\",\"WMT\",\"WMT\",\"WMT\",\"WMT\",\"WMT\",\"WMT\",\"WMT\",\"WMT\",\"WMT\",\"WMT\",\"WMT\",\"WMT\",\"WMT\",\"WMT\",\"WMT\",\"WMT\",\"WMT\",\"WMT\",\"WMT\",\"WMT\",\"WMT\",\"WMT\",\"WMT\",\"WMT\",\"WMT\",\"WMT\",\"WMT\",\"WMT\",\"WMT\",\"WMT\",\"WMT\",\"WMT\",\"WMT\",\"WMT\",\"WMT\",\"WMT\",\"WMT\",\"WMT\",\"WMT\",\"WMT\",\"WMT\",\"WMT\",\"WMT\",\"WMT\",\"WMT\",\"WMT\",\"WMT\",\"WMT\",\"WMT\",\"WMT\",\"WMT\",\"WMT\",\"WMT\",\"WMT\",\"WMT\",\"WMT\",\"WMT\",\"WMT\",\"WMT\",\"WMT\",\"WMT\",\"WMT\",\"WMT\",\"WMT\",\"WMT\",\"WMT\",\"WMT\",\"WMT\",\"WMT\",\"WMT\",\"WMT\",\"WMT\",\"WMT\",\"WMT\",\"WMT\",\"WMT\",\"WMT\",\"WMT\",\"WMT\",\"WMT\",\"WMT\",\"WMT\",\"WMT\"],\"index\":{\"__ndarray__\":\"AABAz8FEd0IAAAA1FEV3QgAAwJpmRXdCAADAMbBGd0IAAICXAkd3QgAAQP1UR3dCAAAAY6dHd0IAAECUnkh3QgAAAPrwSHdCAADAX0NJd0IAAIDFlUl3QgAAQCvoSXdCAACAXN9Kd0IAAEDCMUt3QgAAACiES3dCAADAjdZLd0IAAIDzKEx3QgAAwCQgTXdCAACAinJNd0IAAEDwxE13QgAAAFYXTndCAADAu2lOd0IAAADtYE93QgAAwFKzT3dCAACAuAVQd0IAAEAeWFB3QgAAAISqUHdCAABAtaFRd0IAAAAb9FF3QgAAwIBGUndCAACA5phSd0IAAEBM61J3QgAAgH3iU3dCAABA4zRUd0IAAABJh1R3QgAAwK7ZVHdCAACAFCxVd0IAAMBFI1Z3QgAAgKt1VndCAABAEchWd0IAAAB3Gld3QgAAwNxsV3dCAAAADmRYd0IAAMBztlh3QgAAgNkIWXdCAABAP1tZd0IAAAClrVl3QgAAQNakWndCAAAAPPdad0IAAMChSVt3QgAAgAecW3dCAABAbe5bd0IAAICe5Vx3QgAAQAQ4XXdCAAAAaopdd0IAAMDP3F13QgAAgDUvXndCAADAZiZfd0IAAIDMeF93QgAAQDLLX3dCAADA/W9gd0IAAAAvZ2F3QgAAwJS5YXdCAACA+gtid0IAAEBgXmJ3QgAAAMawYndCAABA96djd0IAAABd+mN3QgAAwMJMZHdCAACAKJ9kd0IAAECO8WR3QgAAgL/oZXdCAABAJTtmd0IAAACLjWZ3QgAAwPDfZndCAACAVjJnd0IAAMCHKWh3QgAAgO17aHdCAABAU85od0IAAAC5IGl3QgAAAFBqandCAADAtbxqd0IAAIAbD2t3QgAAQIFha3dCAABAGKtsd0IAAAB+/Wx3QgAAwONPbXdCAACASaJtd0IAAECv9G13QgAAgODrbndCAABARj5vd0IAAACskG93QgAAwBHjb3dCAACAdzVwd0IAAIAOf3F3QgAAQHTRcXdCAAAA2iNyd0IAAMA/dnJ3QgAAAHFtc3dCAADA1r9zd0I=\",\"dtype\":\"float64\",\"order\":\"little\",\"shape\":[100]},\"value\":{\"__ndarray__\":\"WDR2X21C5j+3gE6QVL3gP6fodrzlPNs/QeSfWurMxj8v2EXikMbQP+P1tBtgpbU/VO4xBQIPtD+KjDaVnZK8P28uWU2sbbw/O9F7BbtIrD+/B8rc1X20PwAAAAAAAAAAZJbIP7XUuT+YAoEHytzFPw7DhGy4x6Q/pKnslORYtD+KjDaVnZK8P/SlzmxxAb0/HWsbp2uNuj8QdIKk6oXQP/XDrxlREdw/zFBYIv/U0j/nYftvZHzXP3IME7LhHtM/dfQX+7Yq1D8fWnhZBubVP+KKmXT0F9s/013dR/Ek4D/OhntMgcDjP4bTtUYNPt8/r6fdACut4D9sjRp8vvTgP4tsuMcUCNw//Rf7tir03j/UcI8pEHjgP58pEHigzN0/ohEVwXXY3j8awXXY/hvZP2tGVATXYds/T/6ppc5s0T8/KVc+GLTQP798MGjhZck/Uuau7qN40j8tfs2IiuDaP9s2TtcaNdg/jxZeloF53T9yq0LvFeziP3PY/hsZ390/+ECZu7qP4j9floF5Pe3mP6v9NzK+O+c/e/g1IyqC6z8AAAAAAADwP2YoLJF/auk/GWClFTPp6D8K9Ylux1vuP4k2lZ2SHOs/mx6a5mco7D+spc5scQHtP74sA/N62u0/JnFIY5iQ7T+WRzjr98PvP/4qrZhJR+8/xkw6+ot96z+hyk5JjkXpPwlN8zMUlug/FKNNZack5z922g2w0orpP376RLfjLec/D4Ul8k8t5T9pKjslORblPyX4tok5eOI/reyU5FiU4j/K3NV9FE/iP3MfxZMAcuM/JUSMNpWd4j+BvvTQND/jP+Ku7qN4EuA/q5Ici1Ku3D9TdDvecp7dP9gaNfh86eE/4w+/ZkRF4D/TXd1H8STgP+GbPMJZv98/V6MGny895D+P/FNLndniP7IKvVewi+Q/hQfK3NV95D8NsNKKmXTkP+P1tBtgpeU/r6fdACut6D8+XWvU4PPlP5glF/WuE+U/it4r2EXi4D9TsppY2zjdP0M0zc9QWOI/fKDMXd1H4T8pjWFCNtzjP86Ge0yBwOM/mGNRypUP5j8=\",\"dtype\":\"float64\",\"order\":\"little\",\"shape\":[100]}},\"selected\":{\"id\":\"3431\"},\"selection_policy\":{\"id\":\"3461\"}},\"id\":\"3430\",\"type\":\"ColumnDataSource\"},{\"attributes\":{\"line_alpha\":0.2,\"line_color\":\"#1f77b3\",\"line_width\":2,\"x\":{\"field\":\"index\"},\"y\":{\"field\":\"value\"}},\"id\":\"3374\",\"type\":\"Line\"},{\"attributes\":{\"label\":{\"value\":\"WMT\"},\"renderers\":[{\"id\":\"3436\"}]},\"id\":\"3462\",\"type\":\"LegendItem\"},{\"attributes\":{\"label\":{\"value\":\"AMZN\"},\"renderers\":[{\"id\":\"3375\"}]},\"id\":\"3398\",\"type\":\"LegendItem\"},{\"attributes\":{\"data_source\":{\"id\":\"3369\"},\"glyph\":{\"id\":\"3372\"},\"hover_glyph\":null,\"muted_glyph\":{\"id\":\"3374\"},\"nonselection_glyph\":{\"id\":\"3373\"},\"selection_glyph\":null,\"view\":{\"id\":\"3376\"}},\"id\":\"3375\",\"type\":\"GlyphRenderer\"},{\"attributes\":{\"label\":{\"value\":\"ETSY\"},\"renderers\":[{\"id\":\"3469\"}]},\"id\":\"3497\",\"type\":\"LegendItem\"},{\"attributes\":{\"bottom_units\":\"screen\",\"fill_alpha\":0.5,\"fill_color\":\"lightgrey\",\"left_units\":\"screen\",\"level\":\"overlay\",\"line_alpha\":1.0,\"line_color\":\"black\",\"line_dash\":[4,4],\"line_width\":2,\"right_units\":\"screen\",\"top_units\":\"screen\"},\"id\":\"3357\",\"type\":\"BoxAnnotation\"},{\"attributes\":{\"months\":[0,4,8]},\"id\":\"3391\",\"type\":\"MonthsTicker\"},{\"attributes\":{\"line_alpha\":0.2,\"line_color\":\"#2ba02b\",\"line_width\":2,\"x\":{\"field\":\"index\"},\"y\":{\"field\":\"value\"}},\"id\":\"3435\",\"type\":\"Line\"},{\"attributes\":{\"data\":{\"Variable\":[\"M\",\"M\",\"M\",\"M\",\"M\",\"M\",\"M\",\"M\",\"M\",\"M\",\"M\",\"M\",\"M\",\"M\",\"M\",\"M\",\"M\",\"M\",\"M\",\"M\",\"M\",\"M\",\"M\",\"M\",\"M\",\"M\",\"M\",\"M\",\"M\",\"M\",\"M\",\"M\",\"M\",\"M\",\"M\",\"M\",\"M\",\"M\",\"M\",\"M\",\"M\",\"M\",\"M\",\"M\",\"M\",\"M\",\"M\",\"M\",\"M\",\"M\",\"M\",\"M\",\"M\",\"M\",\"M\",\"M\",\"M\",\"M\",\"M\",\"M\",\"M\",\"M\",\"M\",\"M\",\"M\",\"M\",\"M\",\"M\",\"M\",\"M\",\"M\",\"M\",\"M\",\"M\",\"M\",\"M\",\"M\",\"M\",\"M\",\"M\",\"M\",\"M\",\"M\",\"M\",\"M\",\"M\",\"M\",\"M\",\"M\",\"M\",\"M\",\"M\",\"M\",\"M\",\"M\",\"M\",\"M\",\"M\",\"M\",\"M\"],\"index\":{\"__ndarray__\":\"AABAz8FEd0IAAAA1FEV3QgAAwJpmRXdCAADAMbBGd0IAAICXAkd3QgAAQP1UR3dCAAAAY6dHd0IAAECUnkh3QgAAAPrwSHdCAADAX0NJd0IAAIDFlUl3QgAAQCvoSXdCAACAXN9Kd0IAAEDCMUt3QgAAACiES3dCAADAjdZLd0IAAIDzKEx3QgAAwCQgTXdCAACAinJNd0IAAEDwxE13QgAAAFYXTndCAADAu2lOd0IAAADtYE93QgAAwFKzT3dCAACAuAVQd0IAAEAeWFB3QgAAAISqUHdCAABAtaFRd0IAAAAb9FF3QgAAwIBGUndCAACA5phSd0IAAEBM61J3QgAAgH3iU3dCAABA4zRUd0IAAABJh1R3QgAAwK7ZVHdCAACAFCxVd0IAAMBFI1Z3QgAAgKt1VndCAABAEchWd0IAAAB3Gld3QgAAwNxsV3dCAAAADmRYd0IAAMBztlh3QgAAgNkIWXdCAABAP1tZd0IAAAClrVl3QgAAQNakWndCAAAAPPdad0IAAMChSVt3QgAAgAecW3dCAABAbe5bd0IAAICe5Vx3QgAAQAQ4XXdCAAAAaopdd0IAAMDP3F13QgAAgDUvXndCAADAZiZfd0IAAIDMeF93QgAAQDLLX3dCAADA/W9gd0IAAAAvZ2F3QgAAwJS5YXdCAACA+gtid0IAAEBgXmJ3QgAAAMawYndCAABA96djd0IAAABd+mN3QgAAwMJMZHdCAACAKJ9kd0IAAECO8WR3QgAAgL/oZXdCAABAJTtmd0IAAACLjWZ3QgAAwPDfZndCAACAVjJnd0IAAMCHKWh3QgAAgO17aHdCAABAU85od0IAAAC5IGl3QgAAAFBqandCAADAtbxqd0IAAIAbD2t3QgAAQIFha3dCAABAGKtsd0IAAAB+/Wx3QgAAwONPbXdCAACASaJtd0IAAECv9G13QgAAgODrbndCAABARj5vd0IAAACskG93QgAAwBHjb3dCAACAdzVwd0IAAIAOf3F3QgAAQHTRcXdCAAAA2iNyd0IAAMA/dnJ3QgAAAHFtc3dCAADA1r9zd0I=\",\"dtype\":\"float64\",\"order\":\"little\",\"shape\":[100]},\"value\":{\"__ndarray__\":\"w9ePCgdawT9H2uaZZkTIP58UY5cPtcg/MSDAKseEyD+Bq8cvdaPHPyTC1jnR4MU/w9ePCgdawT8LB1qRC13DPynF2OVDLb4/CgYEWOWYwD8pxdjlQy2+Pw0KXD1+qbs/NXpRNiQYsD8XC7J2pG2uPxIIsMoxIaY/au/0TYlboj+DqRu9KBuiP4atc6LBK50/AAAAAAAAAACMN3pRNiRoP3apG70oG5I/8kvd6EXZoD/vTDMibJ2jP8+VDl8/Kow/hq1zosErnT/N3D0pxi6vP+iVDl8/Kqw/Pn6pG70oqz+vHxUOtCKnP68fFQ60Iqc/FwuydqRtrj8owyxz96SoPzZ8/ahwoKU/8kvd6EXZsD89fP2ocKC1P3j6psQtycA//6nG2Tt9wz8lxIKsHWm7P/VMMyJsnbM/EgiwyjEhpj9XONCKXOiqPz5+qRu9KKs/mWSYZe6epD/I2Tt9U+K2P1Q5JsSCrK0/DgdakQtdsz/gk2Ls8qG2P9U3JW5Jhsk/mmZE2Donyj8kwtY50eDFP/6ocKAVucA/KHD1+KVuxD+nw9ePCgfKP2+eaUaErdM/gKpx9k7f1D+StnmmGRHWP1+Tt8/fP9U/S9ySDLPM3T9jlw+1eFDgP7vRi7IhweA/pm70omxI4D9DLR4UuHrcP0vckgyzzN0/CQYEWOWY4D+5evxSN3rhP6hvStySDOM/OXunb0rc4j/hQCtyoWviP3xSjF0+1OI/cPX4pW704j+kF2VDggHhP/OhFg8KXN0/DF2Tt8/f3z+bZ5oRYevcP8UtyTDL3N0/udA1efv83T+vc6LBKx3eP3Gha/L2+ds/VuPsnb4p4T9ONHilw9ffP3xSjF0+1OI/qsbZO31T4j/QNXn7/P3jPzLMMndPiuE/uXr8Ujd64T+LBq90+PrhP0bZkGBAgOU/HhNiQdaO5D8FWTvSNs/kP7XNM82IsOU//1ONs3f65j+Bq8cvdaPnP/9U4+ydvuk/Nc7e6ZsS5z/sR4UDrcjlP7ckwyxz9+Q/PdOMCFvn5D9Z5ZgQC7LmPwYEWOWYEOs/AAAAAAAA8D8=\",\"dtype\":\"float64\",\"order\":\"little\",\"shape\":[100]}},\"selected\":{\"id\":\"3499\"},\"selection_policy\":{\"id\":\"3533\"}},\"id\":\"3498\",\"type\":\"ColumnDataSource\"},{\"attributes\":{\"end\":1.1,\"reset_end\":1.1,\"reset_start\":-0.1,\"start\":-0.1,\"tags\":[[[\"value\",\"value\",null]]]},\"id\":\"3329\",\"type\":\"Range1d\"},{\"attributes\":{\"data\":{\"Variable\":[\"PRTY\",\"PRTY\",\"PRTY\",\"PRTY\",\"PRTY\",\"PRTY\",\"PRTY\",\"PRTY\",\"PRTY\",\"PRTY\",\"PRTY\",\"PRTY\",\"PRTY\",\"PRTY\",\"PRTY\",\"PRTY\",\"PRTY\",\"PRTY\",\"PRTY\",\"PRTY\",\"PRTY\",\"PRTY\",\"PRTY\",\"PRTY\",\"PRTY\",\"PRTY\",\"PRTY\",\"PRTY\",\"PRTY\",\"PRTY\",\"PRTY\",\"PRTY\",\"PRTY\",\"PRTY\",\"PRTY\",\"PRTY\",\"PRTY\",\"PRTY\",\"PRTY\",\"PRTY\",\"PRTY\",\"PRTY\",\"PRTY\",\"PRTY\",\"PRTY\",\"PRTY\",\"PRTY\",\"PRTY\",\"PRTY\",\"PRTY\",\"PRTY\",\"PRTY\",\"PRTY\",\"PRTY\",\"PRTY\",\"PRTY\",\"PRTY\",\"PRTY\",\"PRTY\",\"PRTY\",\"PRTY\",\"PRTY\",\"PRTY\",\"PRTY\",\"PRTY\",\"PRTY\",\"PRTY\",\"PRTY\",\"PRTY\",\"PRTY\",\"PRTY\",\"PRTY\",\"PRTY\",\"PRTY\",\"PRTY\",\"PRTY\",\"PRTY\",\"PRTY\",\"PRTY\",\"PRTY\",\"PRTY\",\"PRTY\",\"PRTY\",\"PRTY\",\"PRTY\",\"PRTY\",\"PRTY\",\"PRTY\",\"PRTY\",\"PRTY\",\"PRTY\",\"PRTY\",\"PRTY\",\"PRTY\",\"PRTY\",\"PRTY\",\"PRTY\",\"PRTY\",\"PRTY\",\"PRTY\"],\"index\":{\"__ndarray__\":\"AABAz8FEd0IAAAA1FEV3QgAAwJpmRXdCAADAMbBGd0IAAICXAkd3QgAAQP1UR3dCAAAAY6dHd0IAAECUnkh3QgAAAPrwSHdCAADAX0NJd0IAAIDFlUl3QgAAQCvoSXdCAACAXN9Kd0IAAEDCMUt3QgAAACiES3dCAADAjdZLd0IAAIDzKEx3QgAAwCQgTXdCAACAinJNd0IAAEDwxE13QgAAAFYXTndCAADAu2lOd0IAAADtYE93QgAAwFKzT3dCAACAuAVQd0IAAEAeWFB3QgAAAISqUHdCAABAtaFRd0IAAAAb9FF3QgAAwIBGUndCAACA5phSd0IAAEBM61J3QgAAgH3iU3dCAABA4zRUd0IAAABJh1R3QgAAwK7ZVHdCAACAFCxVd0IAAMBFI1Z3QgAAgKt1VndCAABAEchWd0IAAAB3Gld3QgAAwNxsV3dCAAAADmRYd0IAAMBztlh3QgAAgNkIWXdCAABAP1tZd0IAAAClrVl3QgAAQNakWndCAAAAPPdad0IAAMChSVt3QgAAgAecW3dCAABAbe5bd0IAAICe5Vx3QgAAQAQ4XXdCAAAAaopdd0IAAMDP3F13QgAAgDUvXndCAADAZiZfd0IAAIDMeF93QgAAQDLLX3dCAADA/W9gd0IAAAAvZ2F3QgAAwJS5YXdCAACA+gtid0IAAEBgXmJ3QgAAAMawYndCAABA96djd0IAAABd+mN3QgAAwMJMZHdCAACAKJ9kd0IAAECO8WR3QgAAgL/oZXdCAABAJTtmd0IAAACLjWZ3QgAAwPDfZndCAACAVjJnd0IAAMCHKWh3QgAAgO17aHdCAABAU85od0IAAAC5IGl3QgAAAFBqandCAADAtbxqd0IAAIAbD2t3QgAAQIFha3dCAABAGKtsd0IAAAB+/Wx3QgAAwONPbXdCAACASaJtd0IAAECv9G13QgAAgODrbndCAABARj5vd0IAAACskG93QgAAwBHjb3dCAACAdzVwd0IAAIAOf3F3QgAAQHTRcXdCAAAA2iNyd0IAAMA/dnJ3QgAAAHFtc3dCAADA1r9zd0I=\",\"dtype\":\"float64\",\"order\":\"little\",\"shape\":[100]},\"value\":{\"__ndarray__\":\"yJ2ihTMgxD8yf6+NWJe+P4WSO0ULZ8A/EevSY/5euz82wXgr+xzCP3+vjViXHsM/oeRO0cIZwD8tnAGh5E7BP25ln0NqgsE/6TF/r41Yxz99DqkJxlvJP1O0cAaEkss/fQ6pCcZbyT/fayPWpcfMP1vZ55CaYMw/1qXH/L02wj/vFC2cAaHEP23EuvSYv8c/NsF4K/scwj8ld4oWzoDAPzbBeCv7HMI/ulO0cAaEwj+h5E7RwhnAP6PH/L02Yr0/oeRO0cIZwD8yf6+NWJe+P7MR69Jj/r4/A0LJnaKFwz8+5u+1EevCPy2cAaHkTsE/hZI7RQtnwD8hNcF4K/u8P+cxf6+NWLc/TTDeyj6HtD+i5E7RwhmwP/V7bcS69Kg/FhBK7hQtrD8sWjgDQsmdP8Z4K/scUoM/AAAAAAAAAACzKDio1JamP6gJxlvZ56A/BsZb2eeQqj+i5E7RwhmwPyQ1wXgr+6w/Zp9DaoLxtj9eeszfayO2P1O0cAaEkss/10asS4/5yz/fayPWpcfMP+Kt7HNITdA/U7RwBoSSyz+0EevSY/7OP9nnkJpgvNU/QN6TuEJs1T+tS4/5e23UP5M7RQtnQNg/NWJdeszf2z+2EevSY/7eP5qG+kKQwN4/99qIdekx3z+59Ji/10bcP3GF2LJhFdw/99qIdekx3z916TF/r43gP3rM32sj1uE/ZkAouVO04D9gvJV9DqnhP3aKFs6AUOI/RQtnQCi54z8Yb2WfQ2riP4UzIJTcKeI/lX0OqQnG4z+rS4/5e23kP1x6zN9rI+Y/E4y3ss8h5T/pMX+vjVjnP7eyzyE1weg/4AwIJXeK5j+u7HNITTDmP4h16TF/r+U/tRHr0mP+5j+9NmJdesznPwwIJXeKFuY/gvFW9jmk5j/xVvY5pCboPzTBeCv7HOo/AAAAAAAA8D+maOEMCCXvP0AouVO0cO4/HFITjLey7z+ck5RbfnrsP2Nsa6SBhes/i7eyzyE16T9Pcqdo4QzoP0AouVO0cOo/So/5e23E6j916TF/r43sP1vZ55CaYOw/oyYYb2Wf6z8=\",\"dtype\":\"float64\",\"order\":\"little\",\"shape\":[100]}},\"selected\":{\"id\":\"3400\"},\"selection_policy\":{\"id\":\"3428\"}},\"id\":\"3399\",\"type\":\"ColumnDataSource\"},{\"attributes\":{},\"id\":\"3431\",\"type\":\"Selection\"},{\"attributes\":{},\"id\":\"3365\",\"type\":\"DatetimeTickFormatter\"},{\"attributes\":{},\"id\":\"3461\",\"type\":\"UnionRenderers\"},{\"attributes\":{\"margin\":[5,5,5,5],\"name\":\"HSpacer04907\",\"sizing_mode\":\"stretch_width\"},\"id\":\"3327\",\"type\":\"Spacer\"},{\"attributes\":{\"data_source\":{\"id\":\"3399\"},\"glyph\":{\"id\":\"3402\"},\"hover_glyph\":null,\"muted_glyph\":{\"id\":\"3404\"},\"nonselection_glyph\":{\"id\":\"3403\"},\"selection_glyph\":null,\"view\":{\"id\":\"3406\"}},\"id\":\"3405\",\"type\":\"GlyphRenderer\"},{\"attributes\":{\"margin\":[5,5,5,5],\"name\":\"HSpacer04908\",\"sizing_mode\":\"stretch_width\"},\"id\":\"3787\",\"type\":\"Spacer\"},{\"attributes\":{},\"id\":\"3396\",\"type\":\"UnionRenderers\"},{\"attributes\":{\"data_source\":{\"id\":\"3463\"},\"glyph\":{\"id\":\"3466\"},\"hover_glyph\":null,\"muted_glyph\":{\"id\":\"3468\"},\"nonselection_glyph\":{\"id\":\"3467\"},\"selection_glyph\":null,\"view\":{\"id\":\"3470\"}},\"id\":\"3469\",\"type\":\"GlyphRenderer\"},{\"attributes\":{\"base\":60,\"mantissas\":[1,2,5,10,15,20,30],\"max_interval\":1800000.0,\"min_interval\":1000.0,\"num_minor_ticks\":0},\"id\":\"3383\",\"type\":\"AdaptiveTicker\"},{\"attributes\":{\"axis\":{\"id\":\"3348\"},\"dimension\":1,\"grid_line_color\":null,\"ticker\":null},\"id\":\"3351\",\"type\":\"Grid\"},{\"attributes\":{\"source\":{\"id\":\"3399\"}},\"id\":\"3406\",\"type\":\"CDSView\"},{\"attributes\":{\"source\":{\"id\":\"3463\"}},\"id\":\"3470\",\"type\":\"CDSView\"},{\"attributes\":{},\"id\":\"3367\",\"type\":\"BasicTickFormatter\"},{\"attributes\":{\"callback\":null,\"formatters\":{\"@{index}\":\"datetime\"},\"renderers\":[{\"id\":\"3375\"},{\"id\":\"3405\"},{\"id\":\"3436\"},{\"id\":\"3469\"},{\"id\":\"3504\"}],\"tags\":[\"hv_created\"],\"tooltips\":[[\"Variable\",\"@{Variable}\"],[\"index\",\"@{index}{%F %T}\"],[\"value\",\"@{value}\"]]},\"id\":\"3330\",\"type\":\"HoverTool\"},{\"attributes\":{\"line_alpha\":0.1,\"line_color\":\"#d62628\",\"line_width\":2,\"x\":{\"field\":\"index\"},\"y\":{\"field\":\"value\"}},\"id\":\"3467\",\"type\":\"Line\"},{\"attributes\":{\"line_alpha\":0.2,\"line_color\":\"#ff7e0e\",\"line_width\":2,\"x\":{\"field\":\"index\"},\"y\":{\"field\":\"value\"}},\"id\":\"3404\",\"type\":\"Line\"},{\"attributes\":{\"data_source\":{\"id\":\"3498\"},\"glyph\":{\"id\":\"3501\"},\"hover_glyph\":null,\"muted_glyph\":{\"id\":\"3503\"},\"nonselection_glyph\":{\"id\":\"3502\"},\"selection_glyph\":null,\"view\":{\"id\":\"3505\"}},\"id\":\"3504\",\"type\":\"GlyphRenderer\"},{\"attributes\":{\"label\":{\"value\":\"PRTY\"},\"renderers\":[{\"id\":\"3405\"}]},\"id\":\"3429\",\"type\":\"LegendItem\"},{\"attributes\":{\"line_alpha\":0.2,\"line_color\":\"#d62628\",\"line_width\":2,\"x\":{\"field\":\"index\"},\"y\":{\"field\":\"value\"}},\"id\":\"3468\",\"type\":\"Line\"},{\"attributes\":{},\"id\":\"3352\",\"type\":\"SaveTool\"},{\"attributes\":{},\"id\":\"3464\",\"type\":\"Selection\"},{\"attributes\":{\"line_color\":\"#d62628\",\"line_width\":2,\"x\":{\"field\":\"index\"},\"y\":{\"field\":\"value\"}},\"id\":\"3466\",\"type\":\"Line\"},{\"attributes\":{\"mantissas\":[1,2,5],\"max_interval\":500.0,\"num_minor_ticks\":0},\"id\":\"3382\",\"type\":\"AdaptiveTicker\"},{\"attributes\":{},\"id\":\"3533\",\"type\":\"UnionRenderers\"},{\"attributes\":{},\"id\":\"3349\",\"type\":\"BasicTicker\"},{\"attributes\":{\"line_alpha\":0.1,\"line_color\":\"#2ba02b\",\"line_width\":2,\"x\":{\"field\":\"index\"},\"y\":{\"field\":\"value\"}},\"id\":\"3434\",\"type\":\"Line\"},{\"attributes\":{},\"id\":\"3353\",\"type\":\"PanTool\"},{\"attributes\":{\"line_color\":\"#2ba02b\",\"line_width\":2,\"x\":{\"field\":\"index\"},\"y\":{\"field\":\"value\"}},\"id\":\"3433\",\"type\":\"Line\"},{\"attributes\":{},\"id\":\"3496\",\"type\":\"UnionRenderers\"},{\"attributes\":{\"children\":[{\"id\":\"3327\"},{\"id\":\"3335\"},{\"id\":\"3787\"}],\"margin\":[0,0,0,0],\"name\":\"Row04903\",\"tags\":[\"embedded\"]},\"id\":\"3326\",\"type\":\"Row\"},{\"attributes\":{\"days\":[1,2,3,4,5,6,7,8,9,10,11,12,13,14,15,16,17,18,19,20,21,22,23,24,25,26,27,28,29,30,31]},\"id\":\"3385\",\"type\":\"DaysTicker\"},{\"attributes\":{\"axis_label\":\"\",\"bounds\":\"auto\",\"formatter\":{\"id\":\"3367\"},\"major_label_orientation\":\"horizontal\",\"ticker\":{\"id\":\"3349\"}},\"id\":\"3348\",\"type\":\"LinearAxis\"},{\"attributes\":{\"source\":{\"id\":\"3430\"}},\"id\":\"3437\",\"type\":\"CDSView\"},{\"attributes\":{\"base\":24,\"mantissas\":[1,2,4,6,8,12],\"max_interval\":43200000.0,\"min_interval\":3600000.0,\"num_minor_ticks\":0},\"id\":\"3384\",\"type\":\"AdaptiveTicker\"},{\"attributes\":{\"line_alpha\":0.1,\"line_color\":\"#ff7e0e\",\"line_width\":2,\"x\":{\"field\":\"index\"},\"y\":{\"field\":\"value\"}},\"id\":\"3403\",\"type\":\"Line\"},{\"attributes\":{\"line_alpha\":0.2,\"line_color\":\"#9367bc\",\"line_width\":2,\"x\":{\"field\":\"index\"},\"y\":{\"field\":\"value\"}},\"id\":\"3503\",\"type\":\"Line\"},{\"attributes\":{\"months\":[0,1,2,3,4,5,6,7,8,9,10,11]},\"id\":\"3389\",\"type\":\"MonthsTicker\"},{\"attributes\":{\"line_color\":\"#ff7e0e\",\"line_width\":2,\"x\":{\"field\":\"index\"},\"y\":{\"field\":\"value\"}},\"id\":\"3402\",\"type\":\"Line\"},{\"attributes\":{\"months\":[0,2,4,6,8,10]},\"id\":\"3390\",\"type\":\"MonthsTicker\"},{\"attributes\":{},\"id\":\"3499\",\"type\":\"Selection\"},{\"attributes\":{\"line_color\":\"#9367bc\",\"line_width\":2,\"x\":{\"field\":\"index\"},\"y\":{\"field\":\"value\"}},\"id\":\"3501\",\"type\":\"Line\"},{\"attributes\":{\"days\":[1,4,7,10,13,16,19,22,25,28]},\"id\":\"3386\",\"type\":\"DaysTicker\"},{\"attributes\":{},\"id\":\"3342\",\"type\":\"LinearScale\"},{\"attributes\":{\"source\":{\"id\":\"3498\"}},\"id\":\"3505\",\"type\":\"CDSView\"},{\"attributes\":{\"days\":[1,15]},\"id\":\"3388\",\"type\":\"DaysTicker\"},{\"attributes\":{\"months\":[0,6]},\"id\":\"3392\",\"type\":\"MonthsTicker\"},{\"attributes\":{},\"id\":\"3354\",\"type\":\"WheelZoomTool\"},{\"attributes\":{},\"id\":\"3393\",\"type\":\"YearsTicker\"},{\"attributes\":{\"data\":{\"Variable\":[\"ETSY\",\"ETSY\",\"ETSY\",\"ETSY\",\"ETSY\",\"ETSY\",\"ETSY\",\"ETSY\",\"ETSY\",\"ETSY\",\"ETSY\",\"ETSY\",\"ETSY\",\"ETSY\",\"ETSY\",\"ETSY\",\"ETSY\",\"ETSY\",\"ETSY\",\"ETSY\",\"ETSY\",\"ETSY\",\"ETSY\",\"ETSY\",\"ETSY\",\"ETSY\",\"ETSY\",\"ETSY\",\"ETSY\",\"ETSY\",\"ETSY\",\"ETSY\",\"ETSY\",\"ETSY\",\"ETSY\",\"ETSY\",\"ETSY\",\"ETSY\",\"ETSY\",\"ETSY\",\"ETSY\",\"ETSY\",\"ETSY\",\"ETSY\",\"ETSY\",\"ETSY\",\"ETSY\",\"ETSY\",\"ETSY\",\"ETSY\",\"ETSY\",\"ETSY\",\"ETSY\",\"ETSY\",\"ETSY\",\"ETSY\",\"ETSY\",\"ETSY\",\"ETSY\",\"ETSY\",\"ETSY\",\"ETSY\",\"ETSY\",\"ETSY\",\"ETSY\",\"ETSY\",\"ETSY\",\"ETSY\",\"ETSY\",\"ETSY\",\"ETSY\",\"ETSY\",\"ETSY\",\"ETSY\",\"ETSY\",\"ETSY\",\"ETSY\",\"ETSY\",\"ETSY\",\"ETSY\",\"ETSY\",\"ETSY\",\"ETSY\",\"ETSY\",\"ETSY\",\"ETSY\",\"ETSY\",\"ETSY\",\"ETSY\",\"ETSY\",\"ETSY\",\"ETSY\",\"ETSY\",\"ETSY\",\"ETSY\",\"ETSY\",\"ETSY\",\"ETSY\",\"ETSY\",\"ETSY\"],\"index\":{\"__ndarray__\":\"AABAz8FEd0IAAAA1FEV3QgAAwJpmRXdCAADAMbBGd0IAAICXAkd3QgAAQP1UR3dCAAAAY6dHd0IAAECUnkh3QgAAAPrwSHdCAADAX0NJd0IAAIDFlUl3QgAAQCvoSXdCAACAXN9Kd0IAAEDCMUt3QgAAACiES3dCAADAjdZLd0IAAIDzKEx3QgAAwCQgTXdCAACAinJNd0IAAEDwxE13QgAAAFYXTndCAADAu2lOd0IAAADtYE93QgAAwFKzT3dCAACAuAVQd0IAAEAeWFB3QgAAAISqUHdCAABAtaFRd0IAAAAb9FF3QgAAwIBGUndCAACA5phSd0IAAEBM61J3QgAAgH3iU3dCAABA4zRUd0IAAABJh1R3QgAAwK7ZVHdCAACAFCxVd0IAAMBFI1Z3QgAAgKt1VndCAABAEchWd0IAAAB3Gld3QgAAwNxsV3dCAAAADmRYd0IAAMBztlh3QgAAgNkIWXdCAABAP1tZd0IAAAClrVl3QgAAQNakWndCAAAAPPdad0IAAMChSVt3QgAAgAecW3dCAABAbe5bd0IAAICe5Vx3QgAAQAQ4XXdCAAAAaopdd0IAAMDP3F13QgAAgDUvXndCAADAZiZfd0IAAIDMeF93QgAAQDLLX3dCAADA/W9gd0IAAAAvZ2F3QgAAwJS5YXdCAACA+gtid0IAAEBgXmJ3QgAAAMawYndCAABA96djd0IAAABd+mN3QgAAwMJMZHdCAACAKJ9kd0IAAECO8WR3QgAAgL/oZXdCAABAJTtmd0IAAACLjWZ3QgAAwPDfZndCAACAVjJnd0IAAMCHKWh3QgAAgO17aHdCAABAU85od0IAAAC5IGl3QgAAAFBqandCAADAtbxqd0IAAIAbD2t3QgAAQIFha3dCAABAGKtsd0IAAAB+/Wx3QgAAwONPbXdCAACASaJtd0IAAECv9G13QgAAgODrbndCAABARj5vd0IAAACskG93QgAAwBHjb3dCAACAdzVwd0IAAIAOf3F3QgAAQHTRcXdCAAAA2iNyd0IAAMA/dnJ3QgAAAHFtc3dCAADA1r9zd0I=\",\"dtype\":\"float64\",\"order\":\"little\",\"shape\":[100]},\"value\":{\"__ndarray__\":\"yNOMBiTGwT/32zk+VtqwP52ZTCVNqJ0/6ugAhVt3kD9XTSljofehP2EUcGg+148/JsQ2rbh3kj8Wz3L3UD2hPzhv4+Jfj5Q/AAAAAAAAAAA5GYp3EWBwP5oteyXO7Zs/pJIm1I6RsD+H5nP98TK4P1+z2rJX4qw/xhLn9s1spj98lDCLfbK1P2m9kaF4F8E/+lr0v59uwD9+phNsUkW9Pwo+1ZQyFso/FGQmU0kTyj+J+FbexsXPP1XCLPbJVs0/NaWMhd5H0z9vZCjeRYDRP8lc/naOj9U/tbIjEav51T8HqSE5OkDZP7PzVXIOadc/ZzrBJlXU1z90gk2qqB/WP4C8DEYBh9Y/Y59s1RV41D94ov1yeJbLP5AcHaBw684/NihdAAKL0D8o6PxuYp3RPwQMQuuNDNU/M6F2jASZ0T9ASpjFPtnKP5M+WGWtOb0/JMhMppImxD9hqSPENq3IP9k/30shN88/4F0EGITW0z9ICbPYJ1vVP67UEWKbVrw/mTnMpQVIuD8FlbNb+NXIP7HCLoHGw8Q/ZBoRXoVdwj/Br8ZEeqDCP4yJ9EDl7MY/scIugcbDxD9qNCAxDk7NP72H6on2y9E/vhoT6YHK0T8erLLWnF7QP+4YCTKTqdQ/+tMNTKJ83T/Co4RZ7JPdPx+wyM92Ddo/D9H9870U2j/n7BZ+NSbaP4v+99MNTNo/3bZt27Zt2z9pTKQHKmffPxqQGAenltw/Q/O5/ngZ4D+Wteb0QnDhP7wGpQtAYOE/Xwq5eR2i4z/dQ/VE++XkPwAGofVGhuY/FnofLfhU5z8t/vVIEd/mPwQW+dmuQek/iG1ace8k5z/arLbslTjnPzGTqaQJteM/6AIQWORn4z/j4NSSpxnlP9ot/GpMpOM/wSTK16L/4T/ZK3Fu38ziP0gR38rbuOA/K+j8bmKd4T9FeqBydgvjP14EGITWG+U/akykBypn6z+kBypnt/DrPw7PcvdQPe0/aULtGAky6z8AAAAAAADwPzk2Kuj8bu4/a9H/frqB7T83qy17Jc7tP9ovh2e5e+w/5vhYacMy6z8=\",\"dtype\":\"float64\",\"order\":\"little\",\"shape\":[100]}},\"selected\":{\"id\":\"3464\"},\"selection_policy\":{\"id\":\"3496\"}},\"id\":\"3463\",\"type\":\"ColumnDataSource\"}],\"root_ids\":[\"3326\"]},\"title\":\"Bokeh Application\",\"version\":\"2.2.3\"}};\n",
       "    var render_items = [{\"docid\":\"74437976-abaa-4301-9da4-c22d04904b5b\",\"root_ids\":[\"3326\"],\"roots\":{\"3326\":\"1331ddfe-88f1-4001-8d34-ce1996347c0c\"}}];\n",
       "    root.Bokeh.embed.embed_items_notebook(docs_json, render_items);\n",
       "  }\n",
       "  if (root.Bokeh !== undefined && root.Bokeh.Panel !== undefined) {\n",
       "    embed_document(root);\n",
       "  } else {\n",
       "    var attempts = 0;\n",
       "    var timer = setInterval(function(root) {\n",
       "      if (root.Bokeh !== undefined && root.Bokeh.Panel !== undefined) {\n",
       "        clearInterval(timer);\n",
       "        embed_document(root);\n",
       "      } else if (document.readyState == \"complete\") {\n",
       "        attempts++;\n",
       "        if (attempts > 100) {\n",
       "          clearInterval(timer);\n",
       "          console.log(\"Bokeh: ERROR: Unable to run BokehJS code because BokehJS library is missing\");\n",
       "        }\n",
       "      }\n",
       "    }, 10, root)\n",
       "  }\n",
       "})(window);</script>"
      ],
      "text/plain": [
       ":NdOverlay   [Variable]\n",
       "   :Curve   [index]   (value)"
      ]
     },
     "execution_count": 89,
     "metadata": {
      "application/vnd.holoviews_exec.v0+json": {
       "id": "3326"
      }
     },
     "output_type": "execute_result"
    }
   ],
   "source": [
    "# plotting normalized close \n",
    "normalized_close.hvplot(x='index', title='Normalized Stock Prices')"
   ]
  },
  {
   "cell_type": "code",
   "execution_count": 90,
   "metadata": {},
   "outputs": [
    {
     "data": {
      "text/html": [
       "<div>\n",
       "<style scoped>\n",
       "    .dataframe tbody tr th:only-of-type {\n",
       "        vertical-align: middle;\n",
       "    }\n",
       "\n",
       "    .dataframe tbody tr th {\n",
       "        vertical-align: top;\n",
       "    }\n",
       "\n",
       "    .dataframe thead th {\n",
       "        text-align: right;\n",
       "    }\n",
       "</style>\n",
       "<table border=\"1\" class=\"dataframe\">\n",
       "  <thead>\n",
       "    <tr style=\"text-align: right;\">\n",
       "      <th></th>\n",
       "      <th>AMZN</th>\n",
       "      <th>CPPRQ</th>\n",
       "      <th>PRTY</th>\n",
       "      <th>WMT</th>\n",
       "      <th>ETSY</th>\n",
       "      <th>M</th>\n",
       "    </tr>\n",
       "  </thead>\n",
       "  <tbody>\n",
       "    <tr>\n",
       "      <th>2020-09-02</th>\n",
       "      <td>3529.34</td>\n",
       "      <td>NaN</td>\n",
       "      <td>2.780</td>\n",
       "      <td>147.6301</td>\n",
       "      <td>124.38</td>\n",
       "      <td>7.050</td>\n",
       "    </tr>\n",
       "    <tr>\n",
       "      <th>2020-09-03</th>\n",
       "      <td>3369.17</td>\n",
       "      <td>NaN</td>\n",
       "      <td>2.540</td>\n",
       "      <td>144.5700</td>\n",
       "      <td>116.16</td>\n",
       "      <td>7.600</td>\n",
       "    </tr>\n",
       "    <tr>\n",
       "      <th>2020-09-04</th>\n",
       "      <td>3294.62</td>\n",
       "      <td>NaN</td>\n",
       "      <td>2.595</td>\n",
       "      <td>142.8400</td>\n",
       "      <td>112.01</td>\n",
       "      <td>7.635</td>\n",
       "    </tr>\n",
       "    <tr>\n",
       "      <th>2020-09-08</th>\n",
       "      <td>3149.84</td>\n",
       "      <td>NaN</td>\n",
       "      <td>2.460</td>\n",
       "      <td>138.4500</td>\n",
       "      <td>110.56</td>\n",
       "      <td>7.620</td>\n",
       "    </tr>\n",
       "    <tr>\n",
       "      <th>2020-09-09</th>\n",
       "      <td>3268.27</td>\n",
       "      <td>NaN</td>\n",
       "      <td>2.680</td>\n",
       "      <td>139.9400</td>\n",
       "      <td>112.70</td>\n",
       "      <td>7.550</td>\n",
       "    </tr>\n",
       "    <tr>\n",
       "      <th>...</th>\n",
       "      <td>...</td>\n",
       "      <td>...</td>\n",
       "      <td>...</td>\n",
       "      <td>...</td>\n",
       "      <td>...</td>\n",
       "      <td>...</td>\n",
       "    </tr>\n",
       "    <tr>\n",
       "      <th>2021-01-20</th>\n",
       "      <td>3264.73</td>\n",
       "      <td>NaN</td>\n",
       "      <td>7.035</td>\n",
       "      <td>145.4600</td>\n",
       "      <td>215.80</td>\n",
       "      <td>12.340</td>\n",
       "    </tr>\n",
       "    <tr>\n",
       "      <th>2021-01-21</th>\n",
       "      <td>3307.21</td>\n",
       "      <td>NaN</td>\n",
       "      <td>7.100</td>\n",
       "      <td>144.8700</td>\n",
       "      <td>212.54</td>\n",
       "      <td>12.320</td>\n",
       "    </tr>\n",
       "    <tr>\n",
       "      <th>2021-01-22</th>\n",
       "      <td>3290.00</td>\n",
       "      <td>NaN</td>\n",
       "      <td>7.455</td>\n",
       "      <td>146.3000</td>\n",
       "      <td>213.59</td>\n",
       "      <td>12.890</td>\n",
       "    </tr>\n",
       "    <tr>\n",
       "      <th>2021-01-25</th>\n",
       "      <td>3293.10</td>\n",
       "      <td>NaN</td>\n",
       "      <td>7.420</td>\n",
       "      <td>146.2400</td>\n",
       "      <td>208.94</td>\n",
       "      <td>14.280</td>\n",
       "    </tr>\n",
       "    <tr>\n",
       "      <th>2021-01-26</th>\n",
       "      <td>3326.12</td>\n",
       "      <td>NaN</td>\n",
       "      <td>7.270</td>\n",
       "      <td>147.5200</td>\n",
       "      <td>204.42</td>\n",
       "      <td>15.850</td>\n",
       "    </tr>\n",
       "  </tbody>\n",
       "</table>\n",
       "<p>100 rows × 6 columns</p>\n",
       "</div>"
      ],
      "text/plain": [
       "               AMZN CPPRQ   PRTY       WMT    ETSY       M\n",
       "2020-09-02  3529.34   NaN  2.780  147.6301  124.38   7.050\n",
       "2020-09-03  3369.17   NaN  2.540  144.5700  116.16   7.600\n",
       "2020-09-04  3294.62   NaN  2.595  142.8400  112.01   7.635\n",
       "2020-09-08  3149.84   NaN  2.460  138.4500  110.56   7.620\n",
       "2020-09-09  3268.27   NaN  2.680  139.9400  112.70   7.550\n",
       "...             ...   ...    ...       ...     ...     ...\n",
       "2021-01-20  3264.73   NaN  7.035  145.4600  215.80  12.340\n",
       "2021-01-21  3307.21   NaN  7.100  144.8700  212.54  12.320\n",
       "2021-01-22  3290.00   NaN  7.455  146.3000  213.59  12.890\n",
       "2021-01-25  3293.10   NaN  7.420  146.2400  208.94  14.280\n",
       "2021-01-26  3326.12   NaN  7.270  147.5200  204.42  15.850\n",
       "\n",
       "[100 rows x 6 columns]"
      ]
     },
     "execution_count": 90,
     "metadata": {},
     "output_type": "execute_result"
    }
   ],
   "source": [
    "close_prices"
   ]
  },
  {
   "cell_type": "code",
   "execution_count": 91,
   "metadata": {},
   "outputs": [
    {
     "data": {
      "text/plain": [
       "AMZN     100\n",
       "CPPRQ      0\n",
       "PRTY     100\n",
       "WMT      100\n",
       "ETSY     100\n",
       "M        100\n",
       "dtype: int64"
      ]
     },
     "execution_count": 91,
     "metadata": {},
     "output_type": "execute_result"
    }
   ],
   "source": [
    "# have this because we need a new stock\n",
    "close_prices.count()"
   ]
  },
  {
   "cell_type": "code",
   "execution_count": 92,
   "metadata": {},
   "outputs": [
    {
     "data": {
      "text/plain": [
       "date\n",
       "2020-02-15     6.0\n",
       "2020-02-16     7.0\n",
       "2020-02-17     6.0\n",
       "2020-02-18     0.0\n",
       "2020-02-19     2.0\n",
       "              ... \n",
       "2021-01-22   -26.0\n",
       "2021-01-23   -25.0\n",
       "2021-01-24   -28.0\n",
       "2021-01-25   -28.0\n",
       "2021-01-26   -28.0\n",
       "Name: US Mobility Daily Per Cent Change, Length: 347, dtype: float64"
      ]
     },
     "execution_count": 92,
     "metadata": {},
     "output_type": "execute_result"
    }
   ],
   "source": [
    "US_ALL.rename('US Mobility Daily Per Cent Change')"
   ]
  },
  {
   "cell_type": "code",
   "execution_count": 93,
   "metadata": {},
   "outputs": [
    {
     "data": {
      "text/plain": [
       "date\n",
       "2020-02-15    6.0\n",
       "2020-02-16    7.0\n",
       "2020-02-17    6.0\n",
       "2020-02-18    0.0\n",
       "2020-02-19    2.0\n",
       "Name: Retail and Recreation, dtype: float64"
      ]
     },
     "execution_count": 93,
     "metadata": {},
     "output_type": "execute_result"
    }
   ],
   "source": [
    "US_ALL.head()"
   ]
  },
  {
   "cell_type": "code",
   "execution_count": 94,
   "metadata": {},
   "outputs": [
    {
     "data": {
      "text/plain": [
       "pandas.core.series.Series"
      ]
     },
     "execution_count": 94,
     "metadata": {},
     "output_type": "execute_result"
    }
   ],
   "source": [
    "type(US_ALL)"
   ]
  },
  {
   "cell_type": "code",
   "execution_count": 95,
   "metadata": {},
   "outputs": [],
   "source": [
    "# converting series to df \n",
    "df = pd.DataFrame(US_ALL)"
   ]
  },
  {
   "cell_type": "code",
   "execution_count": 96,
   "metadata": {},
   "outputs": [
    {
     "data": {
      "text/html": [
       "<div>\n",
       "<style scoped>\n",
       "    .dataframe tbody tr th:only-of-type {\n",
       "        vertical-align: middle;\n",
       "    }\n",
       "\n",
       "    .dataframe tbody tr th {\n",
       "        vertical-align: top;\n",
       "    }\n",
       "\n",
       "    .dataframe thead th {\n",
       "        text-align: right;\n",
       "    }\n",
       "</style>\n",
       "<table border=\"1\" class=\"dataframe\">\n",
       "  <thead>\n",
       "    <tr style=\"text-align: right;\">\n",
       "      <th></th>\n",
       "      <th>Retail and Recreation</th>\n",
       "    </tr>\n",
       "    <tr>\n",
       "      <th>date</th>\n",
       "      <th></th>\n",
       "    </tr>\n",
       "  </thead>\n",
       "  <tbody>\n",
       "    <tr>\n",
       "      <th>2020-02-15</th>\n",
       "      <td>6.0</td>\n",
       "    </tr>\n",
       "    <tr>\n",
       "      <th>2020-02-16</th>\n",
       "      <td>7.0</td>\n",
       "    </tr>\n",
       "    <tr>\n",
       "      <th>2020-02-17</th>\n",
       "      <td>6.0</td>\n",
       "    </tr>\n",
       "    <tr>\n",
       "      <th>2020-02-18</th>\n",
       "      <td>0.0</td>\n",
       "    </tr>\n",
       "    <tr>\n",
       "      <th>2020-02-19</th>\n",
       "      <td>2.0</td>\n",
       "    </tr>\n",
       "    <tr>\n",
       "      <th>...</th>\n",
       "      <td>...</td>\n",
       "    </tr>\n",
       "    <tr>\n",
       "      <th>2021-01-22</th>\n",
       "      <td>-26.0</td>\n",
       "    </tr>\n",
       "    <tr>\n",
       "      <th>2021-01-23</th>\n",
       "      <td>-25.0</td>\n",
       "    </tr>\n",
       "    <tr>\n",
       "      <th>2021-01-24</th>\n",
       "      <td>-28.0</td>\n",
       "    </tr>\n",
       "    <tr>\n",
       "      <th>2021-01-25</th>\n",
       "      <td>-28.0</td>\n",
       "    </tr>\n",
       "    <tr>\n",
       "      <th>2021-01-26</th>\n",
       "      <td>-28.0</td>\n",
       "    </tr>\n",
       "  </tbody>\n",
       "</table>\n",
       "<p>347 rows × 1 columns</p>\n",
       "</div>"
      ],
      "text/plain": [
       "            Retail and Recreation\n",
       "date                             \n",
       "2020-02-15                    6.0\n",
       "2020-02-16                    7.0\n",
       "2020-02-17                    6.0\n",
       "2020-02-18                    0.0\n",
       "2020-02-19                    2.0\n",
       "...                           ...\n",
       "2021-01-22                  -26.0\n",
       "2021-01-23                  -25.0\n",
       "2021-01-24                  -28.0\n",
       "2021-01-25                  -28.0\n",
       "2021-01-26                  -28.0\n",
       "\n",
       "[347 rows x 1 columns]"
      ]
     },
     "execution_count": 96,
     "metadata": {},
     "output_type": "execute_result"
    }
   ],
   "source": [
    "df"
   ]
  },
  {
   "cell_type": "code",
   "execution_count": 97,
   "metadata": {},
   "outputs": [],
   "source": [
    "# now i need to merge this data with my mobiltiy data \n",
    "stock_mobility = pd.concat([df,close_prices],axis = 1, join = 'inner')"
   ]
  },
  {
   "cell_type": "code",
   "execution_count": 98,
   "metadata": {},
   "outputs": [
    {
     "data": {
      "text/plain": [
       "Index(['Retail and Recreation', 'AMZN', 'CPPRQ', 'PRTY', 'WMT', 'ETSY', 'M'], dtype='object')"
      ]
     },
     "execution_count": 98,
     "metadata": {},
     "output_type": "execute_result"
    }
   ],
   "source": [
    "stock_mobility.columns"
   ]
  },
  {
   "cell_type": "code",
   "execution_count": 99,
   "metadata": {},
   "outputs": [],
   "source": [
    "# changing the column name\n",
    "stock_mobility.rename(columns={'Retail and Recreation': 'US Retail Mobility '}, inplace = True)"
   ]
  },
  {
   "cell_type": "code",
   "execution_count": 100,
   "metadata": {},
   "outputs": [
    {
     "data": {
      "text/html": [
       "<div>\n",
       "<style scoped>\n",
       "    .dataframe tbody tr th:only-of-type {\n",
       "        vertical-align: middle;\n",
       "    }\n",
       "\n",
       "    .dataframe tbody tr th {\n",
       "        vertical-align: top;\n",
       "    }\n",
       "\n",
       "    .dataframe thead th {\n",
       "        text-align: right;\n",
       "    }\n",
       "</style>\n",
       "<table border=\"1\" class=\"dataframe\">\n",
       "  <thead>\n",
       "    <tr style=\"text-align: right;\">\n",
       "      <th></th>\n",
       "      <th>US Retail Mobility</th>\n",
       "      <th>AMZN</th>\n",
       "      <th>CPPRQ</th>\n",
       "      <th>PRTY</th>\n",
       "      <th>WMT</th>\n",
       "      <th>ETSY</th>\n",
       "      <th>M</th>\n",
       "    </tr>\n",
       "  </thead>\n",
       "  <tbody>\n",
       "    <tr>\n",
       "      <th>2020-09-02</th>\n",
       "      <td>-13.0</td>\n",
       "      <td>3529.34</td>\n",
       "      <td>NaN</td>\n",
       "      <td>2.780</td>\n",
       "      <td>147.6301</td>\n",
       "      <td>124.38</td>\n",
       "      <td>7.050</td>\n",
       "    </tr>\n",
       "    <tr>\n",
       "      <th>2020-09-03</th>\n",
       "      <td>-11.0</td>\n",
       "      <td>3369.17</td>\n",
       "      <td>NaN</td>\n",
       "      <td>2.540</td>\n",
       "      <td>144.5700</td>\n",
       "      <td>116.16</td>\n",
       "      <td>7.600</td>\n",
       "    </tr>\n",
       "    <tr>\n",
       "      <th>2020-09-04</th>\n",
       "      <td>-13.0</td>\n",
       "      <td>3294.62</td>\n",
       "      <td>NaN</td>\n",
       "      <td>2.595</td>\n",
       "      <td>142.8400</td>\n",
       "      <td>112.01</td>\n",
       "      <td>7.635</td>\n",
       "    </tr>\n",
       "    <tr>\n",
       "      <th>2020-09-08</th>\n",
       "      <td>-16.0</td>\n",
       "      <td>3149.84</td>\n",
       "      <td>NaN</td>\n",
       "      <td>2.460</td>\n",
       "      <td>138.4500</td>\n",
       "      <td>110.56</td>\n",
       "      <td>7.620</td>\n",
       "    </tr>\n",
       "    <tr>\n",
       "      <th>2020-09-09</th>\n",
       "      <td>-16.0</td>\n",
       "      <td>3268.27</td>\n",
       "      <td>NaN</td>\n",
       "      <td>2.680</td>\n",
       "      <td>139.9400</td>\n",
       "      <td>112.70</td>\n",
       "      <td>7.550</td>\n",
       "    </tr>\n",
       "    <tr>\n",
       "      <th>...</th>\n",
       "      <td>...</td>\n",
       "      <td>...</td>\n",
       "      <td>...</td>\n",
       "      <td>...</td>\n",
       "      <td>...</td>\n",
       "      <td>...</td>\n",
       "      <td>...</td>\n",
       "    </tr>\n",
       "    <tr>\n",
       "      <th>2021-01-20</th>\n",
       "      <td>-26.0</td>\n",
       "      <td>3264.73</td>\n",
       "      <td>NaN</td>\n",
       "      <td>7.035</td>\n",
       "      <td>145.4600</td>\n",
       "      <td>215.80</td>\n",
       "      <td>12.340</td>\n",
       "    </tr>\n",
       "    <tr>\n",
       "      <th>2021-01-21</th>\n",
       "      <td>-26.0</td>\n",
       "      <td>3307.21</td>\n",
       "      <td>NaN</td>\n",
       "      <td>7.100</td>\n",
       "      <td>144.8700</td>\n",
       "      <td>212.54</td>\n",
       "      <td>12.320</td>\n",
       "    </tr>\n",
       "    <tr>\n",
       "      <th>2021-01-22</th>\n",
       "      <td>-26.0</td>\n",
       "      <td>3290.00</td>\n",
       "      <td>NaN</td>\n",
       "      <td>7.455</td>\n",
       "      <td>146.3000</td>\n",
       "      <td>213.59</td>\n",
       "      <td>12.890</td>\n",
       "    </tr>\n",
       "    <tr>\n",
       "      <th>2021-01-25</th>\n",
       "      <td>-28.0</td>\n",
       "      <td>3293.10</td>\n",
       "      <td>NaN</td>\n",
       "      <td>7.420</td>\n",
       "      <td>146.2400</td>\n",
       "      <td>208.94</td>\n",
       "      <td>14.280</td>\n",
       "    </tr>\n",
       "    <tr>\n",
       "      <th>2021-01-26</th>\n",
       "      <td>-28.0</td>\n",
       "      <td>3326.12</td>\n",
       "      <td>NaN</td>\n",
       "      <td>7.270</td>\n",
       "      <td>147.5200</td>\n",
       "      <td>204.42</td>\n",
       "      <td>15.850</td>\n",
       "    </tr>\n",
       "  </tbody>\n",
       "</table>\n",
       "<p>100 rows × 7 columns</p>\n",
       "</div>"
      ],
      "text/plain": [
       "            US Retail Mobility      AMZN CPPRQ   PRTY       WMT    ETSY  \\\n",
       "2020-09-02                -13.0  3529.34   NaN  2.780  147.6301  124.38   \n",
       "2020-09-03                -11.0  3369.17   NaN  2.540  144.5700  116.16   \n",
       "2020-09-04                -13.0  3294.62   NaN  2.595  142.8400  112.01   \n",
       "2020-09-08                -16.0  3149.84   NaN  2.460  138.4500  110.56   \n",
       "2020-09-09                -16.0  3268.27   NaN  2.680  139.9400  112.70   \n",
       "...                         ...      ...   ...    ...       ...     ...   \n",
       "2021-01-20                -26.0  3264.73   NaN  7.035  145.4600  215.80   \n",
       "2021-01-21                -26.0  3307.21   NaN  7.100  144.8700  212.54   \n",
       "2021-01-22                -26.0  3290.00   NaN  7.455  146.3000  213.59   \n",
       "2021-01-25                -28.0  3293.10   NaN  7.420  146.2400  208.94   \n",
       "2021-01-26                -28.0  3326.12   NaN  7.270  147.5200  204.42   \n",
       "\n",
       "                 M  \n",
       "2020-09-02   7.050  \n",
       "2020-09-03   7.600  \n",
       "2020-09-04   7.635  \n",
       "2020-09-08   7.620  \n",
       "2020-09-09   7.550  \n",
       "...            ...  \n",
       "2021-01-20  12.340  \n",
       "2021-01-21  12.320  \n",
       "2021-01-22  12.890  \n",
       "2021-01-25  14.280  \n",
       "2021-01-26  15.850  \n",
       "\n",
       "[100 rows x 7 columns]"
      ]
     },
     "execution_count": 100,
     "metadata": {},
     "output_type": "execute_result"
    }
   ],
   "source": [
    "stock_mobility"
   ]
  },
  {
   "cell_type": "code",
   "execution_count": 101,
   "metadata": {},
   "outputs": [
    {
     "data": {
      "text/plain": [
       "US Retail Mobility     100\n",
       "AMZN                   100\n",
       "CPPRQ                    0\n",
       "PRTY                   100\n",
       "WMT                    100\n",
       "ETSY                   100\n",
       "M                      100\n",
       "dtype: int64"
      ]
     },
     "execution_count": 101,
     "metadata": {},
     "output_type": "execute_result"
    }
   ],
   "source": [
    "## dropping the null values to account for missing weekends in the stock data \n",
    "stock_mobility.count()"
   ]
  },
  {
   "cell_type": "code",
   "execution_count": 103,
   "metadata": {},
   "outputs": [
    {
     "data": {
      "application/vnd.plotly.v1+json": {
       "config": {
        "plotlyServerURL": "https://plot.ly"
       },
       "data": [
        {
         "dimensions": [
          {
           "label": "US Retail Mobility ",
           "values": [
            -13,
            -11,
            -13,
            -16,
            -16,
            -16,
            -17,
            -16,
            -14,
            -15,
            -16,
            -15,
            -16,
            -15,
            -15,
            -16,
            -16,
            -17,
            -16,
            -14,
            -13,
            -14,
            -15,
            -15,
            -15,
            -15,
            -16,
            -17,
            -17,
            -14,
            -15,
            -17,
            -18,
            -17,
            -16,
            -16,
            -17,
            -19,
            -17,
            -16,
            -17,
            -14,
            -17,
            -11,
            -18,
            -18,
            -18,
            -19,
            -18,
            -15,
            -20,
            -19,
            -20,
            -20,
            -19,
            -19,
            -20,
            -16,
            -12,
            -3,
            -26,
            -21,
            -18,
            -19,
            -18,
            -20,
            -21,
            -20,
            -19,
            -19,
            -21,
            -20,
            -17,
            -20,
            -22,
            -19,
            -8,
            -5,
            2,
            -16,
            -17,
            -17,
            -13,
            -9,
            -19,
            -20,
            -22,
            -24,
            -26,
            -25,
            -23,
            -23,
            -25,
            -27,
            -26,
            -26,
            -26,
            -26,
            -28,
            -28
           ]
          },
          {
           "label": "AMZN",
           "values": [
            3529.34,
            3369.17,
            3294.62,
            3149.84,
            3268.27,
            3176.12,
            3117.28,
            3102.97,
            3153.28,
            3077.14,
            3010.56,
            2952.64,
            2962,
            3129,
            2997.44,
            3018.58,
            3094.65,
            3175.04,
            3142.92,
            3147.425,
            3222.01,
            3125.93,
            3199.2,
            3099.29,
            3192.51,
            3190.55,
            3287.82,
            3442.93,
            3442.64,
            3363.05,
            3338.62,
            3160,
            3207.3,
            3216.26,
            3183.6,
            3177.4,
            3204.64,
            3207.32,
            3287.92,
            3162.49,
            3212.79,
            3036.13,
            3004.48,
            3046.25,
            3241.16,
            3322,
            3310.41,
            3141.34,
            3035.18,
            3136.81,
            3110.2,
            3134.09,
            3132.99,
            3135.66,
            3105.1,
            3114.41,
            3099.205,
            3100.18,
            3116.86,
            3184.82,
            3195.95,
            3168.03,
            3220.08,
            3203.75,
            3188.66,
            3163.49,
            3158.77,
            3176.64,
            3101.35,
            3100.07,
            3116.41,
            3156.97,
            3166.45,
            3240.96,
            3237.015,
            3201.07,
            3205.74,
            3206.52,
            3186.73,
            3171.16,
            3283.96,
            3320.71,
            3285.85,
            3256.41,
            3186.65,
            3218.51,
            3138.01,
            3161.41,
            3182.7,
            3115.75,
            3120.88,
            3166.24,
            3129.32,
            3104.54,
            3121,
            3264.73,
            3307.21,
            3290,
            3293.1,
            3326.12
           ]
          },
          {
           "label": "PRTY",
           "values": [
            2.78,
            2.54,
            2.595,
            2.46,
            2.68,
            2.73,
            2.58,
            2.64,
            2.65,
            2.94,
            3.04,
            3.15,
            3.04,
            3.21,
            3.19,
            2.685,
            2.805,
            2.96,
            2.68,
            2.6,
            2.68,
            2.7,
            2.58,
            2.51,
            2.58,
            2.54,
            2.55,
            2.75,
            2.72,
            2.64,
            2.595,
            2.5,
            2.36,
            2.29,
            2.18,
            2.09,
            2.13,
            1.965,
            1.84,
            1.78,
            2.0606,
            1.99,
            2.11,
            2.18,
            2.14,
            2.35,
            2.33,
            3.15,
            3.17,
            3.21,
            3.4,
            3.15,
            3.32,
            3.94,
            3.9089,
            3.81,
            4.19,
            4.55,
            4.86,
            4.836,
            4.88,
            4.59,
            4.5708,
            4.88,
            5.07,
            5.325,
            5.1,
            5.29,
            5.42,
            5.7,
            5.44,
            5.39,
            5.71,
            5.84,
            6.18,
            5.98,
            6.42,
            6.7,
            6.26,
            6.19,
            6.09,
            6.35,
            6.51,
            6.17,
            6.28,
            6.58,
            6.97,
            8.14,
            7.97,
            7.83,
            8.08,
            7.4401,
            7.2499,
            6.79,
            6.56,
            7.035,
            7.1,
            7.455,
            7.42,
            7.27
           ]
          },
          {
           "label": "WMT",
           "values": [
            147.6301,
            144.57,
            142.84,
            138.45,
            139.94,
            136.79,
            136.68,
            137.27,
            137.26,
            136.27,
            136.71,
            135.29,
            137.08,
            138.32,
            136.01,
            136.7,
            137.27,
            137.3,
            137.13,
            139.87,
            143.07,
            140.51,
            141.8,
            140.59,
            140.88,
            141.36,
            142.8,
            144.24,
            146.24,
            143.95,
            144.535,
            144.69,
            143.06,
            143.87,
            144.42,
            143.55,
            143.84,
            142.25,
            142.88,
            140.12,
            139.92,
            138.81,
            140.41,
            142.74,
            142,
            143.46,
            145.78,
            143.57,
            145.58,
            148,
            148.17,
            150.54,
            153.03,
            149.38,
            149.1,
            152.12,
            150.32,
            150.9,
            151.37,
            151.84,
            151.68,
            152.9,
            152.63,
            150.53,
            149.3,
            148.92,
            148.12,
            149.45,
            148.14,
            147.03,
            146.98,
            145.5291,
            145.59,
            145.44,
            146.07,
            145.61,
            145.96,
            144.2,
            143.24,
            143.5,
            145.22,
            144.31,
            144.24,
            144.09,
            146.51,
            145.74,
            146.68,
            146.65,
            146.63,
            147.29,
            148.97,
            147.46,
            146.9745,
            144.65,
            143.39,
            145.46,
            144.87,
            146.3,
            146.24,
            147.52
           ]
          },
          {
           "label": "ETSY",
           "values": [
            124.38,
            116.16,
            112.01,
            110.56,
            112.7,
            110.5,
            110.78,
            112.54,
            111.01,
            108.75,
            109.2,
            111.82,
            116.035,
            119.39,
            115.1,
            113.68,
            118.29,
            123.78,
            123.2,
            121.62,
            131.69,
            131.68,
            136.69,
            134.55,
            142.66,
            139.53,
            146.67,
            147.399,
            153.16,
            149.923,
            150.66,
            147.66,
            148.37,
            144.75,
            133.01,
            135.94,
            137.845,
            139.73,
            145.77,
            139.7,
            132.36,
            121.6,
            126.47,
            130.45,
            136.2,
            143.64,
            146.31,
            121.21,
            119.4262,
            130.59,
            127.01,
            124.9,
            125.13,
            128.91,
            127.01,
            134.52,
            140.05,
            140.04,
            137.54,
            145.09,
            160.61,
            160.77,
            154.57,
            154.62,
            154.74,
            155,
            156.99,
            163.98,
            159.03,
            165.38,
            170.09,
            169.87,
            177.81,
            182.26,
            187.98,
            190.82,
            189.2,
            197.59,
            190.16,
            190.43,
            178.07,
            177.01,
            182.97,
            177.84,
            172.06,
            174.88,
            167.57,
            170.71,
            175.74,
            183,
            205.14,
            207.03,
            211.6,
            204.41,
            221.31,
            215.8,
            212.54,
            213.59,
            208.94,
            204.42
           ]
          },
          {
           "label": "M",
           "values": [
            7.05,
            7.6,
            7.635,
            7.62,
            7.55,
            7.41,
            7.05,
            7.21,
            6.87,
            6.99,
            6.87,
            6.77,
            6.31,
            6.275,
            6.11,
            6.035,
            6.03,
            5.96,
            5.67,
            5.7,
            5.85,
            6.005,
            6.06,
            5.81,
            5.96,
            6.29,
            6.23,
            6.21,
            6.13,
            6.13,
            6.275,
            6.16,
            6.1,
            6.34,
            6.53,
            7.005,
            7.22,
            6.76,
            6.45,
            6.11,
            6.205,
            6.21,
            6.08,
            6.58,
            6.26,
            6.44,
            6.57,
            7.7,
            7.75,
            7.41,
            7,
            7.295,
            7.74,
            8.8,
            8.99,
            9.18,
            9.05,
            10.41,
            10.86,
            11,
            10.85,
            10.2,
            10.41,
            10.95,
            11.23,
            11.73,
            11.67,
            11.53,
            11.66,
            11.7,
            11.08,
            10.34,
            10.74,
            10.27,
            10.42,
            10.44,
            10.46,
            10.12,
            11.13,
            10.735,
            11.66,
            11.5,
            12.03,
            11.25,
            11.23,
            11.39,
            12.51,
            12.21,
            12.29,
            12.57,
            12.98,
            13.19,
            13.86,
            13.01,
            12.6,
            12.34,
            12.32,
            12.89,
            14.28,
            15.85
           ]
          }
         ],
         "domain": {
          "x": [
           0,
           1
          ],
          "y": [
           0,
           1
          ]
         },
         "line": {
          "color": [
           3529.34,
           3369.17,
           3294.62,
           3149.84,
           3268.27,
           3176.12,
           3117.28,
           3102.97,
           3153.28,
           3077.14,
           3010.56,
           2952.64,
           2962,
           3129,
           2997.44,
           3018.58,
           3094.65,
           3175.04,
           3142.92,
           3147.425,
           3222.01,
           3125.93,
           3199.2,
           3099.29,
           3192.51,
           3190.55,
           3287.82,
           3442.93,
           3442.64,
           3363.05,
           3338.62,
           3160,
           3207.3,
           3216.26,
           3183.6,
           3177.4,
           3204.64,
           3207.32,
           3287.92,
           3162.49,
           3212.79,
           3036.13,
           3004.48,
           3046.25,
           3241.16,
           3322,
           3310.41,
           3141.34,
           3035.18,
           3136.81,
           3110.2,
           3134.09,
           3132.99,
           3135.66,
           3105.1,
           3114.41,
           3099.205,
           3100.18,
           3116.86,
           3184.82,
           3195.95,
           3168.03,
           3220.08,
           3203.75,
           3188.66,
           3163.49,
           3158.77,
           3176.64,
           3101.35,
           3100.07,
           3116.41,
           3156.97,
           3166.45,
           3240.96,
           3237.015,
           3201.07,
           3205.74,
           3206.52,
           3186.73,
           3171.16,
           3283.96,
           3320.71,
           3285.85,
           3256.41,
           3186.65,
           3218.51,
           3138.01,
           3161.41,
           3182.7,
           3115.75,
           3120.88,
           3166.24,
           3129.32,
           3104.54,
           3121,
           3264.73,
           3307.21,
           3290,
           3293.1,
           3326.12
          ],
          "coloraxis": "coloraxis"
         },
         "name": "",
         "type": "parcoords"
        }
       ],
       "layout": {
        "autosize": true,
        "coloraxis": {
         "colorbar": {
          "title": {
           "text": "AMZN"
          }
         },
         "colorscale": [
          [
           0,
           "#000004"
          ],
          [
           0.1111111111111111,
           "#1b0c41"
          ],
          [
           0.2222222222222222,
           "#4a0c6b"
          ],
          [
           0.3333333333333333,
           "#781c6d"
          ],
          [
           0.4444444444444444,
           "#a52c60"
          ],
          [
           0.5555555555555556,
           "#cf4446"
          ],
          [
           0.6666666666666666,
           "#ed6925"
          ],
          [
           0.7777777777777778,
           "#fb9b06"
          ],
          [
           0.8888888888888888,
           "#f7d13d"
          ],
          [
           1,
           "#fcffa4"
          ]
         ]
        },
        "legend": {
         "tracegroupgap": 0
        },
        "margin": {
         "t": 60
        },
        "template": {
         "data": {
          "bar": [
           {
            "error_x": {
             "color": "#2a3f5f"
            },
            "error_y": {
             "color": "#2a3f5f"
            },
            "marker": {
             "line": {
              "color": "#E5ECF6",
              "width": 0.5
             }
            },
            "type": "bar"
           }
          ],
          "barpolar": [
           {
            "marker": {
             "line": {
              "color": "#E5ECF6",
              "width": 0.5
             }
            },
            "type": "barpolar"
           }
          ],
          "carpet": [
           {
            "aaxis": {
             "endlinecolor": "#2a3f5f",
             "gridcolor": "white",
             "linecolor": "white",
             "minorgridcolor": "white",
             "startlinecolor": "#2a3f5f"
            },
            "baxis": {
             "endlinecolor": "#2a3f5f",
             "gridcolor": "white",
             "linecolor": "white",
             "minorgridcolor": "white",
             "startlinecolor": "#2a3f5f"
            },
            "type": "carpet"
           }
          ],
          "choropleth": [
           {
            "colorbar": {
             "outlinewidth": 0,
             "ticks": ""
            },
            "type": "choropleth"
           }
          ],
          "contour": [
           {
            "colorbar": {
             "outlinewidth": 0,
             "ticks": ""
            },
            "colorscale": [
             [
              0,
              "#0d0887"
             ],
             [
              0.1111111111111111,
              "#46039f"
             ],
             [
              0.2222222222222222,
              "#7201a8"
             ],
             [
              0.3333333333333333,
              "#9c179e"
             ],
             [
              0.4444444444444444,
              "#bd3786"
             ],
             [
              0.5555555555555556,
              "#d8576b"
             ],
             [
              0.6666666666666666,
              "#ed7953"
             ],
             [
              0.7777777777777778,
              "#fb9f3a"
             ],
             [
              0.8888888888888888,
              "#fdca26"
             ],
             [
              1,
              "#f0f921"
             ]
            ],
            "type": "contour"
           }
          ],
          "contourcarpet": [
           {
            "colorbar": {
             "outlinewidth": 0,
             "ticks": ""
            },
            "type": "contourcarpet"
           }
          ],
          "heatmap": [
           {
            "colorbar": {
             "outlinewidth": 0,
             "ticks": ""
            },
            "colorscale": [
             [
              0,
              "#0d0887"
             ],
             [
              0.1111111111111111,
              "#46039f"
             ],
             [
              0.2222222222222222,
              "#7201a8"
             ],
             [
              0.3333333333333333,
              "#9c179e"
             ],
             [
              0.4444444444444444,
              "#bd3786"
             ],
             [
              0.5555555555555556,
              "#d8576b"
             ],
             [
              0.6666666666666666,
              "#ed7953"
             ],
             [
              0.7777777777777778,
              "#fb9f3a"
             ],
             [
              0.8888888888888888,
              "#fdca26"
             ],
             [
              1,
              "#f0f921"
             ]
            ],
            "type": "heatmap"
           }
          ],
          "heatmapgl": [
           {
            "colorbar": {
             "outlinewidth": 0,
             "ticks": ""
            },
            "colorscale": [
             [
              0,
              "#0d0887"
             ],
             [
              0.1111111111111111,
              "#46039f"
             ],
             [
              0.2222222222222222,
              "#7201a8"
             ],
             [
              0.3333333333333333,
              "#9c179e"
             ],
             [
              0.4444444444444444,
              "#bd3786"
             ],
             [
              0.5555555555555556,
              "#d8576b"
             ],
             [
              0.6666666666666666,
              "#ed7953"
             ],
             [
              0.7777777777777778,
              "#fb9f3a"
             ],
             [
              0.8888888888888888,
              "#fdca26"
             ],
             [
              1,
              "#f0f921"
             ]
            ],
            "type": "heatmapgl"
           }
          ],
          "histogram": [
           {
            "marker": {
             "colorbar": {
              "outlinewidth": 0,
              "ticks": ""
             }
            },
            "type": "histogram"
           }
          ],
          "histogram2d": [
           {
            "colorbar": {
             "outlinewidth": 0,
             "ticks": ""
            },
            "colorscale": [
             [
              0,
              "#0d0887"
             ],
             [
              0.1111111111111111,
              "#46039f"
             ],
             [
              0.2222222222222222,
              "#7201a8"
             ],
             [
              0.3333333333333333,
              "#9c179e"
             ],
             [
              0.4444444444444444,
              "#bd3786"
             ],
             [
              0.5555555555555556,
              "#d8576b"
             ],
             [
              0.6666666666666666,
              "#ed7953"
             ],
             [
              0.7777777777777778,
              "#fb9f3a"
             ],
             [
              0.8888888888888888,
              "#fdca26"
             ],
             [
              1,
              "#f0f921"
             ]
            ],
            "type": "histogram2d"
           }
          ],
          "histogram2dcontour": [
           {
            "colorbar": {
             "outlinewidth": 0,
             "ticks": ""
            },
            "colorscale": [
             [
              0,
              "#0d0887"
             ],
             [
              0.1111111111111111,
              "#46039f"
             ],
             [
              0.2222222222222222,
              "#7201a8"
             ],
             [
              0.3333333333333333,
              "#9c179e"
             ],
             [
              0.4444444444444444,
              "#bd3786"
             ],
             [
              0.5555555555555556,
              "#d8576b"
             ],
             [
              0.6666666666666666,
              "#ed7953"
             ],
             [
              0.7777777777777778,
              "#fb9f3a"
             ],
             [
              0.8888888888888888,
              "#fdca26"
             ],
             [
              1,
              "#f0f921"
             ]
            ],
            "type": "histogram2dcontour"
           }
          ],
          "mesh3d": [
           {
            "colorbar": {
             "outlinewidth": 0,
             "ticks": ""
            },
            "type": "mesh3d"
           }
          ],
          "parcoords": [
           {
            "line": {
             "colorbar": {
              "outlinewidth": 0,
              "ticks": ""
             }
            },
            "type": "parcoords"
           }
          ],
          "pie": [
           {
            "automargin": true,
            "type": "pie"
           }
          ],
          "scatter": [
           {
            "marker": {
             "colorbar": {
              "outlinewidth": 0,
              "ticks": ""
             }
            },
            "type": "scatter"
           }
          ],
          "scatter3d": [
           {
            "line": {
             "colorbar": {
              "outlinewidth": 0,
              "ticks": ""
             }
            },
            "marker": {
             "colorbar": {
              "outlinewidth": 0,
              "ticks": ""
             }
            },
            "type": "scatter3d"
           }
          ],
          "scattercarpet": [
           {
            "marker": {
             "colorbar": {
              "outlinewidth": 0,
              "ticks": ""
             }
            },
            "type": "scattercarpet"
           }
          ],
          "scattergeo": [
           {
            "marker": {
             "colorbar": {
              "outlinewidth": 0,
              "ticks": ""
             }
            },
            "type": "scattergeo"
           }
          ],
          "scattergl": [
           {
            "marker": {
             "colorbar": {
              "outlinewidth": 0,
              "ticks": ""
             }
            },
            "type": "scattergl"
           }
          ],
          "scattermapbox": [
           {
            "marker": {
             "colorbar": {
              "outlinewidth": 0,
              "ticks": ""
             }
            },
            "type": "scattermapbox"
           }
          ],
          "scatterpolar": [
           {
            "marker": {
             "colorbar": {
              "outlinewidth": 0,
              "ticks": ""
             }
            },
            "type": "scatterpolar"
           }
          ],
          "scatterpolargl": [
           {
            "marker": {
             "colorbar": {
              "outlinewidth": 0,
              "ticks": ""
             }
            },
            "type": "scatterpolargl"
           }
          ],
          "scatterternary": [
           {
            "marker": {
             "colorbar": {
              "outlinewidth": 0,
              "ticks": ""
             }
            },
            "type": "scatterternary"
           }
          ],
          "surface": [
           {
            "colorbar": {
             "outlinewidth": 0,
             "ticks": ""
            },
            "colorscale": [
             [
              0,
              "#0d0887"
             ],
             [
              0.1111111111111111,
              "#46039f"
             ],
             [
              0.2222222222222222,
              "#7201a8"
             ],
             [
              0.3333333333333333,
              "#9c179e"
             ],
             [
              0.4444444444444444,
              "#bd3786"
             ],
             [
              0.5555555555555556,
              "#d8576b"
             ],
             [
              0.6666666666666666,
              "#ed7953"
             ],
             [
              0.7777777777777778,
              "#fb9f3a"
             ],
             [
              0.8888888888888888,
              "#fdca26"
             ],
             [
              1,
              "#f0f921"
             ]
            ],
            "type": "surface"
           }
          ],
          "table": [
           {
            "cells": {
             "fill": {
              "color": "#EBF0F8"
             },
             "line": {
              "color": "white"
             }
            },
            "header": {
             "fill": {
              "color": "#C8D4E3"
             },
             "line": {
              "color": "white"
             }
            },
            "type": "table"
           }
          ]
         },
         "layout": {
          "annotationdefaults": {
           "arrowcolor": "#2a3f5f",
           "arrowhead": 0,
           "arrowwidth": 1
          },
          "autotypenumbers": "strict",
          "coloraxis": {
           "colorbar": {
            "outlinewidth": 0,
            "ticks": ""
           }
          },
          "colorscale": {
           "diverging": [
            [
             0,
             "#8e0152"
            ],
            [
             0.1,
             "#c51b7d"
            ],
            [
             0.2,
             "#de77ae"
            ],
            [
             0.3,
             "#f1b6da"
            ],
            [
             0.4,
             "#fde0ef"
            ],
            [
             0.5,
             "#f7f7f7"
            ],
            [
             0.6,
             "#e6f5d0"
            ],
            [
             0.7,
             "#b8e186"
            ],
            [
             0.8,
             "#7fbc41"
            ],
            [
             0.9,
             "#4d9221"
            ],
            [
             1,
             "#276419"
            ]
           ],
           "sequential": [
            [
             0,
             "#0d0887"
            ],
            [
             0.1111111111111111,
             "#46039f"
            ],
            [
             0.2222222222222222,
             "#7201a8"
            ],
            [
             0.3333333333333333,
             "#9c179e"
            ],
            [
             0.4444444444444444,
             "#bd3786"
            ],
            [
             0.5555555555555556,
             "#d8576b"
            ],
            [
             0.6666666666666666,
             "#ed7953"
            ],
            [
             0.7777777777777778,
             "#fb9f3a"
            ],
            [
             0.8888888888888888,
             "#fdca26"
            ],
            [
             1,
             "#f0f921"
            ]
           ],
           "sequentialminus": [
            [
             0,
             "#0d0887"
            ],
            [
             0.1111111111111111,
             "#46039f"
            ],
            [
             0.2222222222222222,
             "#7201a8"
            ],
            [
             0.3333333333333333,
             "#9c179e"
            ],
            [
             0.4444444444444444,
             "#bd3786"
            ],
            [
             0.5555555555555556,
             "#d8576b"
            ],
            [
             0.6666666666666666,
             "#ed7953"
            ],
            [
             0.7777777777777778,
             "#fb9f3a"
            ],
            [
             0.8888888888888888,
             "#fdca26"
            ],
            [
             1,
             "#f0f921"
            ]
           ]
          },
          "colorway": [
           "#636efa",
           "#EF553B",
           "#00cc96",
           "#ab63fa",
           "#FFA15A",
           "#19d3f3",
           "#FF6692",
           "#B6E880",
           "#FF97FF",
           "#FECB52"
          ],
          "font": {
           "color": "#2a3f5f"
          },
          "geo": {
           "bgcolor": "white",
           "lakecolor": "white",
           "landcolor": "#E5ECF6",
           "showlakes": true,
           "showland": true,
           "subunitcolor": "white"
          },
          "hoverlabel": {
           "align": "left"
          },
          "hovermode": "closest",
          "mapbox": {
           "style": "light"
          },
          "paper_bgcolor": "white",
          "plot_bgcolor": "#E5ECF6",
          "polar": {
           "angularaxis": {
            "gridcolor": "white",
            "linecolor": "white",
            "ticks": ""
           },
           "bgcolor": "#E5ECF6",
           "radialaxis": {
            "gridcolor": "white",
            "linecolor": "white",
            "ticks": ""
           }
          },
          "scene": {
           "xaxis": {
            "backgroundcolor": "#E5ECF6",
            "gridcolor": "white",
            "gridwidth": 2,
            "linecolor": "white",
            "showbackground": true,
            "ticks": "",
            "zerolinecolor": "white"
           },
           "yaxis": {
            "backgroundcolor": "#E5ECF6",
            "gridcolor": "white",
            "gridwidth": 2,
            "linecolor": "white",
            "showbackground": true,
            "ticks": "",
            "zerolinecolor": "white"
           },
           "zaxis": {
            "backgroundcolor": "#E5ECF6",
            "gridcolor": "white",
            "gridwidth": 2,
            "linecolor": "white",
            "showbackground": true,
            "ticks": "",
            "zerolinecolor": "white"
           }
          },
          "shapedefaults": {
           "line": {
            "color": "#2a3f5f"
           }
          },
          "ternary": {
           "aaxis": {
            "gridcolor": "white",
            "linecolor": "white",
            "ticks": ""
           },
           "baxis": {
            "gridcolor": "white",
            "linecolor": "white",
            "ticks": ""
           },
           "bgcolor": "#E5ECF6",
           "caxis": {
            "gridcolor": "white",
            "linecolor": "white",
            "ticks": ""
           }
          },
          "title": {
           "x": 0.05
          },
          "xaxis": {
           "automargin": true,
           "gridcolor": "white",
           "linecolor": "white",
           "ticks": "",
           "title": {
            "standoff": 15
           },
           "zerolinecolor": "white",
           "zerolinewidth": 2
          },
          "yaxis": {
           "automargin": true,
           "gridcolor": "white",
           "linecolor": "white",
           "ticks": "",
           "title": {
            "standoff": 15
           },
           "zerolinecolor": "white",
           "zerolinewidth": 2
          }
         }
        }
       }
      },
      "image/png": "[encoded data removed]",
      "text/html": [
       "<div>                            <div id=\"c162915c-e2f8-4952-8f52-5731c38e5271\" class=\"plotly-graph-div\" style=\"height:525px; width:100%;\"></div>            <script type=\"text/javascript\">                require([\"plotly\"], function(Plotly) {                    window.PLOTLYENV=window.PLOTLYENV || {};                                    if (document.getElementById(\"c162915c-e2f8-4952-8f52-5731c38e5271\")) {                    Plotly.newPlot(                        \"c162915c-e2f8-4952-8f52-5731c38e5271\",                        [{\"dimensions\": [{\"label\": \"US Retail Mobility \", \"values\": [-13.0, -11.0, -13.0, -16.0, -16.0, -16.0, -17.0, -16.0, -14.0, -15.0, -16.0, -15.0, -16.0, -15.0, -15.0, -16.0, -16.0, -17.0, -16.0, -14.0, -13.0, -14.0, -15.0, -15.0, -15.0, -15.0, -16.0, -17.0, -17.0, -14.0, -15.0, -17.0, -18.0, -17.0, -16.0, -16.0, -17.0, -19.0, -17.0, -16.0, -17.0, -14.0, -17.0, -11.0, -18.0, -18.0, -18.0, -19.0, -18.0, -15.0, -20.0, -19.0, -20.0, -20.0, -19.0, -19.0, -20.0, -16.0, -12.0, -3.0, -26.0, -21.0, -18.0, -19.0, -18.0, -20.0, -21.0, -20.0, -19.0, -19.0, -21.0, -20.0, -17.0, -20.0, -22.0, -19.0, -8.0, -5.0, 2.0, -16.0, -17.0, -17.0, -13.0, -9.0, -19.0, -20.0, -22.0, -24.0, -26.0, -25.0, -23.0, -23.0, -25.0, -27.0, -26.0, -26.0, -26.0, -26.0, -28.0, -28.0]}, {\"label\": \"AMZN\", \"values\": [3529.34, 3369.17, 3294.62, 3149.84, 3268.27, 3176.12, 3117.28, 3102.97, 3153.28, 3077.14, 3010.56, 2952.64, 2962.0, 3129.0, 2997.44, 3018.58, 3094.65, 3175.04, 3142.92, 3147.425, 3222.01, 3125.93, 3199.2, 3099.29, 3192.51, 3190.55, 3287.82, 3442.93, 3442.64, 3363.05, 3338.62, 3160.0, 3207.3, 3216.26, 3183.6, 3177.4, 3204.64, 3207.32, 3287.92, 3162.49, 3212.79, 3036.13, 3004.48, 3046.25, 3241.16, 3322.0, 3310.41, 3141.34, 3035.18, 3136.81, 3110.2, 3134.09, 3132.99, 3135.66, 3105.1, 3114.41, 3099.205, 3100.18, 3116.86, 3184.82, 3195.95, 3168.03, 3220.08, 3203.75, 3188.66, 3163.49, 3158.77, 3176.64, 3101.35, 3100.07, 3116.41, 3156.97, 3166.45, 3240.96, 3237.015, 3201.07, 3205.74, 3206.52, 3186.73, 3171.16, 3283.96, 3320.71, 3285.85, 3256.41, 3186.65, 3218.51, 3138.01, 3161.41, 3182.7, 3115.75, 3120.88, 3166.24, 3129.32, 3104.54, 3121.0, 3264.73, 3307.21, 3290.0, 3293.1, 3326.12]}, {\"label\": \"PRTY\", \"values\": [2.78, 2.54, 2.595, 2.46, 2.68, 2.73, 2.58, 2.64, 2.65, 2.94, 3.04, 3.15, 3.04, 3.21, 3.19, 2.685, 2.805, 2.96, 2.68, 2.6, 2.68, 2.7, 2.58, 2.51, 2.58, 2.54, 2.55, 2.75, 2.72, 2.64, 2.595, 2.5, 2.36, 2.29, 2.18, 2.09, 2.13, 1.965, 1.84, 1.78, 2.0606, 1.99, 2.11, 2.18, 2.14, 2.35, 2.33, 3.15, 3.17, 3.21, 3.4, 3.15, 3.32, 3.94, 3.9089, 3.81, 4.19, 4.55, 4.86, 4.836, 4.88, 4.59, 4.5708, 4.88, 5.07, 5.325, 5.1, 5.29, 5.42, 5.7, 5.44, 5.39, 5.71, 5.84, 6.18, 5.98, 6.42, 6.7, 6.26, 6.19, 6.09, 6.35, 6.51, 6.17, 6.28, 6.58, 6.97, 8.14, 7.97, 7.83, 8.08, 7.4401, 7.2499, 6.79, 6.56, 7.035, 7.1, 7.455, 7.42, 7.27]}, {\"label\": \"WMT\", \"values\": [147.6301, 144.57, 142.84, 138.45, 139.94, 136.79, 136.68, 137.27, 137.26, 136.27, 136.71, 135.29, 137.08, 138.32, 136.01, 136.7, 137.27, 137.3, 137.13, 139.87, 143.07, 140.51, 141.8, 140.59, 140.88, 141.36, 142.8, 144.24, 146.24, 143.95, 144.535, 144.69, 143.06, 143.87, 144.42, 143.55, 143.84, 142.25, 142.88, 140.12, 139.92, 138.81, 140.41, 142.74, 142.0, 143.46, 145.78, 143.57, 145.58, 148.0, 148.17, 150.54, 153.03, 149.38, 149.1, 152.12, 150.32, 150.9, 151.37, 151.84, 151.68, 152.9, 152.63, 150.53, 149.3, 148.92, 148.12, 149.45, 148.14, 147.03, 146.98, 145.5291, 145.59, 145.44, 146.07, 145.61, 145.96, 144.2, 143.24, 143.5, 145.22, 144.31, 144.24, 144.09, 146.51, 145.74, 146.68, 146.65, 146.63, 147.29, 148.97, 147.46, 146.9745, 144.65, 143.39, 145.46, 144.87, 146.3, 146.24, 147.52]}, {\"label\": \"ETSY\", \"values\": [124.38, 116.16, 112.01, 110.56, 112.7, 110.5, 110.78, 112.54, 111.01, 108.75, 109.2, 111.82, 116.035, 119.39, 115.1, 113.68, 118.29, 123.78, 123.2, 121.62, 131.69, 131.68, 136.69, 134.55, 142.66, 139.53, 146.67, 147.399, 153.16, 149.923, 150.66, 147.66, 148.37, 144.75, 133.01, 135.94, 137.845, 139.73, 145.77, 139.7, 132.36, 121.6, 126.47, 130.45, 136.2, 143.64, 146.31, 121.21, 119.4262, 130.59, 127.01, 124.9, 125.13, 128.91, 127.01, 134.52, 140.05, 140.04, 137.54, 145.09, 160.61, 160.77, 154.57, 154.62, 154.74, 155.0, 156.99, 163.98, 159.03, 165.38, 170.09, 169.87, 177.81, 182.26, 187.98, 190.82, 189.2, 197.59, 190.16, 190.43, 178.07, 177.01, 182.97, 177.84, 172.06, 174.88, 167.57, 170.71, 175.74, 183.0, 205.14, 207.03, 211.6, 204.41, 221.31, 215.8, 212.54, 213.59, 208.94, 204.42]}, {\"label\": \"M\", \"values\": [7.05, 7.6, 7.635, 7.62, 7.55, 7.41, 7.05, 7.21, 6.87, 6.99, 6.87, 6.77, 6.31, 6.275, 6.11, 6.035, 6.03, 5.96, 5.67, 5.7, 5.85, 6.005, 6.06, 5.81, 5.96, 6.29, 6.23, 6.21, 6.13, 6.13, 6.275, 6.16, 6.1, 6.34, 6.53, 7.005, 7.22, 6.76, 6.45, 6.11, 6.205, 6.21, 6.08, 6.58, 6.26, 6.44, 6.57, 7.7, 7.75, 7.41, 7.0, 7.295, 7.74, 8.8, 8.99, 9.18, 9.05, 10.41, 10.86, 11.0, 10.85, 10.2, 10.41, 10.95, 11.23, 11.73, 11.67, 11.53, 11.66, 11.7, 11.08, 10.34, 10.74, 10.27, 10.42, 10.44, 10.46, 10.12, 11.13, 10.735, 11.66, 11.5, 12.03, 11.25, 11.23, 11.39, 12.51, 12.21, 12.29, 12.57, 12.98, 13.19, 13.86, 13.01, 12.6, 12.34, 12.32, 12.89, 14.28, 15.85]}], \"domain\": {\"x\": [0.0, 1.0], \"y\": [0.0, 1.0]}, \"line\": {\"color\": [3529.34, 3369.17, 3294.62, 3149.84, 3268.27, 3176.12, 3117.28, 3102.97, 3153.28, 3077.14, 3010.56, 2952.64, 2962.0, 3129.0, 2997.44, 3018.58, 3094.65, 3175.04, 3142.92, 3147.425, 3222.01, 3125.93, 3199.2, 3099.29, 3192.51, 3190.55, 3287.82, 3442.93, 3442.64, 3363.05, 3338.62, 3160.0, 3207.3, 3216.26, 3183.6, 3177.4, 3204.64, 3207.32, 3287.92, 3162.49, 3212.79, 3036.13, 3004.48, 3046.25, 3241.16, 3322.0, 3310.41, 3141.34, 3035.18, 3136.81, 3110.2, 3134.09, 3132.99, 3135.66, 3105.1, 3114.41, 3099.205, 3100.18, 3116.86, 3184.82, 3195.95, 3168.03, 3220.08, 3203.75, 3188.66, 3163.49, 3158.77, 3176.64, 3101.35, 3100.07, 3116.41, 3156.97, 3166.45, 3240.96, 3237.015, 3201.07, 3205.74, 3206.52, 3186.73, 3171.16, 3283.96, 3320.71, 3285.85, 3256.41, 3186.65, 3218.51, 3138.01, 3161.41, 3182.7, 3115.75, 3120.88, 3166.24, 3129.32, 3104.54, 3121.0, 3264.73, 3307.21, 3290.0, 3293.1, 3326.12], \"coloraxis\": \"coloraxis\"}, \"name\": \"\", \"type\": \"parcoords\"}],                        {\"coloraxis\": {\"colorbar\": {\"title\": {\"text\": \"AMZN\"}}, \"colorscale\": [[0.0, \"#000004\"], [0.1111111111111111, \"#1b0c41\"], [0.2222222222222222, \"#4a0c6b\"], [0.3333333333333333, \"#781c6d\"], [0.4444444444444444, \"#a52c60\"], [0.5555555555555556, \"#cf4446\"], [0.6666666666666666, \"#ed6925\"], [0.7777777777777778, \"#fb9b06\"], [0.8888888888888888, \"#f7d13d\"], [1.0, \"#fcffa4\"]]}, \"legend\": {\"tracegroupgap\": 0}, \"margin\": {\"t\": 60}, \"template\": {\"data\": {\"bar\": [{\"error_x\": {\"color\": \"#2a3f5f\"}, \"error_y\": {\"color\": \"#2a3f5f\"}, \"marker\": {\"line\": {\"color\": \"#E5ECF6\", \"width\": 0.5}}, \"type\": \"bar\"}], \"barpolar\": [{\"marker\": {\"line\": {\"color\": \"#E5ECF6\", \"width\": 0.5}}, \"type\": \"barpolar\"}], \"carpet\": [{\"aaxis\": {\"endlinecolor\": \"#2a3f5f\", \"gridcolor\": \"white\", \"linecolor\": \"white\", \"minorgridcolor\": \"white\", \"startlinecolor\": \"#2a3f5f\"}, \"baxis\": {\"endlinecolor\": \"#2a3f5f\", \"gridcolor\": \"white\", \"linecolor\": \"white\", \"minorgridcolor\": \"white\", \"startlinecolor\": \"#2a3f5f\"}, \"type\": \"carpet\"}], \"choropleth\": [{\"colorbar\": {\"outlinewidth\": 0, \"ticks\": \"\"}, \"type\": \"choropleth\"}], \"contour\": [{\"colorbar\": {\"outlinewidth\": 0, \"ticks\": \"\"}, \"colorscale\": [[0.0, \"#0d0887\"], [0.1111111111111111, \"#46039f\"], [0.2222222222222222, \"#7201a8\"], [0.3333333333333333, \"#9c179e\"], [0.4444444444444444, \"#bd3786\"], [0.5555555555555556, \"#d8576b\"], [0.6666666666666666, \"#ed7953\"], [0.7777777777777778, \"#fb9f3a\"], [0.8888888888888888, \"#fdca26\"], [1.0, \"#f0f921\"]], \"type\": \"contour\"}], \"contourcarpet\": [{\"colorbar\": {\"outlinewidth\": 0, \"ticks\": \"\"}, \"type\": \"contourcarpet\"}], \"heatmap\": [{\"colorbar\": {\"outlinewidth\": 0, \"ticks\": \"\"}, \"colorscale\": [[0.0, \"#0d0887\"], [0.1111111111111111, \"#46039f\"], [0.2222222222222222, \"#7201a8\"], [0.3333333333333333, \"#9c179e\"], [0.4444444444444444, \"#bd3786\"], [0.5555555555555556, \"#d8576b\"], [0.6666666666666666, \"#ed7953\"], [0.7777777777777778, \"#fb9f3a\"], [0.8888888888888888, \"#fdca26\"], [1.0, \"#f0f921\"]], \"type\": \"heatmap\"}], \"heatmapgl\": [{\"colorbar\": {\"outlinewidth\": 0, \"ticks\": \"\"}, \"colorscale\": [[0.0, \"#0d0887\"], [0.1111111111111111, \"#46039f\"], [0.2222222222222222, \"#7201a8\"], [0.3333333333333333, \"#9c179e\"], [0.4444444444444444, \"#bd3786\"], [0.5555555555555556, \"#d8576b\"], [0.6666666666666666, \"#ed7953\"], [0.7777777777777778, \"#fb9f3a\"], [0.8888888888888888, \"#fdca26\"], [1.0, \"#f0f921\"]], \"type\": \"heatmapgl\"}], \"histogram\": [{\"marker\": {\"colorbar\": {\"outlinewidth\": 0, \"ticks\": \"\"}}, \"type\": \"histogram\"}], \"histogram2d\": [{\"colorbar\": {\"outlinewidth\": 0, \"ticks\": \"\"}, \"colorscale\": [[0.0, \"#0d0887\"], [0.1111111111111111, \"#46039f\"], [0.2222222222222222, \"#7201a8\"], [0.3333333333333333, \"#9c179e\"], [0.4444444444444444, \"#bd3786\"], [0.5555555555555556, \"#d8576b\"], [0.6666666666666666, \"#ed7953\"], [0.7777777777777778, \"#fb9f3a\"], [0.8888888888888888, \"#fdca26\"], [1.0, \"#f0f921\"]], \"type\": \"histogram2d\"}], \"histogram2dcontour\": [{\"colorbar\": {\"outlinewidth\": 0, \"ticks\": \"\"}, \"colorscale\": [[0.0, \"#0d0887\"], [0.1111111111111111, \"#46039f\"], [0.2222222222222222, \"#7201a8\"], [0.3333333333333333, \"#9c179e\"], [0.4444444444444444, \"#bd3786\"], [0.5555555555555556, \"#d8576b\"], [0.6666666666666666, \"#ed7953\"], [0.7777777777777778, \"#fb9f3a\"], [0.8888888888888888, \"#fdca26\"], [1.0, \"#f0f921\"]], \"type\": \"histogram2dcontour\"}], \"mesh3d\": [{\"colorbar\": {\"outlinewidth\": 0, \"ticks\": \"\"}, \"type\": \"mesh3d\"}], \"parcoords\": [{\"line\": {\"colorbar\": {\"outlinewidth\": 0, \"ticks\": \"\"}}, \"type\": \"parcoords\"}], \"pie\": [{\"automargin\": true, \"type\": \"pie\"}], \"scatter\": [{\"marker\": {\"colorbar\": {\"outlinewidth\": 0, \"ticks\": \"\"}}, \"type\": \"scatter\"}], \"scatter3d\": [{\"line\": {\"colorbar\": {\"outlinewidth\": 0, \"ticks\": \"\"}}, \"marker\": {\"colorbar\": {\"outlinewidth\": 0, \"ticks\": \"\"}}, \"type\": \"scatter3d\"}], \"scattercarpet\": [{\"marker\": {\"colorbar\": {\"outlinewidth\": 0, \"ticks\": \"\"}}, \"type\": \"scattercarpet\"}], \"scattergeo\": [{\"marker\": {\"colorbar\": {\"outlinewidth\": 0, \"ticks\": \"\"}}, \"type\": \"scattergeo\"}], \"scattergl\": [{\"marker\": {\"colorbar\": {\"outlinewidth\": 0, \"ticks\": \"\"}}, \"type\": \"scattergl\"}], \"scattermapbox\": [{\"marker\": {\"colorbar\": {\"outlinewidth\": 0, \"ticks\": \"\"}}, \"type\": \"scattermapbox\"}], \"scatterpolar\": [{\"marker\": {\"colorbar\": {\"outlinewidth\": 0, \"ticks\": \"\"}}, \"type\": \"scatterpolar\"}], \"scatterpolargl\": [{\"marker\": {\"colorbar\": {\"outlinewidth\": 0, \"ticks\": \"\"}}, \"type\": \"scatterpolargl\"}], \"scatterternary\": [{\"marker\": {\"colorbar\": {\"outlinewidth\": 0, \"ticks\": \"\"}}, \"type\": \"scatterternary\"}], \"surface\": [{\"colorbar\": {\"outlinewidth\": 0, \"ticks\": \"\"}, \"colorscale\": [[0.0, \"#0d0887\"], [0.1111111111111111, \"#46039f\"], [0.2222222222222222, \"#7201a8\"], [0.3333333333333333, \"#9c179e\"], [0.4444444444444444, \"#bd3786\"], [0.5555555555555556, \"#d8576b\"], [0.6666666666666666, \"#ed7953\"], [0.7777777777777778, \"#fb9f3a\"], [0.8888888888888888, \"#fdca26\"], [1.0, \"#f0f921\"]], \"type\": \"surface\"}], \"table\": [{\"cells\": {\"fill\": {\"color\": \"#EBF0F8\"}, \"line\": {\"color\": \"white\"}}, \"header\": {\"fill\": {\"color\": \"#C8D4E3\"}, \"line\": {\"color\": \"white\"}}, \"type\": \"table\"}]}, \"layout\": {\"annotationdefaults\": {\"arrowcolor\": \"#2a3f5f\", \"arrowhead\": 0, \"arrowwidth\": 1}, \"autotypenumbers\": \"strict\", \"coloraxis\": {\"colorbar\": {\"outlinewidth\": 0, \"ticks\": \"\"}}, \"colorscale\": {\"diverging\": [[0, \"#8e0152\"], [0.1, \"#c51b7d\"], [0.2, \"#de77ae\"], [0.3, \"#f1b6da\"], [0.4, \"#fde0ef\"], [0.5, \"#f7f7f7\"], [0.6, \"#e6f5d0\"], [0.7, \"#b8e186\"], [0.8, \"#7fbc41\"], [0.9, \"#4d9221\"], [1, \"#276419\"]], \"sequential\": [[0.0, \"#0d0887\"], [0.1111111111111111, \"#46039f\"], [0.2222222222222222, \"#7201a8\"], [0.3333333333333333, \"#9c179e\"], [0.4444444444444444, \"#bd3786\"], [0.5555555555555556, \"#d8576b\"], [0.6666666666666666, \"#ed7953\"], [0.7777777777777778, \"#fb9f3a\"], [0.8888888888888888, \"#fdca26\"], [1.0, \"#f0f921\"]], \"sequentialminus\": [[0.0, \"#0d0887\"], [0.1111111111111111, \"#46039f\"], [0.2222222222222222, \"#7201a8\"], [0.3333333333333333, \"#9c179e\"], [0.4444444444444444, \"#bd3786\"], [0.5555555555555556, \"#d8576b\"], [0.6666666666666666, \"#ed7953\"], [0.7777777777777778, \"#fb9f3a\"], [0.8888888888888888, \"#fdca26\"], [1.0, \"#f0f921\"]]}, \"colorway\": [\"#636efa\", \"#EF553B\", \"#00cc96\", \"#ab63fa\", \"#FFA15A\", \"#19d3f3\", \"#FF6692\", \"#B6E880\", \"#FF97FF\", \"#FECB52\"], \"font\": {\"color\": \"#2a3f5f\"}, \"geo\": {\"bgcolor\": \"white\", \"lakecolor\": \"white\", \"landcolor\": \"#E5ECF6\", \"showlakes\": true, \"showland\": true, \"subunitcolor\": \"white\"}, \"hoverlabel\": {\"align\": \"left\"}, \"hovermode\": \"closest\", \"mapbox\": {\"style\": \"light\"}, \"paper_bgcolor\": \"white\", \"plot_bgcolor\": \"#E5ECF6\", \"polar\": {\"angularaxis\": {\"gridcolor\": \"white\", \"linecolor\": \"white\", \"ticks\": \"\"}, \"bgcolor\": \"#E5ECF6\", \"radialaxis\": {\"gridcolor\": \"white\", \"linecolor\": \"white\", \"ticks\": \"\"}}, \"scene\": {\"xaxis\": {\"backgroundcolor\": \"#E5ECF6\", \"gridcolor\": \"white\", \"gridwidth\": 2, \"linecolor\": \"white\", \"showbackground\": true, \"ticks\": \"\", \"zerolinecolor\": \"white\"}, \"yaxis\": {\"backgroundcolor\": \"#E5ECF6\", \"gridcolor\": \"white\", \"gridwidth\": 2, \"linecolor\": \"white\", \"showbackground\": true, \"ticks\": \"\", \"zerolinecolor\": \"white\"}, \"zaxis\": {\"backgroundcolor\": \"#E5ECF6\", \"gridcolor\": \"white\", \"gridwidth\": 2, \"linecolor\": \"white\", \"showbackground\": true, \"ticks\": \"\", \"zerolinecolor\": \"white\"}}, \"shapedefaults\": {\"line\": {\"color\": \"#2a3f5f\"}}, \"ternary\": {\"aaxis\": {\"gridcolor\": \"white\", \"linecolor\": \"white\", \"ticks\": \"\"}, \"baxis\": {\"gridcolor\": \"white\", \"linecolor\": \"white\", \"ticks\": \"\"}, \"bgcolor\": \"#E5ECF6\", \"caxis\": {\"gridcolor\": \"white\", \"linecolor\": \"white\", \"ticks\": \"\"}}, \"title\": {\"x\": 0.05}, \"xaxis\": {\"automargin\": true, \"gridcolor\": \"white\", \"linecolor\": \"white\", \"ticks\": \"\", \"title\": {\"standoff\": 15}, \"zerolinecolor\": \"white\", \"zerolinewidth\": 2}, \"yaxis\": {\"automargin\": true, \"gridcolor\": \"white\", \"linecolor\": \"white\", \"ticks\": \"\", \"title\": {\"standoff\": 15}, \"zerolinecolor\": \"white\", \"zerolinewidth\": 2}}}},                        {\"responsive\": true}                    ).then(function(){\n",
       "                            \n",
       "var gd = document.getElementById('c162915c-e2f8-4952-8f52-5731c38e5271');\n",
       "var x = new MutationObserver(function (mutations, observer) {{\n",
       "        var display = window.getComputedStyle(gd).display;\n",
       "        if (!display || display === 'none') {{\n",
       "            console.log([gd, 'removed!']);\n",
       "            Plotly.purge(gd);\n",
       "            observer.disconnect();\n",
       "        }}\n",
       "}});\n",
       "\n",
       "// Listen for the removal of the full notebook cells\n",
       "var notebookContainer = gd.closest('#notebook-container');\n",
       "if (notebookContainer) {{\n",
       "    x.observe(notebookContainer, {childList: true});\n",
       "}}\n",
       "\n",
       "// Listen for the clearing of the current output cell\n",
       "var outputEl = gd.closest('.output');\n",
       "if (outputEl) {{\n",
       "    x.observe(outputEl, {childList: true});\n",
       "}}\n",
       "\n",
       "                        })                };                });            </script>        </div>"
      ]
     },
     "metadata": {},
     "output_type": "display_data"
    }
   ],
   "source": [
    "# not sure what this means yet\n",
    "type(close_prices.index)\n",
    "# convert to dt \n",
    "#close_prices['month']=pd.to_datetime(close_prices.index).month\n",
    "\n",
    "# Create Parallel Coordinates plot\n",
    "px.parallel_coordinates(\n",
    "    stock_mobility,\n",
    "    dimensions = ['US Retail Mobility ','AMZN','CPPRQ','PRTY','WMT','ETSY','M'],\n",
    "    color_continuous_scale=px.colors.sequential.Inferno,\n",
    "    color ='AMZN'\n",
    " )"
   ]
  },
  {
   "cell_type": "code",
   "execution_count": 104,
   "metadata": {},
   "outputs": [
    {
     "data": {
      "image/png": "[encoded data removed]",
      "text/plain": [
       "<Figure size 432x288 with 2 Axes>"
      ]
     },
     "metadata": {
      "needs_background": "light"
     },
     "output_type": "display_data"
    }
   ],
   "source": [
    "import matplotlib. pyplot as plt\n",
    "#stock_mobility.plot(y = ['AMZN','US Retail Mobility '])\n",
    "# create figure and axis objects with subplots()\n",
    "fig,ax = plt.subplots()\n",
    "# make a plot\n",
    "ax.plot(stock_mobility.index, stock_mobility.M, color=\"red\")\n",
    "# set x-axis label\n",
    "ax.set_xlabel(\"Date\",fontsize=14)\n",
    "# set y-axis label\n",
    "ax.set_ylabel(\"AMZN\",color=\"red\",fontsize=14)\n",
    "# twin object for two different y-axis on the sample plot\n",
    "ax2=ax.twinx()\n",
    "# make a plot with different y-axis using second axis object\n",
    "ax2.plot(stock_mobility.index, stock_mobility[\"US Retail Mobility \"],color=\"blue\")\n",
    "ax2.set_ylabel(\"US Retail Mobility \",color=\"blue\",fontsize=14)\n",
    "plt.show()"
   ]
  },
  {
   "cell_type": "code",
   "execution_count": 105,
   "metadata": {},
   "outputs": [
    {
     "data": {
      "image/png": "[encoded data removed]",
      "text/plain": [
       "<Figure size 432x288 with 2 Axes>"
      ]
     },
     "metadata": {
      "needs_background": "light"
     },
     "output_type": "display_data"
    }
   ],
   "source": [
    "# create figure and axis objects with subplots()\n",
    "fig,ax = plt.subplots()\n",
    "# make a plot\n",
    "ax.plot(stock_mobility.index, stock_mobility.PRTY, color=\"red\")\n",
    "# set x-axis label\n",
    "ax.set_xlabel(\"Date\",fontsize=14)\n",
    "# set y-axis label\n",
    "ax.set_ylabel(\"PRTY\",color=\"red\",fontsize=14)\n",
    "# twin object for two different y-axis on the sample plot\n",
    "ax2=ax.twinx()\n",
    "# make a plot with different y-axis using second axis object\n",
    "ax2.plot(stock_mobility.index, stock_mobility[\"US Retail Mobility \"],color=\"blue\")\n",
    "ax2.set_ylabel(\"US Retail Mobility \",color=\"blue\",fontsize=14)\n",
    "plt.show()"
   ]
  },
  {
   "cell_type": "code",
   "execution_count": 108,
   "metadata": {},
   "outputs": [
    {
     "ename": "TypeError",
     "evalue": "Only valid with DatetimeIndex, TimedeltaIndex or PeriodIndex, but got an instance of 'Index'",
     "output_type": "error",
     "traceback": [
      "\u001b[0;31m---------------------------------------------------------------------------\u001b[0m",
      "\u001b[0;31mTypeError\u001b[0m                                 Traceback (most recent call last)",
      "\u001b[0;32m<ipython-input-108-3b8e0a9b5208>\u001b[0m in \u001b[0;36m<module>\u001b[0;34m\u001b[0m\n\u001b[1;32m      3\u001b[0m \u001b[0;31m# resetting the index\u001b[0m\u001b[0;34m\u001b[0m\u001b[0;34m\u001b[0m\u001b[0;34m\u001b[0m\u001b[0m\n\u001b[1;32m      4\u001b[0m \u001b[0;34m\u001b[0m\u001b[0m\n\u001b[0;32m----> 5\u001b[0;31m \u001b[0mstock_mobility_qtly\u001b[0m \u001b[0;34m=\u001b[0m \u001b[0mstock_mobility\u001b[0m\u001b[0;34m.\u001b[0m\u001b[0mgroupby\u001b[0m\u001b[0;34m(\u001b[0m\u001b[0mpd\u001b[0m\u001b[0;34m.\u001b[0m\u001b[0mGrouper\u001b[0m\u001b[0;34m(\u001b[0m\u001b[0mfreq\u001b[0m\u001b[0;34m=\u001b[0m\u001b[0;34m\"3M\"\u001b[0m\u001b[0;34m)\u001b[0m\u001b[0;34m)\u001b[0m\u001b[0;34m.\u001b[0m\u001b[0mmean\u001b[0m\u001b[0;34m(\u001b[0m\u001b[0;34m)\u001b[0m\u001b[0;34m\u001b[0m\u001b[0;34m\u001b[0m\u001b[0m\n\u001b[0m",
      "\u001b[0;32m~/opt/anaconda3/lib/python3.8/site-packages/pandas/core/frame.py\u001b[0m in \u001b[0;36mgroupby\u001b[0;34m(self, by, axis, level, as_index, sort, group_keys, squeeze, observed, dropna)\u001b[0m\n\u001b[1;32m   6509\u001b[0m         \u001b[0maxis\u001b[0m \u001b[0;34m=\u001b[0m \u001b[0mself\u001b[0m\u001b[0;34m.\u001b[0m\u001b[0m_get_axis_number\u001b[0m\u001b[0;34m(\u001b[0m\u001b[0maxis\u001b[0m\u001b[0;34m)\u001b[0m\u001b[0;34m\u001b[0m\u001b[0;34m\u001b[0m\u001b[0m\n\u001b[1;32m   6510\u001b[0m \u001b[0;34m\u001b[0m\u001b[0m\n\u001b[0;32m-> 6511\u001b[0;31m         return DataFrameGroupBy(\n\u001b[0m\u001b[1;32m   6512\u001b[0m             \u001b[0mobj\u001b[0m\u001b[0;34m=\u001b[0m\u001b[0mself\u001b[0m\u001b[0;34m,\u001b[0m\u001b[0;34m\u001b[0m\u001b[0;34m\u001b[0m\u001b[0m\n\u001b[1;32m   6513\u001b[0m             \u001b[0mkeys\u001b[0m\u001b[0;34m=\u001b[0m\u001b[0mby\u001b[0m\u001b[0;34m,\u001b[0m\u001b[0;34m\u001b[0m\u001b[0;34m\u001b[0m\u001b[0m\n",
      "\u001b[0;32m~/opt/anaconda3/lib/python3.8/site-packages/pandas/core/groupby/groupby.py\u001b[0m in \u001b[0;36m__init__\u001b[0;34m(self, obj, keys, axis, level, grouper, exclusions, selection, as_index, sort, group_keys, squeeze, observed, mutated, dropna)\u001b[0m\n\u001b[1;32m    523\u001b[0m             \u001b[0;32mfrom\u001b[0m \u001b[0mpandas\u001b[0m\u001b[0;34m.\u001b[0m\u001b[0mcore\u001b[0m\u001b[0;34m.\u001b[0m\u001b[0mgroupby\u001b[0m\u001b[0;34m.\u001b[0m\u001b[0mgrouper\u001b[0m \u001b[0;32mimport\u001b[0m \u001b[0mget_grouper\u001b[0m\u001b[0;34m\u001b[0m\u001b[0;34m\u001b[0m\u001b[0m\n\u001b[1;32m    524\u001b[0m \u001b[0;34m\u001b[0m\u001b[0m\n\u001b[0;32m--> 525\u001b[0;31m             grouper, exclusions, obj = get_grouper(\n\u001b[0m\u001b[1;32m    526\u001b[0m                 \u001b[0mobj\u001b[0m\u001b[0;34m,\u001b[0m\u001b[0;34m\u001b[0m\u001b[0;34m\u001b[0m\u001b[0m\n\u001b[1;32m    527\u001b[0m                 \u001b[0mkeys\u001b[0m\u001b[0;34m,\u001b[0m\u001b[0;34m\u001b[0m\u001b[0;34m\u001b[0m\u001b[0m\n",
      "\u001b[0;32m~/opt/anaconda3/lib/python3.8/site-packages/pandas/core/groupby/grouper.py\u001b[0m in \u001b[0;36mget_grouper\u001b[0;34m(obj, key, axis, level, sort, observed, mutated, validate, dropna)\u001b[0m\n\u001b[1;32m    687\u001b[0m     \u001b[0;31m# a passed-in Grouper, directly convert\u001b[0m\u001b[0;34m\u001b[0m\u001b[0;34m\u001b[0m\u001b[0;34m\u001b[0m\u001b[0m\n\u001b[1;32m    688\u001b[0m     \u001b[0;32mif\u001b[0m \u001b[0misinstance\u001b[0m\u001b[0;34m(\u001b[0m\u001b[0mkey\u001b[0m\u001b[0;34m,\u001b[0m \u001b[0mGrouper\u001b[0m\u001b[0;34m)\u001b[0m\u001b[0;34m:\u001b[0m\u001b[0;34m\u001b[0m\u001b[0;34m\u001b[0m\u001b[0m\n\u001b[0;32m--> 689\u001b[0;31m         \u001b[0mbinner\u001b[0m\u001b[0;34m,\u001b[0m \u001b[0mgrouper\u001b[0m\u001b[0;34m,\u001b[0m \u001b[0mobj\u001b[0m \u001b[0;34m=\u001b[0m \u001b[0mkey\u001b[0m\u001b[0;34m.\u001b[0m\u001b[0m_get_grouper\u001b[0m\u001b[0;34m(\u001b[0m\u001b[0mobj\u001b[0m\u001b[0;34m,\u001b[0m \u001b[0mvalidate\u001b[0m\u001b[0;34m=\u001b[0m\u001b[0;32mFalse\u001b[0m\u001b[0;34m)\u001b[0m\u001b[0;34m\u001b[0m\u001b[0;34m\u001b[0m\u001b[0m\n\u001b[0m\u001b[1;32m    690\u001b[0m         \u001b[0;32mif\u001b[0m \u001b[0mkey\u001b[0m\u001b[0;34m.\u001b[0m\u001b[0mkey\u001b[0m \u001b[0;32mis\u001b[0m \u001b[0;32mNone\u001b[0m\u001b[0;34m:\u001b[0m\u001b[0;34m\u001b[0m\u001b[0;34m\u001b[0m\u001b[0m\n\u001b[1;32m    691\u001b[0m             \u001b[0;32mreturn\u001b[0m \u001b[0mgrouper\u001b[0m\u001b[0;34m,\u001b[0m \u001b[0;34m[\u001b[0m\u001b[0;34m]\u001b[0m\u001b[0;34m,\u001b[0m \u001b[0mobj\u001b[0m\u001b[0;34m\u001b[0m\u001b[0;34m\u001b[0m\u001b[0m\n",
      "\u001b[0;32m~/opt/anaconda3/lib/python3.8/site-packages/pandas/core/resample.py\u001b[0m in \u001b[0;36m_get_grouper\u001b[0;34m(self, obj, validate)\u001b[0m\n\u001b[1;32m   1440\u001b[0m     \u001b[0;32mdef\u001b[0m \u001b[0m_get_grouper\u001b[0m\u001b[0;34m(\u001b[0m\u001b[0mself\u001b[0m\u001b[0;34m,\u001b[0m \u001b[0mobj\u001b[0m\u001b[0;34m,\u001b[0m \u001b[0mvalidate\u001b[0m\u001b[0;34m:\u001b[0m \u001b[0mbool\u001b[0m \u001b[0;34m=\u001b[0m \u001b[0;32mTrue\u001b[0m\u001b[0;34m)\u001b[0m\u001b[0;34m:\u001b[0m\u001b[0;34m\u001b[0m\u001b[0;34m\u001b[0m\u001b[0m\n\u001b[1;32m   1441\u001b[0m         \u001b[0;31m# create the resampler and return our binner\u001b[0m\u001b[0;34m\u001b[0m\u001b[0;34m\u001b[0m\u001b[0;34m\u001b[0m\u001b[0m\n\u001b[0;32m-> 1442\u001b[0;31m         \u001b[0mr\u001b[0m \u001b[0;34m=\u001b[0m \u001b[0mself\u001b[0m\u001b[0;34m.\u001b[0m\u001b[0m_get_resampler\u001b[0m\u001b[0;34m(\u001b[0m\u001b[0mobj\u001b[0m\u001b[0;34m)\u001b[0m\u001b[0;34m\u001b[0m\u001b[0;34m\u001b[0m\u001b[0m\n\u001b[0m\u001b[1;32m   1443\u001b[0m         \u001b[0mr\u001b[0m\u001b[0;34m.\u001b[0m\u001b[0m_set_binner\u001b[0m\u001b[0;34m(\u001b[0m\u001b[0;34m)\u001b[0m\u001b[0;34m\u001b[0m\u001b[0;34m\u001b[0m\u001b[0m\n\u001b[1;32m   1444\u001b[0m         \u001b[0;32mreturn\u001b[0m \u001b[0mr\u001b[0m\u001b[0;34m.\u001b[0m\u001b[0mbinner\u001b[0m\u001b[0;34m,\u001b[0m \u001b[0mr\u001b[0m\u001b[0;34m.\u001b[0m\u001b[0mgrouper\u001b[0m\u001b[0;34m,\u001b[0m \u001b[0mr\u001b[0m\u001b[0;34m.\u001b[0m\u001b[0mobj\u001b[0m\u001b[0;34m\u001b[0m\u001b[0;34m\u001b[0m\u001b[0m\n",
      "\u001b[0;32m~/opt/anaconda3/lib/python3.8/site-packages/pandas/core/resample.py\u001b[0m in \u001b[0;36m_get_resampler\u001b[0;34m(self, obj, kind)\u001b[0m\n\u001b[1;32m   1432\u001b[0m             \u001b[0;32mreturn\u001b[0m \u001b[0mTimedeltaIndexResampler\u001b[0m\u001b[0;34m(\u001b[0m\u001b[0mobj\u001b[0m\u001b[0;34m,\u001b[0m \u001b[0mgroupby\u001b[0m\u001b[0;34m=\u001b[0m\u001b[0mself\u001b[0m\u001b[0;34m,\u001b[0m \u001b[0maxis\u001b[0m\u001b[0;34m=\u001b[0m\u001b[0mself\u001b[0m\u001b[0;34m.\u001b[0m\u001b[0maxis\u001b[0m\u001b[0;34m)\u001b[0m\u001b[0;34m\u001b[0m\u001b[0;34m\u001b[0m\u001b[0m\n\u001b[1;32m   1433\u001b[0m \u001b[0;34m\u001b[0m\u001b[0m\n\u001b[0;32m-> 1434\u001b[0;31m         raise TypeError(\n\u001b[0m\u001b[1;32m   1435\u001b[0m             \u001b[0;34m\"Only valid with DatetimeIndex, \"\u001b[0m\u001b[0;34m\u001b[0m\u001b[0;34m\u001b[0m\u001b[0m\n\u001b[1;32m   1436\u001b[0m             \u001b[0;34m\"TimedeltaIndex or PeriodIndex, \"\u001b[0m\u001b[0;34m\u001b[0m\u001b[0;34m\u001b[0m\u001b[0m\n",
      "\u001b[0;31mTypeError\u001b[0m: Only valid with DatetimeIndex, TimedeltaIndex or PeriodIndex, but got an instance of 'Index'"
     ]
    }
   ],
   "source": [
    "import seaborn as sns\n",
    "# I need to divide my data in to qtly to make it more meaningful \n",
    "# resetting the index \n",
    "\n",
    "stock_mobility_qtly = stock_mobility.groupby(pd.Grouper(freq=\"3M\")).mean()\n"
   ]
  },
  {
   "cell_type": "code",
   "execution_count": 77,
   "metadata": {},
   "outputs": [
    {
     "data": {
      "text/html": [
       "<div>\n",
       "<style scoped>\n",
       "    .dataframe tbody tr th:only-of-type {\n",
       "        vertical-align: middle;\n",
       "    }\n",
       "\n",
       "    .dataframe tbody tr th {\n",
       "        vertical-align: top;\n",
       "    }\n",
       "\n",
       "    .dataframe thead th {\n",
       "        text-align: right;\n",
       "    }\n",
       "</style>\n",
       "<table border=\"1\" class=\"dataframe\">\n",
       "  <thead>\n",
       "    <tr style=\"text-align: right;\">\n",
       "      <th></th>\n",
       "      <th>US Retail Mobility</th>\n",
       "      <th>AMZN</th>\n",
       "      <th>PRTY</th>\n",
       "      <th>WMT</th>\n",
       "      <th>ETSY</th>\n",
       "      <th>M</th>\n",
       "    </tr>\n",
       "  </thead>\n",
       "  <tbody>\n",
       "    <tr>\n",
       "      <th>US Retail Mobility</th>\n",
       "      <td>1.000000</td>\n",
       "      <td>0.001531</td>\n",
       "      <td>-0.425407</td>\n",
       "      <td>-0.291750</td>\n",
       "      <td>-0.423072</td>\n",
       "      <td>-0.467751</td>\n",
       "    </tr>\n",
       "    <tr>\n",
       "      <th>AMZN</th>\n",
       "      <td>0.001531</td>\n",
       "      <td>1.000000</td>\n",
       "      <td>0.062221</td>\n",
       "      <td>0.237230</td>\n",
       "      <td>0.291786</td>\n",
       "      <td>0.085256</td>\n",
       "    </tr>\n",
       "    <tr>\n",
       "      <th>PRTY</th>\n",
       "      <td>-0.425407</td>\n",
       "      <td>0.062221</td>\n",
       "      <td>1.000000</td>\n",
       "      <td>0.474124</td>\n",
       "      <td>0.857759</td>\n",
       "      <td>0.944234</td>\n",
       "    </tr>\n",
       "    <tr>\n",
       "      <th>WMT</th>\n",
       "      <td>-0.291750</td>\n",
       "      <td>0.237230</td>\n",
       "      <td>0.474124</td>\n",
       "      <td>1.000000</td>\n",
       "      <td>0.443408</td>\n",
       "      <td>0.576277</td>\n",
       "    </tr>\n",
       "    <tr>\n",
       "      <th>ETSY</th>\n",
       "      <td>-0.423072</td>\n",
       "      <td>0.291786</td>\n",
       "      <td>0.857759</td>\n",
       "      <td>0.443408</td>\n",
       "      <td>1.000000</td>\n",
       "      <td>0.818011</td>\n",
       "    </tr>\n",
       "    <tr>\n",
       "      <th>M</th>\n",
       "      <td>-0.467751</td>\n",
       "      <td>0.085256</td>\n",
       "      <td>0.944234</td>\n",
       "      <td>0.576277</td>\n",
       "      <td>0.818011</td>\n",
       "      <td>1.000000</td>\n",
       "    </tr>\n",
       "  </tbody>\n",
       "</table>\n",
       "</div>"
      ],
      "text/plain": [
       "                     US Retail Mobility       AMZN      PRTY       WMT  \\\n",
       "US Retail Mobility              1.000000  0.001531 -0.425407 -0.291750   \n",
       "AMZN                            0.001531  1.000000  0.062221  0.237230   \n",
       "PRTY                           -0.425407  0.062221  1.000000  0.474124   \n",
       "WMT                            -0.291750  0.237230  0.474124  1.000000   \n",
       "ETSY                           -0.423072  0.291786  0.857759  0.443408   \n",
       "M                              -0.467751  0.085256  0.944234  0.576277   \n",
       "\n",
       "                         ETSY         M  \n",
       "US Retail Mobility  -0.423072 -0.467751  \n",
       "AMZN                 0.291786  0.085256  \n",
       "PRTY                 0.857759  0.944234  \n",
       "WMT                  0.443408  0.576277  \n",
       "ETSY                 1.000000  0.818011  \n",
       "M                    0.818011  1.000000  "
      ]
     },
     "execution_count": 77,
     "metadata": {},
     "output_type": "execute_result"
    }
   ],
   "source": [
    "# corrlation matrix\n",
    "stock_mobility_corr =stock_mobility.corr()\n",
    "stock_mobility_corr"
   ]
  },
  {
   "cell_type": "code",
   "execution_count": 78,
   "metadata": {},
   "outputs": [
    {
     "data": {
      "text/plain": [
       "<AxesSubplot:>"
      ]
     },
     "execution_count": 78,
     "metadata": {},
     "output_type": "execute_result"
    },
    {
     "data": {
      "image/png": "[encoded data removed]",
      "text/plain": [
       "<Figure size 432x288 with 2 Axes>"
      ]
     },
     "metadata": {
      "needs_background": "light"
     },
     "output_type": "display_data"
    }
   ],
   "source": [
    "## illustrates mobility vs. stocks \n",
    "# divide df by time to illustrate, to make it more meaniful \n",
    "sns.heatmap(stock_mobility_corr,annot=True, cmap ='Reds')"
   ]
  },
  {
   "cell_type": "code",
   "execution_count": 79,
   "metadata": {},
   "outputs": [
    {
     "data": {
      "text/plain": [
       "<AxesSubplot:>"
      ]
     },
     "execution_count": 79,
     "metadata": {},
     "output_type": "execute_result"
    },
    {
     "data": {
      "image/png": "[encoded data removed]",
      "text/plain": [
       "<Figure size 432x288 with 2 Axes>"
      ]
     },
     "metadata": {
      "needs_background": "light"
     },
     "output_type": "display_data"
    }
   ],
   "source": [
    "# plotting a correlation matrix for close prices \n",
    "close_prices_corr = close_prices.corr()\n",
    "close_prices_corr\n",
    "# plotting \n",
    "sns.heatmap(close_prices_corr,annot=True, cmap ='YlGnBu')"
   ]
  },
  {
   "cell_type": "code",
   "execution_count": null,
   "metadata": {},
   "outputs": [],
   "source": []
  }
 ],
 "metadata": {
  "kernelspec": {
   "display_name": "Python 3",
   "language": "python",
   "name": "python3"
  },
  "language_info": {
   "codemirror_mode": {
    "name": "ipython",
    "version": 3
   },
   "file_extension": ".py",
   "mimetype": "text/x-python",
   "name": "python",
   "nbconvert_exporter": "python",
   "pygments_lexer": "ipython3",
   "version": "3.8.3"
  }
 },
 "nbformat": 4,
 "nbformat_minor": 4
}
