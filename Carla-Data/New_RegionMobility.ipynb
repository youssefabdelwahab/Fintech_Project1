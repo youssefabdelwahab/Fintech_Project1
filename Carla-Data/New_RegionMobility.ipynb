{
 "cells": [
  {
   "cell_type": "code",
   "execution_count": 79,
   "metadata": {},
   "outputs": [],
   "source": [
    "# initial imports \n",
    "import pandas as pd\n",
    "import datetime as dt"
   ]
  },
  {
   "cell_type": "code",
   "execution_count": 80,
   "metadata": {},
   "outputs": [],
   "source": [
    "# importing the CSV \n",
    "mobility_data = pd.read_csv('2020_US_Region_Mobility_Report.csv', index_col = 'date', parse_dates = True, infer_datetime_format = True)"
   ]
  },
  {
   "cell_type": "code",
   "execution_count": 81,
   "metadata": {},
   "outputs": [
    {
     "data": {
      "text/html": [
       "<div>\n",
       "<style scoped>\n",
       "    .dataframe tbody tr th:only-of-type {\n",
       "        vertical-align: middle;\n",
       "    }\n",
       "\n",
       "    .dataframe tbody tr th {\n",
       "        vertical-align: top;\n",
       "    }\n",
       "\n",
       "    .dataframe thead th {\n",
       "        text-align: right;\n",
       "    }\n",
       "</style>\n",
       "<table border=\"1\" class=\"dataframe\">\n",
       "  <thead>\n",
       "    <tr style=\"text-align: right;\">\n",
       "      <th></th>\n",
       "      <th>country_region_code</th>\n",
       "      <th>country_region</th>\n",
       "      <th>sub_region_1</th>\n",
       "      <th>sub_region_2</th>\n",
       "      <th>metro_area</th>\n",
       "      <th>iso_3166_2_code</th>\n",
       "      <th>census_fips_code</th>\n",
       "      <th>retail_and_recreation_percent_change_from_baseline</th>\n",
       "      <th>grocery_and_pharmacy_percent_change_from_baseline</th>\n",
       "      <th>parks_percent_change_from_baseline</th>\n",
       "      <th>transit_stations_percent_change_from_baseline</th>\n",
       "      <th>workplaces_percent_change_from_baseline</th>\n",
       "      <th>residential_percent_change_from_baseline</th>\n",
       "    </tr>\n",
       "    <tr>\n",
       "      <th>date</th>\n",
       "      <th></th>\n",
       "      <th></th>\n",
       "      <th></th>\n",
       "      <th></th>\n",
       "      <th></th>\n",
       "      <th></th>\n",
       "      <th></th>\n",
       "      <th></th>\n",
       "      <th></th>\n",
       "      <th></th>\n",
       "      <th></th>\n",
       "      <th></th>\n",
       "      <th></th>\n",
       "    </tr>\n",
       "  </thead>\n",
       "  <tbody>\n",
       "    <tr>\n",
       "      <th>2020-02-15</th>\n",
       "      <td>US</td>\n",
       "      <td>United States</td>\n",
       "      <td>NaN</td>\n",
       "      <td>NaN</td>\n",
       "      <td>NaN</td>\n",
       "      <td>NaN</td>\n",
       "      <td>NaN</td>\n",
       "      <td>6.0</td>\n",
       "      <td>2.0</td>\n",
       "      <td>15.0</td>\n",
       "      <td>3.0</td>\n",
       "      <td>2.0</td>\n",
       "      <td>-1.0</td>\n",
       "    </tr>\n",
       "    <tr>\n",
       "      <th>2020-02-16</th>\n",
       "      <td>US</td>\n",
       "      <td>United States</td>\n",
       "      <td>NaN</td>\n",
       "      <td>NaN</td>\n",
       "      <td>NaN</td>\n",
       "      <td>NaN</td>\n",
       "      <td>NaN</td>\n",
       "      <td>7.0</td>\n",
       "      <td>1.0</td>\n",
       "      <td>16.0</td>\n",
       "      <td>2.0</td>\n",
       "      <td>0.0</td>\n",
       "      <td>-1.0</td>\n",
       "    </tr>\n",
       "    <tr>\n",
       "      <th>2020-02-17</th>\n",
       "      <td>US</td>\n",
       "      <td>United States</td>\n",
       "      <td>NaN</td>\n",
       "      <td>NaN</td>\n",
       "      <td>NaN</td>\n",
       "      <td>NaN</td>\n",
       "      <td>NaN</td>\n",
       "      <td>6.0</td>\n",
       "      <td>0.0</td>\n",
       "      <td>28.0</td>\n",
       "      <td>-9.0</td>\n",
       "      <td>-24.0</td>\n",
       "      <td>5.0</td>\n",
       "    </tr>\n",
       "    <tr>\n",
       "      <th>2020-02-18</th>\n",
       "      <td>US</td>\n",
       "      <td>United States</td>\n",
       "      <td>NaN</td>\n",
       "      <td>NaN</td>\n",
       "      <td>NaN</td>\n",
       "      <td>NaN</td>\n",
       "      <td>NaN</td>\n",
       "      <td>0.0</td>\n",
       "      <td>-1.0</td>\n",
       "      <td>6.0</td>\n",
       "      <td>1.0</td>\n",
       "      <td>0.0</td>\n",
       "      <td>1.0</td>\n",
       "    </tr>\n",
       "    <tr>\n",
       "      <th>2020-02-19</th>\n",
       "      <td>US</td>\n",
       "      <td>United States</td>\n",
       "      <td>NaN</td>\n",
       "      <td>NaN</td>\n",
       "      <td>NaN</td>\n",
       "      <td>NaN</td>\n",
       "      <td>NaN</td>\n",
       "      <td>2.0</td>\n",
       "      <td>0.0</td>\n",
       "      <td>8.0</td>\n",
       "      <td>1.0</td>\n",
       "      <td>1.0</td>\n",
       "      <td>0.0</td>\n",
       "    </tr>\n",
       "  </tbody>\n",
       "</table>\n",
       "</div>"
      ],
      "text/plain": [
       "           country_region_code country_region sub_region_1 sub_region_2  \\\n",
       "date                                                                      \n",
       "2020-02-15                  US  United States          NaN          NaN   \n",
       "2020-02-16                  US  United States          NaN          NaN   \n",
       "2020-02-17                  US  United States          NaN          NaN   \n",
       "2020-02-18                  US  United States          NaN          NaN   \n",
       "2020-02-19                  US  United States          NaN          NaN   \n",
       "\n",
       "            metro_area iso_3166_2_code  census_fips_code  \\\n",
       "date                                                       \n",
       "2020-02-15         NaN             NaN               NaN   \n",
       "2020-02-16         NaN             NaN               NaN   \n",
       "2020-02-17         NaN             NaN               NaN   \n",
       "2020-02-18         NaN             NaN               NaN   \n",
       "2020-02-19         NaN             NaN               NaN   \n",
       "\n",
       "            retail_and_recreation_percent_change_from_baseline  \\\n",
       "date                                                             \n",
       "2020-02-15                                                6.0    \n",
       "2020-02-16                                                7.0    \n",
       "2020-02-17                                                6.0    \n",
       "2020-02-18                                                0.0    \n",
       "2020-02-19                                                2.0    \n",
       "\n",
       "            grocery_and_pharmacy_percent_change_from_baseline  \\\n",
       "date                                                            \n",
       "2020-02-15                                                2.0   \n",
       "2020-02-16                                                1.0   \n",
       "2020-02-17                                                0.0   \n",
       "2020-02-18                                               -1.0   \n",
       "2020-02-19                                                0.0   \n",
       "\n",
       "            parks_percent_change_from_baseline  \\\n",
       "date                                             \n",
       "2020-02-15                                15.0   \n",
       "2020-02-16                                16.0   \n",
       "2020-02-17                                28.0   \n",
       "2020-02-18                                 6.0   \n",
       "2020-02-19                                 8.0   \n",
       "\n",
       "            transit_stations_percent_change_from_baseline  \\\n",
       "date                                                        \n",
       "2020-02-15                                            3.0   \n",
       "2020-02-16                                            2.0   \n",
       "2020-02-17                                           -9.0   \n",
       "2020-02-18                                            1.0   \n",
       "2020-02-19                                            1.0   \n",
       "\n",
       "            workplaces_percent_change_from_baseline  \\\n",
       "date                                                  \n",
       "2020-02-15                                      2.0   \n",
       "2020-02-16                                      0.0   \n",
       "2020-02-17                                    -24.0   \n",
       "2020-02-18                                      0.0   \n",
       "2020-02-19                                      1.0   \n",
       "\n",
       "            residential_percent_change_from_baseline  \n",
       "date                                                  \n",
       "2020-02-15                                      -1.0  \n",
       "2020-02-16                                      -1.0  \n",
       "2020-02-17                                       5.0  \n",
       "2020-02-18                                       1.0  \n",
       "2020-02-19                                       0.0  "
      ]
     },
     "execution_count": 81,
     "metadata": {},
     "output_type": "execute_result"
    }
   ],
   "source": [
    "# seeing the data \n",
    "mobility_data.head()"
   ]
  },
  {
   "cell_type": "code",
   "execution_count": 82,
   "metadata": {},
   "outputs": [
    {
     "data": {
      "text/plain": [
       "879637"
      ]
     },
     "execution_count": 82,
     "metadata": {},
     "output_type": "execute_result"
    }
   ],
   "source": [
    "len(mobility_data)"
   ]
  },
  {
   "cell_type": "code",
   "execution_count": 83,
   "metadata": {},
   "outputs": [],
   "source": [
    "# replacing all empty sub-regions which represent the entire US with code 'ALL'\n",
    "mobility_data['sub_region_1'].fillna(value ='ALL', inplace=True)"
   ]
  },
  {
   "cell_type": "code",
   "execution_count": 84,
   "metadata": {},
   "outputs": [],
   "source": [
    "mobility_data.drop(columns=[\n",
    "    'country_region_code',\n",
    "    'metro_area','census_fips_code',\n",
    "    'country_region_code',\n",
    "    'transit_stations_percent_change_from_baseline',\n",
    "    'iso_3166_2_code',\n",
    "    'parks_percent_change_from_baseline',\n",
    "    'residential_percent_change_from_baseline'], \n",
    "    inplace = True)"
   ]
  },
  {
   "cell_type": "code",
   "execution_count": 85,
   "metadata": {},
   "outputs": [],
   "source": [
    "import numpy as np"
   ]
  },
  {
   "cell_type": "code",
   "execution_count": 86,
   "metadata": {},
   "outputs": [],
   "source": [
    "nan_filter = mobility_data[\"sub_region_2\"].isna()"
   ]
  },
  {
   "cell_type": "code",
   "execution_count": 87,
   "metadata": {},
   "outputs": [],
   "source": [
    "mobility_data = mobility_data[nan_filter]\n"
   ]
  },
  {
   "cell_type": "code",
   "execution_count": 88,
   "metadata": {},
   "outputs": [
    {
     "data": {
      "text/html": [
       "<div>\n",
       "<style scoped>\n",
       "    .dataframe tbody tr th:only-of-type {\n",
       "        vertical-align: middle;\n",
       "    }\n",
       "\n",
       "    .dataframe tbody tr th {\n",
       "        vertical-align: top;\n",
       "    }\n",
       "\n",
       "    .dataframe thead th {\n",
       "        text-align: right;\n",
       "    }\n",
       "</style>\n",
       "<table border=\"1\" class=\"dataframe\">\n",
       "  <thead>\n",
       "    <tr style=\"text-align: right;\">\n",
       "      <th></th>\n",
       "      <th>date</th>\n",
       "      <th>country_region</th>\n",
       "      <th>sub_region_1</th>\n",
       "      <th>sub_region_2</th>\n",
       "      <th>retail_and_recreation_percent_change_from_baseline</th>\n",
       "      <th>grocery_and_pharmacy_percent_change_from_baseline</th>\n",
       "      <th>workplaces_percent_change_from_baseline</th>\n",
       "    </tr>\n",
       "  </thead>\n",
       "  <tbody>\n",
       "    <tr>\n",
       "      <th>0</th>\n",
       "      <td>2020-02-15</td>\n",
       "      <td>United States</td>\n",
       "      <td>ALL</td>\n",
       "      <td>NaN</td>\n",
       "      <td>6.0</td>\n",
       "      <td>2.0</td>\n",
       "      <td>2.0</td>\n",
       "    </tr>\n",
       "    <tr>\n",
       "      <th>1</th>\n",
       "      <td>2020-02-16</td>\n",
       "      <td>United States</td>\n",
       "      <td>ALL</td>\n",
       "      <td>NaN</td>\n",
       "      <td>7.0</td>\n",
       "      <td>1.0</td>\n",
       "      <td>0.0</td>\n",
       "    </tr>\n",
       "    <tr>\n",
       "      <th>2</th>\n",
       "      <td>2020-02-17</td>\n",
       "      <td>United States</td>\n",
       "      <td>ALL</td>\n",
       "      <td>NaN</td>\n",
       "      <td>6.0</td>\n",
       "      <td>0.0</td>\n",
       "      <td>-24.0</td>\n",
       "    </tr>\n",
       "    <tr>\n",
       "      <th>3</th>\n",
       "      <td>2020-02-18</td>\n",
       "      <td>United States</td>\n",
       "      <td>ALL</td>\n",
       "      <td>NaN</td>\n",
       "      <td>0.0</td>\n",
       "      <td>-1.0</td>\n",
       "      <td>0.0</td>\n",
       "    </tr>\n",
       "    <tr>\n",
       "      <th>4</th>\n",
       "      <td>2020-02-19</td>\n",
       "      <td>United States</td>\n",
       "      <td>ALL</td>\n",
       "      <td>NaN</td>\n",
       "      <td>2.0</td>\n",
       "      <td>0.0</td>\n",
       "      <td>1.0</td>\n",
       "    </tr>\n",
       "    <tr>\n",
       "      <th>...</th>\n",
       "      <td>...</td>\n",
       "      <td>...</td>\n",
       "      <td>...</td>\n",
       "      <td>...</td>\n",
       "      <td>...</td>\n",
       "      <td>...</td>\n",
       "      <td>...</td>\n",
       "    </tr>\n",
       "    <tr>\n",
       "      <th>18039</th>\n",
       "      <td>2021-01-22</td>\n",
       "      <td>United States</td>\n",
       "      <td>Wyoming</td>\n",
       "      <td>NaN</td>\n",
       "      <td>-22.0</td>\n",
       "      <td>-11.0</td>\n",
       "      <td>-12.0</td>\n",
       "    </tr>\n",
       "    <tr>\n",
       "      <th>18040</th>\n",
       "      <td>2021-01-23</td>\n",
       "      <td>United States</td>\n",
       "      <td>Wyoming</td>\n",
       "      <td>NaN</td>\n",
       "      <td>-26.0</td>\n",
       "      <td>-15.0</td>\n",
       "      <td>-12.0</td>\n",
       "    </tr>\n",
       "    <tr>\n",
       "      <th>18041</th>\n",
       "      <td>2021-01-24</td>\n",
       "      <td>United States</td>\n",
       "      <td>Wyoming</td>\n",
       "      <td>NaN</td>\n",
       "      <td>-22.0</td>\n",
       "      <td>-18.0</td>\n",
       "      <td>-13.0</td>\n",
       "    </tr>\n",
       "    <tr>\n",
       "      <th>18042</th>\n",
       "      <td>2021-01-25</td>\n",
       "      <td>United States</td>\n",
       "      <td>Wyoming</td>\n",
       "      <td>NaN</td>\n",
       "      <td>-19.0</td>\n",
       "      <td>-10.0</td>\n",
       "      <td>-17.0</td>\n",
       "    </tr>\n",
       "    <tr>\n",
       "      <th>18043</th>\n",
       "      <td>2021-01-26</td>\n",
       "      <td>United States</td>\n",
       "      <td>Wyoming</td>\n",
       "      <td>NaN</td>\n",
       "      <td>-20.0</td>\n",
       "      <td>-13.0</td>\n",
       "      <td>-16.0</td>\n",
       "    </tr>\n",
       "  </tbody>\n",
       "</table>\n",
       "<p>18044 rows × 7 columns</p>\n",
       "</div>"
      ],
      "text/plain": [
       "            date country_region sub_region_1 sub_region_2  \\\n",
       "0     2020-02-15  United States          ALL          NaN   \n",
       "1     2020-02-16  United States          ALL          NaN   \n",
       "2     2020-02-17  United States          ALL          NaN   \n",
       "3     2020-02-18  United States          ALL          NaN   \n",
       "4     2020-02-19  United States          ALL          NaN   \n",
       "...          ...            ...          ...          ...   \n",
       "18039 2021-01-22  United States      Wyoming          NaN   \n",
       "18040 2021-01-23  United States      Wyoming          NaN   \n",
       "18041 2021-01-24  United States      Wyoming          NaN   \n",
       "18042 2021-01-25  United States      Wyoming          NaN   \n",
       "18043 2021-01-26  United States      Wyoming          NaN   \n",
       "\n",
       "       retail_and_recreation_percent_change_from_baseline  \\\n",
       "0                                                    6.0    \n",
       "1                                                    7.0    \n",
       "2                                                    6.0    \n",
       "3                                                    0.0    \n",
       "4                                                    2.0    \n",
       "...                                                  ...    \n",
       "18039                                              -22.0    \n",
       "18040                                              -26.0    \n",
       "18041                                              -22.0    \n",
       "18042                                              -19.0    \n",
       "18043                                              -20.0    \n",
       "\n",
       "       grocery_and_pharmacy_percent_change_from_baseline  \\\n",
       "0                                                    2.0   \n",
       "1                                                    1.0   \n",
       "2                                                    0.0   \n",
       "3                                                   -1.0   \n",
       "4                                                    0.0   \n",
       "...                                                  ...   \n",
       "18039                                              -11.0   \n",
       "18040                                              -15.0   \n",
       "18041                                              -18.0   \n",
       "18042                                              -10.0   \n",
       "18043                                              -13.0   \n",
       "\n",
       "       workplaces_percent_change_from_baseline  \n",
       "0                                          2.0  \n",
       "1                                          0.0  \n",
       "2                                        -24.0  \n",
       "3                                          0.0  \n",
       "4                                          1.0  \n",
       "...                                        ...  \n",
       "18039                                    -12.0  \n",
       "18040                                    -12.0  \n",
       "18041                                    -13.0  \n",
       "18042                                    -17.0  \n",
       "18043                                    -16.0  \n",
       "\n",
       "[18044 rows x 7 columns]"
      ]
     },
     "execution_count": 88,
     "metadata": {},
     "output_type": "execute_result"
    }
   ],
   "source": [
    "# resetting index\n",
    "mobility_data.reset_index()"
   ]
  },
  {
   "cell_type": "code",
   "execution_count": 89,
   "metadata": {},
   "outputs": [],
   "source": [
    "# Renaming columns \n",
    "mobility_data = mobility_data.rename(\n",
    "    columns ={\n",
    "    'retail_and_recreation_percent_change_from_baseline':'Retail and Recreation',\n",
    "    'grocery_and_pharmacy_percent_change_from_baseline':'Grocery and Pharmacy',\n",
    "    'workplaces_percent_change_from_baseline': 'Workplaces',\n",
    "    'sub_region_1':'State'}) "
   ]
  },
  {
   "cell_type": "code",
   "execution_count": 90,
   "metadata": {},
   "outputs": [
    {
     "data": {
      "text/html": [
       "<div>\n",
       "<style scoped>\n",
       "    .dataframe tbody tr th:only-of-type {\n",
       "        vertical-align: middle;\n",
       "    }\n",
       "\n",
       "    .dataframe tbody tr th {\n",
       "        vertical-align: top;\n",
       "    }\n",
       "\n",
       "    .dataframe thead th {\n",
       "        text-align: right;\n",
       "    }\n",
       "</style>\n",
       "<table border=\"1\" class=\"dataframe\">\n",
       "  <thead>\n",
       "    <tr style=\"text-align: right;\">\n",
       "      <th></th>\n",
       "      <th>country_region</th>\n",
       "      <th>State</th>\n",
       "      <th>sub_region_2</th>\n",
       "      <th>Retail and Recreation</th>\n",
       "      <th>Grocery and Pharmacy</th>\n",
       "      <th>Workplaces</th>\n",
       "    </tr>\n",
       "    <tr>\n",
       "      <th>date</th>\n",
       "      <th></th>\n",
       "      <th></th>\n",
       "      <th></th>\n",
       "      <th></th>\n",
       "      <th></th>\n",
       "      <th></th>\n",
       "    </tr>\n",
       "  </thead>\n",
       "  <tbody>\n",
       "    <tr>\n",
       "      <th>2021-01-22</th>\n",
       "      <td>United States</td>\n",
       "      <td>Wyoming</td>\n",
       "      <td>NaN</td>\n",
       "      <td>-22.0</td>\n",
       "      <td>-11.0</td>\n",
       "      <td>-12.0</td>\n",
       "    </tr>\n",
       "    <tr>\n",
       "      <th>2021-01-23</th>\n",
       "      <td>United States</td>\n",
       "      <td>Wyoming</td>\n",
       "      <td>NaN</td>\n",
       "      <td>-26.0</td>\n",
       "      <td>-15.0</td>\n",
       "      <td>-12.0</td>\n",
       "    </tr>\n",
       "    <tr>\n",
       "      <th>2021-01-24</th>\n",
       "      <td>United States</td>\n",
       "      <td>Wyoming</td>\n",
       "      <td>NaN</td>\n",
       "      <td>-22.0</td>\n",
       "      <td>-18.0</td>\n",
       "      <td>-13.0</td>\n",
       "    </tr>\n",
       "    <tr>\n",
       "      <th>2021-01-25</th>\n",
       "      <td>United States</td>\n",
       "      <td>Wyoming</td>\n",
       "      <td>NaN</td>\n",
       "      <td>-19.0</td>\n",
       "      <td>-10.0</td>\n",
       "      <td>-17.0</td>\n",
       "    </tr>\n",
       "    <tr>\n",
       "      <th>2021-01-26</th>\n",
       "      <td>United States</td>\n",
       "      <td>Wyoming</td>\n",
       "      <td>NaN</td>\n",
       "      <td>-20.0</td>\n",
       "      <td>-13.0</td>\n",
       "      <td>-16.0</td>\n",
       "    </tr>\n",
       "  </tbody>\n",
       "</table>\n",
       "</div>"
      ],
      "text/plain": [
       "           country_region    State sub_region_2  Retail and Recreation  \\\n",
       "date                                                                     \n",
       "2021-01-22  United States  Wyoming          NaN                  -22.0   \n",
       "2021-01-23  United States  Wyoming          NaN                  -26.0   \n",
       "2021-01-24  United States  Wyoming          NaN                  -22.0   \n",
       "2021-01-25  United States  Wyoming          NaN                  -19.0   \n",
       "2021-01-26  United States  Wyoming          NaN                  -20.0   \n",
       "\n",
       "            Grocery and Pharmacy  Workplaces  \n",
       "date                                          \n",
       "2021-01-22                 -11.0       -12.0  \n",
       "2021-01-23                 -15.0       -12.0  \n",
       "2021-01-24                 -18.0       -13.0  \n",
       "2021-01-25                 -10.0       -17.0  \n",
       "2021-01-26                 -13.0       -16.0  "
      ]
     },
     "execution_count": 90,
     "metadata": {},
     "output_type": "execute_result"
    }
   ],
   "source": [
    "#seeing the data \n",
    "mobility_data.tail()"
   ]
  },
  {
   "cell_type": "code",
   "execution_count": 91,
   "metadata": {},
   "outputs": [],
   "source": [
    "import hvplot.pandas "
   ]
  },
  {
   "cell_type": "code",
   "execution_count": 92,
   "metadata": {},
   "outputs": [
    {
     "data": {},
     "metadata": {},
     "output_type": "display_data"
    },
    {
     "data": {
      "application/vnd.holoviews_exec.v0+json": "",
      "text/html": [
       "<div id='2144'>\n",
       "\n",
       "\n",
       "\n",
       "\n",
       "\n",
       "  <div class=\"bk-root\" id=\"de1e68a1-6955-4b90-bd8e-ce8daf6a8838\" data-root-id=\"2144\"></div>\n",
       "</div>\n",
       "<script type=\"application/javascript\">(function(root) {\n",
       "  function embed_document(root) {\n",
       "    var docs_json = {\"601bc5ab-dc99-4706-85f3-54f89de2e4d5\":{\"roots\":{\"references\":[{\"attributes\":{\"text\":\"State: ALL\",\"text_color\":{\"value\":\"black\"},\"text_font_size\":{\"value\":\"12pt\"}},\"id\":\"2150\",\"type\":\"Title\"},{\"attributes\":{},\"id\":\"2154\",\"type\":\"LinearScale\"},{\"attributes\":{\"source\":{\"id\":\"2179\"}},\"id\":\"2186\",\"type\":\"CDSView\"},{\"attributes\":{},\"id\":\"2187\",\"type\":\"DatetimeTickFormatter\"},{\"attributes\":{\"months\":[0,4,8]},\"id\":\"2209\",\"type\":\"MonthsTicker\"},{\"attributes\":{\"margin\":[5,5,5,5],\"name\":\"VSpacer03314\",\"sizing_mode\":\"stretch_height\"},\"id\":\"2240\",\"type\":\"Spacer\"},{\"attributes\":{\"axis\":{\"id\":\"2158\"},\"grid_line_color\":null,\"ticker\":null},\"id\":\"2161\",\"type\":\"Grid\"},{\"attributes\":{\"base\":60,\"mantissas\":[1,2,5,10,15,20,30],\"max_interval\":1800000.0,\"min_interval\":1000.0,\"num_minor_ticks\":0},\"id\":\"2201\",\"type\":\"AdaptiveTicker\"},{\"attributes\":{\"base\":24,\"mantissas\":[1,2,4,6,8,12],\"max_interval\":43200000.0,\"min_interval\":3600000.0,\"num_minor_ticks\":0},\"id\":\"2202\",\"type\":\"AdaptiveTicker\"},{\"attributes\":{\"active_drag\":\"auto\",\"active_inspect\":\"auto\",\"active_multi\":null,\"active_scroll\":\"auto\",\"active_tap\":\"auto\",\"tools\":[{\"id\":\"2148\"},{\"id\":\"2166\"},{\"id\":\"2167\"},{\"id\":\"2168\"},{\"id\":\"2169\"},{\"id\":\"2170\"}]},\"id\":\"2172\",\"type\":\"Toolbar\"},{\"attributes\":{\"axis\":{\"id\":\"2162\"},\"dimension\":1,\"grid_line_color\":null,\"ticker\":null},\"id\":\"2165\",\"type\":\"Grid\"},{\"attributes\":{\"end\":1611619200000.0,\"reset_end\":1611619200000.0,\"reset_start\":1581724800000.0,\"start\":1581724800000.0,\"tags\":[[[\"date\",\"date\",null]]]},\"id\":\"2146\",\"type\":\"Range1d\"},{\"attributes\":{\"axis_label\":\"Retail and Recreation\",\"bounds\":\"auto\",\"formatter\":{\"id\":\"2189\"},\"major_label_orientation\":\"horizontal\",\"ticker\":{\"id\":\"2163\"}},\"id\":\"2162\",\"type\":\"LinearAxis\"},{\"attributes\":{\"mantissas\":[1,2,5],\"max_interval\":500.0,\"num_minor_ticks\":0},\"id\":\"2200\",\"type\":\"AdaptiveTicker\"},{\"attributes\":{},\"id\":\"2180\",\"type\":\"Selection\"},{\"attributes\":{\"margin\":[20,20,20,20],\"min_width\":250,\"options\":[\"ALL\",\"Alabama\",\"Alaska\",\"Arizona\",\"Arkansas\",\"California\",\"Colorado\",\"Connecticut\",\"Delaware\",\"District of Columbia\",\"Florida\",\"Georgia\",\"Hawaii\",\"Idaho\",\"Illinois\",\"Indiana\",\"Iowa\",\"Kansas\",\"Kentucky\",\"Louisiana\",\"Maine\",\"Maryland\",\"Massachusetts\",\"Michigan\",\"Minnesota\",\"Mississippi\",\"Missouri\",\"Montana\",\"Nebraska\",\"Nevada\",\"New Hampshire\",\"New Jersey\",\"New Mexico\",\"New York\",\"North Carolina\",\"North Dakota\",\"Ohio\",\"Oklahoma\",\"Oregon\",\"Pennsylvania\",\"Rhode Island\",\"South Carolina\",\"South Dakota\",\"Tennessee\",\"Texas\",\"Utah\",\"Vermont\",\"Virginia\",\"Washington\",\"West Virginia\",\"Wisconsin\",\"Wyoming\"],\"title\":\"State\",\"value\":\"ALL\",\"width\":250},\"id\":\"2239\",\"type\":\"Select\"},{\"attributes\":{\"client_comm_id\":\"3d873652b61b45cca11bcf073d3e14b0\",\"comm_id\":\"0b8b3e19eda640e8845a429b1a8dbd60\",\"plot_id\":\"2144\"},\"id\":\"2301\",\"type\":\"panel.models.comm_manager.CommManager\"},{\"attributes\":{\"below\":[{\"id\":\"2158\"}],\"center\":[{\"id\":\"2161\"},{\"id\":\"2165\"}],\"left\":[{\"id\":\"2162\"}],\"margin\":[5,5,5,5],\"min_border_bottom\":10,\"min_border_left\":10,\"min_border_right\":10,\"min_border_top\":10,\"plot_height\":300,\"plot_width\":700,\"renderers\":[{\"id\":\"2185\"}],\"sizing_mode\":\"fixed\",\"title\":{\"id\":\"2150\"},\"toolbar\":{\"id\":\"2172\"},\"x_range\":{\"id\":\"2146\"},\"x_scale\":{\"id\":\"2154\"},\"y_range\":{\"id\":\"2147\"},\"y_scale\":{\"id\":\"2156\"}},\"id\":\"2149\",\"subtype\":\"Figure\",\"type\":\"Plot\"},{\"attributes\":{},\"id\":\"2189\",\"type\":\"BasicTickFormatter\"},{\"attributes\":{\"line_alpha\":0.2,\"line_color\":\"#1f77b3\",\"line_width\":2,\"x\":{\"field\":\"date\"},\"y\":{\"field\":\"Retail and Recreation\"}},\"id\":\"2184\",\"type\":\"Line\"},{\"attributes\":{\"children\":[{\"id\":\"2145\"},{\"id\":\"2149\"},{\"id\":\"2235\"},{\"id\":\"2236\"}],\"margin\":[0,0,0,0],\"name\":\"Row03307\"},\"id\":\"2144\",\"type\":\"Row\"},{\"attributes\":{\"months\":[0,2,4,6,8,10]},\"id\":\"2208\",\"type\":\"MonthsTicker\"},{\"attributes\":{\"data\":{\"Retail and Recreation\":{\"__ndarray__\":\"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\",\"dtype\":\"float64\",\"order\":\"little\",\"shape\":[347]},\"Retail_and_Recreation\":{\"__ndarray__\":\"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\",\"dtype\":\"float64\",\"order\":\"little\",\"shape\":[347]},\"date\":{\"__ndarray__\":\"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\",\"dtype\":\"float64\",\"order\":\"little\",\"shape\":[347]}},\"selected\":{\"id\":\"2180\"},\"selection_policy\":{\"id\":\"2214\"}},\"id\":\"2179\",\"type\":\"ColumnDataSource\"},{\"attributes\":{\"days\":[1,8,15,22]},\"id\":\"2205\",\"type\":\"DaysTicker\"},{\"attributes\":{\"callback\":null,\"formatters\":{\"@{date}\":\"datetime\"},\"renderers\":[{\"id\":\"2185\"}],\"tags\":[\"hv_created\"],\"tooltips\":[[\"date\",\"@{date}\"],[\"Retail and Recreation\",\"@{Retail_and_Recreation}\"]]},\"id\":\"2148\",\"type\":\"HoverTool\"},{\"attributes\":{\"months\":[0,6]},\"id\":\"2210\",\"type\":\"MonthsTicker\"},{\"attributes\":{\"overlay\":{\"id\":\"2171\"}},\"id\":\"2169\",\"type\":\"BoxZoomTool\"},{\"attributes\":{\"bottom_units\":\"screen\",\"fill_alpha\":0.5,\"fill_color\":\"lightgrey\",\"left_units\":\"screen\",\"level\":\"overlay\",\"line_alpha\":1.0,\"line_color\":\"black\",\"line_dash\":[4,4],\"line_width\":2,\"right_units\":\"screen\",\"top_units\":\"screen\"},\"id\":\"2171\",\"type\":\"BoxAnnotation\"},{\"attributes\":{},\"id\":\"2167\",\"type\":\"PanTool\"},{\"attributes\":{\"line_color\":\"#1f77b3\",\"line_width\":2,\"x\":{\"field\":\"date\"},\"y\":{\"field\":\"Retail and Recreation\"}},\"id\":\"2182\",\"type\":\"Line\"},{\"attributes\":{\"days\":[1,2,3,4,5,6,7,8,9,10,11,12,13,14,15,16,17,18,19,20,21,22,23,24,25,26,27,28,29,30,31]},\"id\":\"2203\",\"type\":\"DaysTicker\"},{\"attributes\":{\"num_minor_ticks\":5,\"tickers\":[{\"id\":\"2200\"},{\"id\":\"2201\"},{\"id\":\"2202\"},{\"id\":\"2203\"},{\"id\":\"2204\"},{\"id\":\"2205\"},{\"id\":\"2206\"},{\"id\":\"2207\"},{\"id\":\"2208\"},{\"id\":\"2209\"},{\"id\":\"2210\"},{\"id\":\"2211\"}]},\"id\":\"2159\",\"type\":\"DatetimeTicker\"},{\"attributes\":{},\"id\":\"2166\",\"type\":\"SaveTool\"},{\"attributes\":{\"children\":[{\"id\":\"2237\"},{\"id\":\"2238\"},{\"id\":\"2240\"}],\"margin\":[0,0,0,0],\"name\":\"Column03315\"},\"id\":\"2236\",\"type\":\"Column\"},{\"attributes\":{\"margin\":[5,5,5,5],\"name\":\"HSpacer03317\",\"sizing_mode\":\"stretch_width\"},\"id\":\"2235\",\"type\":\"Spacer\"},{\"attributes\":{},\"id\":\"2211\",\"type\":\"YearsTicker\"},{\"attributes\":{\"margin\":[5,5,5,5],\"name\":\"HSpacer03316\",\"sizing_mode\":\"stretch_width\"},\"id\":\"2145\",\"type\":\"Spacer\"},{\"attributes\":{\"line_alpha\":0.1,\"line_color\":\"#1f77b3\",\"line_width\":2,\"x\":{\"field\":\"date\"},\"y\":{\"field\":\"Retail and Recreation\"}},\"id\":\"2183\",\"type\":\"Line\"},{\"attributes\":{\"axis_label\":\"date\",\"bounds\":\"auto\",\"formatter\":{\"id\":\"2187\"},\"major_label_orientation\":\"horizontal\",\"ticker\":{\"id\":\"2159\"}},\"id\":\"2158\",\"type\":\"DatetimeAxis\"},{\"attributes\":{\"data_source\":{\"id\":\"2179\"},\"glyph\":{\"id\":\"2182\"},\"hover_glyph\":null,\"muted_glyph\":{\"id\":\"2184\"},\"nonselection_glyph\":{\"id\":\"2183\"},\"selection_glyph\":null,\"view\":{\"id\":\"2186\"}},\"id\":\"2185\",\"type\":\"GlyphRenderer\"},{\"attributes\":{},\"id\":\"2170\",\"type\":\"ResetTool\"},{\"attributes\":{\"margin\":[5,5,5,5],\"name\":\"VSpacer03313\",\"sizing_mode\":\"stretch_height\"},\"id\":\"2237\",\"type\":\"Spacer\"},{\"attributes\":{},\"id\":\"2168\",\"type\":\"WheelZoomTool\"},{\"attributes\":{\"days\":[1,4,7,10,13,16,19,22,25,28]},\"id\":\"2204\",\"type\":\"DaysTicker\"},{\"attributes\":{},\"id\":\"2214\",\"type\":\"UnionRenderers\"},{\"attributes\":{\"end\":22.5,\"reset_end\":22.5,\"reset_start\":-91.5,\"start\":-91.5,\"tags\":[[[\"Retail and Recreation\",\"Retail and Recreation\",null]]]},\"id\":\"2147\",\"type\":\"Range1d\"},{\"attributes\":{\"children\":[{\"id\":\"2239\"}],\"css_classes\":[\"panel-widget-box\"],\"margin\":[5,5,5,5],\"name\":\"WidgetBox03308\"},\"id\":\"2238\",\"type\":\"Column\"},{\"attributes\":{},\"id\":\"2163\",\"type\":\"BasicTicker\"},{\"attributes\":{\"months\":[0,1,2,3,4,5,6,7,8,9,10,11]},\"id\":\"2207\",\"type\":\"MonthsTicker\"},{\"attributes\":{\"days\":[1,15]},\"id\":\"2206\",\"type\":\"DaysTicker\"},{\"attributes\":{},\"id\":\"2156\",\"type\":\"LinearScale\"}],\"root_ids\":[\"2144\",\"2301\"]},\"title\":\"Bokeh Application\",\"version\":\"2.2.3\"}};\n",
       "    var render_items = [{\"docid\":\"601bc5ab-dc99-4706-85f3-54f89de2e4d5\",\"root_ids\":[\"2144\"],\"roots\":{\"2144\":\"de1e68a1-6955-4b90-bd8e-ce8daf6a8838\"}}];\n",
       "    root.Bokeh.embed.embed_items_notebook(docs_json, render_items);\n",
       "  }\n",
       "  if (root.Bokeh !== undefined && root.Bokeh.Panel !== undefined) {\n",
       "    embed_document(root);\n",
       "  } else {\n",
       "    var attempts = 0;\n",
       "    var timer = setInterval(function(root) {\n",
       "      if (root.Bokeh !== undefined && root.Bokeh.Panel !== undefined) {\n",
       "        clearInterval(timer);\n",
       "        embed_document(root);\n",
       "      } else if (document.readyState == \"complete\") {\n",
       "        attempts++;\n",
       "        if (attempts > 100) {\n",
       "          clearInterval(timer);\n",
       "          console.log(\"Bokeh: ERROR: Unable to run BokehJS code because BokehJS library is missing\");\n",
       "        }\n",
       "      }\n",
       "    }, 10, root)\n",
       "  }\n",
       "})(window);</script>"
      ],
      "text/plain": [
       ":DynamicMap   [State]\n",
       "   :Curve   [date]   (Retail and Recreation)"
      ]
     },
     "execution_count": 92,
     "metadata": {
      "application/vnd.holoviews_exec.v0+json": {
       "id": "2144"
      }
     },
     "output_type": "execute_result"
    }
   ],
   "source": [
    "mobility_data.hvplot.line(x ='date', y ='Retail and Recreation', groupby ='State')"
   ]
  },
  {
   "cell_type": "code",
   "execution_count": 96,
   "metadata": {},
   "outputs": [
    {
     "data": {
      "text/plain": [
       "<AxesSubplot:title={'center':'Average Per Cent Change of Travel for Retail and Recreation'}, xlabel='State', ylabel='Average Per Cent Change'>"
      ]
     },
     "execution_count": 96,
     "metadata": {},
     "output_type": "execute_result"
    },
    {
     "data": {
      "image/png": "[encoded data removed]",
      "text/plain": [
       "<Figure size 864x720 with 1 Axes>"
      ]
     },
     "metadata": {
      "needs_background": "light"
     },
     "output_type": "display_data"
    }
   ],
   "source": [
    "mobility_mean = mobility_data.groupby(\"State\")['Retail and Recreation'].mean()\n",
    "mobility_mean.plot(\n",
    "    kind='bar', \n",
    "    figsize = (12,10), \n",
    "    ylabel = 'Average Per Cent Change',\n",
    "    title= 'Average Per Cent Change of Travel for Retail and Recreation'\n",
    "    )"
   ]
  },
  {
   "cell_type": "code",
   "execution_count": 97,
   "metadata": {},
   "outputs": [],
   "source": [
    "# seperating US - ALL to plot with stock data \n",
    "US_ALL = mobility_data.loc[mobility_data.State == 'ALL','Retail and Recreation']"
   ]
  },
  {
   "cell_type": "code",
   "execution_count": 98,
   "metadata": {},
   "outputs": [
    {
     "data": {
      "text/plain": [
       "0"
      ]
     },
     "execution_count": 98,
     "metadata": {},
     "output_type": "execute_result"
    }
   ],
   "source": [
    "US_ALL.isna().sum()"
   ]
  },
  {
   "cell_type": "code",
   "execution_count": 99,
   "metadata": {},
   "outputs": [],
   "source": [
    "## adding the stock data to mobility\n",
    "# initial imports \n",
    "import os\n",
    "import quandl \n",
    "import alpaca_trade_api as tradeapi\n",
    "from dotenv import load_dotenv\n",
    "import plotly.express as px\n",
    "alpaca_api_key = os.getenv(\"ALPACA_API_KEY\")\n",
    "alpaca_secret_key = os.getenv(\"ALPACA_SECRET_KEY\")\n",
    "\n"
   ]
  },
  {
   "cell_type": "code",
   "execution_count": 100,
   "metadata": {},
   "outputs": [
    {
     "data": {
      "text/plain": [
       "str"
      ]
     },
     "execution_count": 100,
     "metadata": {},
     "output_type": "execute_result"
    }
   ],
   "source": [
    "type(alpaca_api_key)"
   ]
  },
  {
   "cell_type": "code",
   "execution_count": 101,
   "metadata": {},
   "outputs": [
    {
     "data": {
      "text/plain": [
       "True"
      ]
     },
     "execution_count": 101,
     "metadata": {},
     "output_type": "execute_result"
    }
   ],
   "source": [
    "load_dotenv()"
   ]
  },
  {
   "cell_type": "code",
   "execution_count": 102,
   "metadata": {},
   "outputs": [],
   "source": [
    "# creating an alpaca object \n",
    "alpaca = tradeapi.REST(\n",
    "    alpaca_api_key,\n",
    "    alpaca_secret_key,\n",
    "    api_version=\"v2\")"
   ]
  },
  {
   "cell_type": "code",
   "execution_count": 103,
   "metadata": {},
   "outputs": [],
   "source": [
    "import pandas_datareader as pdr\n",
    "import hvplot.pandas\n",
    "import datetime as dt"
   ]
  },
  {
   "cell_type": "code",
   "execution_count": 105,
   "metadata": {},
   "outputs": [],
   "source": [
    "## creating the variables needed to pull stock data \n",
    "tickers = ['ETSY', 'M', 'CPPRQ','AMZN', 'WMT', 'PRTY']\n",
    "# matching my start and end dates with the mobility data so it can align \n",
    "start_date = pd.Timestamp(\"2020-02-15\", tz=\"America/New_York\").isoformat()\n",
    "end_date = pd.Timestamp(\"2021-01-26\", tz=\"America/New_York\").isoformat() # matching my start and end dates with the mobility data so it can align \n",
    "timeframe = \"1D\"\n"
   ]
  },
  {
   "cell_type": "code",
   "execution_count": 107,
   "metadata": {},
   "outputs": [
    {
     "data": {
      "text/html": [
       "<div>\n",
       "<style scoped>\n",
       "    .dataframe tbody tr th:only-of-type {\n",
       "        vertical-align: middle;\n",
       "    }\n",
       "\n",
       "    .dataframe tbody tr th {\n",
       "        vertical-align: top;\n",
       "    }\n",
       "\n",
       "    .dataframe thead tr th {\n",
       "        text-align: left;\n",
       "    }\n",
       "</style>\n",
       "<table border=\"1\" class=\"dataframe\">\n",
       "  <thead>\n",
       "    <tr>\n",
       "      <th></th>\n",
       "      <th colspan=\"5\" halign=\"left\">AMZN</th>\n",
       "      <th colspan=\"5\" halign=\"left\">CPPRQ</th>\n",
       "      <th>...</th>\n",
       "      <th colspan=\"5\" halign=\"left\">PRTY</th>\n",
       "      <th colspan=\"5\" halign=\"left\">WMT</th>\n",
       "    </tr>\n",
       "    <tr>\n",
       "      <th></th>\n",
       "      <th>open</th>\n",
       "      <th>high</th>\n",
       "      <th>low</th>\n",
       "      <th>close</th>\n",
       "      <th>volume</th>\n",
       "      <th>open</th>\n",
       "      <th>high</th>\n",
       "      <th>low</th>\n",
       "      <th>close</th>\n",
       "      <th>volume</th>\n",
       "      <th>...</th>\n",
       "      <th>open</th>\n",
       "      <th>high</th>\n",
       "      <th>low</th>\n",
       "      <th>close</th>\n",
       "      <th>volume</th>\n",
       "      <th>open</th>\n",
       "      <th>high</th>\n",
       "      <th>low</th>\n",
       "      <th>close</th>\n",
       "      <th>volume</th>\n",
       "    </tr>\n",
       "  </thead>\n",
       "  <tbody>\n",
       "    <tr>\n",
       "      <th>2021-01-20</th>\n",
       "      <td>3181.990</td>\n",
       "      <td>3279.80</td>\n",
       "      <td>3175.0000</td>\n",
       "      <td>3264.73</td>\n",
       "      <td>4777430</td>\n",
       "      <td>NaN</td>\n",
       "      <td>NaN</td>\n",
       "      <td>NaN</td>\n",
       "      <td>NaN</td>\n",
       "      <td>NaN</td>\n",
       "      <td>...</td>\n",
       "      <td>6.62</td>\n",
       "      <td>7.13</td>\n",
       "      <td>6.620</td>\n",
       "      <td>7.035</td>\n",
       "      <td>3846314</td>\n",
       "      <td>143.59</td>\n",
       "      <td>145.66</td>\n",
       "      <td>142.89</td>\n",
       "      <td>145.46</td>\n",
       "      <td>7145243</td>\n",
       "    </tr>\n",
       "    <tr>\n",
       "      <th>2021-01-21</th>\n",
       "      <td>3293.000</td>\n",
       "      <td>3348.55</td>\n",
       "      <td>3289.5674</td>\n",
       "      <td>3307.21</td>\n",
       "      <td>4330235</td>\n",
       "      <td>NaN</td>\n",
       "      <td>NaN</td>\n",
       "      <td>NaN</td>\n",
       "      <td>NaN</td>\n",
       "      <td>NaN</td>\n",
       "      <td>...</td>\n",
       "      <td>6.99</td>\n",
       "      <td>7.50</td>\n",
       "      <td>6.830</td>\n",
       "      <td>7.100</td>\n",
       "      <td>3325714</td>\n",
       "      <td>145.36</td>\n",
       "      <td>145.73</td>\n",
       "      <td>144.21</td>\n",
       "      <td>144.87</td>\n",
       "      <td>4140510</td>\n",
       "    </tr>\n",
       "    <tr>\n",
       "      <th>2021-01-22</th>\n",
       "      <td>3304.310</td>\n",
       "      <td>3321.91</td>\n",
       "      <td>3283.1643</td>\n",
       "      <td>3290.00</td>\n",
       "      <td>2377222</td>\n",
       "      <td>NaN</td>\n",
       "      <td>NaN</td>\n",
       "      <td>NaN</td>\n",
       "      <td>NaN</td>\n",
       "      <td>NaN</td>\n",
       "      <td>...</td>\n",
       "      <td>7.00</td>\n",
       "      <td>7.46</td>\n",
       "      <td>6.885</td>\n",
       "      <td>7.455</td>\n",
       "      <td>3053355</td>\n",
       "      <td>145.60</td>\n",
       "      <td>147.34</td>\n",
       "      <td>145.12</td>\n",
       "      <td>146.30</td>\n",
       "      <td>5616751</td>\n",
       "    </tr>\n",
       "    <tr>\n",
       "      <th>2021-01-25</th>\n",
       "      <td>3328.500</td>\n",
       "      <td>3363.89</td>\n",
       "      <td>3243.1462</td>\n",
       "      <td>3293.10</td>\n",
       "      <td>3353964</td>\n",
       "      <td>NaN</td>\n",
       "      <td>NaN</td>\n",
       "      <td>NaN</td>\n",
       "      <td>NaN</td>\n",
       "      <td>NaN</td>\n",
       "      <td>...</td>\n",
       "      <td>7.53</td>\n",
       "      <td>7.89</td>\n",
       "      <td>7.170</td>\n",
       "      <td>7.420</td>\n",
       "      <td>3438233</td>\n",
       "      <td>145.36</td>\n",
       "      <td>146.25</td>\n",
       "      <td>144.27</td>\n",
       "      <td>146.24</td>\n",
       "      <td>5906792</td>\n",
       "    </tr>\n",
       "    <tr>\n",
       "      <th>2021-01-26</th>\n",
       "      <td>3296.356</td>\n",
       "      <td>3338.00</td>\n",
       "      <td>3282.8700</td>\n",
       "      <td>3326.12</td>\n",
       "      <td>2616245</td>\n",
       "      <td>NaN</td>\n",
       "      <td>NaN</td>\n",
       "      <td>NaN</td>\n",
       "      <td>NaN</td>\n",
       "      <td>NaN</td>\n",
       "      <td>...</td>\n",
       "      <td>7.46</td>\n",
       "      <td>7.50</td>\n",
       "      <td>7.160</td>\n",
       "      <td>7.270</td>\n",
       "      <td>2511214</td>\n",
       "      <td>145.63</td>\n",
       "      <td>147.81</td>\n",
       "      <td>145.47</td>\n",
       "      <td>147.52</td>\n",
       "      <td>4622439</td>\n",
       "    </tr>\n",
       "  </tbody>\n",
       "</table>\n",
       "<p>5 rows × 30 columns</p>\n",
       "</div>"
      ],
      "text/plain": [
       "                AMZN                                       CPPRQ            \\\n",
       "                open     high        low    close   volume  open high  low   \n",
       "2021-01-20  3181.990  3279.80  3175.0000  3264.73  4777430   NaN  NaN  NaN   \n",
       "2021-01-21  3293.000  3348.55  3289.5674  3307.21  4330235   NaN  NaN  NaN   \n",
       "2021-01-22  3304.310  3321.91  3283.1643  3290.00  2377222   NaN  NaN  NaN   \n",
       "2021-01-25  3328.500  3363.89  3243.1462  3293.10  3353964   NaN  NaN  NaN   \n",
       "2021-01-26  3296.356  3338.00  3282.8700  3326.12  2616245   NaN  NaN  NaN   \n",
       "\n",
       "                         ...  PRTY                                  WMT  \\\n",
       "           close volume  ...  open  high    low  close   volume    open   \n",
       "2021-01-20   NaN    NaN  ...  6.62  7.13  6.620  7.035  3846314  143.59   \n",
       "2021-01-21   NaN    NaN  ...  6.99  7.50  6.830  7.100  3325714  145.36   \n",
       "2021-01-22   NaN    NaN  ...  7.00  7.46  6.885  7.455  3053355  145.60   \n",
       "2021-01-25   NaN    NaN  ...  7.53  7.89  7.170  7.420  3438233  145.36   \n",
       "2021-01-26   NaN    NaN  ...  7.46  7.50  7.160  7.270  2511214  145.63   \n",
       "\n",
       "                                             \n",
       "              high     low   close   volume  \n",
       "2021-01-20  145.66  142.89  145.46  7145243  \n",
       "2021-01-21  145.73  144.21  144.87  4140510  \n",
       "2021-01-22  147.34  145.12  146.30  5616751  \n",
       "2021-01-25  146.25  144.27  146.24  5906792  \n",
       "2021-01-26  147.81  145.47  147.52  4622439  \n",
       "\n",
       "[5 rows x 30 columns]"
      ]
     },
     "execution_count": 107,
     "metadata": {},
     "output_type": "execute_result"
    }
   ],
   "source": [
    "stock_prices = alpaca.get_barset(\n",
    "    tickers,\n",
    "    timeframe,\n",
    "    start = start_date,\n",
    "    end = end_date\n",
    ").df\n",
    "\n",
    "# need to remove time from index \n",
    "stock_prices.index = stock_prices.index.date\n",
    "# need to sort index \n",
    "stock_prices.sort_index()\n",
    "stock_prices.tail()"
   ]
  },
  {
   "cell_type": "code",
   "execution_count": 108,
   "metadata": {},
   "outputs": [],
   "source": [
    "# looking at my data \n",
    "#type(stock_prices) #dataframe -- helps me identify how to put the information together \n"
   ]
  },
  {
   "cell_type": "code",
   "execution_count": 109,
   "metadata": {},
   "outputs": [],
   "source": [
    "# getting all the closing prices and putting them into an empty dataframe\n",
    "close_prices = pd.DataFrame()\n",
    "\n",
    "close_prices[\"AMZN\"] = stock_prices[\"AMZN\"][\"close\"]\n",
    "close_prices[\"CPPRQ\"] = stock_prices[\"CPPRQ\"][\"close\"]\n",
    "close_prices[\"PRTY\"] = stock_prices[\"PRTY\"][\"close\"]\n",
    "close_prices['WMT'] = stock_prices[\"WMT\"][\"close\"]\n",
    "close_prices['ETSY'] = stock_prices['ETSY'][\"close\"]\n",
    "close_prices['M'] = stock_prices['M'][\"close\"]\n"
   ]
  },
  {
   "cell_type": "code",
   "execution_count": 111,
   "metadata": {},
   "outputs": [
    {
     "data": {},
     "metadata": {},
     "output_type": "display_data"
    },
    {
     "data": {
      "application/vnd.holoviews_exec.v0+json": "",
      "text/html": [
       "<div id='3005'>\n",
       "\n",
       "\n",
       "\n",
       "\n",
       "\n",
       "  <div class=\"bk-root\" id=\"b5e2750d-dfb3-4508-9aff-f02e462f4525\" data-root-id=\"3005\"></div>\n",
       "</div>\n",
       "<script type=\"application/javascript\">(function(root) {\n",
       "  function embed_document(root) {\n",
       "    var docs_json = {\"3798bf2d-bf32-4ad0-8d3a-e71bb6d48f1b\":{\"roots\":{\"references\":[{\"attributes\":{\"line_alpha\":0.2,\"line_color\":\"#d62628\",\"line_width\":2,\"x\":{\"field\":\"index\"},\"y\":{\"field\":\"value\"}},\"id\":\"3147\",\"type\":\"Line\"},{\"attributes\":{\"data_source\":{\"id\":\"3177\"},\"glyph\":{\"id\":\"3180\"},\"hover_glyph\":null,\"muted_glyph\":{\"id\":\"3182\"},\"nonselection_glyph\":{\"id\":\"3181\"},\"selection_glyph\":null,\"view\":{\"id\":\"3184\"}},\"id\":\"3183\",\"type\":\"GlyphRenderer\"},{\"attributes\":{\"margin\":[5,5,5,5],\"name\":\"HSpacer04634\",\"sizing_mode\":\"stretch_width\"},\"id\":\"3466\",\"type\":\"Spacer\"},{\"attributes\":{\"data\":{\"Variable\":[\"WMT\",\"WMT\",\"WMT\",\"WMT\",\"WMT\",\"WMT\",\"WMT\",\"WMT\",\"WMT\",\"WMT\",\"WMT\",\"WMT\",\"WMT\",\"WMT\",\"WMT\",\"WMT\",\"WMT\",\"WMT\",\"WMT\",\"WMT\",\"WMT\",\"WMT\",\"WMT\",\"WMT\",\"WMT\",\"WMT\",\"WMT\",\"WMT\",\"WMT\",\"WMT\",\"WMT\",\"WMT\",\"WMT\",\"WMT\",\"WMT\",\"WMT\",\"WMT\",\"WMT\",\"WMT\",\"WMT\",\"WMT\",\"WMT\",\"WMT\",\"WMT\",\"WMT\",\"WMT\",\"WMT\",\"WMT\",\"WMT\",\"WMT\",\"WMT\",\"WMT\",\"WMT\",\"WMT\",\"WMT\",\"WMT\",\"WMT\",\"WMT\",\"WMT\",\"WMT\",\"WMT\",\"WMT\",\"WMT\",\"WMT\",\"WMT\",\"WMT\",\"WMT\",\"WMT\",\"WMT\",\"WMT\",\"WMT\",\"WMT\",\"WMT\",\"WMT\",\"WMT\",\"WMT\",\"WMT\",\"WMT\",\"WMT\",\"WMT\",\"WMT\",\"WMT\",\"WMT\",\"WMT\",\"WMT\",\"WMT\",\"WMT\",\"WMT\",\"WMT\",\"WMT\",\"WMT\",\"WMT\",\"WMT\",\"WMT\",\"WMT\",\"WMT\",\"WMT\",\"WMT\",\"WMT\",\"WMT\",\"WMT\",\"WMT\",\"WMT\",\"WMT\",\"WMT\",\"WMT\",\"WMT\",\"WMT\",\"WMT\",\"WMT\",\"WMT\",\"WMT\",\"WMT\",\"WMT\",\"WMT\",\"WMT\",\"WMT\",\"WMT\",\"WMT\",\"WMT\",\"WMT\",\"WMT\",\"WMT\",\"WMT\",\"WMT\",\"WMT\",\"WMT\",\"WMT\",\"WMT\",\"WMT\",\"WMT\",\"WMT\",\"WMT\",\"WMT\",\"WMT\",\"WMT\",\"WMT\",\"WMT\",\"WMT\",\"WMT\",\"WMT\",\"WMT\",\"WMT\",\"WMT\",\"WMT\",\"WMT\",\"WMT\",\"WMT\",\"WMT\",\"WMT\",\"WMT\",\"WMT\",\"WMT\",\"WMT\",\"WMT\",\"WMT\",\"WMT\",\"WMT\",\"WMT\",\"WMT\",\"WMT\",\"WMT\",\"WMT\",\"WMT\",\"WMT\",\"WMT\",\"WMT\",\"WMT\",\"WMT\",\"WMT\",\"WMT\",\"WMT\",\"WMT\",\"WMT\",\"WMT\",\"WMT\",\"WMT\",\"WMT\",\"WMT\",\"WMT\",\"WMT\",\"WMT\",\"WMT\",\"WMT\",\"WMT\",\"WMT\",\"WMT\",\"WMT\",\"WMT\",\"WMT\",\"WMT\",\"WMT\",\"WMT\",\"WMT\",\"WMT\",\"WMT\",\"WMT\",\"WMT\",\"WMT\",\"WMT\",\"WMT\",\"WMT\",\"WMT\",\"WMT\",\"WMT\",\"WMT\",\"WMT\",\"WMT\",\"WMT\",\"WMT\",\"WMT\",\"WMT\",\"WMT\",\"WMT\",\"WMT\",\"WMT\",\"WMT\",\"WMT\",\"WMT\",\"WMT\",\"WMT\",\"WMT\",\"WMT\",\"WMT\",\"WMT\",\"WMT\",\"WMT\",\"WMT\",\"WMT\",\"WMT\",\"WMT\",\"WMT\",\"WMT\",\"WMT\",\"WMT\",\"WMT\",\"WMT\",\"WMT\"],\"index\":{\"__ndarray__\":\"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\",\"dtype\":\"float64\",\"order\":\"little\",\"shape\":[238]},\"value\":{\"__ndarray__\":\"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\",\"dtype\":\"float64\",\"order\":\"little\",\"shape\":[238]}},\"selected\":{\"id\":\"3110\"},\"selection_policy\":{\"id\":\"3140\"}},\"id\":\"3109\",\"type\":\"ColumnDataSource\"},{\"attributes\":{\"source\":{\"id\":\"3078\"}},\"id\":\"3085\",\"type\":\"CDSView\"},{\"attributes\":{\"margin\":[5,5,5,5],\"name\":\"HSpacer04633\",\"sizing_mode\":\"stretch_width\"},\"id\":\"3006\",\"type\":\"Spacer\"},{\"attributes\":{\"active_drag\":\"auto\",\"active_inspect\":\"auto\",\"active_multi\":null,\"active_scroll\":\"auto\",\"active_tap\":\"auto\",\"tools\":[{\"id\":\"3009\"},{\"id\":\"3031\"},{\"id\":\"3032\"},{\"id\":\"3033\"},{\"id\":\"3034\"},{\"id\":\"3035\"}]},\"id\":\"3037\",\"type\":\"Toolbar\"},{\"attributes\":{\"line_color\":\"#1f77b3\",\"line_width\":2,\"x\":{\"field\":\"index\"},\"y\":{\"field\":\"value\"}},\"id\":\"3051\",\"type\":\"Line\"},{\"attributes\":{\"click_policy\":\"mute\",\"items\":[{\"id\":\"3077\"},{\"id\":\"3108\"},{\"id\":\"3141\"},{\"id\":\"3176\"},{\"id\":\"3213\"}],\"location\":[0,0],\"title\":\"Variable\"},\"id\":\"3076\",\"type\":\"Legend\"},{\"attributes\":{},\"id\":\"3143\",\"type\":\"Selection\"},{\"attributes\":{},\"id\":\"3212\",\"type\":\"UnionRenderers\"},{\"attributes\":{},\"id\":\"3035\",\"type\":\"ResetTool\"},{\"attributes\":{\"callback\":null,\"formatters\":{\"@{index}\":\"datetime\"},\"renderers\":[{\"id\":\"3054\"},{\"id\":\"3084\"},{\"id\":\"3115\"},{\"id\":\"3148\"},{\"id\":\"3183\"}],\"tags\":[\"hv_created\"],\"tooltips\":[[\"Variable\",\"@{Variable}\"],[\"index\",\"@{index}{%F %T}\"],[\"value\",\"@{value}\"]]},\"id\":\"3009\",\"type\":\"HoverTool\"},{\"attributes\":{},\"id\":\"3032\",\"type\":\"PanTool\"},{\"attributes\":{\"base\":24,\"mantissas\":[1,2,4,6,8,12],\"max_interval\":43200000.0,\"min_interval\":3600000.0,\"num_minor_ticks\":0},\"id\":\"3063\",\"type\":\"AdaptiveTicker\"},{\"attributes\":{},\"id\":\"3021\",\"type\":\"LinearScale\"},{\"attributes\":{\"mantissas\":[1,2,5],\"max_interval\":500.0,\"num_minor_ticks\":0},\"id\":\"3061\",\"type\":\"AdaptiveTicker\"},{\"attributes\":{\"line_alpha\":0.2,\"line_color\":\"#2ba02b\",\"line_width\":2,\"x\":{\"field\":\"index\"},\"y\":{\"field\":\"value\"}},\"id\":\"3114\",\"type\":\"Line\"},{\"attributes\":{\"source\":{\"id\":\"3142\"}},\"id\":\"3149\",\"type\":\"CDSView\"},{\"attributes\":{\"line_alpha\":0.2,\"line_color\":\"#9367bc\",\"line_width\":2,\"x\":{\"field\":\"index\"},\"y\":{\"field\":\"value\"}},\"id\":\"3182\",\"type\":\"Line\"},{\"attributes\":{\"data_source\":{\"id\":\"3109\"},\"glyph\":{\"id\":\"3112\"},\"hover_glyph\":null,\"muted_glyph\":{\"id\":\"3114\"},\"nonselection_glyph\":{\"id\":\"3113\"},\"selection_glyph\":null,\"view\":{\"id\":\"3116\"}},\"id\":\"3115\",\"type\":\"GlyphRenderer\"},{\"attributes\":{\"data\":{\"Variable\":[\"ETSY\",\"ETSY\",\"ETSY\",\"ETSY\",\"ETSY\",\"ETSY\",\"ETSY\",\"ETSY\",\"ETSY\",\"ETSY\",\"ETSY\",\"ETSY\",\"ETSY\",\"ETSY\",\"ETSY\",\"ETSY\",\"ETSY\",\"ETSY\",\"ETSY\",\"ETSY\",\"ETSY\",\"ETSY\",\"ETSY\",\"ETSY\",\"ETSY\",\"ETSY\",\"ETSY\",\"ETSY\",\"ETSY\",\"ETSY\",\"ETSY\",\"ETSY\",\"ETSY\",\"ETSY\",\"ETSY\",\"ETSY\",\"ETSY\",\"ETSY\",\"ETSY\",\"ETSY\",\"ETSY\",\"ETSY\",\"ETSY\",\"ETSY\",\"ETSY\",\"ETSY\",\"ETSY\",\"ETSY\",\"ETSY\",\"ETSY\",\"ETSY\",\"ETSY\",\"ETSY\",\"ETSY\",\"ETSY\",\"ETSY\",\"ETSY\",\"ETSY\",\"ETSY\",\"ETSY\",\"ETSY\",\"ETSY\",\"ETSY\",\"ETSY\",\"ETSY\",\"ETSY\",\"ETSY\",\"ETSY\",\"ETSY\",\"ETSY\",\"ETSY\",\"ETSY\",\"ETSY\",\"ETSY\",\"ETSY\",\"ETSY\",\"ETSY\",\"ETSY\",\"ETSY\",\"ETSY\",\"ETSY\",\"ETSY\",\"ETSY\",\"ETSY\",\"ETSY\",\"ETSY\",\"ETSY\",\"ETSY\",\"ETSY\",\"ETSY\",\"ETSY\",\"ETSY\",\"ETSY\",\"ETSY\",\"ETSY\",\"ETSY\",\"ETSY\",\"ETSY\",\"ETSY\",\"ETSY\",\"ETSY\",\"ETSY\",\"ETSY\",\"ETSY\",\"ETSY\",\"ETSY\",\"ETSY\",\"ETSY\",\"ETSY\",\"ETSY\",\"ETSY\",\"ETSY\",\"ETSY\",\"ETSY\",\"ETSY\",\"ETSY\",\"ETSY\",\"ETSY\",\"ETSY\",\"ETSY\",\"ETSY\",\"ETSY\",\"ETSY\",\"ETSY\",\"ETSY\",\"ETSY\",\"ETSY\",\"ETSY\",\"ETSY\",\"ETSY\",\"ETSY\",\"ETSY\",\"ETSY\",\"ETSY\",\"ETSY\",\"ETSY\",\"ETSY\",\"ETSY\",\"ETSY\",\"ETSY\",\"ETSY\",\"ETSY\",\"ETSY\",\"ETSY\",\"ETSY\",\"ETSY\",\"ETSY\",\"ETSY\",\"ETSY\",\"ETSY\",\"ETSY\",\"ETSY\",\"ETSY\",\"ETSY\",\"ETSY\",\"ETSY\",\"ETSY\",\"ETSY\",\"ETSY\",\"ETSY\",\"ETSY\",\"ETSY\",\"ETSY\",\"ETSY\",\"ETSY\",\"ETSY\",\"ETSY\",\"ETSY\",\"ETSY\",\"ETSY\",\"ETSY\",\"ETSY\",\"ETSY\",\"ETSY\",\"ETSY\",\"ETSY\",\"ETSY\",\"ETSY\",\"ETSY\",\"ETSY\",\"ETSY\",\"ETSY\",\"ETSY\",\"ETSY\",\"ETSY\",\"ETSY\",\"ETSY\",\"ETSY\",\"ETSY\",\"ETSY\",\"ETSY\",\"ETSY\",\"ETSY\",\"ETSY\",\"ETSY\",\"ETSY\",\"ETSY\",\"ETSY\",\"ETSY\",\"ETSY\",\"ETSY\",\"ETSY\",\"ETSY\",\"ETSY\",\"ETSY\",\"ETSY\",\"ETSY\",\"ETSY\",\"ETSY\",\"ETSY\",\"ETSY\",\"ETSY\",\"ETSY\",\"ETSY\",\"ETSY\",\"ETSY\",\"ETSY\",\"ETSY\",\"ETSY\",\"ETSY\",\"ETSY\",\"ETSY\",\"ETSY\",\"ETSY\",\"ETSY\",\"ETSY\",\"ETSY\",\"ETSY\",\"ETSY\",\"ETSY\",\"ETSY\",\"ETSY\",\"ETSY\",\"ETSY\",\"ETSY\",\"ETSY\",\"ETSY\",\"ETSY\"],\"index\":{\"__ndarray__\":\"AACAglkFd0IAAEDoqwV3QgAAAE7+BXdCAADAs1AGd0IAAADlRwd3QgAAwEqaB3dCAACAsOwHd0IAAEAWPwh3QgAAAHyRCHdCAABArYgJd0IAAAAT2wl3QgAAwHgtCndCAACA3n8Kd0IAAEBE0gp3QgAAgHXJC3dCAABA2xsMd0IAAABBbgx3QgAAwKbADHdCAACADBMNd0IAAMA9Cg53QgAAgKNcDndCAABACa8Od0IAAABvAQ93QgAAwNRTD3dCAAAABksQd0IAAMBrnRB3QgAAgNHvEHdCAABAN0IRd0IAAACdlBF3QgAAQM6LEndCAAAANN4Sd0IAAMCZMBN3QgAAgP+CE3dCAABAZdUTd0IAAICWzBR3QgAAQPweFXdCAAAAYnEVd0IAAMDHwxV3QgAAwF4NF3dCAACAxF8Xd0IAAEAqshd3QgAAAJAEGHdCAADA9VYYd0IAAAAnThl3QgAAwIygGXdCAACA8vIZd0IAAEBYRRp3QgAAAL6XGndCAABA744bd0IAAABV4Rt3QgAAwLozHHdCAACAIIYcd0IAAECG2Bx3QgAAgLfPHXdCAABAHSIed0IAAACDdB53QgAAwOjGHndCAACAThkfd0IAAMB/ECB3QgAAgOViIHdCAABAS7Ugd0IAAACxByF3QgAAwBZaIXdCAAAASFEid0IAAMCtoyJ3QgAAgBP2IndCAABAeUgjd0IAAADfmiN3QgAAAHbkJHdCAADA2zYld0IAAIBBiSV3QgAAQKfbJXdCAACA2NImd0IAAEA+JSd3QgAAAKR3J3dCAADACcond0IAAIBvHCh3QgAAwKATKXdCAACABmYpd0IAAEBsuCl3QgAAANIKKndCAADAN10qd0IAAABpVCt3QgAAwM6mK3dCAACANPkrd0IAAECaSyx3QgAAAACeLHdCAABAMZUtd0IAAACX5y13QgAAwPw5LndCAACAYowud0IAAEDI3i53QgAAgPnVL3dCAABAXygwd0IAAADFejB3QgAAwCrNMHdCAADAwRYyd0IAAIAnaTJ3QgAAQI27MndCAAAA8w0zd0IAAMBYYDN3QgAAAIpXNHdCAADA76k0d0IAAIBV/DR3QgAAQLtONXdCAAAAIaE1d0IAAEBSmDZ3QgAAALjqNndCAADAHT03d0IAAICDjzd3QgAAQOnhN3dCAACAGtk4d0IAAECAKzl3QgAAAOZ9OXdCAADAS9A5d0IAAICxIjp3QgAAwOIZO3dCAACASGw7d0IAAECuvjt3QgAAABQRPHdCAADAeWM8d0IAAACrWj13QgAAwBCtPXdCAACAdv89d0IAAEDcUT53QgAAAEKkPndCAABAc5s/d0IAAADZ7T93QgAAwD5AQHdCAACApJJAd0IAAEAK5UB3QgAAgDvcQXdCAABAoS5Cd0IAAAAHgUJ3QgAAwGzTQndCAACA0iVDd0IAAMADHUR3QgAAgGlvRHdCAABAz8FEd0IAAAA1FEV3QgAAwJpmRXdCAADAMbBGd0IAAICXAkd3QgAAQP1UR3dCAAAAY6dHd0IAAECUnkh3QgAAAPrwSHdCAADAX0NJd0IAAIDFlUl3QgAAQCvoSXdCAACAXN9Kd0IAAEDCMUt3QgAAACiES3dCAADAjdZLd0IAAIDzKEx3QgAAwCQgTXdCAACAinJNd0IAAEDwxE13QgAAAFYXTndCAADAu2lOd0IAAADtYE93QgAAwFKzT3dCAACAuAVQd0IAAEAeWFB3QgAAAISqUHdCAABAtaFRd0IAAAAb9FF3QgAAwIBGUndCAACA5phSd0IAAEBM61J3QgAAgH3iU3dCAABA4zRUd0IAAABJh1R3QgAAwK7ZVHdCAACAFCxVd0IAAMBFI1Z3QgAAgKt1VndCAABAEchWd0IAAAB3Gld3QgAAwNxsV3dCAAAADmRYd0IAAMBztlh3QgAAgNkIWXdCAABAP1tZd0IAAAClrVl3QgAAQNakWndCAAAAPPdad0IAAMChSVt3QgAAgAecW3dCAABAbe5bd0IAAICe5Vx3QgAAQAQ4XXdCAAAAaopdd0IAAMDP3F13QgAAgDUvXndCAADAZiZfd0IAAIDMeF93QgAAQDLLX3dCAADA/W9gd0IAAAAvZ2F3QgAAwJS5YXdCAACA+gtid0IAAEBgXmJ3QgAAAMawYndCAABA96djd0IAAABd+mN3QgAAwMJMZHdCAACAKJ9kd0IAAECO8WR3QgAAgL/oZXdCAABAJTtmd0IAAACLjWZ3QgAAwPDfZndCAACAVjJnd0IAAMCHKWh3QgAAgO17aHdCAABAU85od0IAAAC5IGl3QgAAAFBqandCAADAtbxqd0IAAIAbD2t3QgAAQIFha3dCAABAGKtsd0IAAAB+/Wx3QgAAwONPbXdCAACASaJtd0IAAECv9G13QgAAgODrbndCAABARj5vd0IAAACskG93QgAAwBHjb3dCAACAdzVwd0IAAIAOf3F3QgAAQHTRcXdCAAAA2iNyd0IAAMA/dnJ3QgAAAHFtc3dCAADA1r9zd0I=\",\"dtype\":\"float64\",\"order\":\"little\",\"shape\":[238]},\"value\":{\"__ndarray__\":\"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\",\"dtype\":\"float64\",\"order\":\"little\",\"shape\":[238]}},\"selected\":{\"id\":\"3143\"},\"selection_policy\":{\"id\":\"3175\"}},\"id\":\"3142\",\"type\":\"ColumnDataSource\"},{\"attributes\":{\"axis_label\":\"\",\"bounds\":\"auto\",\"formatter\":{\"id\":\"3044\"},\"major_label_orientation\":\"horizontal\",\"ticker\":{\"id\":\"3024\"}},\"id\":\"3023\",\"type\":\"DatetimeAxis\"},{\"attributes\":{\"axis\":{\"id\":\"3027\"},\"dimension\":1,\"grid_line_color\":null,\"ticker\":null},\"id\":\"3030\",\"type\":\"Grid\"},{\"attributes\":{},\"id\":\"3049\",\"type\":\"Selection\"},{\"attributes\":{\"line_alpha\":0.2,\"line_color\":\"#ff7e0e\",\"line_width\":2,\"x\":{\"field\":\"index\"},\"y\":{\"field\":\"value\"}},\"id\":\"3083\",\"type\":\"Line\"},{\"attributes\":{},\"id\":\"3031\",\"type\":\"SaveTool\"},{\"attributes\":{\"overlay\":{\"id\":\"3036\"}},\"id\":\"3034\",\"type\":\"BoxZoomTool\"},{\"attributes\":{\"below\":[{\"id\":\"3023\"}],\"center\":[{\"id\":\"3026\"},{\"id\":\"3030\"}],\"left\":[{\"id\":\"3027\"}],\"margin\":[5,5,5,5],\"min_border_bottom\":10,\"min_border_left\":10,\"min_border_right\":10,\"min_border_top\":10,\"plot_height\":300,\"plot_width\":700,\"renderers\":[{\"id\":\"3054\"},{\"id\":\"3084\"},{\"id\":\"3115\"},{\"id\":\"3148\"},{\"id\":\"3183\"}],\"right\":[{\"id\":\"3076\"}],\"sizing_mode\":\"fixed\",\"title\":{\"id\":\"3015\"},\"toolbar\":{\"id\":\"3037\"},\"x_range\":{\"id\":\"3007\"},\"x_scale\":{\"id\":\"3019\"},\"y_range\":{\"id\":\"3008\"},\"y_scale\":{\"id\":\"3021\"}},\"id\":\"3014\",\"subtype\":\"Figure\",\"type\":\"Plot\"},{\"attributes\":{},\"id\":\"3028\",\"type\":\"BasicTicker\"},{\"attributes\":{\"source\":{\"id\":\"3109\"}},\"id\":\"3116\",\"type\":\"CDSView\"},{\"attributes\":{\"end\":1611619200000.0,\"reset_end\":1611619200000.0,\"reset_start\":1581984000000.0,\"start\":1581984000000.0,\"tags\":[[[\"index\",\"index\",null]]]},\"id\":\"3007\",\"type\":\"Range1d\"},{\"attributes\":{\"line_alpha\":0.1,\"line_color\":\"#d62628\",\"line_width\":2,\"x\":{\"field\":\"index\"},\"y\":{\"field\":\"value\"}},\"id\":\"3146\",\"type\":\"Line\"},{\"attributes\":{\"label\":{\"value\":\"M\"},\"renderers\":[{\"id\":\"3183\"}]},\"id\":\"3213\",\"type\":\"LegendItem\"},{\"attributes\":{},\"id\":\"3140\",\"type\":\"UnionRenderers\"},{\"attributes\":{\"source\":{\"id\":\"3177\"}},\"id\":\"3184\",\"type\":\"CDSView\"},{\"attributes\":{},\"id\":\"3046\",\"type\":\"BasicTickFormatter\"},{\"attributes\":{\"line_alpha\":0.1,\"line_color\":\"#ff7e0e\",\"line_width\":2,\"x\":{\"field\":\"index\"},\"y\":{\"field\":\"value\"}},\"id\":\"3082\",\"type\":\"Line\"},{\"attributes\":{\"line_alpha\":0.1,\"line_color\":\"#2ba02b\",\"line_width\":2,\"x\":{\"field\":\"index\"},\"y\":{\"field\":\"value\"}},\"id\":\"3113\",\"type\":\"Line\"},{\"attributes\":{\"line_alpha\":0.1,\"line_color\":\"#1f77b3\",\"line_width\":2,\"x\":{\"field\":\"index\"},\"y\":{\"field\":\"value\"}},\"id\":\"3052\",\"type\":\"Line\"},{\"attributes\":{},\"id\":\"3033\",\"type\":\"WheelZoomTool\"},{\"attributes\":{\"line_color\":\"#ff7e0e\",\"line_width\":2,\"x\":{\"field\":\"index\"},\"y\":{\"field\":\"value\"}},\"id\":\"3081\",\"type\":\"Line\"},{\"attributes\":{\"base\":60,\"mantissas\":[1,2,5,10,15,20,30],\"max_interval\":1800000.0,\"min_interval\":1000.0,\"num_minor_ticks\":0},\"id\":\"3062\",\"type\":\"AdaptiveTicker\"},{\"attributes\":{\"label\":{\"value\":\"AMZN\"},\"renderers\":[{\"id\":\"3054\"}]},\"id\":\"3077\",\"type\":\"LegendItem\"},{\"attributes\":{},\"id\":\"3175\",\"type\":\"UnionRenderers\"},{\"attributes\":{\"axis_label\":\"\",\"bounds\":\"auto\",\"formatter\":{\"id\":\"3046\"},\"major_label_orientation\":\"horizontal\",\"ticker\":{\"id\":\"3028\"}},\"id\":\"3027\",\"type\":\"LinearAxis\"},{\"attributes\":{\"end\":3882.24769,\"reset_end\":3882.24769,\"reset_start\":-352.64459,\"start\":-352.64459,\"tags\":[[[\"value\",\"value\",null]]]},\"id\":\"3008\",\"type\":\"Range1d\"},{\"attributes\":{\"data\":{\"Variable\":[\"M\",\"M\",\"M\",\"M\",\"M\",\"M\",\"M\",\"M\",\"M\",\"M\",\"M\",\"M\",\"M\",\"M\",\"M\",\"M\",\"M\",\"M\",\"M\",\"M\",\"M\",\"M\",\"M\",\"M\",\"M\",\"M\",\"M\",\"M\",\"M\",\"M\",\"M\",\"M\",\"M\",\"M\",\"M\",\"M\",\"M\",\"M\",\"M\",\"M\",\"M\",\"M\",\"M\",\"M\",\"M\",\"M\",\"M\",\"M\",\"M\",\"M\",\"M\",\"M\",\"M\",\"M\",\"M\",\"M\",\"M\",\"M\",\"M\",\"M\",\"M\",\"M\",\"M\",\"M\",\"M\",\"M\",\"M\",\"M\",\"M\",\"M\",\"M\",\"M\",\"M\",\"M\",\"M\",\"M\",\"M\",\"M\",\"M\",\"M\",\"M\",\"M\",\"M\",\"M\",\"M\",\"M\",\"M\",\"M\",\"M\",\"M\",\"M\",\"M\",\"M\",\"M\",\"M\",\"M\",\"M\",\"M\",\"M\",\"M\",\"M\",\"M\",\"M\",\"M\",\"M\",\"M\",\"M\",\"M\",\"M\",\"M\",\"M\",\"M\",\"M\",\"M\",\"M\",\"M\",\"M\",\"M\",\"M\",\"M\",\"M\",\"M\",\"M\",\"M\",\"M\",\"M\",\"M\",\"M\",\"M\",\"M\",\"M\",\"M\",\"M\",\"M\",\"M\",\"M\",\"M\",\"M\",\"M\",\"M\",\"M\",\"M\",\"M\",\"M\",\"M\",\"M\",\"M\",\"M\",\"M\",\"M\",\"M\",\"M\",\"M\",\"M\",\"M\",\"M\",\"M\",\"M\",\"M\",\"M\",\"M\",\"M\",\"M\",\"M\",\"M\",\"M\",\"M\",\"M\",\"M\",\"M\",\"M\",\"M\",\"M\",\"M\",\"M\",\"M\",\"M\",\"M\",\"M\",\"M\",\"M\",\"M\",\"M\",\"M\",\"M\",\"M\",\"M\",\"M\",\"M\",\"M\",\"M\",\"M\",\"M\",\"M\",\"M\",\"M\",\"M\",\"M\",\"M\",\"M\",\"M\",\"M\",\"M\",\"M\",\"M\",\"M\",\"M\",\"M\",\"M\",\"M\",\"M\",\"M\",\"M\",\"M\",\"M\",\"M\",\"M\",\"M\",\"M\",\"M\",\"M\",\"M\",\"M\",\"M\",\"M\",\"M\",\"M\",\"M\",\"M\",\"M\",\"M\",\"M\",\"M\",\"M\",\"M\",\"M\",\"M\",\"M\"],\"index\":{\"__ndarray__\":\"AACAglkFd0IAAEDoqwV3QgAAAE7+BXdCAADAs1AGd0IAAADlRwd3QgAAwEqaB3dCAACAsOwHd0IAAEAWPwh3QgAAAHyRCHdCAABArYgJd0IAAAAT2wl3QgAAwHgtCndCAACA3n8Kd0IAAEBE0gp3QgAAgHXJC3dCAABA2xsMd0IAAABBbgx3QgAAwKbADHdCAACADBMNd0IAAMA9Cg53QgAAgKNcDndCAABACa8Od0IAAABvAQ93QgAAwNRTD3dCAAAABksQd0IAAMBrnRB3QgAAgNHvEHdCAABAN0IRd0IAAACdlBF3QgAAQM6LEndCAAAANN4Sd0IAAMCZMBN3QgAAgP+CE3dCAABAZdUTd0IAAICWzBR3QgAAQPweFXdCAAAAYnEVd0IAAMDHwxV3QgAAwF4NF3dCAACAxF8Xd0IAAEAqshd3QgAAAJAEGHdCAADA9VYYd0IAAAAnThl3QgAAwIygGXdCAACA8vIZd0IAAEBYRRp3QgAAAL6XGndCAABA744bd0IAAABV4Rt3QgAAwLozHHdCAACAIIYcd0IAAECG2Bx3QgAAgLfPHXdCAABAHSIed0IAAACDdB53QgAAwOjGHndCAACAThkfd0IAAMB/ECB3QgAAgOViIHdCAABAS7Ugd0IAAACxByF3QgAAwBZaIXdCAAAASFEid0IAAMCtoyJ3QgAAgBP2IndCAABAeUgjd0IAAADfmiN3QgAAAHbkJHdCAADA2zYld0IAAIBBiSV3QgAAQKfbJXdCAACA2NImd0IAAEA+JSd3QgAAAKR3J3dCAADACcond0IAAIBvHCh3QgAAwKATKXdCAACABmYpd0IAAEBsuCl3QgAAANIKKndCAADAN10qd0IAAABpVCt3QgAAwM6mK3dCAACANPkrd0IAAECaSyx3QgAAAACeLHdCAABAMZUtd0IAAACX5y13QgAAwPw5LndCAACAYowud0IAAEDI3i53QgAAgPnVL3dCAABAXygwd0IAAADFejB3QgAAwCrNMHdCAADAwRYyd0IAAIAnaTJ3QgAAQI27MndCAAAA8w0zd0IAAMBYYDN3QgAAAIpXNHdCAADA76k0d0IAAIBV/DR3QgAAQLtONXdCAAAAIaE1d0IAAEBSmDZ3QgAAALjqNndCAADAHT03d0IAAICDjzd3QgAAQOnhN3dCAACAGtk4d0IAAECAKzl3QgAAAOZ9OXdCAADAS9A5d0IAAICxIjp3QgAAwOIZO3dCAACASGw7d0IAAECuvjt3QgAAABQRPHdCAADAeWM8d0IAAACrWj13QgAAwBCtPXdCAACAdv89d0IAAEDcUT53QgAAAEKkPndCAABAc5s/d0IAAADZ7T93QgAAwD5AQHdCAACApJJAd0IAAEAK5UB3QgAAgDvcQXdCAABAoS5Cd0IAAAAHgUJ3QgAAwGzTQndCAACA0iVDd0IAAMADHUR3QgAAgGlvRHdCAABAz8FEd0IAAAA1FEV3QgAAwJpmRXdCAADAMbBGd0IAAICXAkd3QgAAQP1UR3dCAAAAY6dHd0IAAECUnkh3QgAAAPrwSHdCAADAX0NJd0IAAIDFlUl3QgAAQCvoSXdCAACAXN9Kd0IAAEDCMUt3QgAAACiES3dCAADAjdZLd0IAAIDzKEx3QgAAwCQgTXdCAACAinJNd0IAAEDwxE13QgAAAFYXTndCAADAu2lOd0IAAADtYE93QgAAwFKzT3dCAACAuAVQd0IAAEAeWFB3QgAAAISqUHdCAABAtaFRd0IAAAAb9FF3QgAAwIBGUndCAACA5phSd0IAAEBM61J3QgAAgH3iU3dCAABA4zRUd0IAAABJh1R3QgAAwK7ZVHdCAACAFCxVd0IAAMBFI1Z3QgAAgKt1VndCAABAEchWd0IAAAB3Gld3QgAAwNxsV3dCAAAADmRYd0IAAMBztlh3QgAAgNkIWXdCAABAP1tZd0IAAAClrVl3QgAAQNakWndCAAAAPPdad0IAAMChSVt3QgAAgAecW3dCAABAbe5bd0IAAICe5Vx3QgAAQAQ4XXdCAAAAaopdd0IAAMDP3F13QgAAgDUvXndCAADAZiZfd0IAAIDMeF93QgAAQDLLX3dCAADA/W9gd0IAAAAvZ2F3QgAAwJS5YXdCAACA+gtid0IAAEBgXmJ3QgAAAMawYndCAABA96djd0IAAABd+mN3QgAAwMJMZHdCAACAKJ9kd0IAAECO8WR3QgAAgL/oZXdCAABAJTtmd0IAAACLjWZ3QgAAwPDfZndCAACAVjJnd0IAAMCHKWh3QgAAgO17aHdCAABAU85od0IAAAC5IGl3QgAAAFBqandCAADAtbxqd0IAAIAbD2t3QgAAQIFha3dCAABAGKtsd0IAAAB+/Wx3QgAAwONPbXdCAACASaJtd0IAAECv9G13QgAAgODrbndCAABARj5vd0IAAACskG93QgAAwBHjb3dCAACAdzVwd0IAAIAOf3F3QgAAQHTRcXdCAAAA2iNyd0IAAMA/dnJ3QgAAAHFtc3dCAADA1r9zd0I=\",\"dtype\":\"float64\",\"order\":\"little\",\"shape\":[238]},\"value\":{\"__ndarray__\":\"UrgehesRMEDsUbgehUswQOF6FK5HoTBAuB6F61E4MEDhehSuR+EuQDMzMzMzMy1AMzMzMzMzK0BI4XoUrscpQHE9CtejcCpAAAAAAAAAKkBI4XoUrkcpQI/C9ShcTylAKVyPwvUoJ0D2KFyPwvUmQFK4HoXr0SRArkfhehSuJED2KFyPwvUiQIXrUbgehR1Aj8L1KFwPIEDXo3A9CtcaQLgehetRuBpA16NwPQrXGEDD9Shcj8IaQBSuR+F6FBhAMzMzMzMzE0CPwvUoXI8WQEVHcvkPaRpAPQrXo3C9F0AfhetRuB4WQHsUrkfhehVAH4XrUbieE0C4HoXrUbgRQMP1KFyPwhFAPQrXo3A9E0CPwvUoXI8WQKRwPQrXoxdAlPYGX5gMGECuR+F6FK4aQBSuR+F6lBhA3SQGgZXDGED2KFyPwvUWQAAAAAAAABdAuB6F61G4F0Akl/+QfjsVQGZmZmZm5hRASOF6FK5HE0AK16NwPYoTQB+F61G4HhRAexSuR+H6FUDsUbgehesXQEjhehSuRxhAirDh6ZVyF0B7FK5H4XoVQBSuR+F6FBVArkfhehSuFED2KFyPwvUTQFK4HoXrURRAexSuR+F6FUAUrkfhehQVQPYoXI/C9RNAFK5H4XoUFECF61G4HgUUQF1txf6yOxVAKVyPwvWoFUBI4XoUrkcUQFK4HoXrURRAexSuR+F6FUDNzMzMzMwUQK5H4XoUrhhAhetRuB6FHUBSuB6F61EbQAAAAAAAgBlAhetRuB6FGUDXo3A9CtcbQHE9CtejcB9A4XoUrkdhIECSXP5D+o0hQB+F61G4HiNAPQrXo3C9IUC4HoXrUbgfQBSuR+F6FBtASOF6FK5HHEDNzMzMzMwcQI/C9Shcjx5ApHA9CtejHEApXI/C9SgdQClcj8L1qBtAZmZmZmZmHECkcD0K16McQB+F61G4HhtACtejcD0KGkAUrkfhehQYQHsUrkfhehpAhetRuB6FG0Bcj8L1KFwaQClcj8L1KBtAexSuR+F6GkBI4XoUrkcaQHE9CtejcBtAAAAAAACAGkAK16NwPQobQEjhehSuRxpA9ihcj8L1GkDhehSuR+EcQClcj8L1qBtAmpmZmZmZGkApXI/C9agZQLgehetROBtA16NwPQrXGUApXI/C9agaQM3MzMzMzBlA4XoUrkfhGEAzMzMzM7MZQPYoXI/C9RlA7FG4HoXrGEBI4XoUrkcYQGZmZmZmZhhAj8L1KFyPGEAUrkfhepQZQPYoXI/C9RhAexSuR+F6GkCamZmZmZkcQB+F61G4HhxAAAAAAACAHEBcj8L1KNwbQMP1KFyPwhxAmpmZmZmZHECuR+F6FC4aQArXo3A9ChpAH4XrUbgeGUAK16NwPQoZQF8pyxDHehpASOF6FK5HGkAAAAAAAAAaQHsUrkfhehpAzczMzMzMG0DhehSuR+EbQAAAAAAAABxAMzMzMzMzHEBmZmZmZmYeQArXo3A9ih5AexSuR+F6HkAzMzMzMzMeQKRwPQrXox1AMzMzMzMzHEDXo3A9CtccQHsUrkfhehtA9ihcj8L1G0B7FK5H4XobQBSuR+F6FBtAPQrXo3A9GUCamZmZmRkZQHE9CtejcBhApHA9CtcjGEAfhetRuB4YQNejcD0K1xdArkfhehSuFkDNzMzMzMwWQGZmZmZmZhdAhetRuB4FGEA9CtejcD0YQD0K16NwPRdA16NwPQrXF0ApXI/C9SgZQOxRuB6F6xhA16NwPQrXGECF61G4HoUYQIXrUbgehRhAmpmZmZkZGUCkcD0K16MYQGZmZmZmZhhAXI/C9ShcGUAfhetRuB4aQIXrUbgeBRxA4XoUrkfhHEAK16NwPQobQM3MzMzMzBlAcT0K16NwGEBSuB6F69EYQNejcD0K1xhAUrgehetRGEBSuB6F61EaQArXo3A9ChlAw/UoXI/CGUBI4XoUrkcaQM3MzMzMzB5AAAAAAAAAH0CkcD0K16MdQAAAAAAAABxArkfhehQuHUD2KFyPwvUeQJqZmZmZmSFAexSuR+H6IUBcj8L1KFwiQJqZmZmZGSJAUrgehevRJEC4HoXrUbglQAAAAAAAACZAMzMzMzOzJUBmZmZmZmYkQFK4HoXr0SRAZmZmZmbmJUD2KFyPwnUmQPYoXI/CdSdA16NwPQpXJ0CPwvUoXA8nQFK4HoXrUSdAZmZmZmZmJ0ApXI/C9SgmQK5H4XoUriRAexSuR+F6JUAK16NwPYokQNejcD0K1yRA4XoUrkfhJEDsUbgeheskQD0K16NwPSRAw/UoXI9CJkC4HoXrUXglQFK4HoXrUSdAAAAAAAAAJ0CPwvUoXA8oQAAAAAAAgCZA9ihcj8J1JkBI4XoUrscmQIXrUbgeBSlA7FG4HoVrKEAUrkfhepQoQKRwPQrXIylA9ihcj8L1KUDhehSuR2EqQLgehetRuCtAhetRuB4FKkAzMzMzMzMpQK5H4XoUrihApHA9CtejKEBI4XoUrscpQI/C9ShcjyxAMzMzMzOzL0A=\",\"dtype\":\"float64\",\"order\":\"little\",\"shape\":[238]}},\"selected\":{\"id\":\"3178\"},\"selection_policy\":{\"id\":\"3212\"}},\"id\":\"3177\",\"type\":\"ColumnDataSource\"},{\"attributes\":{\"line_alpha\":0.1,\"line_color\":\"#9367bc\",\"line_width\":2,\"x\":{\"field\":\"index\"},\"y\":{\"field\":\"value\"}},\"id\":\"3181\",\"type\":\"Line\"},{\"attributes\":{\"label\":{\"value\":\"ETSY\"},\"renderers\":[{\"id\":\"3148\"}]},\"id\":\"3176\",\"type\":\"LegendItem\"},{\"attributes\":{\"months\":[0,6]},\"id\":\"3071\",\"type\":\"MonthsTicker\"},{\"attributes\":{\"line_color\":\"#9367bc\",\"line_width\":2,\"x\":{\"field\":\"index\"},\"y\":{\"field\":\"value\"}},\"id\":\"3180\",\"type\":\"Line\"},{\"attributes\":{\"data_source\":{\"id\":\"3078\"},\"glyph\":{\"id\":\"3081\"},\"hover_glyph\":null,\"muted_glyph\":{\"id\":\"3083\"},\"nonselection_glyph\":{\"id\":\"3082\"},\"selection_glyph\":null,\"view\":{\"id\":\"3085\"}},\"id\":\"3084\",\"type\":\"GlyphRenderer\"},{\"attributes\":{\"axis\":{\"id\":\"3023\"},\"grid_line_color\":null,\"ticker\":null},\"id\":\"3026\",\"type\":\"Grid\"},{\"attributes\":{\"data\":{\"Variable\":[\"AMZN\",\"AMZN\",\"AMZN\",\"AMZN\",\"AMZN\",\"AMZN\",\"AMZN\",\"AMZN\",\"AMZN\",\"AMZN\",\"AMZN\",\"AMZN\",\"AMZN\",\"AMZN\",\"AMZN\",\"AMZN\",\"AMZN\",\"AMZN\",\"AMZN\",\"AMZN\",\"AMZN\",\"AMZN\",\"AMZN\",\"AMZN\",\"AMZN\",\"AMZN\",\"AMZN\",\"AMZN\",\"AMZN\",\"AMZN\",\"AMZN\",\"AMZN\",\"AMZN\",\"AMZN\",\"AMZN\",\"AMZN\",\"AMZN\",\"AMZN\",\"AMZN\",\"AMZN\",\"AMZN\",\"AMZN\",\"AMZN\",\"AMZN\",\"AMZN\",\"AMZN\",\"AMZN\",\"AMZN\",\"AMZN\",\"AMZN\",\"AMZN\",\"AMZN\",\"AMZN\",\"AMZN\",\"AMZN\",\"AMZN\",\"AMZN\",\"AMZN\",\"AMZN\",\"AMZN\",\"AMZN\",\"AMZN\",\"AMZN\",\"AMZN\",\"AMZN\",\"AMZN\",\"AMZN\",\"AMZN\",\"AMZN\",\"AMZN\",\"AMZN\",\"AMZN\",\"AMZN\",\"AMZN\",\"AMZN\",\"AMZN\",\"AMZN\",\"AMZN\",\"AMZN\",\"AMZN\",\"AMZN\",\"AMZN\",\"AMZN\",\"AMZN\",\"AMZN\",\"AMZN\",\"AMZN\",\"AMZN\",\"AMZN\",\"AMZN\",\"AMZN\",\"AMZN\",\"AMZN\",\"AMZN\",\"AMZN\",\"AMZN\",\"AMZN\",\"AMZN\",\"AMZN\",\"AMZN\",\"AMZN\",\"AMZN\",\"AMZN\",\"AMZN\",\"AMZN\",\"AMZN\",\"AMZN\",\"AMZN\",\"AMZN\",\"AMZN\",\"AMZN\",\"AMZN\",\"AMZN\",\"AMZN\",\"AMZN\",\"AMZN\",\"AMZN\",\"AMZN\",\"AMZN\",\"AMZN\",\"AMZN\",\"AMZN\",\"AMZN\",\"AMZN\",\"AMZN\",\"AMZN\",\"AMZN\",\"AMZN\",\"AMZN\",\"AMZN\",\"AMZN\",\"AMZN\",\"AMZN\",\"AMZN\",\"AMZN\",\"AMZN\",\"AMZN\",\"AMZN\",\"AMZN\",\"AMZN\",\"AMZN\",\"AMZN\",\"AMZN\",\"AMZN\",\"AMZN\",\"AMZN\",\"AMZN\",\"AMZN\",\"AMZN\",\"AMZN\",\"AMZN\",\"AMZN\",\"AMZN\",\"AMZN\",\"AMZN\",\"AMZN\",\"AMZN\",\"AMZN\",\"AMZN\",\"AMZN\",\"AMZN\",\"AMZN\",\"AMZN\",\"AMZN\",\"AMZN\",\"AMZN\",\"AMZN\",\"AMZN\",\"AMZN\",\"AMZN\",\"AMZN\",\"AMZN\",\"AMZN\",\"AMZN\",\"AMZN\",\"AMZN\",\"AMZN\",\"AMZN\",\"AMZN\",\"AMZN\",\"AMZN\",\"AMZN\",\"AMZN\",\"AMZN\",\"AMZN\",\"AMZN\",\"AMZN\",\"AMZN\",\"AMZN\",\"AMZN\",\"AMZN\",\"AMZN\",\"AMZN\",\"AMZN\",\"AMZN\",\"AMZN\",\"AMZN\",\"AMZN\",\"AMZN\",\"AMZN\",\"AMZN\",\"AMZN\",\"AMZN\",\"AMZN\",\"AMZN\",\"AMZN\",\"AMZN\",\"AMZN\",\"AMZN\",\"AMZN\",\"AMZN\",\"AMZN\",\"AMZN\",\"AMZN\",\"AMZN\",\"AMZN\",\"AMZN\",\"AMZN\",\"AMZN\",\"AMZN\",\"AMZN\",\"AMZN\",\"AMZN\",\"AMZN\",\"AMZN\",\"AMZN\",\"AMZN\",\"AMZN\",\"AMZN\",\"AMZN\",\"AMZN\",\"AMZN\",\"AMZN\",\"AMZN\",\"AMZN\",\"AMZN\",\"AMZN\",\"AMZN\"],\"index\":{\"__ndarray__\":\"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\",\"dtype\":\"float64\",\"order\":\"little\",\"shape\":[238]},\"value\":{\"__ndarray__\":\"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\",\"dtype\":\"float64\",\"order\":\"little\",\"shape\":[238]}},\"selected\":{\"id\":\"3049\"},\"selection_policy\":{\"id\":\"3075\"}},\"id\":\"3048\",\"type\":\"ColumnDataSource\"},{\"attributes\":{\"days\":[1,2,3,4,5,6,7,8,9,10,11,12,13,14,15,16,17,18,19,20,21,22,23,24,25,26,27,28,29,30,31]},\"id\":\"3064\",\"type\":\"DaysTicker\"},{\"attributes\":{\"line_color\":\"#d62628\",\"line_width\":2,\"x\":{\"field\":\"index\"},\"y\":{\"field\":\"value\"}},\"id\":\"3145\",\"type\":\"Line\"},{\"attributes\":{},\"id\":\"3079\",\"type\":\"Selection\"},{\"attributes\":{},\"id\":\"3044\",\"type\":\"DatetimeTickFormatter\"},{\"attributes\":{\"days\":[1,4,7,10,13,16,19,22,25,28]},\"id\":\"3065\",\"type\":\"DaysTicker\"},{\"attributes\":{\"bottom_units\":\"screen\",\"fill_alpha\":0.5,\"fill_color\":\"lightgrey\",\"left_units\":\"screen\",\"level\":\"overlay\",\"line_alpha\":1.0,\"line_color\":\"black\",\"line_dash\":[4,4],\"line_width\":2,\"right_units\":\"screen\",\"top_units\":\"screen\"},\"id\":\"3036\",\"type\":\"BoxAnnotation\"},{\"attributes\":{\"label\":{\"value\":\"WMT\"},\"renderers\":[{\"id\":\"3115\"}]},\"id\":\"3141\",\"type\":\"LegendItem\"},{\"attributes\":{\"text\":\"\",\"text_color\":{\"value\":\"black\"},\"text_font_size\":{\"value\":\"12pt\"}},\"id\":\"3015\",\"type\":\"Title\"},{\"attributes\":{\"days\":[1,8,15,22]},\"id\":\"3066\",\"type\":\"DaysTicker\"},{\"attributes\":{},\"id\":\"3178\",\"type\":\"Selection\"},{\"attributes\":{},\"id\":\"3072\",\"type\":\"YearsTicker\"},{\"attributes\":{},\"id\":\"3110\",\"type\":\"Selection\"},{\"attributes\":{\"months\":[0,2,4,6,8,10]},\"id\":\"3069\",\"type\":\"MonthsTicker\"},{\"attributes\":{\"label\":{\"value\":\"PRTY\"},\"renderers\":[{\"id\":\"3084\"}]},\"id\":\"3108\",\"type\":\"LegendItem\"},{\"attributes\":{},\"id\":\"3107\",\"type\":\"UnionRenderers\"},{\"attributes\":{\"data_source\":{\"id\":\"3048\"},\"glyph\":{\"id\":\"3051\"},\"hover_glyph\":null,\"muted_glyph\":{\"id\":\"3053\"},\"nonselection_glyph\":{\"id\":\"3052\"},\"selection_glyph\":null,\"view\":{\"id\":\"3055\"}},\"id\":\"3054\",\"type\":\"GlyphRenderer\"},{\"attributes\":{},\"id\":\"3075\",\"type\":\"UnionRenderers\"},{\"attributes\":{\"data\":{\"Variable\":[\"PRTY\",\"PRTY\",\"PRTY\",\"PRTY\",\"PRTY\",\"PRTY\",\"PRTY\",\"PRTY\",\"PRTY\",\"PRTY\",\"PRTY\",\"PRTY\",\"PRTY\",\"PRTY\",\"PRTY\",\"PRTY\",\"PRTY\",\"PRTY\",\"PRTY\",\"PRTY\",\"PRTY\",\"PRTY\",\"PRTY\",\"PRTY\",\"PRTY\",\"PRTY\",\"PRTY\",\"PRTY\",\"PRTY\",\"PRTY\",\"PRTY\",\"PRTY\",\"PRTY\",\"PRTY\",\"PRTY\",\"PRTY\",\"PRTY\",\"PRTY\",\"PRTY\",\"PRTY\",\"PRTY\",\"PRTY\",\"PRTY\",\"PRTY\",\"PRTY\",\"PRTY\",\"PRTY\",\"PRTY\",\"PRTY\",\"PRTY\",\"PRTY\",\"PRTY\",\"PRTY\",\"PRTY\",\"PRTY\",\"PRTY\",\"PRTY\",\"PRTY\",\"PRTY\",\"PRTY\",\"PRTY\",\"PRTY\",\"PRTY\",\"PRTY\",\"PRTY\",\"PRTY\",\"PRTY\",\"PRTY\",\"PRTY\",\"PRTY\",\"PRTY\",\"PRTY\",\"PRTY\",\"PRTY\",\"PRTY\",\"PRTY\",\"PRTY\",\"PRTY\",\"PRTY\",\"PRTY\",\"PRTY\",\"PRTY\",\"PRTY\",\"PRTY\",\"PRTY\",\"PRTY\",\"PRTY\",\"PRTY\",\"PRTY\",\"PRTY\",\"PRTY\",\"PRTY\",\"PRTY\",\"PRTY\",\"PRTY\",\"PRTY\",\"PRTY\",\"PRTY\",\"PRTY\",\"PRTY\",\"PRTY\",\"PRTY\",\"PRTY\",\"PRTY\",\"PRTY\",\"PRTY\",\"PRTY\",\"PRTY\",\"PRTY\",\"PRTY\",\"PRTY\",\"PRTY\",\"PRTY\",\"PRTY\",\"PRTY\",\"PRTY\",\"PRTY\",\"PRTY\",\"PRTY\",\"PRTY\",\"PRTY\",\"PRTY\",\"PRTY\",\"PRTY\",\"PRTY\",\"PRTY\",\"PRTY\",\"PRTY\",\"PRTY\",\"PRTY\",\"PRTY\",\"PRTY\",\"PRTY\",\"PRTY\",\"PRTY\",\"PRTY\",\"PRTY\",\"PRTY\",\"PRTY\",\"PRTY\",\"PRTY\",\"PRTY\",\"PRTY\",\"PRTY\",\"PRTY\",\"PRTY\",\"PRTY\",\"PRTY\",\"PRTY\",\"PRTY\",\"PRTY\",\"PRTY\",\"PRTY\",\"PRTY\",\"PRTY\",\"PRTY\",\"PRTY\",\"PRTY\",\"PRTY\",\"PRTY\",\"PRTY\",\"PRTY\",\"PRTY\",\"PRTY\",\"PRTY\",\"PRTY\",\"PRTY\",\"PRTY\",\"PRTY\",\"PRTY\",\"PRTY\",\"PRTY\",\"PRTY\",\"PRTY\",\"PRTY\",\"PRTY\",\"PRTY\",\"PRTY\",\"PRTY\",\"PRTY\",\"PRTY\",\"PRTY\",\"PRTY\",\"PRTY\",\"PRTY\",\"PRTY\",\"PRTY\",\"PRTY\",\"PRTY\",\"PRTY\",\"PRTY\",\"PRTY\",\"PRTY\",\"PRTY\",\"PRTY\",\"PRTY\",\"PRTY\",\"PRTY\",\"PRTY\",\"PRTY\",\"PRTY\",\"PRTY\",\"PRTY\",\"PRTY\",\"PRTY\",\"PRTY\",\"PRTY\",\"PRTY\",\"PRTY\",\"PRTY\",\"PRTY\",\"PRTY\",\"PRTY\",\"PRTY\",\"PRTY\",\"PRTY\",\"PRTY\",\"PRTY\",\"PRTY\",\"PRTY\",\"PRTY\",\"PRTY\",\"PRTY\",\"PRTY\",\"PRTY\",\"PRTY\",\"PRTY\",\"PRTY\",\"PRTY\",\"PRTY\",\"PRTY\",\"PRTY\",\"PRTY\",\"PRTY\",\"PRTY\",\"PRTY\",\"PRTY\",\"PRTY\"],\"index\":{\"__ndarray__\":\"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\",\"dtype\":\"float64\",\"order\":\"little\",\"shape\":[238]},\"value\":{\"__ndarray__\":\"AAAAAAAABkCkcD0K16MGQMP1KFyPwgdAw/UoXI/CB0DXo3A9CtcFQOxRuB6F6wNAH4XrUbgeAkC4HoXrUbj+P65H4XoUrv8/mpmZmZmZ/T8UrkfhehT+P5qZmZmZmf0/OdbFbTSA+z9xPQrXo3D5P1K4HoXrUfQ/exSuR+F69j+4HoXrUbjwP2dEaW/wheE/+8vuycNC4z9xrIvbaADgPwrXo3A9Ct8/ZvfkYaHW0D9OYhBYObTgPwK8BRIUP+I/0ETY8PRK4z+tad5xio7iPw5Pr5RliOE/AU2EDU+v4j8FNBE2PL3iP8P1KFyPwt0/OUVHcvkP3T96Nqs+V1vZPx+F61G4HtU/KA8LtaZ50z/qlbIMcazXP3PXEvJBz94/coqO5PIf3j9cj8L1KFzfP1jKMsSxLtw/P8bctYR83D8CvAUSFD/aPxE2PL1Sltk/W0I+6Nms2j/XEvJBz2bZP6kT0ETY8Ng/rWnecYqO2D9aZDvfT43XP2N/2T15WNg/KVyPwvUo3D8AAAAAAADgP05iEFg5tOA/V1uxv+ye6D8Zc9cS8kHkP15LyAc9m+E/jZduEoPA4j8+6Nms+lzhPxdIUPwYc+E/j8L1KFyP4j/vycNCrWniP+tztRX7y+A//Bhz1xLy3T9VwaikTkDfP0hQ/Bhz194/ufyH9NvX4T9m9+RhodbgP6hXyjLEseI/+n5qvHST5D9AE2HD0yvlPwMJih9j7uo/SS7/If327z97FK5H4XrwP83MzMzMzPQ/7FG4HoXr8T9cj8L1KFzzPx+F61G4HvU/MzMzMzMz9z97FK5H4Xr8P/YoXI/C9QJAuB6F61G4AEAp7Q2+MJn9P4/C9Shcj/Y/j8L1KFyP+j/sUbgehev9PzMzMzMzM/8/H4XrUbge/T8fhetRuB79Pylcj8L1KPw/mpmZmZmZ+T/D9Shcj8L5PwrXo3A9Cvc/FK5H4XoU9j/D9Shcj8L1P83MzMzMzPg/AAAAAAAA+D+4HoXrUbj2P7gehetRuPY/PQrXo3A99j/NzMzMzMz0P2ZmZmZmZvY/MzMzMzMz9T8fhetRuB71P1K4HoXrUfQ/4XoUrkfh8j9I4XoUrkf1P0jhehSuR/U/UrgehetR9D8fhetRuB71P86qz9VW7PU/w/UoXI/C9T+4HoXrUbj4P2ZmZmZmZvg/cT0K16Nw9z9SuB6F61H4PxSuR+F6FPo/16NwPQrX+z+PwvUoXI/6P3E9CtejcP0/KVyPwvUo/D/2KFyPwvX8PxSuR+F6FPo/KVyPwvUo/D+PwvUoXI/+P+xRuB6F6/0/hetRuB6F/z9SuB6F61EAQM3MzMzMzARApHA9CtejAUBcj8L1KFwBQFyPwvUoXABA7FG4HoXrAUAUrkfhehQAQKRwPQrXowJArkfhehSuA0A9CtejcD0EQA8LtaZ5RwVAMzMzMzMzB0DXo3A9CtcFQBSuR+F6FAdAPQrXo3A9BkBSuB6F61EEQMP1KFyPwgRArkfhehSuA0BxPQrXo3AFQNejcD0K1wVApHA9CtejBEAfhetRuB4FQDMzMzMzMwVAhetRuB6FB0BSuB6F61EIQDMzMzMzMwlAUrgehetRCECuR+F6FK4JQIXrUbgehQlAexSuR+F6BUBxPQrXo3AGQK5H4XoUrgdAcT0K16NwBUDNzMzMzMwEQHE9CtejcAVAmpmZmZmZBUCkcD0K16MEQBSuR+F6FARApHA9CtejBEBSuB6F61EEQGZmZmZmZgRAAAAAAAAABkDD9Shcj8IFQB+F61G4HgVAw/UoXI/CBEAAAAAAAAAEQOF6FK5H4QJAUrgehetRAkBxPQrXo3ABQLgehetRuABACtejcD0KAUBxPQrXo3D/P3E9CtejcP0/exSuR+F6/D/OGVHaG3wAQNejcD0K1/8/4XoUrkfhAEBxPQrXo3ABQB+F61G4HgFAzczMzMzMAkCkcD0K16MCQDMzMzMzMwlAXI/C9ShcCUCuR+F6FK4JQDMzMzMzMwtAMzMzMzMzCUCPwvUoXI8KQIXrUbgehQ9A2qz6XG1FD0B7FK5H4XoOQMP1KFyPwhBAMzMzMzMzEkBxPQrXo3ATQPLSTWIQWBNAhetRuB6FE0Bcj8L1KFwSQCo6kst/SBJAhetRuB6FE0BI4XoUrkcUQM3MzMzMTBVAZmZmZmZmFEApXI/C9SgVQK5H4XoUrhVAzczMzMzMFkDD9Shcj8IVQI/C9ShcjxVA16NwPQrXFkBcj8L1KFwXQLgehetRuBhA7FG4HoXrF0CuR+F6FK4ZQM3MzMzMzBpACtejcD0KGUDD9Shcj8IYQFyPwvUoXBhAZmZmZmZmGUAK16NwPQoaQK5H4XoUrhhAH4XrUbgeGUBSuB6F61EaQOF6FK5H4RtASOF6FK5HIEDhehSuR+EfQFK4HoXrUR9AKVyPwvUoIEDf4AuTqcIdQOQUHcnl/xxAKVyPwvUoG0A9CtejcD0aQKRwPQrXIxxAZmZmZmZmHEBSuB6F69EdQK5H4XoUrh1AFK5H4XoUHUA=\",\"dtype\":\"float64\",\"order\":\"little\",\"shape\":[238]}},\"selected\":{\"id\":\"3079\"},\"selection_policy\":{\"id\":\"3107\"}},\"id\":\"3078\",\"type\":\"ColumnDataSource\"},{\"attributes\":{\"months\":[0,1,2,3,4,5,6,7,8,9,10,11]},\"id\":\"3068\",\"type\":\"MonthsTicker\"},{\"attributes\":{\"days\":[1,15]},\"id\":\"3067\",\"type\":\"DaysTicker\"},{\"attributes\":{\"source\":{\"id\":\"3048\"}},\"id\":\"3055\",\"type\":\"CDSView\"},{\"attributes\":{},\"id\":\"3019\",\"type\":\"LinearScale\"},{\"attributes\":{\"line_alpha\":0.2,\"line_color\":\"#1f77b3\",\"line_width\":2,\"x\":{\"field\":\"index\"},\"y\":{\"field\":\"value\"}},\"id\":\"3053\",\"type\":\"Line\"},{\"attributes\":{\"data_source\":{\"id\":\"3142\"},\"glyph\":{\"id\":\"3145\"},\"hover_glyph\":null,\"muted_glyph\":{\"id\":\"3147\"},\"nonselection_glyph\":{\"id\":\"3146\"},\"selection_glyph\":null,\"view\":{\"id\":\"3149\"}},\"id\":\"3148\",\"type\":\"GlyphRenderer\"},{\"attributes\":{\"num_minor_ticks\":5,\"tickers\":[{\"id\":\"3061\"},{\"id\":\"3062\"},{\"id\":\"3063\"},{\"id\":\"3064\"},{\"id\":\"3065\"},{\"id\":\"3066\"},{\"id\":\"3067\"},{\"id\":\"3068\"},{\"id\":\"3069\"},{\"id\":\"3070\"},{\"id\":\"3071\"},{\"id\":\"3072\"}]},\"id\":\"3024\",\"type\":\"DatetimeTicker\"},{\"attributes\":{\"months\":[0,4,8]},\"id\":\"3070\",\"type\":\"MonthsTicker\"},{\"attributes\":{\"line_color\":\"#2ba02b\",\"line_width\":2,\"x\":{\"field\":\"index\"},\"y\":{\"field\":\"value\"}},\"id\":\"3112\",\"type\":\"Line\"},{\"attributes\":{\"children\":[{\"id\":\"3006\"},{\"id\":\"3014\"},{\"id\":\"3466\"}],\"margin\":[0,0,0,0],\"name\":\"Row04629\",\"tags\":[\"embedded\"]},\"id\":\"3005\",\"type\":\"Row\"}],\"root_ids\":[\"3005\"]},\"title\":\"Bokeh Application\",\"version\":\"2.2.3\"}};\n",
       "    var render_items = [{\"docid\":\"3798bf2d-bf32-4ad0-8d3a-e71bb6d48f1b\",\"root_ids\":[\"3005\"],\"roots\":{\"3005\":\"b5e2750d-dfb3-4508-9aff-f02e462f4525\"}}];\n",
       "    root.Bokeh.embed.embed_items_notebook(docs_json, render_items);\n",
       "  }\n",
       "  if (root.Bokeh !== undefined && root.Bokeh.Panel !== undefined) {\n",
       "    embed_document(root);\n",
       "  } else {\n",
       "    var attempts = 0;\n",
       "    var timer = setInterval(function(root) {\n",
       "      if (root.Bokeh !== undefined && root.Bokeh.Panel !== undefined) {\n",
       "        clearInterval(timer);\n",
       "        embed_document(root);\n",
       "      } else if (document.readyState == \"complete\") {\n",
       "        attempts++;\n",
       "        if (attempts > 100) {\n",
       "          clearInterval(timer);\n",
       "          console.log(\"Bokeh: ERROR: Unable to run BokehJS code because BokehJS library is missing\");\n",
       "        }\n",
       "      }\n",
       "    }, 10, root)\n",
       "  }\n",
       "})(window);</script>"
      ],
      "text/plain": [
       ":NdOverlay   [Variable]\n",
       "   :Curve   [index]   (value)"
      ]
     },
     "execution_count": 111,
     "metadata": {
      "application/vnd.holoviews_exec.v0+json": {
       "id": "3005"
      }
     },
     "output_type": "execute_result"
    }
   ],
   "source": [
    "close_prices.hvplot()"
   ]
  },
  {
   "cell_type": "code",
   "execution_count": 112,
   "metadata": {},
   "outputs": [
    {
     "data": {
      "text/html": [
       "<div>\n",
       "<style scoped>\n",
       "    .dataframe tbody tr th:only-of-type {\n",
       "        vertical-align: middle;\n",
       "    }\n",
       "\n",
       "    .dataframe tbody tr th {\n",
       "        vertical-align: top;\n",
       "    }\n",
       "\n",
       "    .dataframe thead th {\n",
       "        text-align: right;\n",
       "    }\n",
       "</style>\n",
       "<table border=\"1\" class=\"dataframe\">\n",
       "  <thead>\n",
       "    <tr style=\"text-align: right;\">\n",
       "      <th></th>\n",
       "      <th>AMZN</th>\n",
       "      <th>CPPRQ</th>\n",
       "      <th>PRTY</th>\n",
       "      <th>WMT</th>\n",
       "      <th>ETSY</th>\n",
       "      <th>M</th>\n",
       "    </tr>\n",
       "  </thead>\n",
       "  <tbody>\n",
       "    <tr>\n",
       "      <th>2021-01-20</th>\n",
       "      <td>3264.73</td>\n",
       "      <td>NaN</td>\n",
       "      <td>7.035</td>\n",
       "      <td>145.46</td>\n",
       "      <td>215.80</td>\n",
       "      <td>12.34</td>\n",
       "    </tr>\n",
       "    <tr>\n",
       "      <th>2021-01-21</th>\n",
       "      <td>3307.21</td>\n",
       "      <td>NaN</td>\n",
       "      <td>7.100</td>\n",
       "      <td>144.87</td>\n",
       "      <td>212.54</td>\n",
       "      <td>12.32</td>\n",
       "    </tr>\n",
       "    <tr>\n",
       "      <th>2021-01-22</th>\n",
       "      <td>3290.00</td>\n",
       "      <td>NaN</td>\n",
       "      <td>7.455</td>\n",
       "      <td>146.30</td>\n",
       "      <td>213.59</td>\n",
       "      <td>12.89</td>\n",
       "    </tr>\n",
       "    <tr>\n",
       "      <th>2021-01-25</th>\n",
       "      <td>3293.10</td>\n",
       "      <td>NaN</td>\n",
       "      <td>7.420</td>\n",
       "      <td>146.24</td>\n",
       "      <td>208.94</td>\n",
       "      <td>14.28</td>\n",
       "    </tr>\n",
       "    <tr>\n",
       "      <th>2021-01-26</th>\n",
       "      <td>3326.12</td>\n",
       "      <td>NaN</td>\n",
       "      <td>7.270</td>\n",
       "      <td>147.52</td>\n",
       "      <td>204.42</td>\n",
       "      <td>15.85</td>\n",
       "    </tr>\n",
       "  </tbody>\n",
       "</table>\n",
       "</div>"
      ],
      "text/plain": [
       "               AMZN CPPRQ   PRTY     WMT    ETSY      M\n",
       "2021-01-20  3264.73   NaN  7.035  145.46  215.80  12.34\n",
       "2021-01-21  3307.21   NaN  7.100  144.87  212.54  12.32\n",
       "2021-01-22  3290.00   NaN  7.455  146.30  213.59  12.89\n",
       "2021-01-25  3293.10   NaN  7.420  146.24  208.94  14.28\n",
       "2021-01-26  3326.12   NaN  7.270  147.52  204.42  15.85"
      ]
     },
     "execution_count": 112,
     "metadata": {},
     "output_type": "execute_result"
    }
   ],
   "source": [
    "close_prices.tail()"
   ]
  },
  {
   "cell_type": "code",
   "execution_count": 113,
   "metadata": {},
   "outputs": [
    {
     "data": {
      "text/plain": [
       "AMZN     238\n",
       "CPPRQ      0\n",
       "PRTY     238\n",
       "WMT      238\n",
       "ETSY     238\n",
       "M        238\n",
       "dtype: int64"
      ]
     },
     "execution_count": 113,
     "metadata": {},
     "output_type": "execute_result"
    }
   ],
   "source": [
    "close_prices.count()"
   ]
  },
  {
   "cell_type": "code",
   "execution_count": 114,
   "metadata": {},
   "outputs": [
    {
     "data": {
      "text/plain": [
       "date\n",
       "2020-02-15     6.0\n",
       "2020-02-16     7.0\n",
       "2020-02-17     6.0\n",
       "2020-02-18     0.0\n",
       "2020-02-19     2.0\n",
       "              ... \n",
       "2021-01-22   -26.0\n",
       "2021-01-23   -25.0\n",
       "2021-01-24   -28.0\n",
       "2021-01-25   -28.0\n",
       "2021-01-26   -28.0\n",
       "Name: US Mobility Daily Per Cent Change, Length: 347, dtype: float64"
      ]
     },
     "execution_count": 114,
     "metadata": {},
     "output_type": "execute_result"
    }
   ],
   "source": [
    "US_ALL.rename('US Mobility Daily Per Cent Change')"
   ]
  },
  {
   "cell_type": "code",
   "execution_count": 115,
   "metadata": {},
   "outputs": [
    {
     "data": {
      "text/plain": [
       "date\n",
       "2020-02-15    6.0\n",
       "2020-02-16    7.0\n",
       "2020-02-17    6.0\n",
       "2020-02-18    0.0\n",
       "2020-02-19    2.0\n",
       "Name: Retail and Recreation, dtype: float64"
      ]
     },
     "execution_count": 115,
     "metadata": {},
     "output_type": "execute_result"
    }
   ],
   "source": [
    "US_ALL.head()"
   ]
  },
  {
   "cell_type": "code",
   "execution_count": 116,
   "metadata": {},
   "outputs": [
    {
     "data": {
      "text/plain": [
       "pandas.core.series.Series"
      ]
     },
     "execution_count": 116,
     "metadata": {},
     "output_type": "execute_result"
    }
   ],
   "source": [
    "type(US_ALL)"
   ]
  },
  {
   "cell_type": "code",
   "execution_count": 117,
   "metadata": {},
   "outputs": [],
   "source": [
    "# converting series to df \n",
    "df = pd.DataFrame(US_ALL)"
   ]
  },
  {
   "cell_type": "code",
   "execution_count": 118,
   "metadata": {},
   "outputs": [
    {
     "data": {
      "text/html": [
       "<div>\n",
       "<style scoped>\n",
       "    .dataframe tbody tr th:only-of-type {\n",
       "        vertical-align: middle;\n",
       "    }\n",
       "\n",
       "    .dataframe tbody tr th {\n",
       "        vertical-align: top;\n",
       "    }\n",
       "\n",
       "    .dataframe thead th {\n",
       "        text-align: right;\n",
       "    }\n",
       "</style>\n",
       "<table border=\"1\" class=\"dataframe\">\n",
       "  <thead>\n",
       "    <tr style=\"text-align: right;\">\n",
       "      <th></th>\n",
       "      <th>Retail and Recreation</th>\n",
       "    </tr>\n",
       "    <tr>\n",
       "      <th>date</th>\n",
       "      <th></th>\n",
       "    </tr>\n",
       "  </thead>\n",
       "  <tbody>\n",
       "    <tr>\n",
       "      <th>2020-02-15</th>\n",
       "      <td>6.0</td>\n",
       "    </tr>\n",
       "    <tr>\n",
       "      <th>2020-02-16</th>\n",
       "      <td>7.0</td>\n",
       "    </tr>\n",
       "    <tr>\n",
       "      <th>2020-02-17</th>\n",
       "      <td>6.0</td>\n",
       "    </tr>\n",
       "    <tr>\n",
       "      <th>2020-02-18</th>\n",
       "      <td>0.0</td>\n",
       "    </tr>\n",
       "    <tr>\n",
       "      <th>2020-02-19</th>\n",
       "      <td>2.0</td>\n",
       "    </tr>\n",
       "    <tr>\n",
       "      <th>...</th>\n",
       "      <td>...</td>\n",
       "    </tr>\n",
       "    <tr>\n",
       "      <th>2021-01-22</th>\n",
       "      <td>-26.0</td>\n",
       "    </tr>\n",
       "    <tr>\n",
       "      <th>2021-01-23</th>\n",
       "      <td>-25.0</td>\n",
       "    </tr>\n",
       "    <tr>\n",
       "      <th>2021-01-24</th>\n",
       "      <td>-28.0</td>\n",
       "    </tr>\n",
       "    <tr>\n",
       "      <th>2021-01-25</th>\n",
       "      <td>-28.0</td>\n",
       "    </tr>\n",
       "    <tr>\n",
       "      <th>2021-01-26</th>\n",
       "      <td>-28.0</td>\n",
       "    </tr>\n",
       "  </tbody>\n",
       "</table>\n",
       "<p>347 rows × 1 columns</p>\n",
       "</div>"
      ],
      "text/plain": [
       "            Retail and Recreation\n",
       "date                             \n",
       "2020-02-15                    6.0\n",
       "2020-02-16                    7.0\n",
       "2020-02-17                    6.0\n",
       "2020-02-18                    0.0\n",
       "2020-02-19                    2.0\n",
       "...                           ...\n",
       "2021-01-22                  -26.0\n",
       "2021-01-23                  -25.0\n",
       "2021-01-24                  -28.0\n",
       "2021-01-25                  -28.0\n",
       "2021-01-26                  -28.0\n",
       "\n",
       "[347 rows x 1 columns]"
      ]
     },
     "execution_count": 118,
     "metadata": {},
     "output_type": "execute_result"
    }
   ],
   "source": [
    "df"
   ]
  },
  {
   "cell_type": "code",
   "execution_count": 119,
   "metadata": {},
   "outputs": [],
   "source": [
    "# now i need to merge this data with my mobiltiy data \n",
    "stock_mobility = pd.concat([df,close_prices],axis = 1, join = 'inner')"
   ]
  },
  {
   "cell_type": "code",
   "execution_count": 120,
   "metadata": {},
   "outputs": [
    {
     "data": {
      "text/plain": [
       "Index(['Retail and Recreation', 'AMZN', 'CPPRQ', 'PRTY', 'WMT', 'ETSY', 'M'], dtype='object')"
      ]
     },
     "execution_count": 120,
     "metadata": {},
     "output_type": "execute_result"
    }
   ],
   "source": [
    "stock_mobility.columns"
   ]
  },
  {
   "cell_type": "code",
   "execution_count": 121,
   "metadata": {},
   "outputs": [],
   "source": [
    "# changing the column name\n",
    "stock_mobility.rename(columns={'Retail and Recreation': 'US Retail Mobility '}, inplace = True)"
   ]
  },
  {
   "cell_type": "code",
   "execution_count": 122,
   "metadata": {},
   "outputs": [
    {
     "data": {
      "text/html": [
       "<div>\n",
       "<style scoped>\n",
       "    .dataframe tbody tr th:only-of-type {\n",
       "        vertical-align: middle;\n",
       "    }\n",
       "\n",
       "    .dataframe tbody tr th {\n",
       "        vertical-align: top;\n",
       "    }\n",
       "\n",
       "    .dataframe thead th {\n",
       "        text-align: right;\n",
       "    }\n",
       "</style>\n",
       "<table border=\"1\" class=\"dataframe\">\n",
       "  <thead>\n",
       "    <tr style=\"text-align: right;\">\n",
       "      <th></th>\n",
       "      <th>US Retail Mobility</th>\n",
       "      <th>AMZN</th>\n",
       "      <th>CPPRQ</th>\n",
       "      <th>PRTY</th>\n",
       "      <th>WMT</th>\n",
       "      <th>ETSY</th>\n",
       "      <th>M</th>\n",
       "    </tr>\n",
       "  </thead>\n",
       "  <tbody>\n",
       "    <tr>\n",
       "      <th>2020-02-18</th>\n",
       "      <td>0.0</td>\n",
       "      <td>2155.67</td>\n",
       "      <td>NaN</td>\n",
       "      <td>2.750</td>\n",
       "      <td>119.66</td>\n",
       "      <td>53.34</td>\n",
       "      <td>16.070</td>\n",
       "    </tr>\n",
       "    <tr>\n",
       "      <th>2020-02-19</th>\n",
       "      <td>2.0</td>\n",
       "      <td>2170.21</td>\n",
       "      <td>NaN</td>\n",
       "      <td>2.830</td>\n",
       "      <td>117.68</td>\n",
       "      <td>53.17</td>\n",
       "      <td>16.295</td>\n",
       "    </tr>\n",
       "    <tr>\n",
       "      <th>2020-02-20</th>\n",
       "      <td>1.0</td>\n",
       "      <td>2153.59</td>\n",
       "      <td>NaN</td>\n",
       "      <td>2.970</td>\n",
       "      <td>117.68</td>\n",
       "      <td>54.40</td>\n",
       "      <td>16.630</td>\n",
       "    </tr>\n",
       "    <tr>\n",
       "      <th>2020-02-21</th>\n",
       "      <td>2.0</td>\n",
       "      <td>2095.97</td>\n",
       "      <td>NaN</td>\n",
       "      <td>2.970</td>\n",
       "      <td>118.59</td>\n",
       "      <td>53.72</td>\n",
       "      <td>16.220</td>\n",
       "    </tr>\n",
       "    <tr>\n",
       "      <th>2020-02-24</th>\n",
       "      <td>2.0</td>\n",
       "      <td>2008.74</td>\n",
       "      <td>NaN</td>\n",
       "      <td>2.730</td>\n",
       "      <td>116.34</td>\n",
       "      <td>51.36</td>\n",
       "      <td>15.440</td>\n",
       "    </tr>\n",
       "    <tr>\n",
       "      <th>...</th>\n",
       "      <td>...</td>\n",
       "      <td>...</td>\n",
       "      <td>...</td>\n",
       "      <td>...</td>\n",
       "      <td>...</td>\n",
       "      <td>...</td>\n",
       "      <td>...</td>\n",
       "    </tr>\n",
       "    <tr>\n",
       "      <th>2021-01-20</th>\n",
       "      <td>-26.0</td>\n",
       "      <td>3264.73</td>\n",
       "      <td>NaN</td>\n",
       "      <td>7.035</td>\n",
       "      <td>145.46</td>\n",
       "      <td>215.80</td>\n",
       "      <td>12.340</td>\n",
       "    </tr>\n",
       "    <tr>\n",
       "      <th>2021-01-21</th>\n",
       "      <td>-26.0</td>\n",
       "      <td>3307.21</td>\n",
       "      <td>NaN</td>\n",
       "      <td>7.100</td>\n",
       "      <td>144.87</td>\n",
       "      <td>212.54</td>\n",
       "      <td>12.320</td>\n",
       "    </tr>\n",
       "    <tr>\n",
       "      <th>2021-01-22</th>\n",
       "      <td>-26.0</td>\n",
       "      <td>3290.00</td>\n",
       "      <td>NaN</td>\n",
       "      <td>7.455</td>\n",
       "      <td>146.30</td>\n",
       "      <td>213.59</td>\n",
       "      <td>12.890</td>\n",
       "    </tr>\n",
       "    <tr>\n",
       "      <th>2021-01-25</th>\n",
       "      <td>-28.0</td>\n",
       "      <td>3293.10</td>\n",
       "      <td>NaN</td>\n",
       "      <td>7.420</td>\n",
       "      <td>146.24</td>\n",
       "      <td>208.94</td>\n",
       "      <td>14.280</td>\n",
       "    </tr>\n",
       "    <tr>\n",
       "      <th>2021-01-26</th>\n",
       "      <td>-28.0</td>\n",
       "      <td>3326.12</td>\n",
       "      <td>NaN</td>\n",
       "      <td>7.270</td>\n",
       "      <td>147.52</td>\n",
       "      <td>204.42</td>\n",
       "      <td>15.850</td>\n",
       "    </tr>\n",
       "  </tbody>\n",
       "</table>\n",
       "<p>238 rows × 7 columns</p>\n",
       "</div>"
      ],
      "text/plain": [
       "            US Retail Mobility      AMZN CPPRQ   PRTY     WMT    ETSY       M\n",
       "2020-02-18                  0.0  2155.67   NaN  2.750  119.66   53.34  16.070\n",
       "2020-02-19                  2.0  2170.21   NaN  2.830  117.68   53.17  16.295\n",
       "2020-02-20                  1.0  2153.59   NaN  2.970  117.68   54.40  16.630\n",
       "2020-02-21                  2.0  2095.97   NaN  2.970  118.59   53.72  16.220\n",
       "2020-02-24                  2.0  2008.74   NaN  2.730  116.34   51.36  15.440\n",
       "...                         ...      ...   ...    ...     ...     ...     ...\n",
       "2021-01-20                -26.0  3264.73   NaN  7.035  145.46  215.80  12.340\n",
       "2021-01-21                -26.0  3307.21   NaN  7.100  144.87  212.54  12.320\n",
       "2021-01-22                -26.0  3290.00   NaN  7.455  146.30  213.59  12.890\n",
       "2021-01-25                -28.0  3293.10   NaN  7.420  146.24  208.94  14.280\n",
       "2021-01-26                -28.0  3326.12   NaN  7.270  147.52  204.42  15.850\n",
       "\n",
       "[238 rows x 7 columns]"
      ]
     },
     "execution_count": 122,
     "metadata": {},
     "output_type": "execute_result"
    }
   ],
   "source": [
    "stock_mobility"
   ]
  },
  {
   "cell_type": "code",
   "execution_count": 123,
   "metadata": {},
   "outputs": [],
   "source": [
    "# resetting the index\n",
    "stock_mobility.reset_index(inplace=True)"
   ]
  },
  {
   "cell_type": "code",
   "execution_count": 130,
   "metadata": {},
   "outputs": [
    {
     "ename": "KeyError",
     "evalue": "\"None of ['index'] are in the columns\"",
     "output_type": "error",
     "traceback": [
      "\u001b[0;31m---------------------------------------------------------------------------\u001b[0m",
      "\u001b[0;31mKeyError\u001b[0m                                  Traceback (most recent call last)",
      "\u001b[0;32m<ipython-input-130-be6ff1797fe2>\u001b[0m in \u001b[0;36m<module>\u001b[0;34m\u001b[0m\n\u001b[1;32m      1\u001b[0m \u001b[0;31m##\u001b[0m\u001b[0;34m\u001b[0m\u001b[0;34m\u001b[0m\u001b[0;34m\u001b[0m\u001b[0m\n\u001b[0;32m----> 2\u001b[0;31m \u001b[0mstock_mobility\u001b[0m \u001b[0;34m=\u001b[0m \u001b[0mstock_mobility\u001b[0m\u001b[0;34m.\u001b[0m\u001b[0mset_index\u001b[0m\u001b[0;34m(\u001b[0m\u001b[0;34m'index'\u001b[0m\u001b[0;34m)\u001b[0m\u001b[0;34m\u001b[0m\u001b[0;34m\u001b[0m\u001b[0m\n\u001b[0m",
      "\u001b[0;32m~/opt/anaconda3/lib/python3.8/site-packages/pandas/core/frame.py\u001b[0m in \u001b[0;36mset_index\u001b[0;34m(self, keys, drop, append, inplace, verify_integrity)\u001b[0m\n\u001b[1;32m   4549\u001b[0m \u001b[0;34m\u001b[0m\u001b[0m\n\u001b[1;32m   4550\u001b[0m         \u001b[0;32mif\u001b[0m \u001b[0mmissing\u001b[0m\u001b[0;34m:\u001b[0m\u001b[0;34m\u001b[0m\u001b[0;34m\u001b[0m\u001b[0m\n\u001b[0;32m-> 4551\u001b[0;31m             \u001b[0;32mraise\u001b[0m \u001b[0mKeyError\u001b[0m\u001b[0;34m(\u001b[0m\u001b[0;34mf\"None of {missing} are in the columns\"\u001b[0m\u001b[0;34m)\u001b[0m\u001b[0;34m\u001b[0m\u001b[0;34m\u001b[0m\u001b[0m\n\u001b[0m\u001b[1;32m   4552\u001b[0m \u001b[0;34m\u001b[0m\u001b[0m\n\u001b[1;32m   4553\u001b[0m         \u001b[0;32mif\u001b[0m \u001b[0minplace\u001b[0m\u001b[0;34m:\u001b[0m\u001b[0;34m\u001b[0m\u001b[0;34m\u001b[0m\u001b[0m\n",
      "\u001b[0;31mKeyError\u001b[0m: \"None of ['index'] are in the columns\""
     ]
    }
   ],
   "source": [
    "##\n",
    "stock_mobility = stock_mobility.set_index('index')"
   ]
  },
  {
   "cell_type": "code",
   "execution_count": 131,
   "metadata": {},
   "outputs": [
    {
     "data": {
      "text/html": [
       "<div>\n",
       "<style scoped>\n",
       "    .dataframe tbody tr th:only-of-type {\n",
       "        vertical-align: middle;\n",
       "    }\n",
       "\n",
       "    .dataframe tbody tr th {\n",
       "        vertical-align: top;\n",
       "    }\n",
       "\n",
       "    .dataframe thead th {\n",
       "        text-align: right;\n",
       "    }\n",
       "</style>\n",
       "<table border=\"1\" class=\"dataframe\">\n",
       "  <thead>\n",
       "    <tr style=\"text-align: right;\">\n",
       "      <th></th>\n",
       "      <th>US Retail Mobility</th>\n",
       "      <th>AMZN</th>\n",
       "      <th>CPPRQ</th>\n",
       "      <th>PRTY</th>\n",
       "      <th>WMT</th>\n",
       "      <th>ETSY</th>\n",
       "      <th>M</th>\n",
       "    </tr>\n",
       "    <tr>\n",
       "      <th>index</th>\n",
       "      <th></th>\n",
       "      <th></th>\n",
       "      <th></th>\n",
       "      <th></th>\n",
       "      <th></th>\n",
       "      <th></th>\n",
       "      <th></th>\n",
       "    </tr>\n",
       "  </thead>\n",
       "  <tbody>\n",
       "    <tr>\n",
       "      <th>2020-02-18</th>\n",
       "      <td>0.0</td>\n",
       "      <td>2155.67</td>\n",
       "      <td>NaN</td>\n",
       "      <td>2.750</td>\n",
       "      <td>119.66</td>\n",
       "      <td>53.34</td>\n",
       "      <td>16.070</td>\n",
       "    </tr>\n",
       "    <tr>\n",
       "      <th>2020-02-19</th>\n",
       "      <td>2.0</td>\n",
       "      <td>2170.21</td>\n",
       "      <td>NaN</td>\n",
       "      <td>2.830</td>\n",
       "      <td>117.68</td>\n",
       "      <td>53.17</td>\n",
       "      <td>16.295</td>\n",
       "    </tr>\n",
       "    <tr>\n",
       "      <th>2020-02-20</th>\n",
       "      <td>1.0</td>\n",
       "      <td>2153.59</td>\n",
       "      <td>NaN</td>\n",
       "      <td>2.970</td>\n",
       "      <td>117.68</td>\n",
       "      <td>54.40</td>\n",
       "      <td>16.630</td>\n",
       "    </tr>\n",
       "    <tr>\n",
       "      <th>2020-02-21</th>\n",
       "      <td>2.0</td>\n",
       "      <td>2095.97</td>\n",
       "      <td>NaN</td>\n",
       "      <td>2.970</td>\n",
       "      <td>118.59</td>\n",
       "      <td>53.72</td>\n",
       "      <td>16.220</td>\n",
       "    </tr>\n",
       "    <tr>\n",
       "      <th>2020-02-24</th>\n",
       "      <td>2.0</td>\n",
       "      <td>2008.74</td>\n",
       "      <td>NaN</td>\n",
       "      <td>2.730</td>\n",
       "      <td>116.34</td>\n",
       "      <td>51.36</td>\n",
       "      <td>15.440</td>\n",
       "    </tr>\n",
       "    <tr>\n",
       "      <th>...</th>\n",
       "      <td>...</td>\n",
       "      <td>...</td>\n",
       "      <td>...</td>\n",
       "      <td>...</td>\n",
       "      <td>...</td>\n",
       "      <td>...</td>\n",
       "      <td>...</td>\n",
       "    </tr>\n",
       "    <tr>\n",
       "      <th>2021-01-20</th>\n",
       "      <td>-26.0</td>\n",
       "      <td>3264.73</td>\n",
       "      <td>NaN</td>\n",
       "      <td>7.035</td>\n",
       "      <td>145.46</td>\n",
       "      <td>215.80</td>\n",
       "      <td>12.340</td>\n",
       "    </tr>\n",
       "    <tr>\n",
       "      <th>2021-01-21</th>\n",
       "      <td>-26.0</td>\n",
       "      <td>3307.21</td>\n",
       "      <td>NaN</td>\n",
       "      <td>7.100</td>\n",
       "      <td>144.87</td>\n",
       "      <td>212.54</td>\n",
       "      <td>12.320</td>\n",
       "    </tr>\n",
       "    <tr>\n",
       "      <th>2021-01-22</th>\n",
       "      <td>-26.0</td>\n",
       "      <td>3290.00</td>\n",
       "      <td>NaN</td>\n",
       "      <td>7.455</td>\n",
       "      <td>146.30</td>\n",
       "      <td>213.59</td>\n",
       "      <td>12.890</td>\n",
       "    </tr>\n",
       "    <tr>\n",
       "      <th>2021-01-25</th>\n",
       "      <td>-28.0</td>\n",
       "      <td>3293.10</td>\n",
       "      <td>NaN</td>\n",
       "      <td>7.420</td>\n",
       "      <td>146.24</td>\n",
       "      <td>208.94</td>\n",
       "      <td>14.280</td>\n",
       "    </tr>\n",
       "    <tr>\n",
       "      <th>2021-01-26</th>\n",
       "      <td>-28.0</td>\n",
       "      <td>3326.12</td>\n",
       "      <td>NaN</td>\n",
       "      <td>7.270</td>\n",
       "      <td>147.52</td>\n",
       "      <td>204.42</td>\n",
       "      <td>15.850</td>\n",
       "    </tr>\n",
       "  </tbody>\n",
       "</table>\n",
       "<p>238 rows × 7 columns</p>\n",
       "</div>"
      ],
      "text/plain": [
       "            US Retail Mobility      AMZN CPPRQ   PRTY     WMT    ETSY       M\n",
       "index                                                                        \n",
       "2020-02-18                  0.0  2155.67   NaN  2.750  119.66   53.34  16.070\n",
       "2020-02-19                  2.0  2170.21   NaN  2.830  117.68   53.17  16.295\n",
       "2020-02-20                  1.0  2153.59   NaN  2.970  117.68   54.40  16.630\n",
       "2020-02-21                  2.0  2095.97   NaN  2.970  118.59   53.72  16.220\n",
       "2020-02-24                  2.0  2008.74   NaN  2.730  116.34   51.36  15.440\n",
       "...                         ...      ...   ...    ...     ...     ...     ...\n",
       "2021-01-20                -26.0  3264.73   NaN  7.035  145.46  215.80  12.340\n",
       "2021-01-21                -26.0  3307.21   NaN  7.100  144.87  212.54  12.320\n",
       "2021-01-22                -26.0  3290.00   NaN  7.455  146.30  213.59  12.890\n",
       "2021-01-25                -28.0  3293.10   NaN  7.420  146.24  208.94  14.280\n",
       "2021-01-26                -28.0  3326.12   NaN  7.270  147.52  204.42  15.850\n",
       "\n",
       "[238 rows x 7 columns]"
      ]
     },
     "execution_count": 131,
     "metadata": {},
     "output_type": "execute_result"
    }
   ],
   "source": [
    "stock_mobility"
   ]
  },
  {
   "cell_type": "code",
   "execution_count": 132,
   "metadata": {},
   "outputs": [
    {
     "data": {
      "text/plain": [
       "US Retail Mobility     238\n",
       "AMZN                   238\n",
       "CPPRQ                    0\n",
       "PRTY                   238\n",
       "WMT                    238\n",
       "ETSY                   238\n",
       "M                      238\n",
       "dtype: int64"
      ]
     },
     "execution_count": 132,
     "metadata": {},
     "output_type": "execute_result"
    }
   ],
   "source": [
    "## dropping the null values to account for missing weekends in the stock data \n",
    "stock_mobility.count()"
   ]
  },
  {
   "cell_type": "code",
   "execution_count": 134,
   "metadata": {},
   "outputs": [
    {
     "data": {
      "application/vnd.plotly.v1+json": {
       "config": {
        "plotlyServerURL": "https://plot.ly"
       },
       "data": [
        {
         "dimensions": [
          {
           "constraintrange": [
            -45.736810628390785,
            10.80981673715238
           ],
           "label": "US Retail Mobility ",
           "values": [
            0,
            2,
            1,
            2,
            2,
            4,
            7,
            8,
            8,
            7,
            11,
            8,
            8,
            5,
            6,
            6,
            8,
            6,
            2,
            -8,
            -18,
            -24,
            -28,
            -32,
            -38,
            -39,
            -40,
            -40,
            -42,
            -40,
            -40,
            -37,
            -40,
            -42,
            -42,
            -42,
            -42,
            -43,
            -45,
            -40,
            -36,
            -39,
            -42,
            -39,
            -38,
            -38,
            -40,
            -40,
            -35,
            -34,
            -34,
            -34,
            -32,
            -29,
            -28,
            -29,
            -29,
            -32,
            -31,
            -28,
            -26,
            -28,
            -29,
            -26,
            -24,
            -22,
            -22,
            -24,
            -22,
            -21,
            -21,
            -23,
            -18,
            -18,
            -16,
            -18,
            -20,
            -16,
            -16,
            -14,
            -15,
            -17,
            -14,
            -13,
            -12,
            -13,
            -15,
            -16,
            -13,
            -12,
            -13,
            -17,
            -13,
            -10,
            -7,
            -4,
            -13,
            -13,
            -12,
            -13,
            -18,
            -13,
            -12,
            -12,
            -13,
            -17,
            -14,
            -13,
            -13,
            -14,
            -17,
            -14,
            -14,
            -13,
            -13,
            -14,
            -12,
            -13,
            -11,
            -13,
            -15,
            -14,
            -13,
            -13,
            -14,
            -16,
            -15,
            -14,
            -14,
            -14,
            -16,
            -16,
            -15,
            -14,
            -16,
            -17,
            -15,
            -12,
            -13,
            -11,
            -13,
            -16,
            -16,
            -16,
            -17,
            -16,
            -14,
            -15,
            -16,
            -15,
            -16,
            -15,
            -15,
            -16,
            -16,
            -17,
            -16,
            -14,
            -13,
            -14,
            -15,
            -15,
            -15,
            -15,
            -16,
            -17,
            -17,
            -14,
            -15,
            -17,
            -18,
            -17,
            -16,
            -16,
            -17,
            -19,
            -17,
            -16,
            -17,
            -14,
            -17,
            -11,
            -18,
            -18,
            -18,
            -19,
            -18,
            -15,
            -20,
            -19,
            -20,
            -20,
            -19,
            -19,
            -20,
            -16,
            -12,
            -3,
            -26,
            -21,
            -18,
            -19,
            -18,
            -20,
            -21,
            -20,
            -19,
            -19,
            -21,
            -20,
            -17,
            -20,
            -22,
            -19,
            -8,
            -5,
            2,
            -16,
            -17,
            -17,
            -13,
            -9,
            -19,
            -20,
            -22,
            -24,
            -26,
            -25,
            -23,
            -23,
            -25,
            -27,
            -26,
            -26,
            -26,
            -26,
            -28,
            -28
           ]
          },
          {
           "label": "AMZN",
           "values": [
            2155.67,
            2170.21,
            2153.59,
            2095.97,
            2008.74,
            1970.65,
            1979.61,
            1882.88,
            1889.18,
            1954,
            1908.88,
            1976.46,
            1924.03,
            1901.14,
            1800.01,
            1894,
            1819.63,
            1676.21,
            1786.31,
            1688,
            1807.38,
            1832.39,
            1880.5,
            1846.09,
            1902.54,
            1940,
            1885.78,
            1955.225,
            1899.92,
            1964.78,
            1949.79,
            1906.58,
            1918.83,
            1906.6,
            1998.49,
            2011.6,
            2042.9,
            2042.82,
            2168.01,
            2283.31,
            2309.27,
            2408.19,
            2372.87,
            2393.08,
            2329.36,
            2366.54,
            2399.44,
            2410,
            2376.82,
            2314.08,
            2371.88,
            2471.5,
            2285.94,
            2315.99,
            2317.64,
            2350.97,
            2367.61,
            2379.5,
            2406.9375,
            2357.505,
            2366.17,
            2391.37,
            2410.41,
            2426.38,
            2448.59,
            2497.35,
            2448.01,
            2436.89,
            2423.7,
            2409.51,
            2401.05,
            2436.53,
            2470.12,
            2473.3,
            2478.4,
            2460.6,
            2481.415,
            2522.8,
            2603.39,
            2648.16,
            2558.47,
            2566.705,
            2572.62,
            2615.13,
            2641.72,
            2655,
            2671.86,
            2712,
            2764.42,
            2733.49,
            2756.16,
            2692.87,
            2681.52,
            2756.09,
            2879.2,
            2887.56,
            3057.16,
            3000.12,
            3081.88,
            3183.81,
            3203.36,
            3101.55,
            3084.02,
            3008.87,
            2994.55,
            2961.47,
            3195.01,
            3141.43,
            3100.23,
            2987.725,
            3008.92,
            3053.89,
            2999.62,
            3034.27,
            3052.65,
            3164.68,
            3111.42,
            3138.82,
            3205.83,
            3224.35,
            3165.75,
            3149.87,
            3080.67,
            3161,
            3161.02,
            3148,
            3181.16,
            3312.49,
            3260.15,
            3296.05,
            3284.59,
            3307.45,
            3346.05,
            3442.06,
            3400.7,
            3401.8,
            3441.91,
            3500.47,
            3529.34,
            3369.17,
            3294.62,
            3149.84,
            3268.27,
            3176.12,
            3117.28,
            3102.97,
            3153.28,
            3077.14,
            3010.56,
            2952.64,
            2962,
            3129,
            2997.44,
            3018.58,
            3094.65,
            3175.04,
            3142.92,
            3147.425,
            3222.01,
            3125.93,
            3199.2,
            3099.29,
            3192.51,
            3190.55,
            3287.82,
            3442.93,
            3442.64,
            3363.05,
            3338.62,
            3160,
            3207.3,
            3216.26,
            3183.6,
            3177.4,
            3204.64,
            3207.32,
            3287.92,
            3162.49,
            3212.79,
            3036.13,
            3004.48,
            3046.25,
            3241.16,
            3322,
            3310.41,
            3141.34,
            3035.18,
            3136.81,
            3110.2,
            3134.09,
            3132.99,
            3135.66,
            3105.1,
            3114.41,
            3099.205,
            3100.18,
            3116.86,
            3184.82,
            3195.95,
            3168.03,
            3220.08,
            3203.75,
            3188.66,
            3163.49,
            3158.77,
            3176.64,
            3101.35,
            3100.07,
            3116.41,
            3156.97,
            3166.45,
            3240.96,
            3237.015,
            3201.07,
            3205.74,
            3206.52,
            3186.73,
            3171.16,
            3283.96,
            3320.71,
            3285.85,
            3256.41,
            3186.65,
            3218.51,
            3138.01,
            3161.41,
            3182.7,
            3115.75,
            3120.88,
            3166.24,
            3129.32,
            3104.54,
            3121,
            3264.73,
            3307.21,
            3290,
            3293.1,
            3326.12
           ]
          },
          {
           "label": "PRTY",
           "values": [
            2.75,
            2.83,
            2.97,
            2.97,
            2.73,
            2.49,
            2.265,
            1.92,
            1.98,
            1.85,
            1.88,
            1.85,
            1.7188,
            1.59,
            1.27,
            1.405,
            1.045,
            0.5476,
            0.6019,
            0.50005,
            0.485,
            0.2631,
            0.522,
            0.5702,
            0.6029,
            0.5799,
            0.5479,
            0.5839,
            0.5856,
            0.465,
            0.4541,
            0.3962,
            0.33,
            0.3043,
            0.3699,
            0.4814,
            0.4707,
            0.49,
            0.44035,
            0.4451,
            0.4101,
            0.3998,
            0.4168,
            0.3969,
            0.3897,
            0.3837,
            0.368,
            0.3804,
            0.44,
            0.5,
            0.522,
            0.7694,
            0.63305,
            0.5502,
            0.586,
            0.5426,
            0.5453,
            0.58,
            0.5754,
            0.5249,
            0.4679,
            0.4883,
            0.4819,
            0.5576,
            0.5262,
            0.5842,
            0.643,
            0.6616,
            0.8416,
            0.9989,
            1.03,
            1.3,
            1.12,
            1.21,
            1.32,
            1.45,
            1.78,
            2.37,
            2.09,
            1.8499,
            1.41,
            1.66,
            1.87,
            1.95,
            1.82,
            1.82,
            1.76,
            1.6,
            1.61,
            1.44,
            1.38,
            1.36,
            1.55,
            1.5,
            1.42,
            1.42,
            1.39,
            1.3,
            1.4,
            1.325,
            1.32,
            1.27,
            1.18,
            1.33,
            1.33,
            1.27,
            1.32,
            1.3702,
            1.36,
            1.545,
            1.525,
            1.465,
            1.52,
            1.63,
            1.74,
            1.66,
            1.84,
            1.76,
            1.81,
            1.63,
            1.76,
            1.91,
            1.87,
            1.97,
            2.04,
            2.6,
            2.205,
            2.17,
            2.045,
            2.24,
            2.01,
            2.33,
            2.46,
            2.53,
            2.6599,
            2.9,
            2.73,
            2.885,
            2.78,
            2.54,
            2.595,
            2.46,
            2.68,
            2.73,
            2.58,
            2.64,
            2.65,
            2.94,
            3.04,
            3.15,
            3.04,
            3.21,
            3.19,
            2.685,
            2.805,
            2.96,
            2.68,
            2.6,
            2.68,
            2.7,
            2.58,
            2.51,
            2.58,
            2.54,
            2.55,
            2.75,
            2.72,
            2.64,
            2.595,
            2.5,
            2.36,
            2.29,
            2.18,
            2.09,
            2.13,
            1.965,
            1.84,
            1.78,
            2.0606,
            1.99,
            2.11,
            2.18,
            2.14,
            2.35,
            2.33,
            3.15,
            3.17,
            3.21,
            3.4,
            3.15,
            3.32,
            3.94,
            3.9089,
            3.81,
            4.19,
            4.55,
            4.86,
            4.836,
            4.88,
            4.59,
            4.5708,
            4.88,
            5.07,
            5.325,
            5.1,
            5.29,
            5.42,
            5.7,
            5.44,
            5.39,
            5.71,
            5.84,
            6.18,
            5.98,
            6.42,
            6.7,
            6.26,
            6.19,
            6.09,
            6.35,
            6.51,
            6.17,
            6.28,
            6.58,
            6.97,
            8.14,
            7.97,
            7.83,
            8.08,
            7.4401,
            7.2499,
            6.79,
            6.56,
            7.035,
            7.1,
            7.455,
            7.42,
            7.27
           ]
          },
          {
           "label": "WMT",
           "values": [
            119.66,
            117.68,
            117.68,
            118.59,
            116.34,
            114.42,
            113.79,
            110.36,
            107.77,
            115.94,
            112.91,
            116.76,
            115.91,
            117.25,
            117.1,
            119.82,
            114.42,
            104.05,
            114.09,
            106.75,
            119.185,
            122.61,
            119.39,
            113.95,
            114.29,
            114.99,
            109.34,
            109.59,
            109.58,
            115.18,
            113.56,
            114.14,
            118.63,
            119.46,
            125.86,
            122,
            121.83,
            121.79,
            125.33,
            128.99,
            128.75,
            132.28,
            132.11,
            129.82,
            129.13,
            131.51,
            128.54,
            129.43,
            128.22,
            128.01,
            123.63,
            121.54,
            122.96,
            123.75,
            124.74,
            123.35,
            121.9,
            122.99,
            123.67,
            123.8,
            123.69,
            123.44,
            125.76,
            127.7,
            124.93,
            125.43,
            125,
            124.315,
            123.85,
            122.48,
            123.67,
            124.03,
            123.93,
            123.94,
            123.44,
            122.1,
            121.58,
            121.07,
            121.4,
            121.2,
            120.16,
            119.485,
            118.09,
            119.71,
            119.01,
            117.99,
            119.75,
            121.68,
            121.07,
            120.35,
            119.63,
            118.31,
            119.09,
            119.66,
            119.69,
            119.21,
            118.88,
            126.97,
            124.41,
            127.76,
            130.66,
            129.55,
            132.02,
            132,
            132.06,
            131.75,
            131.45,
            132.33,
            132.66,
            131.65,
            131.24,
            131.23,
            131.79,
            130.72,
            130.11,
            129.43,
            129.3,
            131.62,
            129.8,
            129.35,
            129.99,
            131.91,
            130.2,
            131.87,
            131.84,
            132.54,
            135.77,
            134.66,
            132.41,
            130.57,
            131.64,
            131.33,
            130.62,
            130.68,
            136.65,
            140.31,
            138.85,
            147.6,
            147.6301,
            144.57,
            142.84,
            138.45,
            139.94,
            136.79,
            136.68,
            137.27,
            137.26,
            136.27,
            136.71,
            135.29,
            137.08,
            138.32,
            136.01,
            136.7,
            137.27,
            137.3,
            137.13,
            139.87,
            143.07,
            140.51,
            141.8,
            140.59,
            140.88,
            141.36,
            142.8,
            144.24,
            146.24,
            143.95,
            144.535,
            144.69,
            143.06,
            143.87,
            144.42,
            143.55,
            143.84,
            142.25,
            142.88,
            140.12,
            139.92,
            138.81,
            140.41,
            142.74,
            142,
            143.46,
            145.78,
            143.57,
            145.58,
            148,
            148.17,
            150.54,
            153.03,
            149.38,
            149.1,
            152.12,
            150.32,
            150.9,
            151.37,
            151.84,
            151.68,
            152.9,
            152.63,
            150.53,
            149.3,
            148.92,
            148.12,
            149.45,
            148.14,
            147.03,
            146.98,
            145.5291,
            145.59,
            145.44,
            146.07,
            145.61,
            145.96,
            144.2,
            143.24,
            143.5,
            145.22,
            144.31,
            144.24,
            144.09,
            146.51,
            145.74,
            146.68,
            146.65,
            146.63,
            147.29,
            148.97,
            147.46,
            146.9745,
            144.65,
            143.39,
            145.46,
            144.87,
            146.3,
            146.24,
            147.52
           ]
          },
          {
           "label": "ETSY",
           "values": [
            53.34,
            53.17,
            54.4,
            53.72,
            51.36,
            49.891,
            50.71,
            57.91,
            57.97,
            58.85,
            58.2,
            62.46,
            62.15,
            60.61,
            58.5,
            57.97,
            50.21,
            44.04,
            49.01,
            41.65,
            42.115,
            39.25,
            34.66,
            31.69,
            33.06,
            38.17,
            41.31,
            41.95,
            38.67,
            38.659,
            38.44,
            35.42,
            34.77,
            38.14,
            46.471,
            47.67,
            51.05,
            53.61,
            55.49,
            57.68,
            56.75,
            59.68,
            61.06,
            65.04,
            61.39,
            62.93,
            62.86,
            66.22,
            69.31,
            66.22,
            68.28,
            64.88,
            64.45,
            67.69,
            72.9,
            78.28,
            76.64,
            80.7,
            80.29,
            78.96,
            81.54,
            81.61,
            85.63,
            78.15,
            77.08,
            75.295,
            74.3,
            77.45,
            74.1,
            76.28,
            77.83,
            80.97,
            78.59,
            81.84,
            80.61,
            80.25,
            78.76,
            76.48,
            76.32,
            79.81,
            77.59,
            78.25,
            83.92,
            84.5,
            86.39,
            87.03,
            95.49,
            96.3,
            101.22,
            98.161,
            101.31,
            102.54,
            102.75,
            106.249,
            111.11,
            110.69,
            112.98,
            112.21,
            111.91,
            114.5,
            111.25,
            104.555,
            103.72,
            101.97,
            103.25,
            102.68,
            106.7,
            104.55,
            104.23,
            102.46,
            101.58,
            105.95,
            102.48,
            108.69,
            112.4,
            118.34,
            126.49,
            129.62,
            135.56,
            130.655,
            135.06,
            134.75,
            127.45,
            121.97,
            128.83,
            129.26,
            129.75,
            133.04,
            131.1399,
            130.09,
            130.37,
            128.74,
            125.48,
            126.91,
            122.27,
            119.6,
            119.7,
            125.05,
            124.38,
            116.16,
            112.01,
            110.56,
            112.7,
            110.5,
            110.78,
            112.54,
            111.01,
            108.75,
            109.2,
            111.82,
            116.035,
            119.39,
            115.1,
            113.68,
            118.29,
            123.78,
            123.2,
            121.62,
            131.69,
            131.68,
            136.69,
            134.55,
            142.66,
            139.53,
            146.67,
            147.399,
            153.16,
            149.923,
            150.66,
            147.66,
            148.37,
            144.75,
            133.01,
            135.94,
            137.845,
            139.73,
            145.77,
            139.7,
            132.36,
            121.6,
            126.47,
            130.45,
            136.2,
            143.64,
            146.31,
            121.21,
            119.4262,
            130.59,
            127.01,
            124.9,
            125.13,
            128.91,
            127.01,
            134.52,
            140.05,
            140.04,
            137.54,
            145.09,
            160.61,
            160.77,
            154.57,
            154.62,
            154.74,
            155,
            156.99,
            163.98,
            159.03,
            165.38,
            170.09,
            169.87,
            177.81,
            182.26,
            187.98,
            190.82,
            189.2,
            197.59,
            190.16,
            190.43,
            178.07,
            177.01,
            182.97,
            177.84,
            172.06,
            174.88,
            167.57,
            170.71,
            175.74,
            183,
            205.14,
            207.03,
            211.6,
            204.41,
            221.31,
            215.8,
            212.54,
            213.59,
            208.94,
            204.42
           ]
          },
          {
           "label": "M",
           "values": [
            16.07,
            16.295,
            16.63,
            16.22,
            15.44,
            14.6,
            13.6,
            12.89,
            13.22,
            13,
            12.64,
            12.655,
            11.58,
            11.48,
            10.41,
            10.34,
            9.48,
            7.38,
            8.03,
            6.71,
            6.68,
            6.21,
            6.69,
            6.02,
            4.8,
            5.64,
            6.6026,
            5.935,
            5.53,
            5.37,
            4.905,
            4.43,
            4.44,
            4.81,
            5.64,
            5.91,
            6.0123,
            6.67,
            6.145,
            6.191,
            5.74,
            5.75,
            5.93,
            5.3081,
            5.225,
            4.82,
            4.885,
            5.03,
            5.495,
            5.98,
            6.07,
            5.8619,
            5.37,
            5.27,
            5.17,
            4.99,
            5.08,
            5.37,
            5.27,
            4.99,
            5.02,
            5.005,
            5.3083,
            5.415,
            5.07,
            5.08,
            5.37,
            5.2,
            6.17,
            7.38,
            6.83,
            6.375,
            6.38,
            6.96,
            7.86,
            8.19,
            8.7773,
            9.56,
            8.87,
            7.93,
            6.77,
            7.07,
            7.2,
            7.64,
            7.16,
            7.29,
            6.915,
            7.1,
            7.16,
            6.78,
            6.51,
            6.02,
            6.62,
            6.88,
            6.59,
            6.79,
            6.62,
            6.57,
            6.86,
            6.625,
            6.76,
            6.57,
            6.74,
            7.22,
            6.915,
            6.65,
            6.415,
            6.805,
            6.46,
            6.665,
            6.45,
            6.22,
            6.425,
            6.49,
            6.23,
            6.07,
            6.1,
            6.14,
            6.395,
            6.24,
            6.62,
            7.15,
            7.03,
            7.125,
            6.965,
            7.19,
            7.15,
            6.545,
            6.51,
            6.28,
            6.26,
            6.6199,
            6.57,
            6.5,
            6.62,
            6.95,
            6.97,
            7,
            7.05,
            7.6,
            7.635,
            7.62,
            7.55,
            7.41,
            7.05,
            7.21,
            6.87,
            6.99,
            6.87,
            6.77,
            6.31,
            6.275,
            6.11,
            6.035,
            6.03,
            5.96,
            5.67,
            5.7,
            5.85,
            6.005,
            6.06,
            5.81,
            5.96,
            6.29,
            6.23,
            6.21,
            6.13,
            6.13,
            6.275,
            6.16,
            6.1,
            6.34,
            6.53,
            7.005,
            7.22,
            6.76,
            6.45,
            6.11,
            6.205,
            6.21,
            6.08,
            6.58,
            6.26,
            6.44,
            6.57,
            7.7,
            7.75,
            7.41,
            7,
            7.295,
            7.74,
            8.8,
            8.99,
            9.18,
            9.05,
            10.41,
            10.86,
            11,
            10.85,
            10.2,
            10.41,
            10.95,
            11.23,
            11.73,
            11.67,
            11.53,
            11.66,
            11.7,
            11.08,
            10.34,
            10.74,
            10.27,
            10.42,
            10.44,
            10.46,
            10.12,
            11.13,
            10.735,
            11.66,
            11.5,
            12.03,
            11.25,
            11.23,
            11.39,
            12.51,
            12.21,
            12.29,
            12.57,
            12.98,
            13.19,
            13.86,
            13.01,
            12.6,
            12.34,
            12.32,
            12.89,
            14.28,
            15.85
           ]
          }
         ],
         "domain": {
          "x": [
           0,
           1
          ],
          "y": [
           0,
           1
          ]
         },
         "line": {
          "color": [
           0,
           2,
           1,
           2,
           2,
           4,
           7,
           8,
           8,
           7,
           11,
           8,
           8,
           5,
           6,
           6,
           8,
           6,
           2,
           -8,
           -18,
           -24,
           -28,
           -32,
           -38,
           -39,
           -40,
           -40,
           -42,
           -40,
           -40,
           -37,
           -40,
           -42,
           -42,
           -42,
           -42,
           -43,
           -45,
           -40,
           -36,
           -39,
           -42,
           -39,
           -38,
           -38,
           -40,
           -40,
           -35,
           -34,
           -34,
           -34,
           -32,
           -29,
           -28,
           -29,
           -29,
           -32,
           -31,
           -28,
           -26,
           -28,
           -29,
           -26,
           -24,
           -22,
           -22,
           -24,
           -22,
           -21,
           -21,
           -23,
           -18,
           -18,
           -16,
           -18,
           -20,
           -16,
           -16,
           -14,
           -15,
           -17,
           -14,
           -13,
           -12,
           -13,
           -15,
           -16,
           -13,
           -12,
           -13,
           -17,
           -13,
           -10,
           -7,
           -4,
           -13,
           -13,
           -12,
           -13,
           -18,
           -13,
           -12,
           -12,
           -13,
           -17,
           -14,
           -13,
           -13,
           -14,
           -17,
           -14,
           -14,
           -13,
           -13,
           -14,
           -12,
           -13,
           -11,
           -13,
           -15,
           -14,
           -13,
           -13,
           -14,
           -16,
           -15,
           -14,
           -14,
           -14,
           -16,
           -16,
           -15,
           -14,
           -16,
           -17,
           -15,
           -12,
           -13,
           -11,
           -13,
           -16,
           -16,
           -16,
           -17,
           -16,
           -14,
           -15,
           -16,
           -15,
           -16,
           -15,
           -15,
           -16,
           -16,
           -17,
           -16,
           -14,
           -13,
           -14,
           -15,
           -15,
           -15,
           -15,
           -16,
           -17,
           -17,
           -14,
           -15,
           -17,
           -18,
           -17,
           -16,
           -16,
           -17,
           -19,
           -17,
           -16,
           -17,
           -14,
           -17,
           -11,
           -18,
           -18,
           -18,
           -19,
           -18,
           -15,
           -20,
           -19,
           -20,
           -20,
           -19,
           -19,
           -20,
           -16,
           -12,
           -3,
           -26,
           -21,
           -18,
           -19,
           -18,
           -20,
           -21,
           -20,
           -19,
           -19,
           -21,
           -20,
           -17,
           -20,
           -22,
           -19,
           -8,
           -5,
           2,
           -16,
           -17,
           -17,
           -13,
           -9,
           -19,
           -20,
           -22,
           -24,
           -26,
           -25,
           -23,
           -23,
           -25,
           -27,
           -26,
           -26,
           -26,
           -26,
           -28,
           -28
          ],
          "coloraxis": "coloraxis"
         },
         "name": "",
         "type": "parcoords"
        }
       ],
       "layout": {
        "autosize": true,
        "coloraxis": {
         "colorbar": {
          "title": {
           "text": "US Retail Mobility "
          }
         },
         "colorscale": [
          [
           0,
           "#000004"
          ],
          [
           0.1111111111111111,
           "#1b0c41"
          ],
          [
           0.2222222222222222,
           "#4a0c6b"
          ],
          [
           0.3333333333333333,
           "#781c6d"
          ],
          [
           0.4444444444444444,
           "#a52c60"
          ],
          [
           0.5555555555555556,
           "#cf4446"
          ],
          [
           0.6666666666666666,
           "#ed6925"
          ],
          [
           0.7777777777777778,
           "#fb9b06"
          ],
          [
           0.8888888888888888,
           "#f7d13d"
          ],
          [
           1,
           "#fcffa4"
          ]
         ]
        },
        "legend": {
         "tracegroupgap": 0
        },
        "margin": {
         "t": 60
        },
        "template": {
         "data": {
          "bar": [
           {
            "error_x": {
             "color": "#2a3f5f"
            },
            "error_y": {
             "color": "#2a3f5f"
            },
            "marker": {
             "line": {
              "color": "#E5ECF6",
              "width": 0.5
             }
            },
            "type": "bar"
           }
          ],
          "barpolar": [
           {
            "marker": {
             "line": {
              "color": "#E5ECF6",
              "width": 0.5
             }
            },
            "type": "barpolar"
           }
          ],
          "carpet": [
           {
            "aaxis": {
             "endlinecolor": "#2a3f5f",
             "gridcolor": "white",
             "linecolor": "white",
             "minorgridcolor": "white",
             "startlinecolor": "#2a3f5f"
            },
            "baxis": {
             "endlinecolor": "#2a3f5f",
             "gridcolor": "white",
             "linecolor": "white",
             "minorgridcolor": "white",
             "startlinecolor": "#2a3f5f"
            },
            "type": "carpet"
           }
          ],
          "choropleth": [
           {
            "colorbar": {
             "outlinewidth": 0,
             "ticks": ""
            },
            "type": "choropleth"
           }
          ],
          "contour": [
           {
            "colorbar": {
             "outlinewidth": 0,
             "ticks": ""
            },
            "colorscale": [
             [
              0,
              "#0d0887"
             ],
             [
              0.1111111111111111,
              "#46039f"
             ],
             [
              0.2222222222222222,
              "#7201a8"
             ],
             [
              0.3333333333333333,
              "#9c179e"
             ],
             [
              0.4444444444444444,
              "#bd3786"
             ],
             [
              0.5555555555555556,
              "#d8576b"
             ],
             [
              0.6666666666666666,
              "#ed7953"
             ],
             [
              0.7777777777777778,
              "#fb9f3a"
             ],
             [
              0.8888888888888888,
              "#fdca26"
             ],
             [
              1,
              "#f0f921"
             ]
            ],
            "type": "contour"
           }
          ],
          "contourcarpet": [
           {
            "colorbar": {
             "outlinewidth": 0,
             "ticks": ""
            },
            "type": "contourcarpet"
           }
          ],
          "heatmap": [
           {
            "colorbar": {
             "outlinewidth": 0,
             "ticks": ""
            },
            "colorscale": [
             [
              0,
              "#0d0887"
             ],
             [
              0.1111111111111111,
              "#46039f"
             ],
             [
              0.2222222222222222,
              "#7201a8"
             ],
             [
              0.3333333333333333,
              "#9c179e"
             ],
             [
              0.4444444444444444,
              "#bd3786"
             ],
             [
              0.5555555555555556,
              "#d8576b"
             ],
             [
              0.6666666666666666,
              "#ed7953"
             ],
             [
              0.7777777777777778,
              "#fb9f3a"
             ],
             [
              0.8888888888888888,
              "#fdca26"
             ],
             [
              1,
              "#f0f921"
             ]
            ],
            "type": "heatmap"
           }
          ],
          "heatmapgl": [
           {
            "colorbar": {
             "outlinewidth": 0,
             "ticks": ""
            },
            "colorscale": [
             [
              0,
              "#0d0887"
             ],
             [
              0.1111111111111111,
              "#46039f"
             ],
             [
              0.2222222222222222,
              "#7201a8"
             ],
             [
              0.3333333333333333,
              "#9c179e"
             ],
             [
              0.4444444444444444,
              "#bd3786"
             ],
             [
              0.5555555555555556,
              "#d8576b"
             ],
             [
              0.6666666666666666,
              "#ed7953"
             ],
             [
              0.7777777777777778,
              "#fb9f3a"
             ],
             [
              0.8888888888888888,
              "#fdca26"
             ],
             [
              1,
              "#f0f921"
             ]
            ],
            "type": "heatmapgl"
           }
          ],
          "histogram": [
           {
            "marker": {
             "colorbar": {
              "outlinewidth": 0,
              "ticks": ""
             }
            },
            "type": "histogram"
           }
          ],
          "histogram2d": [
           {
            "colorbar": {
             "outlinewidth": 0,
             "ticks": ""
            },
            "colorscale": [
             [
              0,
              "#0d0887"
             ],
             [
              0.1111111111111111,
              "#46039f"
             ],
             [
              0.2222222222222222,
              "#7201a8"
             ],
             [
              0.3333333333333333,
              "#9c179e"
             ],
             [
              0.4444444444444444,
              "#bd3786"
             ],
             [
              0.5555555555555556,
              "#d8576b"
             ],
             [
              0.6666666666666666,
              "#ed7953"
             ],
             [
              0.7777777777777778,
              "#fb9f3a"
             ],
             [
              0.8888888888888888,
              "#fdca26"
             ],
             [
              1,
              "#f0f921"
             ]
            ],
            "type": "histogram2d"
           }
          ],
          "histogram2dcontour": [
           {
            "colorbar": {
             "outlinewidth": 0,
             "ticks": ""
            },
            "colorscale": [
             [
              0,
              "#0d0887"
             ],
             [
              0.1111111111111111,
              "#46039f"
             ],
             [
              0.2222222222222222,
              "#7201a8"
             ],
             [
              0.3333333333333333,
              "#9c179e"
             ],
             [
              0.4444444444444444,
              "#bd3786"
             ],
             [
              0.5555555555555556,
              "#d8576b"
             ],
             [
              0.6666666666666666,
              "#ed7953"
             ],
             [
              0.7777777777777778,
              "#fb9f3a"
             ],
             [
              0.8888888888888888,
              "#fdca26"
             ],
             [
              1,
              "#f0f921"
             ]
            ],
            "type": "histogram2dcontour"
           }
          ],
          "mesh3d": [
           {
            "colorbar": {
             "outlinewidth": 0,
             "ticks": ""
            },
            "type": "mesh3d"
           }
          ],
          "parcoords": [
           {
            "line": {
             "colorbar": {
              "outlinewidth": 0,
              "ticks": ""
             }
            },
            "type": "parcoords"
           }
          ],
          "pie": [
           {
            "automargin": true,
            "type": "pie"
           }
          ],
          "scatter": [
           {
            "marker": {
             "colorbar": {
              "outlinewidth": 0,
              "ticks": ""
             }
            },
            "type": "scatter"
           }
          ],
          "scatter3d": [
           {
            "line": {
             "colorbar": {
              "outlinewidth": 0,
              "ticks": ""
             }
            },
            "marker": {
             "colorbar": {
              "outlinewidth": 0,
              "ticks": ""
             }
            },
            "type": "scatter3d"
           }
          ],
          "scattercarpet": [
           {
            "marker": {
             "colorbar": {
              "outlinewidth": 0,
              "ticks": ""
             }
            },
            "type": "scattercarpet"
           }
          ],
          "scattergeo": [
           {
            "marker": {
             "colorbar": {
              "outlinewidth": 0,
              "ticks": ""
             }
            },
            "type": "scattergeo"
           }
          ],
          "scattergl": [
           {
            "marker": {
             "colorbar": {
              "outlinewidth": 0,
              "ticks": ""
             }
            },
            "type": "scattergl"
           }
          ],
          "scattermapbox": [
           {
            "marker": {
             "colorbar": {
              "outlinewidth": 0,
              "ticks": ""
             }
            },
            "type": "scattermapbox"
           }
          ],
          "scatterpolar": [
           {
            "marker": {
             "colorbar": {
              "outlinewidth": 0,
              "ticks": ""
             }
            },
            "type": "scatterpolar"
           }
          ],
          "scatterpolargl": [
           {
            "marker": {
             "colorbar": {
              "outlinewidth": 0,
              "ticks": ""
             }
            },
            "type": "scatterpolargl"
           }
          ],
          "scatterternary": [
           {
            "marker": {
             "colorbar": {
              "outlinewidth": 0,
              "ticks": ""
             }
            },
            "type": "scatterternary"
           }
          ],
          "surface": [
           {
            "colorbar": {
             "outlinewidth": 0,
             "ticks": ""
            },
            "colorscale": [
             [
              0,
              "#0d0887"
             ],
             [
              0.1111111111111111,
              "#46039f"
             ],
             [
              0.2222222222222222,
              "#7201a8"
             ],
             [
              0.3333333333333333,
              "#9c179e"
             ],
             [
              0.4444444444444444,
              "#bd3786"
             ],
             [
              0.5555555555555556,
              "#d8576b"
             ],
             [
              0.6666666666666666,
              "#ed7953"
             ],
             [
              0.7777777777777778,
              "#fb9f3a"
             ],
             [
              0.8888888888888888,
              "#fdca26"
             ],
             [
              1,
              "#f0f921"
             ]
            ],
            "type": "surface"
           }
          ],
          "table": [
           {
            "cells": {
             "fill": {
              "color": "#EBF0F8"
             },
             "line": {
              "color": "white"
             }
            },
            "header": {
             "fill": {
              "color": "#C8D4E3"
             },
             "line": {
              "color": "white"
             }
            },
            "type": "table"
           }
          ]
         },
         "layout": {
          "annotationdefaults": {
           "arrowcolor": "#2a3f5f",
           "arrowhead": 0,
           "arrowwidth": 1
          },
          "autotypenumbers": "strict",
          "coloraxis": {
           "colorbar": {
            "outlinewidth": 0,
            "ticks": ""
           }
          },
          "colorscale": {
           "diverging": [
            [
             0,
             "#8e0152"
            ],
            [
             0.1,
             "#c51b7d"
            ],
            [
             0.2,
             "#de77ae"
            ],
            [
             0.3,
             "#f1b6da"
            ],
            [
             0.4,
             "#fde0ef"
            ],
            [
             0.5,
             "#f7f7f7"
            ],
            [
             0.6,
             "#e6f5d0"
            ],
            [
             0.7,
             "#b8e186"
            ],
            [
             0.8,
             "#7fbc41"
            ],
            [
             0.9,
             "#4d9221"
            ],
            [
             1,
             "#276419"
            ]
           ],
           "sequential": [
            [
             0,
             "#0d0887"
            ],
            [
             0.1111111111111111,
             "#46039f"
            ],
            [
             0.2222222222222222,
             "#7201a8"
            ],
            [
             0.3333333333333333,
             "#9c179e"
            ],
            [
             0.4444444444444444,
             "#bd3786"
            ],
            [
             0.5555555555555556,
             "#d8576b"
            ],
            [
             0.6666666666666666,
             "#ed7953"
            ],
            [
             0.7777777777777778,
             "#fb9f3a"
            ],
            [
             0.8888888888888888,
             "#fdca26"
            ],
            [
             1,
             "#f0f921"
            ]
           ],
           "sequentialminus": [
            [
             0,
             "#0d0887"
            ],
            [
             0.1111111111111111,
             "#46039f"
            ],
            [
             0.2222222222222222,
             "#7201a8"
            ],
            [
             0.3333333333333333,
             "#9c179e"
            ],
            [
             0.4444444444444444,
             "#bd3786"
            ],
            [
             0.5555555555555556,
             "#d8576b"
            ],
            [
             0.6666666666666666,
             "#ed7953"
            ],
            [
             0.7777777777777778,
             "#fb9f3a"
            ],
            [
             0.8888888888888888,
             "#fdca26"
            ],
            [
             1,
             "#f0f921"
            ]
           ]
          },
          "colorway": [
           "#636efa",
           "#EF553B",
           "#00cc96",
           "#ab63fa",
           "#FFA15A",
           "#19d3f3",
           "#FF6692",
           "#B6E880",
           "#FF97FF",
           "#FECB52"
          ],
          "font": {
           "color": "#2a3f5f"
          },
          "geo": {
           "bgcolor": "white",
           "lakecolor": "white",
           "landcolor": "#E5ECF6",
           "showlakes": true,
           "showland": true,
           "subunitcolor": "white"
          },
          "hoverlabel": {
           "align": "left"
          },
          "hovermode": "closest",
          "mapbox": {
           "style": "light"
          },
          "paper_bgcolor": "white",
          "plot_bgcolor": "#E5ECF6",
          "polar": {
           "angularaxis": {
            "gridcolor": "white",
            "linecolor": "white",
            "ticks": ""
           },
           "bgcolor": "#E5ECF6",
           "radialaxis": {
            "gridcolor": "white",
            "linecolor": "white",
            "ticks": ""
           }
          },
          "scene": {
           "xaxis": {
            "backgroundcolor": "#E5ECF6",
            "gridcolor": "white",
            "gridwidth": 2,
            "linecolor": "white",
            "showbackground": true,
            "ticks": "",
            "zerolinecolor": "white"
           },
           "yaxis": {
            "backgroundcolor": "#E5ECF6",
            "gridcolor": "white",
            "gridwidth": 2,
            "linecolor": "white",
            "showbackground": true,
            "ticks": "",
            "zerolinecolor": "white"
           },
           "zaxis": {
            "backgroundcolor": "#E5ECF6",
            "gridcolor": "white",
            "gridwidth": 2,
            "linecolor": "white",
            "showbackground": true,
            "ticks": "",
            "zerolinecolor": "white"
           }
          },
          "shapedefaults": {
           "line": {
            "color": "#2a3f5f"
           }
          },
          "ternary": {
           "aaxis": {
            "gridcolor": "white",
            "linecolor": "white",
            "ticks": ""
           },
           "baxis": {
            "gridcolor": "white",
            "linecolor": "white",
            "ticks": ""
           },
           "bgcolor": "#E5ECF6",
           "caxis": {
            "gridcolor": "white",
            "linecolor": "white",
            "ticks": ""
           }
          },
          "title": {
           "x": 0.05
          },
          "xaxis": {
           "automargin": true,
           "gridcolor": "white",
           "linecolor": "white",
           "ticks": "",
           "title": {
            "standoff": 15
           },
           "zerolinecolor": "white",
           "zerolinewidth": 2
          },
          "yaxis": {
           "automargin": true,
           "gridcolor": "white",
           "linecolor": "white",
           "ticks": "",
           "title": {
            "standoff": 15
           },
           "zerolinecolor": "white",
           "zerolinewidth": 2
          }
         }
        }
       }
      },
      "image/png": "[encoded data removed]",
      "text/html": [
       "<div>                            <div id=\"bab4daf5-919c-4117-90f3-c5a8f89c821d\" class=\"plotly-graph-div\" style=\"height:525px; width:100%;\"></div>            <script type=\"text/javascript\">                require([\"plotly\"], function(Plotly) {                    window.PLOTLYENV=window.PLOTLYENV || {};                                    if (document.getElementById(\"bab4daf5-919c-4117-90f3-c5a8f89c821d\")) {                    Plotly.newPlot(                        \"bab4daf5-919c-4117-90f3-c5a8f89c821d\",                        [{\"dimensions\": [{\"label\": \"US Retail Mobility \", \"values\": [0.0, 2.0, 1.0, 2.0, 2.0, 4.0, 7.0, 8.0, 8.0, 7.0, 11.0, 8.0, 8.0, 5.0, 6.0, 6.0, 8.0, 6.0, 2.0, -8.0, -18.0, -24.0, -28.0, -32.0, -38.0, -39.0, -40.0, -40.0, -42.0, -40.0, -40.0, -37.0, -40.0, -42.0, -42.0, -42.0, -42.0, -43.0, -45.0, -40.0, -36.0, -39.0, -42.0, -39.0, -38.0, -38.0, -40.0, -40.0, -35.0, -34.0, -34.0, -34.0, -32.0, -29.0, -28.0, -29.0, -29.0, -32.0, -31.0, -28.0, -26.0, -28.0, -29.0, -26.0, -24.0, -22.0, -22.0, -24.0, -22.0, -21.0, -21.0, -23.0, -18.0, -18.0, -16.0, -18.0, -20.0, -16.0, -16.0, -14.0, -15.0, -17.0, -14.0, -13.0, -12.0, -13.0, -15.0, -16.0, -13.0, -12.0, -13.0, -17.0, -13.0, -10.0, -7.0, -4.0, -13.0, -13.0, -12.0, -13.0, -18.0, -13.0, -12.0, -12.0, -13.0, -17.0, -14.0, -13.0, -13.0, -14.0, -17.0, -14.0, -14.0, -13.0, -13.0, -14.0, -12.0, -13.0, -11.0, -13.0, -15.0, -14.0, -13.0, -13.0, -14.0, -16.0, -15.0, -14.0, -14.0, -14.0, -16.0, -16.0, -15.0, -14.0, -16.0, -17.0, -15.0, -12.0, -13.0, -11.0, -13.0, -16.0, -16.0, -16.0, -17.0, -16.0, -14.0, -15.0, -16.0, -15.0, -16.0, -15.0, -15.0, -16.0, -16.0, -17.0, -16.0, -14.0, -13.0, -14.0, -15.0, -15.0, -15.0, -15.0, -16.0, -17.0, -17.0, -14.0, -15.0, -17.0, -18.0, -17.0, -16.0, -16.0, -17.0, -19.0, -17.0, -16.0, -17.0, -14.0, -17.0, -11.0, -18.0, -18.0, -18.0, -19.0, -18.0, -15.0, -20.0, -19.0, -20.0, -20.0, -19.0, -19.0, -20.0, -16.0, -12.0, -3.0, -26.0, -21.0, -18.0, -19.0, -18.0, -20.0, -21.0, -20.0, -19.0, -19.0, -21.0, -20.0, -17.0, -20.0, -22.0, -19.0, -8.0, -5.0, 2.0, -16.0, -17.0, -17.0, -13.0, -9.0, -19.0, -20.0, -22.0, -24.0, -26.0, -25.0, -23.0, -23.0, -25.0, -27.0, -26.0, -26.0, -26.0, -26.0, -28.0, -28.0]}, {\"label\": \"AMZN\", \"values\": [2155.67, 2170.21, 2153.59, 2095.97, 2008.74, 1970.65, 1979.61, 1882.88, 1889.18, 1954.0, 1908.88, 1976.46, 1924.03, 1901.14, 1800.01, 1894.0, 1819.63, 1676.21, 1786.31, 1688.0, 1807.38, 1832.39, 1880.5, 1846.09, 1902.54, 1940.0, 1885.78, 1955.225, 1899.92, 1964.78, 1949.79, 1906.58, 1918.83, 1906.6, 1998.49, 2011.6, 2042.9, 2042.82, 2168.01, 2283.31, 2309.27, 2408.19, 2372.87, 2393.08, 2329.36, 2366.54, 2399.44, 2410.0, 2376.82, 2314.08, 2371.88, 2471.5, 2285.94, 2315.99, 2317.64, 2350.97, 2367.61, 2379.5, 2406.9375, 2357.505, 2366.17, 2391.37, 2410.41, 2426.38, 2448.59, 2497.35, 2448.01, 2436.89, 2423.7, 2409.51, 2401.05, 2436.53, 2470.12, 2473.3, 2478.4, 2460.6, 2481.415, 2522.8, 2603.39, 2648.16, 2558.47, 2566.705, 2572.62, 2615.13, 2641.72, 2655.0, 2671.86, 2712.0, 2764.42, 2733.49, 2756.16, 2692.87, 2681.52, 2756.09, 2879.2, 2887.56, 3057.16, 3000.12, 3081.88, 3183.81, 3203.36, 3101.55, 3084.02, 3008.87, 2994.55, 2961.47, 3195.01, 3141.43, 3100.23, 2987.725, 3008.92, 3053.89, 2999.62, 3034.27, 3052.65, 3164.68, 3111.42, 3138.82, 3205.83, 3224.35, 3165.75, 3149.87, 3080.67, 3161.0, 3161.02, 3148.0, 3181.16, 3312.49, 3260.15, 3296.05, 3284.59, 3307.45, 3346.05, 3442.06, 3400.7, 3401.8, 3441.91, 3500.47, 3529.34, 3369.17, 3294.62, 3149.84, 3268.27, 3176.12, 3117.28, 3102.97, 3153.28, 3077.14, 3010.56, 2952.64, 2962.0, 3129.0, 2997.44, 3018.58, 3094.65, 3175.04, 3142.92, 3147.425, 3222.01, 3125.93, 3199.2, 3099.29, 3192.51, 3190.55, 3287.82, 3442.93, 3442.64, 3363.05, 3338.62, 3160.0, 3207.3, 3216.26, 3183.6, 3177.4, 3204.64, 3207.32, 3287.92, 3162.49, 3212.79, 3036.13, 3004.48, 3046.25, 3241.16, 3322.0, 3310.41, 3141.34, 3035.18, 3136.81, 3110.2, 3134.09, 3132.99, 3135.66, 3105.1, 3114.41, 3099.205, 3100.18, 3116.86, 3184.82, 3195.95, 3168.03, 3220.08, 3203.75, 3188.66, 3163.49, 3158.77, 3176.64, 3101.35, 3100.07, 3116.41, 3156.97, 3166.45, 3240.96, 3237.015, 3201.07, 3205.74, 3206.52, 3186.73, 3171.16, 3283.96, 3320.71, 3285.85, 3256.41, 3186.65, 3218.51, 3138.01, 3161.41, 3182.7, 3115.75, 3120.88, 3166.24, 3129.32, 3104.54, 3121.0, 3264.73, 3307.21, 3290.0, 3293.1, 3326.12]}, {\"label\": \"PRTY\", \"values\": [2.75, 2.83, 2.97, 2.97, 2.73, 2.49, 2.265, 1.92, 1.98, 1.85, 1.88, 1.85, 1.7188, 1.59, 1.27, 1.405, 1.045, 0.5476, 0.6019, 0.50005, 0.485, 0.2631, 0.522, 0.5702, 0.6029, 0.5799, 0.5479, 0.5839, 0.5856, 0.465, 0.4541, 0.3962, 0.33, 0.3043, 0.3699, 0.4814, 0.4707, 0.49, 0.44035, 0.4451, 0.4101, 0.3998, 0.4168, 0.3969, 0.3897, 0.3837, 0.368, 0.3804, 0.44, 0.5, 0.522, 0.7694, 0.63305, 0.5502, 0.586, 0.5426, 0.5453, 0.58, 0.5754, 0.5249, 0.4679, 0.4883, 0.4819, 0.5576, 0.5262, 0.5842, 0.643, 0.6616, 0.8416, 0.9989, 1.03, 1.3, 1.12, 1.21, 1.32, 1.45, 1.78, 2.37, 2.09, 1.8499, 1.41, 1.66, 1.87, 1.95, 1.82, 1.82, 1.76, 1.6, 1.61, 1.44, 1.38, 1.36, 1.55, 1.5, 1.42, 1.42, 1.39, 1.3, 1.4, 1.325, 1.32, 1.27, 1.18, 1.33, 1.33, 1.27, 1.32, 1.3702, 1.36, 1.545, 1.525, 1.465, 1.52, 1.63, 1.74, 1.66, 1.84, 1.76, 1.81, 1.63, 1.76, 1.91, 1.87, 1.97, 2.04, 2.6, 2.205, 2.17, 2.045, 2.24, 2.01, 2.33, 2.46, 2.53, 2.6599, 2.9, 2.73, 2.885, 2.78, 2.54, 2.595, 2.46, 2.68, 2.73, 2.58, 2.64, 2.65, 2.94, 3.04, 3.15, 3.04, 3.21, 3.19, 2.685, 2.805, 2.96, 2.68, 2.6, 2.68, 2.7, 2.58, 2.51, 2.58, 2.54, 2.55, 2.75, 2.72, 2.64, 2.595, 2.5, 2.36, 2.29, 2.18, 2.09, 2.13, 1.965, 1.84, 1.78, 2.0606, 1.99, 2.11, 2.18, 2.14, 2.35, 2.33, 3.15, 3.17, 3.21, 3.4, 3.15, 3.32, 3.94, 3.9089, 3.81, 4.19, 4.55, 4.86, 4.836, 4.88, 4.59, 4.5708, 4.88, 5.07, 5.325, 5.1, 5.29, 5.42, 5.7, 5.44, 5.39, 5.71, 5.84, 6.18, 5.98, 6.42, 6.7, 6.26, 6.19, 6.09, 6.35, 6.51, 6.17, 6.28, 6.58, 6.97, 8.14, 7.97, 7.83, 8.08, 7.4401, 7.2499, 6.79, 6.56, 7.035, 7.1, 7.455, 7.42, 7.27]}, {\"label\": \"WMT\", \"values\": [119.66, 117.68, 117.68, 118.59, 116.34, 114.42, 113.79, 110.36, 107.77, 115.94, 112.91, 116.76, 115.91, 117.25, 117.1, 119.82, 114.42, 104.05, 114.09, 106.75, 119.185, 122.61, 119.39, 113.95, 114.29, 114.99, 109.34, 109.59, 109.58, 115.18, 113.56, 114.14, 118.63, 119.46, 125.86, 122.0, 121.83, 121.79, 125.33, 128.99, 128.75, 132.28, 132.11, 129.82, 129.13, 131.51, 128.54, 129.43, 128.22, 128.01, 123.63, 121.54, 122.96, 123.75, 124.74, 123.35, 121.9, 122.99, 123.67, 123.8, 123.69, 123.44, 125.76, 127.7, 124.93, 125.43, 125.0, 124.315, 123.85, 122.48, 123.67, 124.03, 123.93, 123.94, 123.44, 122.1, 121.58, 121.07, 121.4, 121.2, 120.16, 119.485, 118.09, 119.71, 119.01, 117.99, 119.75, 121.68, 121.07, 120.35, 119.63, 118.31, 119.09, 119.66, 119.69, 119.21, 118.88, 126.97, 124.41, 127.76, 130.66, 129.55, 132.02, 132.0, 132.06, 131.75, 131.45, 132.33, 132.66, 131.65, 131.24, 131.23, 131.79, 130.72, 130.11, 129.43, 129.3, 131.62, 129.8, 129.35, 129.99, 131.91, 130.2, 131.87, 131.84, 132.54, 135.77, 134.66, 132.41, 130.57, 131.64, 131.33, 130.62, 130.68, 136.65, 140.31, 138.85, 147.6, 147.6301, 144.57, 142.84, 138.45, 139.94, 136.79, 136.68, 137.27, 137.26, 136.27, 136.71, 135.29, 137.08, 138.32, 136.01, 136.7, 137.27, 137.3, 137.13, 139.87, 143.07, 140.51, 141.8, 140.59, 140.88, 141.36, 142.8, 144.24, 146.24, 143.95, 144.535, 144.69, 143.06, 143.87, 144.42, 143.55, 143.84, 142.25, 142.88, 140.12, 139.92, 138.81, 140.41, 142.74, 142.0, 143.46, 145.78, 143.57, 145.58, 148.0, 148.17, 150.54, 153.03, 149.38, 149.1, 152.12, 150.32, 150.9, 151.37, 151.84, 151.68, 152.9, 152.63, 150.53, 149.3, 148.92, 148.12, 149.45, 148.14, 147.03, 146.98, 145.5291, 145.59, 145.44, 146.07, 145.61, 145.96, 144.2, 143.24, 143.5, 145.22, 144.31, 144.24, 144.09, 146.51, 145.74, 146.68, 146.65, 146.63, 147.29, 148.97, 147.46, 146.9745, 144.65, 143.39, 145.46, 144.87, 146.3, 146.24, 147.52]}, {\"label\": \"ETSY\", \"values\": [53.34, 53.17, 54.4, 53.72, 51.36, 49.891, 50.71, 57.91, 57.97, 58.85, 58.2, 62.46, 62.15, 60.61, 58.5, 57.97, 50.21, 44.04, 49.01, 41.65, 42.115, 39.25, 34.66, 31.69, 33.06, 38.17, 41.31, 41.95, 38.67, 38.659, 38.44, 35.42, 34.77, 38.14, 46.471, 47.67, 51.05, 53.61, 55.49, 57.68, 56.75, 59.68, 61.06, 65.04, 61.39, 62.93, 62.86, 66.22, 69.31, 66.22, 68.28, 64.88, 64.45, 67.69, 72.9, 78.28, 76.64, 80.7, 80.29, 78.96, 81.54, 81.61, 85.63, 78.15, 77.08, 75.295, 74.3, 77.45, 74.1, 76.28, 77.83, 80.97, 78.59, 81.84, 80.61, 80.25, 78.76, 76.48, 76.32, 79.81, 77.59, 78.25, 83.92, 84.5, 86.39, 87.03, 95.49, 96.3, 101.22, 98.161, 101.31, 102.54, 102.75, 106.249, 111.11, 110.69, 112.98, 112.21, 111.91, 114.5, 111.25, 104.555, 103.72, 101.97, 103.25, 102.68, 106.7, 104.55, 104.23, 102.46, 101.58, 105.95, 102.48, 108.69, 112.4, 118.34, 126.49, 129.62, 135.56, 130.655, 135.06, 134.75, 127.45, 121.97, 128.83, 129.26, 129.75, 133.04, 131.1399, 130.09, 130.37, 128.74, 125.48, 126.91, 122.27, 119.6, 119.7, 125.05, 124.38, 116.16, 112.01, 110.56, 112.7, 110.5, 110.78, 112.54, 111.01, 108.75, 109.2, 111.82, 116.035, 119.39, 115.1, 113.68, 118.29, 123.78, 123.2, 121.62, 131.69, 131.68, 136.69, 134.55, 142.66, 139.53, 146.67, 147.399, 153.16, 149.923, 150.66, 147.66, 148.37, 144.75, 133.01, 135.94, 137.845, 139.73, 145.77, 139.7, 132.36, 121.6, 126.47, 130.45, 136.2, 143.64, 146.31, 121.21, 119.4262, 130.59, 127.01, 124.9, 125.13, 128.91, 127.01, 134.52, 140.05, 140.04, 137.54, 145.09, 160.61, 160.77, 154.57, 154.62, 154.74, 155.0, 156.99, 163.98, 159.03, 165.38, 170.09, 169.87, 177.81, 182.26, 187.98, 190.82, 189.2, 197.59, 190.16, 190.43, 178.07, 177.01, 182.97, 177.84, 172.06, 174.88, 167.57, 170.71, 175.74, 183.0, 205.14, 207.03, 211.6, 204.41, 221.31, 215.8, 212.54, 213.59, 208.94, 204.42]}, {\"label\": \"M\", \"values\": [16.07, 16.295, 16.63, 16.22, 15.44, 14.6, 13.6, 12.89, 13.22, 13.0, 12.64, 12.655, 11.58, 11.48, 10.41, 10.34, 9.48, 7.38, 8.03, 6.71, 6.68, 6.21, 6.69, 6.02, 4.8, 5.64, 6.6026, 5.935, 5.53, 5.37, 4.905, 4.43, 4.44, 4.81, 5.64, 5.91, 6.0123, 6.67, 6.145, 6.191, 5.74, 5.75, 5.93, 5.3081, 5.225, 4.82, 4.885, 5.03, 5.495, 5.98, 6.07, 5.8619, 5.37, 5.27, 5.17, 4.99, 5.08, 5.37, 5.27, 4.99, 5.02, 5.005, 5.3083, 5.415, 5.07, 5.08, 5.37, 5.2, 6.17, 7.38, 6.83, 6.375, 6.38, 6.96, 7.86, 8.19, 8.7773, 9.56, 8.87, 7.93, 6.77, 7.07, 7.2, 7.64, 7.16, 7.29, 6.915, 7.1, 7.16, 6.78, 6.51, 6.02, 6.62, 6.88, 6.59, 6.79, 6.62, 6.57, 6.86, 6.625, 6.76, 6.57, 6.74, 7.22, 6.915, 6.65, 6.415, 6.805, 6.46, 6.665, 6.45, 6.22, 6.425, 6.49, 6.23, 6.07, 6.1, 6.14, 6.395, 6.24, 6.62, 7.15, 7.03, 7.125, 6.965, 7.19, 7.15, 6.545, 6.51, 6.28, 6.26, 6.6199, 6.57, 6.5, 6.62, 6.95, 6.97, 7.0, 7.05, 7.6, 7.635, 7.62, 7.55, 7.41, 7.05, 7.21, 6.87, 6.99, 6.87, 6.77, 6.31, 6.275, 6.11, 6.035, 6.03, 5.96, 5.67, 5.7, 5.85, 6.005, 6.06, 5.81, 5.96, 6.29, 6.23, 6.21, 6.13, 6.13, 6.275, 6.16, 6.1, 6.34, 6.53, 7.005, 7.22, 6.76, 6.45, 6.11, 6.205, 6.21, 6.08, 6.58, 6.26, 6.44, 6.57, 7.7, 7.75, 7.41, 7.0, 7.295, 7.74, 8.8, 8.99, 9.18, 9.05, 10.41, 10.86, 11.0, 10.85, 10.2, 10.41, 10.95, 11.23, 11.73, 11.67, 11.53, 11.66, 11.7, 11.08, 10.34, 10.74, 10.27, 10.42, 10.44, 10.46, 10.12, 11.13, 10.735, 11.66, 11.5, 12.03, 11.25, 11.23, 11.39, 12.51, 12.21, 12.29, 12.57, 12.98, 13.19, 13.86, 13.01, 12.6, 12.34, 12.32, 12.89, 14.28, 15.85]}], \"domain\": {\"x\": [0.0, 1.0], \"y\": [0.0, 1.0]}, \"line\": {\"color\": [0.0, 2.0, 1.0, 2.0, 2.0, 4.0, 7.0, 8.0, 8.0, 7.0, 11.0, 8.0, 8.0, 5.0, 6.0, 6.0, 8.0, 6.0, 2.0, -8.0, -18.0, -24.0, -28.0, -32.0, -38.0, -39.0, -40.0, -40.0, -42.0, -40.0, -40.0, -37.0, -40.0, -42.0, -42.0, -42.0, -42.0, -43.0, -45.0, -40.0, -36.0, -39.0, -42.0, -39.0, -38.0, -38.0, -40.0, -40.0, -35.0, -34.0, -34.0, -34.0, -32.0, -29.0, -28.0, -29.0, -29.0, -32.0, -31.0, -28.0, -26.0, -28.0, -29.0, -26.0, -24.0, -22.0, -22.0, -24.0, -22.0, -21.0, -21.0, -23.0, -18.0, -18.0, -16.0, -18.0, -20.0, -16.0, -16.0, -14.0, -15.0, -17.0, -14.0, -13.0, -12.0, -13.0, -15.0, -16.0, -13.0, -12.0, -13.0, -17.0, -13.0, -10.0, -7.0, -4.0, -13.0, -13.0, -12.0, -13.0, -18.0, -13.0, -12.0, -12.0, -13.0, -17.0, -14.0, -13.0, -13.0, -14.0, -17.0, -14.0, -14.0, -13.0, -13.0, -14.0, -12.0, -13.0, -11.0, -13.0, -15.0, -14.0, -13.0, -13.0, -14.0, -16.0, -15.0, -14.0, -14.0, -14.0, -16.0, -16.0, -15.0, -14.0, -16.0, -17.0, -15.0, -12.0, -13.0, -11.0, -13.0, -16.0, -16.0, -16.0, -17.0, -16.0, -14.0, -15.0, -16.0, -15.0, -16.0, -15.0, -15.0, -16.0, -16.0, -17.0, -16.0, -14.0, -13.0, -14.0, -15.0, -15.0, -15.0, -15.0, -16.0, -17.0, -17.0, -14.0, -15.0, -17.0, -18.0, -17.0, -16.0, -16.0, -17.0, -19.0, -17.0, -16.0, -17.0, -14.0, -17.0, -11.0, -18.0, -18.0, -18.0, -19.0, -18.0, -15.0, -20.0, -19.0, -20.0, -20.0, -19.0, -19.0, -20.0, -16.0, -12.0, -3.0, -26.0, -21.0, -18.0, -19.0, -18.0, -20.0, -21.0, -20.0, -19.0, -19.0, -21.0, -20.0, -17.0, -20.0, -22.0, -19.0, -8.0, -5.0, 2.0, -16.0, -17.0, -17.0, -13.0, -9.0, -19.0, -20.0, -22.0, -24.0, -26.0, -25.0, -23.0, -23.0, -25.0, -27.0, -26.0, -26.0, -26.0, -26.0, -28.0, -28.0], \"coloraxis\": \"coloraxis\"}, \"name\": \"\", \"type\": \"parcoords\"}],                        {\"coloraxis\": {\"colorbar\": {\"title\": {\"text\": \"US Retail Mobility \"}}, \"colorscale\": [[0.0, \"#000004\"], [0.1111111111111111, \"#1b0c41\"], [0.2222222222222222, \"#4a0c6b\"], [0.3333333333333333, \"#781c6d\"], [0.4444444444444444, \"#a52c60\"], [0.5555555555555556, \"#cf4446\"], [0.6666666666666666, \"#ed6925\"], [0.7777777777777778, \"#fb9b06\"], [0.8888888888888888, \"#f7d13d\"], [1.0, \"#fcffa4\"]]}, \"legend\": {\"tracegroupgap\": 0}, \"margin\": {\"t\": 60}, \"template\": {\"data\": {\"bar\": [{\"error_x\": {\"color\": \"#2a3f5f\"}, \"error_y\": {\"color\": \"#2a3f5f\"}, \"marker\": {\"line\": {\"color\": \"#E5ECF6\", \"width\": 0.5}}, \"type\": \"bar\"}], \"barpolar\": [{\"marker\": {\"line\": {\"color\": \"#E5ECF6\", \"width\": 0.5}}, \"type\": \"barpolar\"}], \"carpet\": [{\"aaxis\": {\"endlinecolor\": \"#2a3f5f\", \"gridcolor\": \"white\", \"linecolor\": \"white\", \"minorgridcolor\": \"white\", \"startlinecolor\": \"#2a3f5f\"}, \"baxis\": {\"endlinecolor\": \"#2a3f5f\", \"gridcolor\": \"white\", \"linecolor\": \"white\", \"minorgridcolor\": \"white\", \"startlinecolor\": \"#2a3f5f\"}, \"type\": \"carpet\"}], \"choropleth\": [{\"colorbar\": {\"outlinewidth\": 0, \"ticks\": \"\"}, \"type\": \"choropleth\"}], \"contour\": [{\"colorbar\": {\"outlinewidth\": 0, \"ticks\": \"\"}, \"colorscale\": [[0.0, \"#0d0887\"], [0.1111111111111111, \"#46039f\"], [0.2222222222222222, \"#7201a8\"], [0.3333333333333333, \"#9c179e\"], [0.4444444444444444, \"#bd3786\"], [0.5555555555555556, \"#d8576b\"], [0.6666666666666666, \"#ed7953\"], [0.7777777777777778, \"#fb9f3a\"], [0.8888888888888888, \"#fdca26\"], [1.0, \"#f0f921\"]], \"type\": \"contour\"}], \"contourcarpet\": [{\"colorbar\": {\"outlinewidth\": 0, \"ticks\": \"\"}, \"type\": \"contourcarpet\"}], \"heatmap\": [{\"colorbar\": {\"outlinewidth\": 0, \"ticks\": \"\"}, \"colorscale\": [[0.0, \"#0d0887\"], [0.1111111111111111, \"#46039f\"], [0.2222222222222222, \"#7201a8\"], [0.3333333333333333, \"#9c179e\"], [0.4444444444444444, \"#bd3786\"], [0.5555555555555556, \"#d8576b\"], [0.6666666666666666, \"#ed7953\"], [0.7777777777777778, \"#fb9f3a\"], [0.8888888888888888, \"#fdca26\"], [1.0, \"#f0f921\"]], \"type\": \"heatmap\"}], \"heatmapgl\": [{\"colorbar\": {\"outlinewidth\": 0, \"ticks\": \"\"}, \"colorscale\": [[0.0, \"#0d0887\"], [0.1111111111111111, \"#46039f\"], [0.2222222222222222, \"#7201a8\"], [0.3333333333333333, \"#9c179e\"], [0.4444444444444444, \"#bd3786\"], [0.5555555555555556, \"#d8576b\"], [0.6666666666666666, \"#ed7953\"], [0.7777777777777778, \"#fb9f3a\"], [0.8888888888888888, \"#fdca26\"], [1.0, \"#f0f921\"]], \"type\": \"heatmapgl\"}], \"histogram\": [{\"marker\": {\"colorbar\": {\"outlinewidth\": 0, \"ticks\": \"\"}}, \"type\": \"histogram\"}], \"histogram2d\": [{\"colorbar\": {\"outlinewidth\": 0, \"ticks\": \"\"}, \"colorscale\": [[0.0, \"#0d0887\"], [0.1111111111111111, \"#46039f\"], [0.2222222222222222, \"#7201a8\"], [0.3333333333333333, \"#9c179e\"], [0.4444444444444444, \"#bd3786\"], [0.5555555555555556, \"#d8576b\"], [0.6666666666666666, \"#ed7953\"], [0.7777777777777778, \"#fb9f3a\"], [0.8888888888888888, \"#fdca26\"], [1.0, \"#f0f921\"]], \"type\": \"histogram2d\"}], \"histogram2dcontour\": [{\"colorbar\": {\"outlinewidth\": 0, \"ticks\": \"\"}, \"colorscale\": [[0.0, \"#0d0887\"], [0.1111111111111111, \"#46039f\"], [0.2222222222222222, \"#7201a8\"], [0.3333333333333333, \"#9c179e\"], [0.4444444444444444, \"#bd3786\"], [0.5555555555555556, \"#d8576b\"], [0.6666666666666666, \"#ed7953\"], [0.7777777777777778, \"#fb9f3a\"], [0.8888888888888888, \"#fdca26\"], [1.0, \"#f0f921\"]], \"type\": \"histogram2dcontour\"}], \"mesh3d\": [{\"colorbar\": {\"outlinewidth\": 0, \"ticks\": \"\"}, \"type\": \"mesh3d\"}], \"parcoords\": [{\"line\": {\"colorbar\": {\"outlinewidth\": 0, \"ticks\": \"\"}}, \"type\": \"parcoords\"}], \"pie\": [{\"automargin\": true, \"type\": \"pie\"}], \"scatter\": [{\"marker\": {\"colorbar\": {\"outlinewidth\": 0, \"ticks\": \"\"}}, \"type\": \"scatter\"}], \"scatter3d\": [{\"line\": {\"colorbar\": {\"outlinewidth\": 0, \"ticks\": \"\"}}, \"marker\": {\"colorbar\": {\"outlinewidth\": 0, \"ticks\": \"\"}}, \"type\": \"scatter3d\"}], \"scattercarpet\": [{\"marker\": {\"colorbar\": {\"outlinewidth\": 0, \"ticks\": \"\"}}, \"type\": \"scattercarpet\"}], \"scattergeo\": [{\"marker\": {\"colorbar\": {\"outlinewidth\": 0, \"ticks\": \"\"}}, \"type\": \"scattergeo\"}], \"scattergl\": [{\"marker\": {\"colorbar\": {\"outlinewidth\": 0, \"ticks\": \"\"}}, \"type\": \"scattergl\"}], \"scattermapbox\": [{\"marker\": {\"colorbar\": {\"outlinewidth\": 0, \"ticks\": \"\"}}, \"type\": \"scattermapbox\"}], \"scatterpolar\": [{\"marker\": {\"colorbar\": {\"outlinewidth\": 0, \"ticks\": \"\"}}, \"type\": \"scatterpolar\"}], \"scatterpolargl\": [{\"marker\": {\"colorbar\": {\"outlinewidth\": 0, \"ticks\": \"\"}}, \"type\": \"scatterpolargl\"}], \"scatterternary\": [{\"marker\": {\"colorbar\": {\"outlinewidth\": 0, \"ticks\": \"\"}}, \"type\": \"scatterternary\"}], \"surface\": [{\"colorbar\": {\"outlinewidth\": 0, \"ticks\": \"\"}, \"colorscale\": [[0.0, \"#0d0887\"], [0.1111111111111111, \"#46039f\"], [0.2222222222222222, \"#7201a8\"], [0.3333333333333333, \"#9c179e\"], [0.4444444444444444, \"#bd3786\"], [0.5555555555555556, \"#d8576b\"], [0.6666666666666666, \"#ed7953\"], [0.7777777777777778, \"#fb9f3a\"], [0.8888888888888888, \"#fdca26\"], [1.0, \"#f0f921\"]], \"type\": \"surface\"}], \"table\": [{\"cells\": {\"fill\": {\"color\": \"#EBF0F8\"}, \"line\": {\"color\": \"white\"}}, \"header\": {\"fill\": {\"color\": \"#C8D4E3\"}, \"line\": {\"color\": \"white\"}}, \"type\": \"table\"}]}, \"layout\": {\"annotationdefaults\": {\"arrowcolor\": \"#2a3f5f\", \"arrowhead\": 0, \"arrowwidth\": 1}, \"autotypenumbers\": \"strict\", \"coloraxis\": {\"colorbar\": {\"outlinewidth\": 0, \"ticks\": \"\"}}, \"colorscale\": {\"diverging\": [[0, \"#8e0152\"], [0.1, \"#c51b7d\"], [0.2, \"#de77ae\"], [0.3, \"#f1b6da\"], [0.4, \"#fde0ef\"], [0.5, \"#f7f7f7\"], [0.6, \"#e6f5d0\"], [0.7, \"#b8e186\"], [0.8, \"#7fbc41\"], [0.9, \"#4d9221\"], [1, \"#276419\"]], \"sequential\": [[0.0, \"#0d0887\"], [0.1111111111111111, \"#46039f\"], [0.2222222222222222, \"#7201a8\"], [0.3333333333333333, \"#9c179e\"], [0.4444444444444444, \"#bd3786\"], [0.5555555555555556, \"#d8576b\"], [0.6666666666666666, \"#ed7953\"], [0.7777777777777778, \"#fb9f3a\"], [0.8888888888888888, \"#fdca26\"], [1.0, \"#f0f921\"]], \"sequentialminus\": [[0.0, \"#0d0887\"], [0.1111111111111111, \"#46039f\"], [0.2222222222222222, \"#7201a8\"], [0.3333333333333333, \"#9c179e\"], [0.4444444444444444, \"#bd3786\"], [0.5555555555555556, \"#d8576b\"], [0.6666666666666666, \"#ed7953\"], [0.7777777777777778, \"#fb9f3a\"], [0.8888888888888888, \"#fdca26\"], [1.0, \"#f0f921\"]]}, \"colorway\": [\"#636efa\", \"#EF553B\", \"#00cc96\", \"#ab63fa\", \"#FFA15A\", \"#19d3f3\", \"#FF6692\", \"#B6E880\", \"#FF97FF\", \"#FECB52\"], \"font\": {\"color\": \"#2a3f5f\"}, \"geo\": {\"bgcolor\": \"white\", \"lakecolor\": \"white\", \"landcolor\": \"#E5ECF6\", \"showlakes\": true, \"showland\": true, \"subunitcolor\": \"white\"}, \"hoverlabel\": {\"align\": \"left\"}, \"hovermode\": \"closest\", \"mapbox\": {\"style\": \"light\"}, \"paper_bgcolor\": \"white\", \"plot_bgcolor\": \"#E5ECF6\", \"polar\": {\"angularaxis\": {\"gridcolor\": \"white\", \"linecolor\": \"white\", \"ticks\": \"\"}, \"bgcolor\": \"#E5ECF6\", \"radialaxis\": {\"gridcolor\": \"white\", \"linecolor\": \"white\", \"ticks\": \"\"}}, \"scene\": {\"xaxis\": {\"backgroundcolor\": \"#E5ECF6\", \"gridcolor\": \"white\", \"gridwidth\": 2, \"linecolor\": \"white\", \"showbackground\": true, \"ticks\": \"\", \"zerolinecolor\": \"white\"}, \"yaxis\": {\"backgroundcolor\": \"#E5ECF6\", \"gridcolor\": \"white\", \"gridwidth\": 2, \"linecolor\": \"white\", \"showbackground\": true, \"ticks\": \"\", \"zerolinecolor\": \"white\"}, \"zaxis\": {\"backgroundcolor\": \"#E5ECF6\", \"gridcolor\": \"white\", \"gridwidth\": 2, \"linecolor\": \"white\", \"showbackground\": true, \"ticks\": \"\", \"zerolinecolor\": \"white\"}}, \"shapedefaults\": {\"line\": {\"color\": \"#2a3f5f\"}}, \"ternary\": {\"aaxis\": {\"gridcolor\": \"white\", \"linecolor\": \"white\", \"ticks\": \"\"}, \"baxis\": {\"gridcolor\": \"white\", \"linecolor\": \"white\", \"ticks\": \"\"}, \"bgcolor\": \"#E5ECF6\", \"caxis\": {\"gridcolor\": \"white\", \"linecolor\": \"white\", \"ticks\": \"\"}}, \"title\": {\"x\": 0.05}, \"xaxis\": {\"automargin\": true, \"gridcolor\": \"white\", \"linecolor\": \"white\", \"ticks\": \"\", \"title\": {\"standoff\": 15}, \"zerolinecolor\": \"white\", \"zerolinewidth\": 2}, \"yaxis\": {\"automargin\": true, \"gridcolor\": \"white\", \"linecolor\": \"white\", \"ticks\": \"\", \"title\": {\"standoff\": 15}, \"zerolinecolor\": \"white\", \"zerolinewidth\": 2}}}},                        {\"responsive\": true}                    ).then(function(){\n",
       "                            \n",
       "var gd = document.getElementById('bab4daf5-919c-4117-90f3-c5a8f89c821d');\n",
       "var x = new MutationObserver(function (mutations, observer) {{\n",
       "        var display = window.getComputedStyle(gd).display;\n",
       "        if (!display || display === 'none') {{\n",
       "            console.log([gd, 'removed!']);\n",
       "            Plotly.purge(gd);\n",
       "            observer.disconnect();\n",
       "        }}\n",
       "}});\n",
       "\n",
       "// Listen for the removal of the full notebook cells\n",
       "var notebookContainer = gd.closest('#notebook-container');\n",
       "if (notebookContainer) {{\n",
       "    x.observe(notebookContainer, {childList: true});\n",
       "}}\n",
       "\n",
       "// Listen for the clearing of the current output cell\n",
       "var outputEl = gd.closest('.output');\n",
       "if (outputEl) {{\n",
       "    x.observe(outputEl, {childList: true});\n",
       "}}\n",
       "\n",
       "                        })                };                });            </script>        </div>"
      ]
     },
     "metadata": {},
     "output_type": "display_data"
    }
   ],
   "source": [
    "\n",
    "# Create Parallel Coordinates plot\n",
    "px.parallel_coordinates(\n",
    "    stock_mobility,\n",
    "    dimensions = ['US Retail Mobility ','AMZN','CPPRQ','PRTY','WMT','ETSY','M'],\n",
    "    color_continuous_scale=px.colors.sequential.Inferno,\n",
    "    color ='US Retail Mobility '\n",
    " )"
   ]
  },
  {
   "cell_type": "code",
   "execution_count": 135,
   "metadata": {},
   "outputs": [
    {
     "data": {
      "text/html": [
       "<div>\n",
       "<style scoped>\n",
       "    .dataframe tbody tr th:only-of-type {\n",
       "        vertical-align: middle;\n",
       "    }\n",
       "\n",
       "    .dataframe tbody tr th {\n",
       "        vertical-align: top;\n",
       "    }\n",
       "\n",
       "    .dataframe thead th {\n",
       "        text-align: right;\n",
       "    }\n",
       "</style>\n",
       "<table border=\"1\" class=\"dataframe\">\n",
       "  <thead>\n",
       "    <tr style=\"text-align: right;\">\n",
       "      <th></th>\n",
       "      <th>US Retail Mobility</th>\n",
       "      <th>AMZN</th>\n",
       "      <th>PRTY</th>\n",
       "      <th>WMT</th>\n",
       "      <th>ETSY</th>\n",
       "      <th>M</th>\n",
       "    </tr>\n",
       "  </thead>\n",
       "  <tbody>\n",
       "    <tr>\n",
       "      <th>US Retail Mobility</th>\n",
       "      <td>1.000000</td>\n",
       "      <td>0.129955</td>\n",
       "      <td>0.151018</td>\n",
       "      <td>-0.050484</td>\n",
       "      <td>0.115436</td>\n",
       "      <td>0.428755</td>\n",
       "    </tr>\n",
       "    <tr>\n",
       "      <th>AMZN</th>\n",
       "      <td>0.129955</td>\n",
       "      <td>1.000000</td>\n",
       "      <td>0.578347</td>\n",
       "      <td>0.831985</td>\n",
       "      <td>0.856468</td>\n",
       "      <td>0.057927</td>\n",
       "    </tr>\n",
       "    <tr>\n",
       "      <th>PRTY</th>\n",
       "      <td>0.151018</td>\n",
       "      <td>0.578347</td>\n",
       "      <td>1.000000</td>\n",
       "      <td>0.718615</td>\n",
       "      <td>0.854977</td>\n",
       "      <td>0.718362</td>\n",
       "    </tr>\n",
       "    <tr>\n",
       "      <th>WMT</th>\n",
       "      <td>-0.050484</td>\n",
       "      <td>0.831985</td>\n",
       "      <td>0.718615</td>\n",
       "      <td>1.000000</td>\n",
       "      <td>0.846891</td>\n",
       "      <td>0.225931</td>\n",
       "    </tr>\n",
       "    <tr>\n",
       "      <th>ETSY</th>\n",
       "      <td>0.115436</td>\n",
       "      <td>0.856468</td>\n",
       "      <td>0.854977</td>\n",
       "      <td>0.846891</td>\n",
       "      <td>1.000000</td>\n",
       "      <td>0.383033</td>\n",
       "    </tr>\n",
       "    <tr>\n",
       "      <th>M</th>\n",
       "      <td>0.428755</td>\n",
       "      <td>0.057927</td>\n",
       "      <td>0.718362</td>\n",
       "      <td>0.225931</td>\n",
       "      <td>0.383033</td>\n",
       "      <td>1.000000</td>\n",
       "    </tr>\n",
       "  </tbody>\n",
       "</table>\n",
       "</div>"
      ],
      "text/plain": [
       "                     US Retail Mobility       AMZN      PRTY       WMT  \\\n",
       "US Retail Mobility              1.000000  0.129955  0.151018 -0.050484   \n",
       "AMZN                            0.129955  1.000000  0.578347  0.831985   \n",
       "PRTY                            0.151018  0.578347  1.000000  0.718615   \n",
       "WMT                            -0.050484  0.831985  0.718615  1.000000   \n",
       "ETSY                            0.115436  0.856468  0.854977  0.846891   \n",
       "M                               0.428755  0.057927  0.718362  0.225931   \n",
       "\n",
       "                         ETSY         M  \n",
       "US Retail Mobility   0.115436  0.428755  \n",
       "AMZN                 0.856468  0.057927  \n",
       "PRTY                 0.854977  0.718362  \n",
       "WMT                  0.846891  0.225931  \n",
       "ETSY                 1.000000  0.383033  \n",
       "M                    0.383033  1.000000  "
      ]
     },
     "execution_count": 135,
     "metadata": {},
     "output_type": "execute_result"
    }
   ],
   "source": [
    "import seaborn as sns\n",
    "# corrlation matrix\n",
    "stock_mobility_corr =stock_mobility.corr()\n",
    "stock_mobility_corr"
   ]
  },
  {
   "cell_type": "code",
   "execution_count": 136,
   "metadata": {},
   "outputs": [
    {
     "data": {
      "text/plain": [
       "<AxesSubplot:>"
      ]
     },
     "execution_count": 136,
     "metadata": {},
     "output_type": "execute_result"
    },
    {
     "data": {
      "image/png": "[encoded data removed]",
      "text/plain": [
       "<Figure size 432x288 with 2 Axes>"
      ]
     },
     "metadata": {
      "needs_background": "light"
     },
     "output_type": "display_data"
    }
   ],
   "source": [
    "## illustrates mobility vs. stocks \n",
    "sns.heatmap(stock_mobility_corr,annot=True, cmap ='Reds')"
   ]
  },
  {
   "cell_type": "code",
   "execution_count": 137,
   "metadata": {},
   "outputs": [
    {
     "data": {
      "image/png": "[encoded data removed]",
      "text/plain": [
       "<Figure size 432x288 with 1 Axes>"
      ]
     },
     "metadata": {
      "needs_background": "light"
     },
     "output_type": "display_data"
    }
   ],
   "source": [
    "# NO  \n",
    "#trying to plot a scatter plot of stock_mobility\n",
    "# might be good for two stocks \n",
    "from  matplotlib import pyplot as plt\n",
    "x=[9,8,5,4,3,6,8]\n",
    "y=[3,6,9,4,6,4,7]\n",
    "\n",
    "plt.scatter(x,y)\n",
    "plt.show()"
   ]
  },
  {
   "cell_type": "code",
   "execution_count": 72,
   "metadata": {},
   "outputs": [
    {
     "data": {
      "text/plain": [
       "<AxesSubplot:>"
      ]
     },
     "execution_count": 72,
     "metadata": {},
     "output_type": "execute_result"
    },
    {
     "data": {
      "image/png": "[encoded data removed]",
      "text/plain": [
       "<Figure size 432x288 with 2 Axes>"
      ]
     },
     "metadata": {
      "needs_background": "light"
     },
     "output_type": "display_data"
    }
   ],
   "source": [
    "# plotting a correlation matrix for close prices \n",
    "close_prices_corr = close_prices.corr()\n",
    "close_prices_corr\n",
    "# plotting \n",
    "sns.heatmap(close_prices_corr,annot=True, cmap ='YlGnBu')"
   ]
  },
  {
   "cell_type": "code",
   "execution_count": null,
   "metadata": {},
   "outputs": [],
   "source": []
  }
 ],
 "metadata": {
  "kernelspec": {
   "display_name": "Python 3",
   "language": "python",
   "name": "python3"
  },
  "language_info": {
   "codemirror_mode": {
    "name": "ipython",
    "version": 3
   },
   "file_extension": ".py",
   "mimetype": "text/x-python",
   "name": "python",
   "nbconvert_exporter": "python",
   "pygments_lexer": "ipython3",
   "version": "3.8.3"
  }
 },
 "nbformat": 4,
 "nbformat_minor": 4
}
