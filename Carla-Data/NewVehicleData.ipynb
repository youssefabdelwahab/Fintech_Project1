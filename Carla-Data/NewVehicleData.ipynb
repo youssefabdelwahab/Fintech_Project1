{
 "cells": [
  {
   "cell_type": "code",
   "execution_count": 1,
   "metadata": {},
   "outputs": [],
   "source": [
    "import pandas as pd\n",
    "import datetime\n",
    "%matplotlib inline "
   ]
  },
  {
   "cell_type": "code",
   "execution_count": 2,
   "metadata": {},
   "outputs": [],
   "source": [
    "mobility_data = pd.read_csv('Mobility.csv',index_col='Unnamed: 1')"
   ]
  },
  {
   "cell_type": "code",
   "execution_count": 3,
   "metadata": {},
   "outputs": [
    {
     "data": {
      "text/html": [
       "<div>\n",
       "<style scoped>\n",
       "    .dataframe tbody tr th:only-of-type {\n",
       "        vertical-align: middle;\n",
       "    }\n",
       "\n",
       "    .dataframe tbody tr th {\n",
       "        vertical-align: top;\n",
       "    }\n",
       "\n",
       "    .dataframe thead th {\n",
       "        text-align: right;\n",
       "    }\n",
       "</style>\n",
       "<table border=\"1\" class=\"dataframe\">\n",
       "  <thead>\n",
       "    <tr style=\"text-align: right;\">\n",
       "      <th></th>\n",
       "      <th>Unnamed: 0</th>\n",
       "      <th>Unnamed: 2</th>\n",
       "    </tr>\n",
       "  </thead>\n",
       "  <tbody>\n",
       "    <tr>\n",
       "      <th>Date</th>\n",
       "      <td>Year</td>\n",
       "      <td>Annual Vehicle-Distance Traveled (Billion Miles)</td>\n",
       "    </tr>\n",
       "    <tr>\n",
       "      <th>Jan-18</th>\n",
       "      <td>2018</td>\n",
       "      <td>3,215</td>\n",
       "    </tr>\n",
       "    <tr>\n",
       "      <th>Feb-18</th>\n",
       "      <td>2018</td>\n",
       "      <td>3,217</td>\n",
       "    </tr>\n",
       "    <tr>\n",
       "      <th>Mar-18</th>\n",
       "      <td>2018</td>\n",
       "      <td>3,220</td>\n",
       "    </tr>\n",
       "    <tr>\n",
       "      <th>Apr-18</th>\n",
       "      <td>2018</td>\n",
       "      <td>3,222</td>\n",
       "    </tr>\n",
       "  </tbody>\n",
       "</table>\n",
       "</div>"
      ],
      "text/plain": [
       "       Unnamed: 0                                        Unnamed: 2\n",
       "Date         Year  Annual Vehicle-Distance Traveled (Billion Miles)\n",
       "Jan-18       2018                                             3,215\n",
       "Feb-18       2018                                             3,217\n",
       "Mar-18       2018                                             3,220\n",
       "Apr-18       2018                                             3,222"
      ]
     },
     "execution_count": 3,
     "metadata": {},
     "output_type": "execute_result"
    }
   ],
   "source": [
    "#Visualizing the data \n",
    "mobility_data.head()"
   ]
  },
  {
   "cell_type": "code",
   "execution_count": 4,
   "metadata": {},
   "outputs": [
    {
     "data": {
      "text/plain": [
       "Index(['Unnamed: 0', 'Unnamed: 2'], dtype='object')"
      ]
     },
     "execution_count": 4,
     "metadata": {},
     "output_type": "execute_result"
    }
   ],
   "source": [
    "mobility_data.columns"
   ]
  },
  {
   "cell_type": "code",
   "execution_count": 5,
   "metadata": {},
   "outputs": [],
   "source": [
    "#cleaning the data \n",
    "mobility_data.drop(columns ='Unnamed: 0', inplace = True)"
   ]
  },
  {
   "cell_type": "code",
   "execution_count": 6,
   "metadata": {},
   "outputs": [],
   "source": [
    "mobility_data.rename(columns ={'Unnamed: 2':'Vehicle-Distance Travelled (Billion Miles)'},inplace=True)"
   ]
  },
  {
   "cell_type": "code",
   "execution_count": 7,
   "metadata": {},
   "outputs": [],
   "source": [
    "mobility_data.index.rename('Date', inplace = True)"
   ]
  },
  {
   "cell_type": "code",
   "execution_count": 8,
   "metadata": {},
   "outputs": [
    {
     "data": {
      "text/html": [
       "<div>\n",
       "<style scoped>\n",
       "    .dataframe tbody tr th:only-of-type {\n",
       "        vertical-align: middle;\n",
       "    }\n",
       "\n",
       "    .dataframe tbody tr th {\n",
       "        vertical-align: top;\n",
       "    }\n",
       "\n",
       "    .dataframe thead th {\n",
       "        text-align: right;\n",
       "    }\n",
       "</style>\n",
       "<table border=\"1\" class=\"dataframe\">\n",
       "  <thead>\n",
       "    <tr style=\"text-align: right;\">\n",
       "      <th></th>\n",
       "      <th>Vehicle-Distance Travelled (Billion Miles)</th>\n",
       "    </tr>\n",
       "    <tr>\n",
       "      <th>Date</th>\n",
       "      <th></th>\n",
       "    </tr>\n",
       "  </thead>\n",
       "  <tbody>\n",
       "    <tr>\n",
       "      <th>Date</th>\n",
       "      <td>Annual Vehicle-Distance Traveled (Billion Miles)</td>\n",
       "    </tr>\n",
       "    <tr>\n",
       "      <th>Jan-18</th>\n",
       "      <td>3,215</td>\n",
       "    </tr>\n",
       "    <tr>\n",
       "      <th>Feb-18</th>\n",
       "      <td>3,217</td>\n",
       "    </tr>\n",
       "    <tr>\n",
       "      <th>Mar-18</th>\n",
       "      <td>3,220</td>\n",
       "    </tr>\n",
       "    <tr>\n",
       "      <th>Apr-18</th>\n",
       "      <td>3,222</td>\n",
       "    </tr>\n",
       "  </tbody>\n",
       "</table>\n",
       "</div>"
      ],
      "text/plain": [
       "              Vehicle-Distance Travelled (Billion Miles)\n",
       "Date                                                    \n",
       "Date    Annual Vehicle-Distance Traveled (Billion Miles)\n",
       "Jan-18                                             3,215\n",
       "Feb-18                                             3,217\n",
       "Mar-18                                             3,220\n",
       "Apr-18                                             3,222"
      ]
     },
     "execution_count": 8,
     "metadata": {},
     "output_type": "execute_result"
    }
   ],
   "source": [
    "mobility_data.head()"
   ]
  },
  {
   "cell_type": "code",
   "execution_count": 10,
   "metadata": {},
   "outputs": [],
   "source": [
    "# droping the weird row \n",
    "mobility_data.drop(['Date'],inplace = True)"
   ]
  },
  {
   "cell_type": "code",
   "execution_count": 11,
   "metadata": {},
   "outputs": [
    {
     "data": {
      "text/html": [
       "<div>\n",
       "<style scoped>\n",
       "    .dataframe tbody tr th:only-of-type {\n",
       "        vertical-align: middle;\n",
       "    }\n",
       "\n",
       "    .dataframe tbody tr th {\n",
       "        vertical-align: top;\n",
       "    }\n",
       "\n",
       "    .dataframe thead th {\n",
       "        text-align: right;\n",
       "    }\n",
       "</style>\n",
       "<table border=\"1\" class=\"dataframe\">\n",
       "  <thead>\n",
       "    <tr style=\"text-align: right;\">\n",
       "      <th></th>\n",
       "      <th>Vehicle-Distance Travelled (Billion Miles)</th>\n",
       "    </tr>\n",
       "    <tr>\n",
       "      <th>Date</th>\n",
       "      <th></th>\n",
       "    </tr>\n",
       "  </thead>\n",
       "  <tbody>\n",
       "    <tr>\n",
       "      <th>Jan-18</th>\n",
       "      <td>3,215</td>\n",
       "    </tr>\n",
       "    <tr>\n",
       "      <th>Feb-18</th>\n",
       "      <td>3,217</td>\n",
       "    </tr>\n",
       "    <tr>\n",
       "      <th>Mar-18</th>\n",
       "      <td>3,220</td>\n",
       "    </tr>\n",
       "    <tr>\n",
       "      <th>Apr-18</th>\n",
       "      <td>3,222</td>\n",
       "    </tr>\n",
       "    <tr>\n",
       "      <th>May-18</th>\n",
       "      <td>3,225</td>\n",
       "    </tr>\n",
       "  </tbody>\n",
       "</table>\n",
       "</div>"
      ],
      "text/plain": [
       "       Vehicle-Distance Travelled (Billion Miles)\n",
       "Date                                             \n",
       "Jan-18                                      3,215\n",
       "Feb-18                                      3,217\n",
       "Mar-18                                      3,220\n",
       "Apr-18                                      3,222\n",
       "May-18                                      3,225"
      ]
     },
     "execution_count": 11,
     "metadata": {},
     "output_type": "execute_result"
    }
   ],
   "source": [
    "mobility_data.head()"
   ]
  },
  {
   "cell_type": "code",
   "execution_count": 12,
   "metadata": {},
   "outputs": [
    {
     "data": {
      "text/plain": [
       "Vehicle-Distance Travelled (Billion Miles)    object\n",
       "dtype: object"
      ]
     },
     "execution_count": 12,
     "metadata": {},
     "output_type": "execute_result"
    }
   ],
   "source": [
    "# finding out how my data is formatted \n",
    "mobility_data.dtypes"
   ]
  },
  {
   "cell_type": "code",
   "execution_count": 13,
   "metadata": {},
   "outputs": [],
   "source": [
    "# need to remove all the commas from the values to be able to convert them to a float \n",
    "mobility_data.replace(',','', regex=True, inplace=True)"
   ]
  },
  {
   "cell_type": "code",
   "execution_count": 14,
   "metadata": {},
   "outputs": [],
   "source": [
    "# converting the vehicle-distance column from an object to an int to be able to plot \n",
    "mobility_data['Vehicle-Distance Travelled (Billion Miles)'] = pd.to_numeric(mobility_data['Vehicle-Distance Travelled (Billion Miles)'])"
   ]
  },
  {
   "cell_type": "code",
   "execution_count": 15,
   "metadata": {},
   "outputs": [
    {
     "data": {
      "text/plain": [
       "<AxesSubplot:xlabel='Date'>"
      ]
     },
     "execution_count": 15,
     "metadata": {},
     "output_type": "execute_result"
    },
    {
     "data": {
      "image/png": "[encoded data removed]",
      "text/plain": [
       "<Figure size 432x288 with 1 Axes>"
      ]
     },
     "metadata": {
      "needs_background": "light"
     },
     "output_type": "display_data"
    }
   ],
   "source": [
    "# plotting all the mobility data\n",
    "mobility_data.plot()"
   ]
  },
  {
   "cell_type": "code",
   "execution_count": null,
   "metadata": {},
   "outputs": [],
   "source": []
  }
 ],
 "metadata": {
  "kernelspec": {
   "display_name": "Python 3",
   "language": "python",
   "name": "python3"
  },
  "language_info": {
   "codemirror_mode": {
    "name": "ipython",
    "version": 3
   },
   "file_extension": ".py",
   "mimetype": "text/x-python",
   "name": "python",
   "nbconvert_exporter": "python",
   "pygments_lexer": "ipython3",
   "version": "3.8.3"
  }
 },
 "nbformat": 4,
 "nbformat_minor": 4
}
