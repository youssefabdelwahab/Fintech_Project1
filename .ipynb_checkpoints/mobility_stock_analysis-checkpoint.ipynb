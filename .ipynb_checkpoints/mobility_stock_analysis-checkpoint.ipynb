{
 "cells": [
  {
   "cell_type": "code",
   "execution_count": 3,
   "metadata": {},
   "outputs": [],
   "source": [
    "# initial imports \n",
    "import pandas as pd\n",
    "import datetime as dt\n",
    "import numpy as np\n",
    "import hvplot.pandas \n",
    "import os\n",
    "import quandl \n",
    "\n",
    "from dotenv import load_dotenv\n",
    "import plotly.express as px\n",
    "import pandas_datareader as pdr\n",
    "from datetime import datetime\n",
    "import seaborn as sns"
   ]
  },
  {
   "cell_type": "code",
   "execution_count": 4,
   "metadata": {},
   "outputs": [],
   "source": [
    "# replacing all empty sub-regions which represent the entire US with code 'ALL'\n",
    "def cleaning_mobility():\n",
    "    mobility_data = pd.read_csv('2020_US_Region_Mobility_Report.csv',\n",
    "                                index_col = 'date',\n",
    "                                parse_dates = True,\n",
    "                                infer_datetime_format = True)\n",
    "    mobility_data['sub_region_1'].fillna(value ='ALL', inplace=True)\n",
    "    mobility_data.drop(columns=[\n",
    "        'country_region_code',\n",
    "        'metro_area','census_fips_code',\n",
    "        'country_region_code',\n",
    "        'transit_stations_percent_change_from_baseline',\n",
    "        'iso_3166_2_code',\n",
    "        'parks_percent_change_from_baseline',\n",
    "        'residential_percent_change_from_baseline'], \n",
    "        inplace = True)\n",
    "    # keeping the null values, reverse cleaning. Weird df \n",
    "    nan_filter = mobility_data[\"sub_region_2\"].isna()\n",
    "    mobility_data = mobility_data[nan_filter]\n",
    "    mobility_data.reset_index()\n",
    "    mobility_data = mobility_data.rename(\n",
    "    columns ={\n",
    "        'retail_and_recreation_percent_change_from_baseline':'Retail and Recreation',\n",
    "        'grocery_and_pharmacy_percent_change_from_baseline':'Grocery and Pharmacy',\n",
    "        'workplaces_percent_change_from_baseline': 'Workplaces',\n",
    "        'sub_region_1':'State'}) \n",
    "    return mobility_data"
   ]
  },
  {
   "cell_type": "code",
   "execution_count": 5,
   "metadata": {},
   "outputs": [],
   "source": [
    "# ploting the mobility mean\n",
    "def mobility_mean_graph():\n",
    "    mobility_data = cleaning_mobility()\n",
    "    mobility_mean = mobility_data.groupby(\"State\")['Retail and Recreation'].mean()\n",
    "    bar1 = mobility_mean.plot(\n",
    "    kind='bar', \n",
    "    figsize = (12,10), \n",
    "    ylabel = 'Average Per Cent Change',\n",
    "    title= 'Average Per Cent Change of Travel for Retail and Recreation'\n",
    "    )\n",
    "    return (bar1)"
   ]
  },
  {
   "cell_type": "code",
   "execution_count": 6,
   "metadata": {},
   "outputs": [],
   "source": [
    "# plotting this graph but sorted \n",
    "# this shows the mobilty and different approachs to lockdown actions i.e Rebulican vs. Democratic \n",
    "def mobility_mean_sort():\n",
    "    mobility_data = cleaning_mobility()\n",
    "    mobility_mean = mobility_data.groupby(\"State\")['Retail and Recreation'].mean()\n",
    "    # sorting values to then plot \n",
    "    mobility_meanSort=mobility_mean.sort_values(ascending = False)\n",
    "    state_meanSort = mobility_meanSort.plot(\n",
    "    kind='bar', \n",
    "    figsize = (12,10), \n",
    "    ylabel = 'Average Per Cent Change',\n",
    "    title = 'Average Per Cent Change of Travel for Retail and Recreation'\n",
    "    )\n",
    "    return (state_meanSort)"
   ]
  },
  {
   "cell_type": "code",
   "execution_count": 7,
   "metadata": {},
   "outputs": [],
   "source": [
    "def normalizedStock_plot():\n",
    "    US_ALL = mobility_data.loc[mobility_data.State == 'ALL','Retail and Recreation']\n",
    "    tickers = ['ETSY', 'M', 'JWN','AMZN', 'WMT', 'PRTY']\n",
    "    start_date = dt.date(2020,2,15)\n",
    "    end_date = dt.date(2021,1,26)\n",
    "    close_prices = pdr.data.get_data_yahoo(\n",
    "    tickers,\n",
    "    start_date,\n",
    "    end_date,\n",
    "    )[\"Adj Close\"]\n",
    "    normalized_close=(close_prices-close_prices.min())/(close_prices.max()-close_prices.min())\n",
    "    prices_plot = normalized_close.hvplot(x='Date', title='Normalized Stock Prices')\n",
    "    return prices_plot \n"
   ]
  },
  {
   "cell_type": "code",
   "execution_count": 8,
   "metadata": {},
   "outputs": [],
   "source": [
    "def amzn_plt():\n",
    "    mobility_data = cleaning_mobility()\n",
    "    import matplotlib. pyplot as plt\n",
    "    US_ALL.rename('US Mobility Daily Per Cent Change')\n",
    "    df = pd.DataFrame(US_ALL)\n",
    "    stock_mobility = pd.concat([df,close_prices],axis = 1, join = 'inner')\n",
    "    stock_mobility.rename(columns={'Retail and Recreation': 'US Retail Mobility '}, inplace = True)\n",
    "    fig,ax = plt.subplots()\n",
    "    amzn_plt = ax.plot(stock_mobility.index, stock_mobility.AMZN, color=\"red\")\n",
    "    ax.set_xlabel(\"Date\",fontsize=14)\n",
    "    ax.set_ylabel(\"AMZN\",color=\"red\",fontsize=14)\n",
    "    amzn=ax.twinx()\n",
    "    amzn.plot(stock_mobility.index, stock_mobility[\"US Retail Mobility \"],color=\"blue\")\n",
    "    amzn.set_ylabel(\"US Retail Mobility \",color=\"blue\",fontsize=14)\n",
    "    return amzn_plt"
   ]
  },
  {
   "cell_type": "code",
   "execution_count": 9,
   "metadata": {},
   "outputs": [],
   "source": [
    "def prty_plt():\n",
    "    mobility_data = cleaning_mobility()\n",
    "    import matplotlib. pyplot as plt\n",
    "    df = pd.DataFrame(US_ALL)\n",
    "    stock_mobility = pd.concat([df,close_prices],axis = 1, join = 'inner')\n",
    "    stock_mobility.rename(columns={'Retail and Recreation': 'US Retail Mobility '}, inplace = True)\n",
    "    fig,ax = plt.subplots()\n",
    "    prty_plt = ax.plot(stock_mobility.index, stock_mobility.JWN, color=\"green\")\n",
    "    ax.set_xlabel(\"Date\",fontsize=14)\n",
    "    ax.set_ylabel(\"JWN\",color=\"green\",fontsize=14)\n",
    "    prty=ax.twinx()\n",
    "    prty.plot(stock_mobility.index, stock_mobility[\"US Retail Mobility \"],color=\"blue\")\n",
    "    prty.set_ylabel(\"US Retail Mobility \",color=\"blue\",fontsize=14)\n",
    "    return prty_plt "
   ]
  },
  {
   "cell_type": "code",
   "execution_count": 10,
   "metadata": {},
   "outputs": [],
   "source": [
    "def correlation_needs():\n",
    "    mobility_data = cleaning_mobility()\n",
    "    df = pd.DataFrame(US_ALL)\n",
    "    stock_mobility = pd.concat([df,close_prices],axis = 1, join = 'inner')\n",
    "    stock_mobility.rename(columns={'Retail and Recreation': 'US Retail Mobility '}, inplace = True)\n",
    "    ye = stock_mobility.groupby(pd.Grouper(freq=\"3M\")).corr()\n",
    "    return ye "
   ]
  },
  {
   "cell_type": "code",
   "execution_count": 11,
   "metadata": {},
   "outputs": [],
   "source": [
    "def q1_corr():\n",
    "    ye = correlation_needs()\n",
    "    qrt_1_corr=sns.heatmap(ye.loc['2020-02-29'],annot=True,cmap ='YlGnBu')\n",
    "    return qrt_1_corr"
   ]
  },
  {
   "cell_type": "code",
   "execution_count": 12,
   "metadata": {},
   "outputs": [],
   "source": [
    "def q2_corr():\n",
    "    ye = correlation_needs()\n",
    "    qrt2_corr=sns.heatmap(ye.loc['2020-05-31'],annot=True, cmap ='YlGnBu')\n",
    "    return qrt2_corr"
   ]
  },
  {
   "cell_type": "code",
   "execution_count": 13,
   "metadata": {},
   "outputs": [],
   "source": [
    "def q3_corr():\n",
    "    ye = correlation_needs()\n",
    "    qrt3_corr =sns.heatmap(ye.loc['2020-08-31'],annot=True, cmap ='YlGnBu')\n",
    "    return qrt3_corr"
   ]
  },
  {
   "cell_type": "code",
   "execution_count": 14,
   "metadata": {},
   "outputs": [],
   "source": [
    "def q4_corr():\n",
    "    ye = correlation_needs()\n",
    "    qrt3_corr =sns.heatmap(ye.loc['2020-11-30'],annot=True, cmap ='YlGnBu')\n",
    "    return qrt4_corr"
   ]
  },
  {
   "cell_type": "code",
   "execution_count": 15,
   "metadata": {},
   "outputs": [],
   "source": [
    "def q5_corr():\n",
    "    ye = correlation_needs()\n",
    "    qrt5_corr = sns.heatmap(ye.loc['2021-02-28'],annot=True, cmap ='YlGnBu')\n",
    "    return qrt5_corr"
   ]
  },
  {
   "cell_type": "code",
   "execution_count": null,
   "metadata": {},
   "outputs": [],
   "source": []
  }
 ],
 "metadata": {
  "kernelspec": {
   "display_name": "Python 3",
   "language": "python",
   "name": "python3"
  },
  "language_info": {
   "codemirror_mode": {
    "name": "ipython",
    "version": 3
   },
   "file_extension": ".py",
   "mimetype": "text/x-python",
   "name": "python",
   "nbconvert_exporter": "python",
   "pygments_lexer": "ipython3",
   "version": "3.7.9"
  }
 },
 "nbformat": 4,
 "nbformat_minor": 4
}
