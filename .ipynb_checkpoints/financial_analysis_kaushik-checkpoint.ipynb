{
 "cells": [
  {
   "cell_type": "code",
   "execution_count": 2,
   "metadata": {},
   "outputs": [
    {
     "ename": "ModuleNotFoundError",
     "evalue": "No module named 'quandl'",
     "output_type": "error",
     "traceback": [
      "\u001b[1;31m---------------------------------------------------------------------------\u001b[0m",
      "\u001b[1;31mModuleNotFoundError\u001b[0m                       Traceback (most recent call last)",
      "\u001b[1;32m<ipython-input-2-ae9eae39ccdb>\u001b[0m in \u001b[0;36m<module>\u001b[1;34m\u001b[0m\n\u001b[1;32m----> 1\u001b[1;33m \u001b[1;32mimport\u001b[0m \u001b[0mquandl\u001b[0m\u001b[1;33m\u001b[0m\u001b[1;33m\u001b[0m\u001b[0m\n\u001b[0m\u001b[0;32m      2\u001b[0m \u001b[1;32mimport\u001b[0m \u001b[0mos\u001b[0m\u001b[1;33m\u001b[0m\u001b[1;33m\u001b[0m\u001b[0m\n\u001b[0;32m      3\u001b[0m \u001b[1;32mfrom\u001b[0m \u001b[0mdotenv\u001b[0m \u001b[1;32mimport\u001b[0m \u001b[0mload_dotenv\u001b[0m\u001b[1;33m\u001b[0m\u001b[1;33m\u001b[0m\u001b[0m\n\u001b[0;32m      4\u001b[0m \u001b[1;32mimport\u001b[0m \u001b[0mpandas\u001b[0m \u001b[1;32mas\u001b[0m \u001b[0mpd\u001b[0m\u001b[1;33m\u001b[0m\u001b[1;33m\u001b[0m\u001b[0m\n\u001b[0;32m      5\u001b[0m \u001b[1;32mimport\u001b[0m \u001b[0mdatetime\u001b[0m \u001b[1;32mas\u001b[0m \u001b[0mdt\u001b[0m\u001b[1;33m\u001b[0m\u001b[1;33m\u001b[0m\u001b[0m\n",
      "\u001b[1;31mModuleNotFoundError\u001b[0m: No module named 'quandl'"
     ]
    }
   ],
   "source": [
    "import quandl\n",
    "import os\n",
    "from dotenv import load_dotenv\n",
    "import pandas as pd\n",
    "import datetime as dt"
   ]
  },
  {
   "cell_type": "code",
   "execution_count": null,
   "metadata": {},
   "outputs": [],
   "source": [
    "load_dotenv()"
   ]
  },
  {
   "cell_type": "code",
   "execution_count": null,
   "metadata": {},
   "outputs": [],
   "source": [
    "quandle_api = os.getenv('QUANDL_KEY_PRJ')\n",
    "quandl.ApiConfig.api_key = quandle_api"
   ]
  },
  {
   "cell_type": "code",
   "execution_count": null,
   "metadata": {},
   "outputs": [],
   "source": [
    "tickers = ['AMZN','PRTY','CPPRQ','ETSY','M','WMT']\n",
    "dataset = 'SHARADAR/SF1'\n",
    "dimension = 'ARQ'\n",
    "date = '2018-03-31'\n",
    "\n",
    "#sq_last_3yrs = quandl.get_table('SHARADAR/SF1', dimension = 'ARQ', calendardate = {'gte':'2018-03-31'}, ticker = 'SQ')"
   ]
  },
  {
   "cell_type": "code",
   "execution_count": null,
   "metadata": {},
   "outputs": [],
   "source": [
    "all_3yr_data = pd.DataFrame()\n",
    "\n",
    "for i in tickers:\n",
    "    all_3yr_data = all_3yr_data.append(quandl.get_table(dataset, dimension = dimension, calendardate = {'gte':date}, ticker = i))\n",
    "\n",
    "all_3yr_data_filtered = all_3yr_data.filter(items = ['ticker','calendardate', 'currentratio', 'assets',  'assetsc', 'cashenq', 'liabilitiesc', 'debt' , 'debtc' , 'debtnc', 'revenue' , 'capex','intexp', 'ebit', 'optinc', 'netinc','net', 'equityusd', 'de', 'gp', 'eps'])\n",
    "#'assetsavg', 'roa', 'roe'\n",
    "all_3yr_data_filtered.reset_index(drop=True)"
   ]
  },
  {
   "cell_type": "code",
   "execution_count": null,
   "metadata": {},
   "outputs": [],
   "source": [
    "#range = (all_3yr_data_filtered['calendardate'] < '2020-03-31') & (all_3yr_data_filtered['calendardate'] >= '2019-03-31')\n",
    "\n",
    "all_yr1_data_filtered = all_3yr_data_filtered.loc[(all_3yr_data_filtered['calendardate'] < '2019-03-31') & (all_3yr_data_filtered['calendardate'] >= '2018-03-31')]\n",
    "all_yr1_data_filtered.reset_index(drop=True)"
   ]
  },
  {
   "cell_type": "code",
   "execution_count": null,
   "metadata": {},
   "outputs": [],
   "source": [
    "amzn_yr1_data = all_yr1_data_filtered.loc[all_yr1_data_filtered['ticker'] == 'AMZN']\n",
    "amzn_yr1_data.reset_index(drop=True)"
   ]
  },
  {
   "cell_type": "code",
   "execution_count": null,
   "metadata": {},
   "outputs": [],
   "source": [
    "all_yr2_data_filtered = all_3yr_data_filtered.loc[(all_3yr_data_filtered['calendardate'] < '2020-03-31') & (all_3yr_data_filtered['calendardate'] >= '2019-03-31')]\n",
    "all_yr2_data_filtered.reset_index(drop=True)"
   ]
  },
  {
   "cell_type": "code",
   "execution_count": null,
   "metadata": {},
   "outputs": [],
   "source": [
    "all_yr3_data_filtered = all_3yr_data_filtered.loc[(all_3yr_data_filtered['calendardate'] < '2021-03-31') & (all_3yr_data_filtered['calendardate'] >= '2020-03-31')]\n",
    "all_yr3_data_filtered.reset_index(drop=True)"
   ]
  },
  {
   "cell_type": "code",
   "execution_count": null,
   "metadata": {},
   "outputs": [],
   "source": [
    "current_ratio = all_3yr_data_filtered.filter(items = ['ticker','calendardate','currentratio'])\n",
    "\n",
    "debt_equity = all_3yr_data_filtered.filter(items = ['ticker','calendardate','de'])\n"
   ]
  },
  {
   "cell_type": "code",
   "execution_count": null,
   "metadata": {},
   "outputs": [],
   "source": [
    "def get_quarterly_data_by_year(year):\n",
    "    all_3yr_data = pd.DataFrame()\n",
    "\n",
    "    for i in tickers:\n",
    "        all_3yr_data = all_3yr_data.append(quandl.get_table(dataset, dimension = dimension, calendardate = {'gte':date}, ticker = i))\n",
    "\n",
    "    all_3yr_data_filtered = all_3yr_data.filter(items = ['ticker','calendardate', 'currentratio', 'assets',  'assetsc', 'cashenq', 'liabilitiesc', 'debt' , 'debtc' , 'debtnc', 'revenue' , 'capex','intexp', 'ebit', 'optinc', 'netinc','net', 'equityusd', 'de', 'gp', 'eps'])\n",
    "    #'assetsavg', 'roa', 'roe'\n",
    "    all_3yr_data_filtered = all_3yr_data_filtered.reset_index(drop=True)\n",
    "    \n",
    "    all_yr1_data_filtered = all_3yr_data_filtered.loc[(all_3yr_data_filtered['calendardate'] < '2019-03-31') & (all_3yr_data_filtered['calendardate'] >= '2018-03-31')]\n",
    "    all_yr1_data_filtered = all_yr1_data_filtered.reset_index(drop=True)\n",
    "    \n",
    "    all_yr2_data_filtered = all_3yr_data_filtered.loc[(all_3yr_data_filtered['calendardate'] < '2020-03-31') & (all_3yr_data_filtered['calendardate'] >= '2019-03-31')]\n",
    "    all_yr2_data_filtered = all_yr2_data_filtered.reset_index(drop=True)\n",
    "    \n",
    "    all_yr3_data_filtered = all_3yr_data_filtered.loc[(all_3yr_data_filtered['calendardate'] < '2021-03-31') & (all_3yr_data_filtered['calendardate'] >= '2020-03-31')]\n",
    "    all_yr3_data_filtered = all_yr3_data_filtered.reset_index(drop=True)\n",
    "    \n",
    "    if year == 2018:\n",
    "        return all_yr1_data_filtered\n",
    "    elif year == 2019:\n",
    "        return all_yr2_data_filtered\n",
    "    else: \n",
    "        return all_yr3_data_filtered\n",
    "\n",
    "    \n",
    "def get_quarterly_data_by_year_ticker(year,ticker):\n",
    "    \n",
    "    yr_data_filtered = get_quarterly_data_by_year(year)\n",
    "    \n",
    "    ticker_yr1_data = yr_data_filtered.loc[yr_data_filtered['ticker'] == ticker]\n",
    "    ticker_yr1_data = ticker_yr1_data.reset_index(drop=True)\n",
    "    \n",
    "    return ticker_yr1_data\n",
    "\n",
    "\n",
    "def current_ratio_year(year):\n",
    "    yr_data_filtered = get_quarterly_data_by_year(year)\n",
    "    \n",
    "    current_ratio_all = yr_data_filtered.filter(items = ['ticker','calendardate','currentratio'])\n",
    "    \n",
    "    return current_ratio_all\n",
    "\n",
    "\n",
    "def current_ratio_ticker_year(ticker,year):\n",
    "    yr_data_filtered = get_quarterly_data_by_year(year)\n",
    "    \n",
    "    current_ratio_all = yr_data_filtered.filter(items = ['ticker','calendardate','currentratio'])\n",
    "    current_ratio_ticker = current_ratio_all.loc[current_ratio_all['ticker'] == ticker]\n",
    "    \n",
    "    return current_ratio_ticker\n",
    "\n",
    "\n",
    "def debt_equity_year(year):\n",
    "    yr_data_filtered = get_quarterly_data_by_year(year)\n",
    "    \n",
    "    debt_equity_all = yr_data_filtered.filter(items = ['ticker','calendardate','de'])\n",
    "    \n",
    "    return debt_equity_all\n",
    "\n",
    "\n",
    "def debt_equity_ticker_year(ticker,year):\n",
    "    yr_data_filtered = get_quarterly_data_by_year(year)\n",
    "    \n",
    "    debt_equity_all = yr_data_filtered.filter(items = ['ticker','calendardate','de'])\n",
    "    debt_equity_ticker = debt_equity_all.loc[debt_equity_all['ticker'] == ticker]\n",
    "    \n",
    "    return debt_equity_ticker\n",
    "\n",
    "\n",
    "# def current_ratio_ticker_col():\n",
    "#     year = [2018,2019,2020]\n",
    "#     amzn = {}\n",
    "#     for y in year:\n",
    "#         amzn[y] = current_ratio_ticker_year('AMZN',y)\n"
   ]
  },
  {
   "cell_type": "code",
   "execution_count": null,
   "metadata": {},
   "outputs": [],
   "source": [
    "get_quarterly_data_by_year(2019)"
   ]
  },
  {
   "cell_type": "code",
   "execution_count": null,
   "metadata": {},
   "outputs": [],
   "source": [
    "get_quarterly_data_by_year_ticker(2018,'AMZN')"
   ]
  },
  {
   "cell_type": "code",
   "execution_count": null,
   "metadata": {},
   "outputs": [],
   "source": [
    "current_ratio_year(2019)"
   ]
  },
  {
   "cell_type": "code",
   "execution_count": null,
   "metadata": {},
   "outputs": [],
   "source": [
    "current_ratio_ticker_year('PRTY',2020)"
   ]
  },
  {
   "cell_type": "code",
   "execution_count": null,
   "metadata": {},
   "outputs": [],
   "source": [
    "debt_equity_year(2019)"
   ]
  },
  {
   "cell_type": "code",
   "execution_count": null,
   "metadata": {},
   "outputs": [],
   "source": [
    "debt_equity_ticker_year('AMZN',2018)"
   ]
  },
  {
   "cell_type": "code",
   "execution_count": null,
   "metadata": {},
   "outputs": [],
   "source": [
    "#Amazon CurrentRatio\n",
    "all_amzn_cr = pd.DataFrame()\n",
    "for y in [2018,2019,2020]:\n",
    "    all_amzn_cr = all_amzn_cr.append(current_ratio_ticker_year('AMZN',y))\n",
    "    \n",
    "all_amzn_cr.set_index('calendardate',inplace=True)\n",
    "all_amzn_cr.drop(columns='ticker',inplace=True)\n",
    "all_amzn_cr.rename(columns={'currentratio':'AMZN'},inplace=True)\n",
    "all_amzn_cr"
   ]
  },
  {
   "cell_type": "code",
   "execution_count": null,
   "metadata": {},
   "outputs": [],
   "source": [
    "#PRTY CurrentRatio\n",
    "all_prty_cr = pd.DataFrame()\n",
    "for y in [2018,2019,2020]:\n",
    "    all_prty_cr = all_prty_cr.append(current_ratio_ticker_year('PRTY',y))\n",
    "    \n",
    "all_prty_cr.set_index('calendardate',inplace=True)\n",
    "all_prty_cr.drop(columns='ticker',inplace=True)\n",
    "all_prty_cr.rename(columns={'currentratio':'PRTY'},inplace=True)\n",
    "all_prty_cr"
   ]
  },
  {
   "cell_type": "code",
   "execution_count": null,
   "metadata": {},
   "outputs": [],
   "source": [
    "#JCP CurrentRatio\n",
    "all_prty_cr = pd.DataFrame()\n",
    "for y in [2018,2019,2020]:\n",
    "    all_prty_cr = all_prty_cr.append(current_ratio_ticker_year('PRTY',y))\n",
    "    \n",
    "all_prty_cr.set_index('calendardate',inplace=True)\n",
    "all_prty_cr.drop(columns='ticker',inplace=True)\n",
    "all_prty_cr.rename(columns={'currentratio':'PRTY'},inplace=True)\n",
    "all_prty_cr"
   ]
  },
  {
   "cell_type": "code",
   "execution_count": null,
   "metadata": {},
   "outputs": [],
   "source": [
    "# All Current Ratio\n",
    "all_cr = pd.concat([all_amzn_cr,all_prty_cr],axis=1,join ='inner',sort=True)\n",
    "all_cr"
   ]
  },
  {
   "cell_type": "code",
   "execution_count": null,
   "metadata": {},
   "outputs": [],
   "source": [
    "# All CurrentRatio\n",
    "all_cr = pd.DataFrame()\n",
    "all_cr_dict = {}\n",
    "for y in [2018,2019,2020]:\n",
    "    for t in tickers:\n",
    "        all_cr_dict[t] = current_ratio_ticker_year(t,y)\n",
    "        #all_cr[t] = all_cr[all_cr_dict[t]['currentratio']]\n",
    "\n",
    "\n",
    "all_cr_dict\n",
    "\n",
    "# for t in tickers:\n",
    "#     print(all_cr_dict[t]['currentratio'])\n"
   ]
  },
  {
   "cell_type": "code",
   "execution_count": null,
   "metadata": {},
   "outputs": [],
   "source": [
    "def all_cr(datasets = []): \n",
    "    for company in datasets: \n",
    "        combined = pd.c"
   ]
  }
 ],
 "metadata": {
  "kernelspec": {
   "display_name": "Python [conda env:.conda-alpacaenv]",
   "language": "python",
   "name": "conda-env-.conda-alpacaenv-py"
  }
 },
 "nbformat": 4,
 "nbformat_minor": 4
}
